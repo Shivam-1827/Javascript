{
  "nbformat": 4,
  "nbformat_minor": 0,
  "metadata": {
    "colab": {
      "provenance": [],
      "mount_file_id": "1-Vti2kq1kJTKj5aNakwea8IwTmJFh_5s",
      "authorship_tag": "ABX9TyNpJst8EEUw8nLkwixaSc5a",
      "include_colab_link": true
    },
    "kernelspec": {
      "name": "python3",
      "display_name": "Python 3"
    },
    "language_info": {
      "name": "python"
    }
  },
  "cells": [
    {
      "cell_type": "markdown",
      "metadata": {
        "id": "view-in-github",
        "colab_type": "text"
      },
      "source": [
        "<a href=\"https://colab.research.google.com/github/Shivam-1827/Javascript/blob/main/Project.ipynb\" target=\"_parent\"><img src=\"https://colab.research.google.com/assets/colab-badge.svg\" alt=\"Open In Colab\"/></a>"
      ]
    },
    {
      "cell_type": "markdown",
      "source": [
        "# New Section"
      ],
      "metadata": {
        "id": "hK3DMZqX9suL"
      }
    },
    {
      "cell_type": "code",
      "source": [
        "import yfinance as yf\n",
        "import sqlite3\n",
        "\n",
        "# Function to fetch and store historical stock data for multiple stocks in SQLite3 database\n",
        "def fetch_and_store_stock_data(stocks):\n",
        "    for stock in stocks:\n",
        "        # Fetch historical stock data using yfinance\n",
        "        stock_data = yf.download(stock, start=\"2020-01-01\", end=\"2024-04-24\")\n",
        "        if not stock_data.empty:\n",
        "            # Convert the DataFrame to a list of tuples\n",
        "            stock_data_to_store = [(stock, date.strftime('%Y-%m-%d'), row['Open'], row['High'], row['Low'], row['Close'], row['Volume']) for date, row in stock_data.iterrows()]\n",
        "\n",
        "            # Connect to SQLite3 database\n",
        "            conn = sqlite3.connect('stock_data.db')\n",
        "            c = conn.cursor()\n",
        "\n",
        "            # Create a table if it doesn't exist\n",
        "            c.execute('''CREATE TABLE IF NOT EXISTS daily_stock_data\n",
        "                         (id INTEGER PRIMARY KEY, symbol TEXT, date TEXT,\n",
        "                         open_price REAL, high_price REAL, low_price REAL,\n",
        "                         close_price REAL, volume INTEGER)''')\n",
        "\n",
        "            # Insert scraped data into the database\n",
        "            c.executemany(\"INSERT INTO daily_stock_data (symbol, date, open_price, high_price, low_price, close_price, volume) VALUES (?, ?, ?, ?, ?, ?, ?)\", stock_data_to_store)\n",
        "\n",
        "            # Commit changes and close connection\n",
        "            conn.commit()\n",
        "            conn.close()\n",
        "\n",
        "            print(f\"Data fetched and stored for {stock}\")\n",
        "        else:\n",
        "            print(f\"No data found for {stock}\")\n",
        "\n",
        "# Function to fetch and arrange historical stock data for multiple stocks\n",
        "def fetch_and_arrange_stock_data(stocks):\n",
        "    for stock in stocks:\n",
        "        # Fetch historical stock data using yfinance\n",
        "        stock_data = yf.download(stock, start=\"2020-01-01\", end=\"2024-04-24\")\n",
        "        if not stock_data.empty:\n",
        "            print(f\"\\nStock: {stock}\\n\")\n",
        "            print(stock_data[['Open', 'High', 'Low', 'Close', 'Volume']])\n",
        "        else:\n",
        "            print(f\"No data found for {stock}\")\n",
        "\n",
        "# List of stocks to fetch data for\n",
        "stocks_to_fetch = ['AAPL', 'MSFT', 'AMZN', 'GOOGL', 'TSLA',\n",
        "    'FB', 'BRK-A', 'BRK-B', 'JNJ', 'JPM',\n",
        "    'V', 'NVDA', 'PG', 'UNH', 'HD',\n",
        "    'MA', 'PYPL', 'BAC', 'INTC', 'DIS',\n",
        "    'CMCSA', 'ADBE', 'NFLX', 'VZ', 'TMO',\n",
        "    'CRM', 'PEP', 'KO', 'ABT', 'MRK',\n",
        "    'CSCO', 'ACN', 'CVX', 'ABBV', 'NKE',\n",
        "    'XOM', 'WMT', 'TGT', 'BMY', 'LLY',\n",
        "    'HON', 'TXN', 'DHR', 'PM', 'COST',\n",
        "    'MCD', 'UPS', 'ORCL', 'IBM', 'AMGN',\n",
        "    'MDT', 'NEE', 'AVGO', 'LMT', 'GS',\n",
        "    'QCOM', 'NOW', 'UNP', 'LOW', 'ANTM',\n",
        "    'AXP', 'BKNG', 'CHTR', 'CI', 'DHR',\n",
        "    'DOW', 'DUK', 'ECL', 'EL', 'FDX',\n",
        "    'FIS', 'GD', 'GM', 'HUM', 'LIN',\n",
        "    'MMM', 'MO', 'MS', 'PLD', 'RTX',\n",
        "    'SO', 'SPGI', 'TFC', 'TJX', 'TMUS',\n",
        "    'UPS', 'USB', 'VRTX', 'WBA', 'WFC',\n",
        "    'XEL', 'ZTS', 'ADP', 'AMT', 'AON',\n",
        "    'BIIB', 'CCI', 'CME', 'COF', 'D',\n",
        "    'ICE', 'IDXX', 'KLAC', 'LRCX', 'MDLZ',\n",
        "    'MET', 'MSI', 'NOC', 'NSC', 'PLD',\n",
        "    'PNC', 'SO', 'SYK', 'TEL', 'TMUS',\n",
        "    'TWTR', 'WM', 'ZTS', 'ABBV', 'ADI',\n",
        "    'ALL', 'AMAT', 'AMP', 'APH', 'APTV',\n",
        "    'AVB', 'AWK', 'BAX', 'BDX', 'BLL',\n",
        "    'BSX', 'CAG', 'CAT', 'CCI', 'CINF',\n",
        "    'CL', 'CLX', 'CMI', 'CNP', 'CPRT',\n",
        "    'CSX', 'CTAS', 'CTL', 'DLR', 'EIX',\n",
        "    'EQIX', 'ES', 'ETN', 'EW', 'F',\n",
        "    'FAST', 'FISV', 'FITB', 'FLIR', 'FLS',\n",
        "    'GD', 'GILD', 'GIS', 'GPC', 'GPN',\n",
        "    'GWW', 'HES', 'HIG', 'HRL', 'HSIC',\n",
        "    'HST', 'INFO', 'IPG', 'IQV', 'IRM',\n",
        "    'KEY', 'KMB', 'KR', 'KSU', 'LEN',\n",
        "    'LHX', 'LMT', 'LNT', 'LOW', 'LVS',\n",
        "    'MAS', 'MKC', 'MMC', 'MSCI', 'MTB',\n",
        "    'MTD', 'NI', 'NTRS', 'O', 'ODFL',\n",
        "    'OKE', 'OMC', 'PAYX', 'PFG', 'PH',\n",
        "    'PKI', 'PPL', 'PSA', 'PVH', 'RCL',\n",
        "    'REG', 'RMD', 'ROK', 'ROP', 'RSG',\n",
        "    'SBAC', 'SBUX', 'SNA', 'SNPS', 'STZ',\n",
        "    'SYY', 'TDG', 'TFX', 'TMO', 'TPR',\n",
        "    'TRV', 'TT', 'TXN', 'UDR', 'ULTA',\n",
        "    'UNM', 'VAR', 'VFC', 'VLO', 'VNO',\n",
        "    'WAT', 'WDC', 'WELL', 'WST', 'WY',\n",
        "    'WYNN', 'XLNX', 'XYL', 'YUM', 'ZBH',\n",
        "    'ZBRA', 'ALGN', 'ALLE', 'ALXN', 'ANSS',\n",
        "    'AWK', 'BIO', 'CBOE', 'CDNS', 'CERN',\n",
        "    'CTXS', 'DXCM', 'EL', 'ENPH', 'ETSY',\n",
        "    'EW', 'EXPD', 'EXR', 'FTNT', 'HOLX',\n",
        "    'IDXX', 'ILMN', 'INCY', 'INTU', 'ISRG',\n",
        "    'KDP', 'KLAC', 'LRCX', 'LULU', 'MCHP',\n",
        "    'MKTX', 'MNST', 'MTCH', 'NOW', 'NXPI',\n",
        "    'OKTA', 'PAYC', 'PDD', 'POOL', 'PTC',\n",
        "    'PYPL', 'REGN', 'ROST', 'SPLK', 'SWKS',\n",
        "    'TTWO', 'TYL', 'VRSK', 'VRSN', 'WDAY',\n",
        "    'WIX', 'ZBRA']\n",
        "\n",
        "# Call the function to fetch, store, and arrange stock data\n",
        "fetch_and_store_stock_data(stocks_to_fetch)\n",
        "fetch_and_arrange_stock_data(stocks_to_fetch)\n"
      ],
      "metadata": {
        "colab": {
          "base_uri": "https://localhost:8080/"
        },
        "id": "hkc33AGn9u5m",
        "outputId": "53a49ec1-4f8f-40b9-9e35-3e89319966d6"
      },
      "execution_count": 17,
      "outputs": [
        {
          "output_type": "stream",
          "name": "stderr",
          "text": [
            "[*********************100%%**********************]  1 of 1 completed\n",
            "[*********************100%%**********************]  1 of 1 completed"
          ]
        },
        {
          "output_type": "stream",
          "name": "stdout",
          "text": [
            "Data fetched and stored for AAPL\n"
          ]
        },
        {
          "output_type": "stream",
          "name": "stderr",
          "text": [
            "\n",
            "[*********************100%%**********************]  1 of 1 completed"
          ]
        },
        {
          "output_type": "stream",
          "name": "stdout",
          "text": [
            "Data fetched and stored for MSFT\n"
          ]
        },
        {
          "output_type": "stream",
          "name": "stderr",
          "text": [
            "\n"
          ]
        },
        {
          "output_type": "stream",
          "name": "stdout",
          "text": [
            "Data fetched and stored for AMZN\n"
          ]
        },
        {
          "output_type": "stream",
          "name": "stderr",
          "text": [
            "\r[*********************100%%**********************]  1 of 1 completed\n"
          ]
        },
        {
          "output_type": "stream",
          "name": "stdout",
          "text": [
            "Data fetched and stored for GOOGL\n"
          ]
        },
        {
          "output_type": "stream",
          "name": "stderr",
          "text": [
            "\r[*********************100%%**********************]  1 of 1 completed\n"
          ]
        },
        {
          "output_type": "stream",
          "name": "stdout",
          "text": [
            "Data fetched and stored for TSLA\n"
          ]
        },
        {
          "output_type": "stream",
          "name": "stderr",
          "text": [
            "\r[*********************100%%**********************]  1 of 1 completed\n",
            "ERROR:yfinance:\n",
            "1 Failed download:\n",
            "ERROR:yfinance:['FB']: Exception('%ticker%: No timezone found, symbol may be delisted')\n",
            "[*********************100%%**********************]  1 of 1 completed\n"
          ]
        },
        {
          "output_type": "stream",
          "name": "stdout",
          "text": [
            "No data found for FB\n",
            "Data fetched and stored for BRK-A\n"
          ]
        },
        {
          "output_type": "stream",
          "name": "stderr",
          "text": [
            "\r[*********************100%%**********************]  1 of 1 completed\n"
          ]
        },
        {
          "output_type": "stream",
          "name": "stdout",
          "text": [
            "Data fetched and stored for BRK-B\n"
          ]
        },
        {
          "output_type": "stream",
          "name": "stderr",
          "text": [
            "[*********************100%%**********************]  1 of 1 completed\n",
            "[*********************100%%**********************]  1 of 1 completed"
          ]
        },
        {
          "output_type": "stream",
          "name": "stdout",
          "text": [
            "Data fetched and stored for JNJ\n"
          ]
        },
        {
          "output_type": "stream",
          "name": "stderr",
          "text": [
            "\n"
          ]
        },
        {
          "output_type": "stream",
          "name": "stdout",
          "text": [
            "Data fetched and stored for JPM\n"
          ]
        },
        {
          "output_type": "stream",
          "name": "stderr",
          "text": [
            "[*********************100%%**********************]  1 of 1 completed\n",
            "[*********************100%%**********************]  1 of 1 completed"
          ]
        },
        {
          "output_type": "stream",
          "name": "stdout",
          "text": [
            "Data fetched and stored for V\n"
          ]
        },
        {
          "output_type": "stream",
          "name": "stderr",
          "text": [
            "\n"
          ]
        },
        {
          "output_type": "stream",
          "name": "stdout",
          "text": [
            "Data fetched and stored for NVDA\n"
          ]
        },
        {
          "output_type": "stream",
          "name": "stderr",
          "text": [
            "[*********************100%%**********************]  1 of 1 completed\n",
            "[*********************100%%**********************]  1 of 1 completed"
          ]
        },
        {
          "output_type": "stream",
          "name": "stdout",
          "text": [
            "Data fetched and stored for PG\n"
          ]
        },
        {
          "output_type": "stream",
          "name": "stderr",
          "text": [
            "\n"
          ]
        },
        {
          "output_type": "stream",
          "name": "stdout",
          "text": [
            "Data fetched and stored for UNH\n"
          ]
        },
        {
          "output_type": "stream",
          "name": "stderr",
          "text": [
            "[*********************100%%**********************]  1 of 1 completed\n",
            "[*********************100%%**********************]  1 of 1 completed\n"
          ]
        },
        {
          "output_type": "stream",
          "name": "stdout",
          "text": [
            "Data fetched and stored for HD\n"
          ]
        },
        {
          "output_type": "stream",
          "name": "stderr",
          "text": [
            "\r[*********************100%%**********************]  1 of 1 completed"
          ]
        },
        {
          "output_type": "stream",
          "name": "stdout",
          "text": [
            "Data fetched and stored for MA\n",
            "Data fetched and stored for PYPL\n"
          ]
        },
        {
          "output_type": "stream",
          "name": "stderr",
          "text": [
            "\n",
            "[*********************100%%**********************]  1 of 1 completed\n",
            "[*********************100%%**********************]  1 of 1 completed"
          ]
        },
        {
          "output_type": "stream",
          "name": "stdout",
          "text": [
            "Data fetched and stored for BAC\n"
          ]
        },
        {
          "output_type": "stream",
          "name": "stderr",
          "text": [
            "\n"
          ]
        },
        {
          "output_type": "stream",
          "name": "stdout",
          "text": [
            "Data fetched and stored for INTC\n"
          ]
        },
        {
          "output_type": "stream",
          "name": "stderr",
          "text": [
            "[*********************100%%**********************]  1 of 1 completed\n",
            "[*********************100%%**********************]  1 of 1 completed"
          ]
        },
        {
          "output_type": "stream",
          "name": "stdout",
          "text": [
            "Data fetched and stored for DIS\n"
          ]
        },
        {
          "output_type": "stream",
          "name": "stderr",
          "text": [
            "\n",
            "[*********************100%%**********************]  1 of 1 completed"
          ]
        },
        {
          "output_type": "stream",
          "name": "stdout",
          "text": [
            "Data fetched and stored for CMCSA\n"
          ]
        },
        {
          "output_type": "stream",
          "name": "stderr",
          "text": [
            "\n",
            "\r[*********************100%%**********************]  1 of 1 completed\n"
          ]
        },
        {
          "output_type": "stream",
          "name": "stdout",
          "text": [
            "Data fetched and stored for ADBE\n",
            "Data fetched and stored for NFLX\n"
          ]
        },
        {
          "output_type": "stream",
          "name": "stderr",
          "text": [
            "[*********************100%%**********************]  1 of 1 completed\n",
            "[*********************100%%**********************]  1 of 1 completed"
          ]
        },
        {
          "output_type": "stream",
          "name": "stdout",
          "text": [
            "Data fetched and stored for VZ\n"
          ]
        },
        {
          "output_type": "stream",
          "name": "stderr",
          "text": [
            "\n",
            "\r[*********************100%%**********************]  1 of 1 completed\n"
          ]
        },
        {
          "output_type": "stream",
          "name": "stdout",
          "text": [
            "Data fetched and stored for TMO\n",
            "Data fetched and stored for CRM\n"
          ]
        },
        {
          "output_type": "stream",
          "name": "stderr",
          "text": [
            "[*********************100%%**********************]  1 of 1 completed\n",
            "[*********************100%%**********************]  1 of 1 completed"
          ]
        },
        {
          "output_type": "stream",
          "name": "stdout",
          "text": [
            "Data fetched and stored for PEP\n"
          ]
        },
        {
          "output_type": "stream",
          "name": "stderr",
          "text": [
            "\n"
          ]
        },
        {
          "output_type": "stream",
          "name": "stdout",
          "text": [
            "Data fetched and stored for KO\n"
          ]
        },
        {
          "output_type": "stream",
          "name": "stderr",
          "text": [
            "\r[*********************100%%**********************]  1 of 1 completed\n"
          ]
        },
        {
          "output_type": "stream",
          "name": "stdout",
          "text": [
            "Data fetched and stored for ABT\n"
          ]
        },
        {
          "output_type": "stream",
          "name": "stderr",
          "text": [
            "[*********************100%%**********************]  1 of 1 completed\n",
            "[*********************100%%**********************]  1 of 1 completed"
          ]
        },
        {
          "output_type": "stream",
          "name": "stdout",
          "text": [
            "Data fetched and stored for MRK\n",
            "Data fetched and stored for CSCO\n"
          ]
        },
        {
          "output_type": "stream",
          "name": "stderr",
          "text": [
            "\n",
            "[*********************100%%**********************]  1 of 1 completed\n"
          ]
        },
        {
          "output_type": "stream",
          "name": "stdout",
          "text": [
            "Data fetched and stored for ACN\n"
          ]
        },
        {
          "output_type": "stream",
          "name": "stderr",
          "text": [
            "\r[*********************100%%**********************]  1 of 1 completed\n"
          ]
        },
        {
          "output_type": "stream",
          "name": "stdout",
          "text": [
            "Data fetched and stored for CVX\n"
          ]
        },
        {
          "output_type": "stream",
          "name": "stderr",
          "text": [
            "[*********************100%%**********************]  1 of 1 completed\n",
            "[*********************100%%**********************]  1 of 1 completed"
          ]
        },
        {
          "output_type": "stream",
          "name": "stdout",
          "text": [
            "Data fetched and stored for ABBV\n"
          ]
        },
        {
          "output_type": "stream",
          "name": "stderr",
          "text": [
            "\n",
            "[*********************100%%**********************]  1 of 1 completed"
          ]
        },
        {
          "output_type": "stream",
          "name": "stdout",
          "text": [
            "Data fetched and stored for NKE\n"
          ]
        },
        {
          "output_type": "stream",
          "name": "stderr",
          "text": [
            "\n",
            "[*********************100%%**********************]  1 of 1 completed"
          ]
        },
        {
          "output_type": "stream",
          "name": "stdout",
          "text": [
            "Data fetched and stored for XOM\n"
          ]
        },
        {
          "output_type": "stream",
          "name": "stderr",
          "text": [
            "\n"
          ]
        },
        {
          "output_type": "stream",
          "name": "stdout",
          "text": [
            "Data fetched and stored for WMT\n"
          ]
        },
        {
          "output_type": "stream",
          "name": "stderr",
          "text": [
            "[*********************100%%**********************]  1 of 1 completed\n",
            "[*********************100%%**********************]  1 of 1 completed"
          ]
        },
        {
          "output_type": "stream",
          "name": "stdout",
          "text": [
            "Data fetched and stored for TGT\n"
          ]
        },
        {
          "output_type": "stream",
          "name": "stderr",
          "text": [
            "\n"
          ]
        },
        {
          "output_type": "stream",
          "name": "stdout",
          "text": [
            "Data fetched and stored for BMY\n"
          ]
        },
        {
          "output_type": "stream",
          "name": "stderr",
          "text": [
            "[*********************100%%**********************]  1 of 1 completed\n",
            "[*********************100%%**********************]  1 of 1 completed"
          ]
        },
        {
          "output_type": "stream",
          "name": "stdout",
          "text": [
            "Data fetched and stored for LLY\n"
          ]
        },
        {
          "output_type": "stream",
          "name": "stderr",
          "text": [
            "\n",
            "[*********************100%%**********************]  1 of 1 completed"
          ]
        },
        {
          "output_type": "stream",
          "name": "stdout",
          "text": [
            "Data fetched and stored for HON\n"
          ]
        },
        {
          "output_type": "stream",
          "name": "stderr",
          "text": [
            "\n",
            "[*********************100%%**********************]  1 of 1 completed"
          ]
        },
        {
          "output_type": "stream",
          "name": "stdout",
          "text": [
            "Data fetched and stored for TXN\n"
          ]
        },
        {
          "output_type": "stream",
          "name": "stderr",
          "text": [
            "\n",
            "[*********************100%%**********************]  1 of 1 completed"
          ]
        },
        {
          "output_type": "stream",
          "name": "stdout",
          "text": [
            "Data fetched and stored for DHR\n"
          ]
        },
        {
          "output_type": "stream",
          "name": "stderr",
          "text": [
            "\n"
          ]
        },
        {
          "output_type": "stream",
          "name": "stdout",
          "text": [
            "Data fetched and stored for PM\n"
          ]
        },
        {
          "output_type": "stream",
          "name": "stderr",
          "text": [
            "\r[*********************100%%**********************]  1 of 1 completed\n"
          ]
        },
        {
          "output_type": "stream",
          "name": "stdout",
          "text": [
            "Data fetched and stored for COST\n"
          ]
        },
        {
          "output_type": "stream",
          "name": "stderr",
          "text": [
            "[*********************100%%**********************]  1 of 1 completed\n",
            "[*********************100%%**********************]  1 of 1 completed"
          ]
        },
        {
          "output_type": "stream",
          "name": "stdout",
          "text": [
            "Data fetched and stored for MCD\n"
          ]
        },
        {
          "output_type": "stream",
          "name": "stderr",
          "text": [
            "\n",
            "[*********************100%%**********************]  1 of 1 completed"
          ]
        },
        {
          "output_type": "stream",
          "name": "stdout",
          "text": [
            "Data fetched and stored for UPS\n"
          ]
        },
        {
          "output_type": "stream",
          "name": "stderr",
          "text": [
            "\n"
          ]
        },
        {
          "output_type": "stream",
          "name": "stdout",
          "text": [
            "Data fetched and stored for ORCL\n"
          ]
        },
        {
          "output_type": "stream",
          "name": "stderr",
          "text": [
            "\r[*********************100%%**********************]  1 of 1 completed\n"
          ]
        },
        {
          "output_type": "stream",
          "name": "stdout",
          "text": [
            "Data fetched and stored for IBM\n"
          ]
        },
        {
          "output_type": "stream",
          "name": "stderr",
          "text": [
            "\r[*********************100%%**********************]  1 of 1 completed\n"
          ]
        },
        {
          "output_type": "stream",
          "name": "stdout",
          "text": [
            "Data fetched and stored for AMGN\n"
          ]
        },
        {
          "output_type": "stream",
          "name": "stderr",
          "text": [
            "\r[*********************100%%**********************]  1 of 1 completed\n"
          ]
        },
        {
          "output_type": "stream",
          "name": "stdout",
          "text": [
            "Data fetched and stored for MDT\n"
          ]
        },
        {
          "output_type": "stream",
          "name": "stderr",
          "text": [
            "\r[*********************100%%**********************]  1 of 1 completed\n"
          ]
        },
        {
          "output_type": "stream",
          "name": "stdout",
          "text": [
            "Data fetched and stored for NEE\n"
          ]
        },
        {
          "output_type": "stream",
          "name": "stderr",
          "text": [
            "\r[*********************100%%**********************]  1 of 1 completed\n"
          ]
        },
        {
          "output_type": "stream",
          "name": "stdout",
          "text": [
            "Data fetched and stored for AVGO\n"
          ]
        },
        {
          "output_type": "stream",
          "name": "stderr",
          "text": [
            "[*********************100%%**********************]  1 of 1 completed\n",
            "[*********************100%%**********************]  1 of 1 completed"
          ]
        },
        {
          "output_type": "stream",
          "name": "stdout",
          "text": [
            "Data fetched and stored for LMT\n"
          ]
        },
        {
          "output_type": "stream",
          "name": "stderr",
          "text": [
            "\n"
          ]
        },
        {
          "output_type": "stream",
          "name": "stdout",
          "text": [
            "Data fetched and stored for GS\n"
          ]
        },
        {
          "output_type": "stream",
          "name": "stderr",
          "text": [
            "\r[*********************100%%**********************]  1 of 1 completed\n"
          ]
        },
        {
          "output_type": "stream",
          "name": "stdout",
          "text": [
            "Data fetched and stored for QCOM\n"
          ]
        },
        {
          "output_type": "stream",
          "name": "stderr",
          "text": [
            "\r[*********************100%%**********************]  1 of 1 completed\n"
          ]
        },
        {
          "output_type": "stream",
          "name": "stdout",
          "text": [
            "Data fetched and stored for NOW\n"
          ]
        },
        {
          "output_type": "stream",
          "name": "stderr",
          "text": [
            "\r[*********************100%%**********************]  1 of 1 completed\n"
          ]
        },
        {
          "output_type": "stream",
          "name": "stdout",
          "text": [
            "Data fetched and stored for UNP\n"
          ]
        },
        {
          "output_type": "stream",
          "name": "stderr",
          "text": [
            "\r[*********************100%%**********************]  1 of 1 completed\n"
          ]
        },
        {
          "output_type": "stream",
          "name": "stdout",
          "text": [
            "Data fetched and stored for LOW\n"
          ]
        },
        {
          "output_type": "stream",
          "name": "stderr",
          "text": [
            "\r[*********************100%%**********************]  1 of 1 completed\n",
            "ERROR:yfinance:\n",
            "1 Failed download:\n",
            "ERROR:yfinance:['ANTM']: Exception('%ticker%: No timezone found, symbol may be delisted')\n"
          ]
        },
        {
          "output_type": "stream",
          "name": "stdout",
          "text": [
            "No data found for ANTM\n"
          ]
        },
        {
          "output_type": "stream",
          "name": "stderr",
          "text": [
            "[*********************100%%**********************]  1 of 1 completed\n",
            "[*********************100%%**********************]  1 of 1 completed"
          ]
        },
        {
          "output_type": "stream",
          "name": "stdout",
          "text": [
            "Data fetched and stored for AXP\n"
          ]
        },
        {
          "output_type": "stream",
          "name": "stderr",
          "text": [
            "\n"
          ]
        },
        {
          "output_type": "stream",
          "name": "stdout",
          "text": [
            "Data fetched and stored for BKNG\n"
          ]
        },
        {
          "output_type": "stream",
          "name": "stderr",
          "text": [
            "\r[*********************100%%**********************]  1 of 1 completed\n"
          ]
        },
        {
          "output_type": "stream",
          "name": "stdout",
          "text": [
            "Data fetched and stored for CHTR\n"
          ]
        },
        {
          "output_type": "stream",
          "name": "stderr",
          "text": [
            "[*********************100%%**********************]  1 of 1 completed\n",
            "[*********************100%%**********************]  1 of 1 completed\n"
          ]
        },
        {
          "output_type": "stream",
          "name": "stdout",
          "text": [
            "Data fetched and stored for CI\n",
            "Data fetched and stored for DHR\n"
          ]
        },
        {
          "output_type": "stream",
          "name": "stderr",
          "text": [
            "[*********************100%%**********************]  1 of 1 completed\n",
            "[*********************100%%**********************]  1 of 1 completed"
          ]
        },
        {
          "output_type": "stream",
          "name": "stdout",
          "text": [
            "Data fetched and stored for DOW\n"
          ]
        },
        {
          "output_type": "stream",
          "name": "stderr",
          "text": [
            "\n"
          ]
        },
        {
          "output_type": "stream",
          "name": "stdout",
          "text": [
            "Data fetched and stored for DUK\n"
          ]
        },
        {
          "output_type": "stream",
          "name": "stderr",
          "text": [
            "[*********************100%%**********************]  1 of 1 completed\n",
            "[*********************100%%**********************]  1 of 1 completed"
          ]
        },
        {
          "output_type": "stream",
          "name": "stdout",
          "text": [
            "Data fetched and stored for ECL\n"
          ]
        },
        {
          "output_type": "stream",
          "name": "stderr",
          "text": [
            "\n"
          ]
        },
        {
          "output_type": "stream",
          "name": "stdout",
          "text": [
            "Data fetched and stored for EL\n"
          ]
        },
        {
          "output_type": "stream",
          "name": "stderr",
          "text": [
            "\r[*********************100%%**********************]  1 of 1 completed\n"
          ]
        },
        {
          "output_type": "stream",
          "name": "stdout",
          "text": [
            "Data fetched and stored for FDX\n"
          ]
        },
        {
          "output_type": "stream",
          "name": "stderr",
          "text": [
            "\r[*********************100%%**********************]  1 of 1 completed\n"
          ]
        },
        {
          "output_type": "stream",
          "name": "stdout",
          "text": [
            "Data fetched and stored for FIS\n"
          ]
        },
        {
          "output_type": "stream",
          "name": "stderr",
          "text": [
            "\r[*********************100%%**********************]  1 of 1 completed\n"
          ]
        },
        {
          "output_type": "stream",
          "name": "stdout",
          "text": [
            "Data fetched and stored for GD\n"
          ]
        },
        {
          "output_type": "stream",
          "name": "stderr",
          "text": [
            "\r[*********************100%%**********************]  1 of 1 completed\n"
          ]
        },
        {
          "output_type": "stream",
          "name": "stdout",
          "text": [
            "Data fetched and stored for GM\n"
          ]
        },
        {
          "output_type": "stream",
          "name": "stderr",
          "text": [
            "\r[*********************100%%**********************]  1 of 1 completed\n"
          ]
        },
        {
          "output_type": "stream",
          "name": "stdout",
          "text": [
            "Data fetched and stored for HUM\n"
          ]
        },
        {
          "output_type": "stream",
          "name": "stderr",
          "text": [
            "\r[*********************100%%**********************]  1 of 1 completed\n"
          ]
        },
        {
          "output_type": "stream",
          "name": "stdout",
          "text": [
            "Data fetched and stored for LIN\n"
          ]
        },
        {
          "output_type": "stream",
          "name": "stderr",
          "text": [
            "\r[*********************100%%**********************]  1 of 1 completed\n"
          ]
        },
        {
          "output_type": "stream",
          "name": "stdout",
          "text": [
            "Data fetched and stored for MMM\n"
          ]
        },
        {
          "output_type": "stream",
          "name": "stderr",
          "text": [
            "\r[*********************100%%**********************]  1 of 1 completed\n"
          ]
        },
        {
          "output_type": "stream",
          "name": "stdout",
          "text": [
            "Data fetched and stored for MO\n"
          ]
        },
        {
          "output_type": "stream",
          "name": "stderr",
          "text": [
            "\r[*********************100%%**********************]  1 of 1 completed\n"
          ]
        },
        {
          "output_type": "stream",
          "name": "stdout",
          "text": [
            "Data fetched and stored for MS\n"
          ]
        },
        {
          "output_type": "stream",
          "name": "stderr",
          "text": [
            "\r[*********************100%%**********************]  1 of 1 completed\n"
          ]
        },
        {
          "output_type": "stream",
          "name": "stdout",
          "text": [
            "Data fetched and stored for PLD\n"
          ]
        },
        {
          "output_type": "stream",
          "name": "stderr",
          "text": [
            "\r[*********************100%%**********************]  1 of 1 completed\n"
          ]
        },
        {
          "output_type": "stream",
          "name": "stdout",
          "text": [
            "Data fetched and stored for RTX\n"
          ]
        },
        {
          "output_type": "stream",
          "name": "stderr",
          "text": [
            "\r[*********************100%%**********************]  1 of 1 completed\n"
          ]
        },
        {
          "output_type": "stream",
          "name": "stdout",
          "text": [
            "Data fetched and stored for SO\n"
          ]
        },
        {
          "output_type": "stream",
          "name": "stderr",
          "text": [
            "\r[*********************100%%**********************]  1 of 1 completed\n"
          ]
        },
        {
          "output_type": "stream",
          "name": "stdout",
          "text": [
            "Data fetched and stored for SPGI\n"
          ]
        },
        {
          "output_type": "stream",
          "name": "stderr",
          "text": [
            "[*********************100%%**********************]  1 of 1 completed\n",
            "[*********************100%%**********************]  1 of 1 completed"
          ]
        },
        {
          "output_type": "stream",
          "name": "stdout",
          "text": [
            "Data fetched and stored for TFC\n"
          ]
        },
        {
          "output_type": "stream",
          "name": "stderr",
          "text": [
            "\n",
            "[*********************100%%**********************]  1 of 1 completed"
          ]
        },
        {
          "output_type": "stream",
          "name": "stdout",
          "text": [
            "Data fetched and stored for TJX\n"
          ]
        },
        {
          "output_type": "stream",
          "name": "stderr",
          "text": [
            "\n",
            "\r[*********************100%%**********************]  1 of 1 completed\n"
          ]
        },
        {
          "output_type": "stream",
          "name": "stdout",
          "text": [
            "Data fetched and stored for TMUS\n",
            "Data fetched and stored for UPS\n"
          ]
        },
        {
          "output_type": "stream",
          "name": "stderr",
          "text": [
            "[*********************100%%**********************]  1 of 1 completed\n",
            "[*********************100%%**********************]  1 of 1 completed"
          ]
        },
        {
          "output_type": "stream",
          "name": "stdout",
          "text": [
            "Data fetched and stored for USB\n"
          ]
        },
        {
          "output_type": "stream",
          "name": "stderr",
          "text": [
            "\n"
          ]
        },
        {
          "output_type": "stream",
          "name": "stdout",
          "text": [
            "Data fetched and stored for VRTX\n"
          ]
        },
        {
          "output_type": "stream",
          "name": "stderr",
          "text": [
            "\r[*********************100%%**********************]  1 of 1 completed\n"
          ]
        },
        {
          "output_type": "stream",
          "name": "stdout",
          "text": [
            "Data fetched and stored for WBA\n"
          ]
        },
        {
          "output_type": "stream",
          "name": "stderr",
          "text": [
            "\r[*********************100%%**********************]  1 of 1 completed\n"
          ]
        },
        {
          "output_type": "stream",
          "name": "stdout",
          "text": [
            "Data fetched and stored for WFC\n"
          ]
        },
        {
          "output_type": "stream",
          "name": "stderr",
          "text": [
            "[*********************100%%**********************]  1 of 1 completed\n",
            "[*********************100%%**********************]  1 of 1 completed"
          ]
        },
        {
          "output_type": "stream",
          "name": "stdout",
          "text": [
            "Data fetched and stored for XEL\n"
          ]
        },
        {
          "output_type": "stream",
          "name": "stderr",
          "text": [
            "\n",
            "[*********************100%%**********************]  1 of 1 completed"
          ]
        },
        {
          "output_type": "stream",
          "name": "stdout",
          "text": [
            "Data fetched and stored for ZTS\n"
          ]
        },
        {
          "output_type": "stream",
          "name": "stderr",
          "text": [
            "\n",
            "[*********************100%%**********************]  1 of 1 completed"
          ]
        },
        {
          "output_type": "stream",
          "name": "stdout",
          "text": [
            "Data fetched and stored for ADP\n",
            "Data fetched and stored for AMT\n"
          ]
        },
        {
          "output_type": "stream",
          "name": "stderr",
          "text": [
            "\n",
            "[*********************100%%**********************]  1 of 1 completed\n",
            "[*********************100%%**********************]  1 of 1 completed"
          ]
        },
        {
          "output_type": "stream",
          "name": "stdout",
          "text": [
            "Data fetched and stored for AON\n"
          ]
        },
        {
          "output_type": "stream",
          "name": "stderr",
          "text": [
            "\n"
          ]
        },
        {
          "output_type": "stream",
          "name": "stdout",
          "text": [
            "Data fetched and stored for BIIB\n"
          ]
        },
        {
          "output_type": "stream",
          "name": "stderr",
          "text": [
            "[*********************100%%**********************]  1 of 1 completed\n",
            "[*********************100%%**********************]  1 of 1 completed"
          ]
        },
        {
          "output_type": "stream",
          "name": "stdout",
          "text": [
            "Data fetched and stored for CCI\n"
          ]
        },
        {
          "output_type": "stream",
          "name": "stderr",
          "text": [
            "\n"
          ]
        },
        {
          "output_type": "stream",
          "name": "stdout",
          "text": [
            "Data fetched and stored for CME\n"
          ]
        },
        {
          "output_type": "stream",
          "name": "stderr",
          "text": [
            "\r[*********************100%%**********************]  1 of 1 completed\n"
          ]
        },
        {
          "output_type": "stream",
          "name": "stdout",
          "text": [
            "Data fetched and stored for COF\n"
          ]
        },
        {
          "output_type": "stream",
          "name": "stderr",
          "text": [
            "[*********************100%%**********************]  1 of 1 completed\n",
            "[*********************100%%**********************]  1 of 1 completed"
          ]
        },
        {
          "output_type": "stream",
          "name": "stdout",
          "text": [
            "Data fetched and stored for D\n"
          ]
        },
        {
          "output_type": "stream",
          "name": "stderr",
          "text": [
            "\n",
            "[*********************100%%**********************]  1 of 1 completed"
          ]
        },
        {
          "output_type": "stream",
          "name": "stdout",
          "text": [
            "Data fetched and stored for ICE\n"
          ]
        },
        {
          "output_type": "stream",
          "name": "stderr",
          "text": [
            "\n"
          ]
        },
        {
          "output_type": "stream",
          "name": "stdout",
          "text": [
            "Data fetched and stored for IDXX\n"
          ]
        },
        {
          "output_type": "stream",
          "name": "stderr",
          "text": [
            "\r[*********************100%%**********************]  1 of 1 completed\n"
          ]
        },
        {
          "output_type": "stream",
          "name": "stdout",
          "text": [
            "Data fetched and stored for KLAC\n"
          ]
        },
        {
          "output_type": "stream",
          "name": "stderr",
          "text": [
            "[*********************100%%**********************]  1 of 1 completed\n",
            "[*********************100%%**********************]  1 of 1 completed"
          ]
        },
        {
          "output_type": "stream",
          "name": "stdout",
          "text": [
            "Data fetched and stored for LRCX\n"
          ]
        },
        {
          "output_type": "stream",
          "name": "stderr",
          "text": [
            "\n"
          ]
        },
        {
          "output_type": "stream",
          "name": "stdout",
          "text": [
            "Data fetched and stored for MDLZ\n"
          ]
        },
        {
          "output_type": "stream",
          "name": "stderr",
          "text": [
            "\r[*********************100%%**********************]  1 of 1 completed\n"
          ]
        },
        {
          "output_type": "stream",
          "name": "stdout",
          "text": [
            "Data fetched and stored for MET\n"
          ]
        },
        {
          "output_type": "stream",
          "name": "stderr",
          "text": [
            "\r[*********************100%%**********************]  1 of 1 completed\n"
          ]
        },
        {
          "output_type": "stream",
          "name": "stdout",
          "text": [
            "Data fetched and stored for MSI\n"
          ]
        },
        {
          "output_type": "stream",
          "name": "stderr",
          "text": [
            "\r[*********************100%%**********************]  1 of 1 completed\n"
          ]
        },
        {
          "output_type": "stream",
          "name": "stdout",
          "text": [
            "Data fetched and stored for NOC\n"
          ]
        },
        {
          "output_type": "stream",
          "name": "stderr",
          "text": [
            "[*********************100%%**********************]  1 of 1 completed\n",
            "[*********************100%%**********************]  1 of 1 completed\n"
          ]
        },
        {
          "output_type": "stream",
          "name": "stdout",
          "text": [
            "Data fetched and stored for NSC\n",
            "Data fetched and stored for PLD\n"
          ]
        },
        {
          "output_type": "stream",
          "name": "stderr",
          "text": [
            "[*********************100%%**********************]  1 of 1 completed\n",
            "[*********************100%%**********************]  1 of 1 completed"
          ]
        },
        {
          "output_type": "stream",
          "name": "stdout",
          "text": [
            "Data fetched and stored for PNC\n"
          ]
        },
        {
          "output_type": "stream",
          "name": "stderr",
          "text": [
            "\n",
            "[*********************100%%**********************]  1 of 1 completed"
          ]
        },
        {
          "output_type": "stream",
          "name": "stdout",
          "text": [
            "Data fetched and stored for SO\n"
          ]
        },
        {
          "output_type": "stream",
          "name": "stderr",
          "text": [
            "\n",
            "[*********************100%%**********************]  1 of 1 completed"
          ]
        },
        {
          "output_type": "stream",
          "name": "stdout",
          "text": [
            "Data fetched and stored for SYK\n"
          ]
        },
        {
          "output_type": "stream",
          "name": "stderr",
          "text": [
            "\n",
            "\r[*********************100%%**********************]  1 of 1 completed\n"
          ]
        },
        {
          "output_type": "stream",
          "name": "stdout",
          "text": [
            "Data fetched and stored for TEL\n",
            "Data fetched and stored for TMUS\n"
          ]
        },
        {
          "output_type": "stream",
          "name": "stderr",
          "text": [
            "\r[*********************100%%**********************]  1 of 1 completed\n",
            "ERROR:yfinance:\n",
            "1 Failed download:\n",
            "ERROR:yfinance:['TWTR']: Exception('%ticker%: No timezone found, symbol may be delisted')\n",
            "[*********************100%%**********************]  1 of 1 completed\n"
          ]
        },
        {
          "output_type": "stream",
          "name": "stdout",
          "text": [
            "No data found for TWTR\n"
          ]
        },
        {
          "output_type": "stream",
          "name": "stderr",
          "text": [
            "\r[*********************100%%**********************]  1 of 1 completed\n"
          ]
        },
        {
          "output_type": "stream",
          "name": "stdout",
          "text": [
            "Data fetched and stored for WM\n",
            "Data fetched and stored for ZTS\n"
          ]
        },
        {
          "output_type": "stream",
          "name": "stderr",
          "text": [
            "\r[*********************100%%**********************]  1 of 1 completed\n"
          ]
        },
        {
          "output_type": "stream",
          "name": "stdout",
          "text": [
            "Data fetched and stored for ABBV\n"
          ]
        },
        {
          "output_type": "stream",
          "name": "stderr",
          "text": [
            "\r[*********************100%%**********************]  1 of 1 completed\n"
          ]
        },
        {
          "output_type": "stream",
          "name": "stdout",
          "text": [
            "Data fetched and stored for ADI\n"
          ]
        },
        {
          "output_type": "stream",
          "name": "stderr",
          "text": [
            "\r[*********************100%%**********************]  1 of 1 completed\n"
          ]
        },
        {
          "output_type": "stream",
          "name": "stdout",
          "text": [
            "Data fetched and stored for ALL\n"
          ]
        },
        {
          "output_type": "stream",
          "name": "stderr",
          "text": [
            "[*********************100%%**********************]  1 of 1 completed\n",
            "[*********************100%%**********************]  1 of 1 completed"
          ]
        },
        {
          "output_type": "stream",
          "name": "stdout",
          "text": [
            "Data fetched and stored for AMAT\n"
          ]
        },
        {
          "output_type": "stream",
          "name": "stderr",
          "text": [
            "\n"
          ]
        },
        {
          "output_type": "stream",
          "name": "stdout",
          "text": [
            "Data fetched and stored for AMP\n"
          ]
        },
        {
          "output_type": "stream",
          "name": "stderr",
          "text": [
            "[*********************100%%**********************]  1 of 1 completed\n",
            "[*********************100%%**********************]  1 of 1 completed"
          ]
        },
        {
          "output_type": "stream",
          "name": "stdout",
          "text": [
            "Data fetched and stored for APH\n"
          ]
        },
        {
          "output_type": "stream",
          "name": "stderr",
          "text": [
            "\n"
          ]
        },
        {
          "output_type": "stream",
          "name": "stdout",
          "text": [
            "Data fetched and stored for APTV\n"
          ]
        },
        {
          "output_type": "stream",
          "name": "stderr",
          "text": [
            "\r[*********************100%%**********************]  1 of 1 completed\n"
          ]
        },
        {
          "output_type": "stream",
          "name": "stdout",
          "text": [
            "Data fetched and stored for AVB\n"
          ]
        },
        {
          "output_type": "stream",
          "name": "stderr",
          "text": [
            "\r[*********************100%%**********************]  1 of 1 completed\n"
          ]
        },
        {
          "output_type": "stream",
          "name": "stdout",
          "text": [
            "Data fetched and stored for AWK\n"
          ]
        },
        {
          "output_type": "stream",
          "name": "stderr",
          "text": [
            "\r[*********************100%%**********************]  1 of 1 completed\n"
          ]
        },
        {
          "output_type": "stream",
          "name": "stdout",
          "text": [
            "Data fetched and stored for BAX\n"
          ]
        },
        {
          "output_type": "stream",
          "name": "stderr",
          "text": [
            "\r[*********************100%%**********************]  1 of 1 completed\n"
          ]
        },
        {
          "output_type": "stream",
          "name": "stdout",
          "text": [
            "Data fetched and stored for BDX\n"
          ]
        },
        {
          "output_type": "stream",
          "name": "stderr",
          "text": [
            "\r[*********************100%%**********************]  1 of 1 completed\n",
            "ERROR:yfinance:\n",
            "1 Failed download:\n",
            "ERROR:yfinance:['BLL']: Exception('%ticker%: No timezone found, symbol may be delisted')\n",
            "[*********************100%%**********************]  1 of 1 completed\n"
          ]
        },
        {
          "output_type": "stream",
          "name": "stdout",
          "text": [
            "No data found for BLL\n",
            "Data fetched and stored for BSX\n"
          ]
        },
        {
          "output_type": "stream",
          "name": "stderr",
          "text": [
            "\r[*********************100%%**********************]  1 of 1 completed\n"
          ]
        },
        {
          "output_type": "stream",
          "name": "stdout",
          "text": [
            "Data fetched and stored for CAG\n"
          ]
        },
        {
          "output_type": "stream",
          "name": "stderr",
          "text": [
            "[*********************100%%**********************]  1 of 1 completed\n",
            "[*********************100%%**********************]  1 of 1 completed\n"
          ]
        },
        {
          "output_type": "stream",
          "name": "stdout",
          "text": [
            "Data fetched and stored for CAT\n",
            "Data fetched and stored for CCI\n"
          ]
        },
        {
          "output_type": "stream",
          "name": "stderr",
          "text": [
            "\r[*********************100%%**********************]  1 of 1 completed\n"
          ]
        },
        {
          "output_type": "stream",
          "name": "stdout",
          "text": [
            "Data fetched and stored for CINF\n"
          ]
        },
        {
          "output_type": "stream",
          "name": "stderr",
          "text": [
            "\r[*********************100%%**********************]  1 of 1 completed\n"
          ]
        },
        {
          "output_type": "stream",
          "name": "stdout",
          "text": [
            "Data fetched and stored for CL\n"
          ]
        },
        {
          "output_type": "stream",
          "name": "stderr",
          "text": [
            "\r[*********************100%%**********************]  1 of 1 completed\n"
          ]
        },
        {
          "output_type": "stream",
          "name": "stdout",
          "text": [
            "Data fetched and stored for CLX\n"
          ]
        },
        {
          "output_type": "stream",
          "name": "stderr",
          "text": [
            "\r[*********************100%%**********************]  1 of 1 completed\n"
          ]
        },
        {
          "output_type": "stream",
          "name": "stdout",
          "text": [
            "Data fetched and stored for CMI\n"
          ]
        },
        {
          "output_type": "stream",
          "name": "stderr",
          "text": [
            "\r[*********************100%%**********************]  1 of 1 completed\n"
          ]
        },
        {
          "output_type": "stream",
          "name": "stdout",
          "text": [
            "Data fetched and stored for CNP\n"
          ]
        },
        {
          "output_type": "stream",
          "name": "stderr",
          "text": [
            "\r[*********************100%%**********************]  1 of 1 completed\n"
          ]
        },
        {
          "output_type": "stream",
          "name": "stdout",
          "text": [
            "Data fetched and stored for CPRT\n"
          ]
        },
        {
          "output_type": "stream",
          "name": "stderr",
          "text": [
            "\r[*********************100%%**********************]  1 of 1 completed\n"
          ]
        },
        {
          "output_type": "stream",
          "name": "stdout",
          "text": [
            "Data fetched and stored for CSX\n"
          ]
        },
        {
          "output_type": "stream",
          "name": "stderr",
          "text": [
            "\r[*********************100%%**********************]  1 of 1 completed\n"
          ]
        },
        {
          "output_type": "stream",
          "name": "stdout",
          "text": [
            "Data fetched and stored for CTAS\n"
          ]
        },
        {
          "output_type": "stream",
          "name": "stderr",
          "text": [
            "\r[*********************100%%**********************]  1 of 1 completed\n",
            "ERROR:yfinance:\n",
            "1 Failed download:\n",
            "ERROR:yfinance:['CTL']: Exception('%ticker%: No timezone found, symbol may be delisted')\n"
          ]
        },
        {
          "output_type": "stream",
          "name": "stdout",
          "text": [
            "No data found for CTL\n"
          ]
        },
        {
          "output_type": "stream",
          "name": "stderr",
          "text": [
            "\r[*********************100%%**********************]  1 of 1 completed\n"
          ]
        },
        {
          "output_type": "stream",
          "name": "stdout",
          "text": [
            "Data fetched and stored for DLR\n"
          ]
        },
        {
          "output_type": "stream",
          "name": "stderr",
          "text": [
            "\r[*********************100%%**********************]  1 of 1 completed\n"
          ]
        },
        {
          "output_type": "stream",
          "name": "stdout",
          "text": [
            "Data fetched and stored for EIX\n"
          ]
        },
        {
          "output_type": "stream",
          "name": "stderr",
          "text": [
            "\r[*********************100%%**********************]  1 of 1 completed\n"
          ]
        },
        {
          "output_type": "stream",
          "name": "stdout",
          "text": [
            "Data fetched and stored for EQIX\n"
          ]
        },
        {
          "output_type": "stream",
          "name": "stderr",
          "text": [
            "\r[*********************100%%**********************]  1 of 1 completed\n"
          ]
        },
        {
          "output_type": "stream",
          "name": "stdout",
          "text": [
            "Data fetched and stored for ES\n"
          ]
        },
        {
          "output_type": "stream",
          "name": "stderr",
          "text": [
            "[*********************100%%**********************]  1 of 1 completed\n",
            "[*********************100%%**********************]  1 of 1 completed"
          ]
        },
        {
          "output_type": "stream",
          "name": "stdout",
          "text": [
            "Data fetched and stored for ETN\n"
          ]
        },
        {
          "output_type": "stream",
          "name": "stderr",
          "text": [
            "\n"
          ]
        },
        {
          "output_type": "stream",
          "name": "stdout",
          "text": [
            "Data fetched and stored for EW\n"
          ]
        },
        {
          "output_type": "stream",
          "name": "stderr",
          "text": [
            "\r[*********************100%%**********************]  1 of 1 completed\n"
          ]
        },
        {
          "output_type": "stream",
          "name": "stdout",
          "text": [
            "Data fetched and stored for F\n"
          ]
        },
        {
          "output_type": "stream",
          "name": "stderr",
          "text": [
            "[*********************100%%**********************]  1 of 1 completed\n",
            "[*********************100%%**********************]  1 of 1 completed\n"
          ]
        },
        {
          "output_type": "stream",
          "name": "stdout",
          "text": [
            "Data fetched and stored for FAST\n",
            "Data fetched and stored for FISV\n"
          ]
        },
        {
          "output_type": "stream",
          "name": "stderr",
          "text": [
            "\r[*********************100%%**********************]  1 of 1 completed\n"
          ]
        },
        {
          "output_type": "stream",
          "name": "stdout",
          "text": [
            "Data fetched and stored for FITB\n"
          ]
        },
        {
          "output_type": "stream",
          "name": "stderr",
          "text": [
            "\r[*********************100%%**********************]  1 of 1 completed\n",
            "ERROR:yfinance:\n",
            "1 Failed download:\n",
            "ERROR:yfinance:['FLIR']: Exception('%ticker%: No timezone found, symbol may be delisted')\n"
          ]
        },
        {
          "output_type": "stream",
          "name": "stdout",
          "text": [
            "No data found for FLIR\n"
          ]
        },
        {
          "output_type": "stream",
          "name": "stderr",
          "text": [
            "[*********************100%%**********************]  1 of 1 completed\n",
            "[*********************100%%**********************]  1 of 1 completed"
          ]
        },
        {
          "output_type": "stream",
          "name": "stdout",
          "text": [
            "Data fetched and stored for FLS\n"
          ]
        },
        {
          "output_type": "stream",
          "name": "stderr",
          "text": [
            "\n",
            "[*********************100%%**********************]  1 of 1 completed"
          ]
        },
        {
          "output_type": "stream",
          "name": "stdout",
          "text": [
            "Data fetched and stored for GD\n"
          ]
        },
        {
          "output_type": "stream",
          "name": "stderr",
          "text": [
            "\n"
          ]
        },
        {
          "output_type": "stream",
          "name": "stdout",
          "text": [
            "Data fetched and stored for GILD\n"
          ]
        },
        {
          "output_type": "stream",
          "name": "stderr",
          "text": [
            "\r[*********************100%%**********************]  1 of 1 completed\n"
          ]
        },
        {
          "output_type": "stream",
          "name": "stdout",
          "text": [
            "Data fetched and stored for GIS\n"
          ]
        },
        {
          "output_type": "stream",
          "name": "stderr",
          "text": [
            "\r[*********************100%%**********************]  1 of 1 completed\n"
          ]
        },
        {
          "output_type": "stream",
          "name": "stdout",
          "text": [
            "Data fetched and stored for GPC\n"
          ]
        },
        {
          "output_type": "stream",
          "name": "stderr",
          "text": [
            "\r[*********************100%%**********************]  1 of 1 completed\n"
          ]
        },
        {
          "output_type": "stream",
          "name": "stdout",
          "text": [
            "Data fetched and stored for GPN\n"
          ]
        },
        {
          "output_type": "stream",
          "name": "stderr",
          "text": [
            "\r[*********************100%%**********************]  1 of 1 completed\n"
          ]
        },
        {
          "output_type": "stream",
          "name": "stdout",
          "text": [
            "Data fetched and stored for GWW\n"
          ]
        },
        {
          "output_type": "stream",
          "name": "stderr",
          "text": [
            "\r[*********************100%%**********************]  1 of 1 completed\n"
          ]
        },
        {
          "output_type": "stream",
          "name": "stdout",
          "text": [
            "Data fetched and stored for HES\n"
          ]
        },
        {
          "output_type": "stream",
          "name": "stderr",
          "text": [
            "\r[*********************100%%**********************]  1 of 1 completed\n"
          ]
        },
        {
          "output_type": "stream",
          "name": "stdout",
          "text": [
            "Data fetched and stored for HIG\n"
          ]
        },
        {
          "output_type": "stream",
          "name": "stderr",
          "text": [
            "\r[*********************100%%**********************]  1 of 1 completed\n"
          ]
        },
        {
          "output_type": "stream",
          "name": "stdout",
          "text": [
            "Data fetched and stored for HRL\n"
          ]
        },
        {
          "output_type": "stream",
          "name": "stderr",
          "text": [
            "\r[*********************100%%**********************]  1 of 1 completed\n"
          ]
        },
        {
          "output_type": "stream",
          "name": "stdout",
          "text": [
            "Data fetched and stored for HSIC\n"
          ]
        },
        {
          "output_type": "stream",
          "name": "stderr",
          "text": [
            "\r[*********************100%%**********************]  1 of 1 completed\n"
          ]
        },
        {
          "output_type": "stream",
          "name": "stdout",
          "text": [
            "Data fetched and stored for HST\n"
          ]
        },
        {
          "output_type": "stream",
          "name": "stderr",
          "text": [
            "\r[*********************100%%**********************]  1 of 1 completed\n",
            "ERROR:yfinance:\n",
            "1 Failed download:\n",
            "ERROR:yfinance:['INFO']: Exception('%ticker%: No timezone found, symbol may be delisted')\n"
          ]
        },
        {
          "output_type": "stream",
          "name": "stdout",
          "text": [
            "No data found for INFO\n"
          ]
        },
        {
          "output_type": "stream",
          "name": "stderr",
          "text": [
            "\r[*********************100%%**********************]  1 of 1 completed\n"
          ]
        },
        {
          "output_type": "stream",
          "name": "stdout",
          "text": [
            "Data fetched and stored for IPG\n"
          ]
        },
        {
          "output_type": "stream",
          "name": "stderr",
          "text": [
            "\r[*********************100%%**********************]  1 of 1 completed\n"
          ]
        },
        {
          "output_type": "stream",
          "name": "stdout",
          "text": [
            "Data fetched and stored for IQV\n"
          ]
        },
        {
          "output_type": "stream",
          "name": "stderr",
          "text": [
            "\r[*********************100%%**********************]  1 of 1 completed\n"
          ]
        },
        {
          "output_type": "stream",
          "name": "stdout",
          "text": [
            "Data fetched and stored for IRM\n"
          ]
        },
        {
          "output_type": "stream",
          "name": "stderr",
          "text": [
            "\r[*********************100%%**********************]  1 of 1 completed\n"
          ]
        },
        {
          "output_type": "stream",
          "name": "stdout",
          "text": [
            "Data fetched and stored for KEY\n"
          ]
        },
        {
          "output_type": "stream",
          "name": "stderr",
          "text": [
            "\r[*********************100%%**********************]  1 of 1 completed\n"
          ]
        },
        {
          "output_type": "stream",
          "name": "stdout",
          "text": [
            "Data fetched and stored for KMB\n"
          ]
        },
        {
          "output_type": "stream",
          "name": "stderr",
          "text": [
            "\r[*********************100%%**********************]  1 of 1 completed\n"
          ]
        },
        {
          "output_type": "stream",
          "name": "stdout",
          "text": [
            "Data fetched and stored for KR\n"
          ]
        },
        {
          "output_type": "stream",
          "name": "stderr",
          "text": [
            "\r[*********************100%%**********************]  1 of 1 completed\n",
            "ERROR:yfinance:\n",
            "1 Failed download:\n",
            "ERROR:yfinance:['KSU']: Exception('%ticker%: No timezone found, symbol may be delisted')\n"
          ]
        },
        {
          "output_type": "stream",
          "name": "stdout",
          "text": [
            "No data found for KSU\n"
          ]
        },
        {
          "output_type": "stream",
          "name": "stderr",
          "text": [
            "\r[*********************100%%**********************]  1 of 1 completed\n"
          ]
        },
        {
          "output_type": "stream",
          "name": "stdout",
          "text": [
            "Data fetched and stored for LEN\n"
          ]
        },
        {
          "output_type": "stream",
          "name": "stderr",
          "text": [
            "[*********************100%%**********************]  1 of 1 completed\n",
            "[*********************100%%**********************]  1 of 1 completed"
          ]
        },
        {
          "output_type": "stream",
          "name": "stdout",
          "text": [
            "Data fetched and stored for LHX\n"
          ]
        },
        {
          "output_type": "stream",
          "name": "stderr",
          "text": [
            "\n"
          ]
        },
        {
          "output_type": "stream",
          "name": "stdout",
          "text": [
            "Data fetched and stored for LMT\n"
          ]
        },
        {
          "output_type": "stream",
          "name": "stderr",
          "text": [
            "\r[*********************100%%**********************]  1 of 1 completed\n"
          ]
        },
        {
          "output_type": "stream",
          "name": "stdout",
          "text": [
            "Data fetched and stored for LNT\n"
          ]
        },
        {
          "output_type": "stream",
          "name": "stderr",
          "text": [
            "\r[*********************100%%**********************]  1 of 1 completed\n"
          ]
        },
        {
          "output_type": "stream",
          "name": "stdout",
          "text": [
            "Data fetched and stored for LOW\n"
          ]
        },
        {
          "output_type": "stream",
          "name": "stderr",
          "text": [
            "\r[*********************100%%**********************]  1 of 1 completed\n"
          ]
        },
        {
          "output_type": "stream",
          "name": "stdout",
          "text": [
            "Data fetched and stored for LVS\n"
          ]
        },
        {
          "output_type": "stream",
          "name": "stderr",
          "text": [
            "\r[*********************100%%**********************]  1 of 1 completed\n"
          ]
        },
        {
          "output_type": "stream",
          "name": "stdout",
          "text": [
            "Data fetched and stored for MAS\n"
          ]
        },
        {
          "output_type": "stream",
          "name": "stderr",
          "text": [
            "\r[*********************100%%**********************]  1 of 1 completed\n"
          ]
        },
        {
          "output_type": "stream",
          "name": "stdout",
          "text": [
            "Data fetched and stored for MKC\n"
          ]
        },
        {
          "output_type": "stream",
          "name": "stderr",
          "text": [
            "\r[*********************100%%**********************]  1 of 1 completed\n"
          ]
        },
        {
          "output_type": "stream",
          "name": "stdout",
          "text": [
            "Data fetched and stored for MMC\n"
          ]
        },
        {
          "output_type": "stream",
          "name": "stderr",
          "text": [
            "\r[*********************100%%**********************]  1 of 1 completed\n"
          ]
        },
        {
          "output_type": "stream",
          "name": "stdout",
          "text": [
            "Data fetched and stored for MSCI\n"
          ]
        },
        {
          "output_type": "stream",
          "name": "stderr",
          "text": [
            "\r[*********************100%%**********************]  1 of 1 completed\n"
          ]
        },
        {
          "output_type": "stream",
          "name": "stdout",
          "text": [
            "Data fetched and stored for MTB\n"
          ]
        },
        {
          "output_type": "stream",
          "name": "stderr",
          "text": [
            "\r[*********************100%%**********************]  1 of 1 completed\n"
          ]
        },
        {
          "output_type": "stream",
          "name": "stdout",
          "text": [
            "Data fetched and stored for MTD\n"
          ]
        },
        {
          "output_type": "stream",
          "name": "stderr",
          "text": [
            "\r[*********************100%%**********************]  1 of 1 completed\n"
          ]
        },
        {
          "output_type": "stream",
          "name": "stdout",
          "text": [
            "Data fetched and stored for NI\n"
          ]
        },
        {
          "output_type": "stream",
          "name": "stderr",
          "text": [
            "\r[*********************100%%**********************]  1 of 1 completed\n"
          ]
        },
        {
          "output_type": "stream",
          "name": "stdout",
          "text": [
            "Data fetched and stored for NTRS\n"
          ]
        },
        {
          "output_type": "stream",
          "name": "stderr",
          "text": [
            "[*********************100%%**********************]  1 of 1 completed\n",
            "[*********************100%%**********************]  1 of 1 completed"
          ]
        },
        {
          "output_type": "stream",
          "name": "stdout",
          "text": [
            "Data fetched and stored for O\n"
          ]
        },
        {
          "output_type": "stream",
          "name": "stderr",
          "text": [
            "\n"
          ]
        },
        {
          "output_type": "stream",
          "name": "stdout",
          "text": [
            "Data fetched and stored for ODFL\n"
          ]
        },
        {
          "output_type": "stream",
          "name": "stderr",
          "text": [
            "\r[*********************100%%**********************]  1 of 1 completed\n"
          ]
        },
        {
          "output_type": "stream",
          "name": "stdout",
          "text": [
            "Data fetched and stored for OKE\n"
          ]
        },
        {
          "output_type": "stream",
          "name": "stderr",
          "text": [
            "\r[*********************100%%**********************]  1 of 1 completed\n"
          ]
        },
        {
          "output_type": "stream",
          "name": "stdout",
          "text": [
            "Data fetched and stored for OMC\n"
          ]
        },
        {
          "output_type": "stream",
          "name": "stderr",
          "text": [
            "\r[*********************100%%**********************]  1 of 1 completed\n"
          ]
        },
        {
          "output_type": "stream",
          "name": "stdout",
          "text": [
            "Data fetched and stored for PAYX\n"
          ]
        },
        {
          "output_type": "stream",
          "name": "stderr",
          "text": [
            "\r[*********************100%%**********************]  1 of 1 completed\n"
          ]
        },
        {
          "output_type": "stream",
          "name": "stdout",
          "text": [
            "Data fetched and stored for PFG\n"
          ]
        },
        {
          "output_type": "stream",
          "name": "stderr",
          "text": [
            "\r[*********************100%%**********************]  1 of 1 completed\n"
          ]
        },
        {
          "output_type": "stream",
          "name": "stdout",
          "text": [
            "Data fetched and stored for PH\n"
          ]
        },
        {
          "output_type": "stream",
          "name": "stderr",
          "text": [
            "\r[*********************100%%**********************]  1 of 1 completed\n",
            "ERROR:yfinance:\n",
            "1 Failed download:\n",
            "ERROR:yfinance:['PKI']: Exception('%ticker%: No timezone found, symbol may be delisted')\n"
          ]
        },
        {
          "output_type": "stream",
          "name": "stdout",
          "text": [
            "No data found for PKI\n"
          ]
        },
        {
          "output_type": "stream",
          "name": "stderr",
          "text": [
            "\r[*********************100%%**********************]  1 of 1 completed\n"
          ]
        },
        {
          "output_type": "stream",
          "name": "stdout",
          "text": [
            "Data fetched and stored for PPL\n"
          ]
        },
        {
          "output_type": "stream",
          "name": "stderr",
          "text": [
            "\r[*********************100%%**********************]  1 of 1 completed\n"
          ]
        },
        {
          "output_type": "stream",
          "name": "stdout",
          "text": [
            "Data fetched and stored for PSA\n"
          ]
        },
        {
          "output_type": "stream",
          "name": "stderr",
          "text": [
            "\r[*********************100%%**********************]  1 of 1 completed\n"
          ]
        },
        {
          "output_type": "stream",
          "name": "stdout",
          "text": [
            "Data fetched and stored for PVH\n"
          ]
        },
        {
          "output_type": "stream",
          "name": "stderr",
          "text": [
            "\r[*********************100%%**********************]  1 of 1 completed\n"
          ]
        },
        {
          "output_type": "stream",
          "name": "stdout",
          "text": [
            "Data fetched and stored for RCL\n"
          ]
        },
        {
          "output_type": "stream",
          "name": "stderr",
          "text": [
            "\r[*********************100%%**********************]  1 of 1 completed\n"
          ]
        },
        {
          "output_type": "stream",
          "name": "stdout",
          "text": [
            "Data fetched and stored for REG\n"
          ]
        },
        {
          "output_type": "stream",
          "name": "stderr",
          "text": [
            "\r[*********************100%%**********************]  1 of 1 completed\n"
          ]
        },
        {
          "output_type": "stream",
          "name": "stdout",
          "text": [
            "Data fetched and stored for RMD\n"
          ]
        },
        {
          "output_type": "stream",
          "name": "stderr",
          "text": [
            "\r[*********************100%%**********************]  1 of 1 completed\n"
          ]
        },
        {
          "output_type": "stream",
          "name": "stdout",
          "text": [
            "Data fetched and stored for ROK\n"
          ]
        },
        {
          "output_type": "stream",
          "name": "stderr",
          "text": [
            "\r[*********************100%%**********************]  1 of 1 completed\n"
          ]
        },
        {
          "output_type": "stream",
          "name": "stdout",
          "text": [
            "Data fetched and stored for ROP\n"
          ]
        },
        {
          "output_type": "stream",
          "name": "stderr",
          "text": [
            "\r[*********************100%%**********************]  1 of 1 completed\n"
          ]
        },
        {
          "output_type": "stream",
          "name": "stdout",
          "text": [
            "Data fetched and stored for RSG\n"
          ]
        },
        {
          "output_type": "stream",
          "name": "stderr",
          "text": [
            "\r[*********************100%%**********************]  1 of 1 completed\n"
          ]
        },
        {
          "output_type": "stream",
          "name": "stdout",
          "text": [
            "Data fetched and stored for SBAC\n"
          ]
        },
        {
          "output_type": "stream",
          "name": "stderr",
          "text": [
            "\r[*********************100%%**********************]  1 of 1 completed\n"
          ]
        },
        {
          "output_type": "stream",
          "name": "stdout",
          "text": [
            "Data fetched and stored for SBUX\n"
          ]
        },
        {
          "output_type": "stream",
          "name": "stderr",
          "text": [
            "[*********************100%%**********************]  1 of 1 completed\n",
            "[*********************100%%**********************]  1 of 1 completed"
          ]
        },
        {
          "output_type": "stream",
          "name": "stdout",
          "text": [
            "Data fetched and stored for SNA\n"
          ]
        },
        {
          "output_type": "stream",
          "name": "stderr",
          "text": [
            "\n"
          ]
        },
        {
          "output_type": "stream",
          "name": "stdout",
          "text": [
            "Data fetched and stored for SNPS\n"
          ]
        },
        {
          "output_type": "stream",
          "name": "stderr",
          "text": [
            "\r[*********************100%%**********************]  1 of 1 completed\n"
          ]
        },
        {
          "output_type": "stream",
          "name": "stdout",
          "text": [
            "Data fetched and stored for STZ\n"
          ]
        },
        {
          "output_type": "stream",
          "name": "stderr",
          "text": [
            "\r[*********************100%%**********************]  1 of 1 completed\n"
          ]
        },
        {
          "output_type": "stream",
          "name": "stdout",
          "text": [
            "Data fetched and stored for SYY\n"
          ]
        },
        {
          "output_type": "stream",
          "name": "stderr",
          "text": [
            "\r[*********************100%%**********************]  1 of 1 completed\n"
          ]
        },
        {
          "output_type": "stream",
          "name": "stdout",
          "text": [
            "Data fetched and stored for TDG\n"
          ]
        },
        {
          "output_type": "stream",
          "name": "stderr",
          "text": [
            "[*********************100%%**********************]  1 of 1 completed\n",
            "[*********************100%%**********************]  1 of 1 completed"
          ]
        },
        {
          "output_type": "stream",
          "name": "stdout",
          "text": [
            "Data fetched and stored for TFX\n"
          ]
        },
        {
          "output_type": "stream",
          "name": "stderr",
          "text": [
            "\n"
          ]
        },
        {
          "output_type": "stream",
          "name": "stdout",
          "text": [
            "Data fetched and stored for TMO\n"
          ]
        },
        {
          "output_type": "stream",
          "name": "stderr",
          "text": [
            "\r[*********************100%%**********************]  1 of 1 completed\n"
          ]
        },
        {
          "output_type": "stream",
          "name": "stdout",
          "text": [
            "Data fetched and stored for TPR\n"
          ]
        },
        {
          "output_type": "stream",
          "name": "stderr",
          "text": [
            "\r[*********************100%%**********************]  1 of 1 completed\n"
          ]
        },
        {
          "output_type": "stream",
          "name": "stdout",
          "text": [
            "Data fetched and stored for TRV\n"
          ]
        },
        {
          "output_type": "stream",
          "name": "stderr",
          "text": [
            "[*********************100%%**********************]  1 of 1 completed\n",
            "[*********************100%%**********************]  1 of 1 completed"
          ]
        },
        {
          "output_type": "stream",
          "name": "stdout",
          "text": [
            "Data fetched and stored for TT\n"
          ]
        },
        {
          "output_type": "stream",
          "name": "stderr",
          "text": [
            "\n"
          ]
        },
        {
          "output_type": "stream",
          "name": "stdout",
          "text": [
            "Data fetched and stored for TXN\n"
          ]
        },
        {
          "output_type": "stream",
          "name": "stderr",
          "text": [
            "[*********************100%%**********************]  1 of 1 completed\n",
            "[*********************100%%**********************]  1 of 1 completed"
          ]
        },
        {
          "output_type": "stream",
          "name": "stdout",
          "text": [
            "Data fetched and stored for UDR\n"
          ]
        },
        {
          "output_type": "stream",
          "name": "stderr",
          "text": [
            "\n"
          ]
        },
        {
          "output_type": "stream",
          "name": "stdout",
          "text": [
            "Data fetched and stored for ULTA\n"
          ]
        },
        {
          "output_type": "stream",
          "name": "stderr",
          "text": [
            "\r[*********************100%%**********************]  1 of 1 completed\n"
          ]
        },
        {
          "output_type": "stream",
          "name": "stdout",
          "text": [
            "Data fetched and stored for UNM\n"
          ]
        },
        {
          "output_type": "stream",
          "name": "stderr",
          "text": [
            "\r[*********************100%%**********************]  1 of 1 completed\n",
            "ERROR:yfinance:\n",
            "1 Failed download:\n",
            "ERROR:yfinance:['VAR']: Exception('%ticker%: No timezone found, symbol may be delisted')\n"
          ]
        },
        {
          "output_type": "stream",
          "name": "stdout",
          "text": [
            "No data found for VAR\n"
          ]
        },
        {
          "output_type": "stream",
          "name": "stderr",
          "text": [
            "\r[*********************100%%**********************]  1 of 1 completed\n"
          ]
        },
        {
          "output_type": "stream",
          "name": "stdout",
          "text": [
            "Data fetched and stored for VFC\n"
          ]
        },
        {
          "output_type": "stream",
          "name": "stderr",
          "text": [
            "\r[*********************100%%**********************]  1 of 1 completed\n"
          ]
        },
        {
          "output_type": "stream",
          "name": "stdout",
          "text": [
            "Data fetched and stored for VLO\n"
          ]
        },
        {
          "output_type": "stream",
          "name": "stderr",
          "text": [
            "\r[*********************100%%**********************]  1 of 1 completed\n"
          ]
        },
        {
          "output_type": "stream",
          "name": "stdout",
          "text": [
            "Data fetched and stored for VNO\n"
          ]
        },
        {
          "output_type": "stream",
          "name": "stderr",
          "text": [
            "\r[*********************100%%**********************]  1 of 1 completed\n"
          ]
        },
        {
          "output_type": "stream",
          "name": "stdout",
          "text": [
            "Data fetched and stored for WAT\n"
          ]
        },
        {
          "output_type": "stream",
          "name": "stderr",
          "text": [
            "\r[*********************100%%**********************]  1 of 1 completed\n"
          ]
        },
        {
          "output_type": "stream",
          "name": "stdout",
          "text": [
            "Data fetched and stored for WDC\n"
          ]
        },
        {
          "output_type": "stream",
          "name": "stderr",
          "text": [
            "\r[*********************100%%**********************]  1 of 1 completed\n"
          ]
        },
        {
          "output_type": "stream",
          "name": "stdout",
          "text": [
            "Data fetched and stored for WELL\n"
          ]
        },
        {
          "output_type": "stream",
          "name": "stderr",
          "text": [
            "\r[*********************100%%**********************]  1 of 1 completed\n"
          ]
        },
        {
          "output_type": "stream",
          "name": "stdout",
          "text": [
            "Data fetched and stored for WST\n"
          ]
        },
        {
          "output_type": "stream",
          "name": "stderr",
          "text": [
            "\r[*********************100%%**********************]  1 of 1 completed\n"
          ]
        },
        {
          "output_type": "stream",
          "name": "stdout",
          "text": [
            "Data fetched and stored for WY\n"
          ]
        },
        {
          "output_type": "stream",
          "name": "stderr",
          "text": [
            "\r[*********************100%%**********************]  1 of 1 completed\n"
          ]
        },
        {
          "output_type": "stream",
          "name": "stdout",
          "text": [
            "Data fetched and stored for WYNN\n"
          ]
        },
        {
          "output_type": "stream",
          "name": "stderr",
          "text": [
            "\r[*********************100%%**********************]  1 of 1 completed\n",
            "ERROR:yfinance:\n",
            "1 Failed download:\n",
            "ERROR:yfinance:['XLNX']: Exception('%ticker%: No timezone found, symbol may be delisted')\n"
          ]
        },
        {
          "output_type": "stream",
          "name": "stdout",
          "text": [
            "No data found for XLNX\n"
          ]
        },
        {
          "output_type": "stream",
          "name": "stderr",
          "text": [
            "\r[*********************100%%**********************]  1 of 1 completed\n"
          ]
        },
        {
          "output_type": "stream",
          "name": "stdout",
          "text": [
            "Data fetched and stored for XYL\n"
          ]
        },
        {
          "output_type": "stream",
          "name": "stderr",
          "text": [
            "[*********************100%%**********************]  1 of 1 completed\n",
            "[*********************100%%**********************]  1 of 1 completed"
          ]
        },
        {
          "output_type": "stream",
          "name": "stdout",
          "text": [
            "Data fetched and stored for YUM\n"
          ]
        },
        {
          "output_type": "stream",
          "name": "stderr",
          "text": [
            "\n",
            "[*********************100%%**********************]  1 of 1 completed"
          ]
        },
        {
          "output_type": "stream",
          "name": "stdout",
          "text": [
            "Data fetched and stored for ZBH\n"
          ]
        },
        {
          "output_type": "stream",
          "name": "stderr",
          "text": [
            "\n",
            "[*********************100%%**********************]  1 of 1 completed"
          ]
        },
        {
          "output_type": "stream",
          "name": "stdout",
          "text": [
            "Data fetched and stored for ZBRA\n"
          ]
        },
        {
          "output_type": "stream",
          "name": "stderr",
          "text": [
            "\n",
            "[*********************100%%**********************]  1 of 1 completed"
          ]
        },
        {
          "output_type": "stream",
          "name": "stdout",
          "text": [
            "Data fetched and stored for ALGN\n"
          ]
        },
        {
          "output_type": "stream",
          "name": "stderr",
          "text": [
            "\n"
          ]
        },
        {
          "output_type": "stream",
          "name": "stdout",
          "text": [
            "Data fetched and stored for ALLE\n"
          ]
        },
        {
          "output_type": "stream",
          "name": "stderr",
          "text": [
            "\r[*********************100%%**********************]  1 of 1 completed\n",
            "ERROR:yfinance:\n",
            "1 Failed download:\n",
            "ERROR:yfinance:['ALXN']: Exception('%ticker%: No timezone found, symbol may be delisted')\n"
          ]
        },
        {
          "output_type": "stream",
          "name": "stdout",
          "text": [
            "No data found for ALXN\n"
          ]
        },
        {
          "output_type": "stream",
          "name": "stderr",
          "text": [
            "[*********************100%%**********************]  1 of 1 completed\n",
            "[*********************100%%**********************]  1 of 1 completed"
          ]
        },
        {
          "output_type": "stream",
          "name": "stdout",
          "text": [
            "Data fetched and stored for ANSS\n"
          ]
        },
        {
          "output_type": "stream",
          "name": "stderr",
          "text": [
            "\n",
            "[*********************100%%**********************]  1 of 1 completed"
          ]
        },
        {
          "output_type": "stream",
          "name": "stdout",
          "text": [
            "Data fetched and stored for AWK\n"
          ]
        },
        {
          "output_type": "stream",
          "name": "stderr",
          "text": [
            "\n"
          ]
        },
        {
          "output_type": "stream",
          "name": "stdout",
          "text": [
            "Data fetched and stored for BIO\n"
          ]
        },
        {
          "output_type": "stream",
          "name": "stderr",
          "text": [
            "\r[*********************100%%**********************]  1 of 1 completed\n"
          ]
        },
        {
          "output_type": "stream",
          "name": "stdout",
          "text": [
            "Data fetched and stored for CBOE\n"
          ]
        },
        {
          "output_type": "stream",
          "name": "stderr",
          "text": [
            "\r[*********************100%%**********************]  1 of 1 completed\n"
          ]
        },
        {
          "output_type": "stream",
          "name": "stdout",
          "text": [
            "Data fetched and stored for CDNS\n"
          ]
        },
        {
          "output_type": "stream",
          "name": "stderr",
          "text": [
            "\r[*********************100%%**********************]  1 of 1 completed\n",
            "ERROR:yfinance:\n",
            "1 Failed download:\n",
            "ERROR:yfinance:['CERN']: Exception('%ticker%: No timezone found, symbol may be delisted')\n"
          ]
        },
        {
          "output_type": "stream",
          "name": "stdout",
          "text": [
            "No data found for CERN\n"
          ]
        },
        {
          "output_type": "stream",
          "name": "stderr",
          "text": [
            "\r[*********************100%%**********************]  1 of 1 completed\n",
            "ERROR:yfinance:\n",
            "1 Failed download:\n",
            "ERROR:yfinance:['CTXS']: Exception('%ticker%: No timezone found, symbol may be delisted')\n"
          ]
        },
        {
          "output_type": "stream",
          "name": "stdout",
          "text": [
            "No data found for CTXS\n"
          ]
        },
        {
          "output_type": "stream",
          "name": "stderr",
          "text": [
            "[*********************100%%**********************]  1 of 1 completed\n",
            "[*********************100%%**********************]  1 of 1 completed"
          ]
        },
        {
          "output_type": "stream",
          "name": "stdout",
          "text": [
            "Data fetched and stored for DXCM\n"
          ]
        },
        {
          "output_type": "stream",
          "name": "stderr",
          "text": [
            "\n"
          ]
        },
        {
          "output_type": "stream",
          "name": "stdout",
          "text": [
            "Data fetched and stored for EL\n"
          ]
        },
        {
          "output_type": "stream",
          "name": "stderr",
          "text": [
            "\r[*********************100%%**********************]  1 of 1 completed\n"
          ]
        },
        {
          "output_type": "stream",
          "name": "stdout",
          "text": [
            "Data fetched and stored for ENPH\n"
          ]
        },
        {
          "output_type": "stream",
          "name": "stderr",
          "text": [
            "\r[*********************100%%**********************]  1 of 1 completed\n"
          ]
        },
        {
          "output_type": "stream",
          "name": "stdout",
          "text": [
            "Data fetched and stored for ETSY\n"
          ]
        },
        {
          "output_type": "stream",
          "name": "stderr",
          "text": [
            "\r[*********************100%%**********************]  1 of 1 completed\n"
          ]
        },
        {
          "output_type": "stream",
          "name": "stdout",
          "text": [
            "Data fetched and stored for EW\n"
          ]
        },
        {
          "output_type": "stream",
          "name": "stderr",
          "text": [
            "\r[*********************100%%**********************]  1 of 1 completed\n"
          ]
        },
        {
          "output_type": "stream",
          "name": "stdout",
          "text": [
            "Data fetched and stored for EXPD\n"
          ]
        },
        {
          "output_type": "stream",
          "name": "stderr",
          "text": [
            "\r[*********************100%%**********************]  1 of 1 completed\n"
          ]
        },
        {
          "output_type": "stream",
          "name": "stdout",
          "text": [
            "Data fetched and stored for EXR\n"
          ]
        },
        {
          "output_type": "stream",
          "name": "stderr",
          "text": [
            "\r[*********************100%%**********************]  1 of 1 completed\n"
          ]
        },
        {
          "output_type": "stream",
          "name": "stdout",
          "text": [
            "Data fetched and stored for FTNT\n"
          ]
        },
        {
          "output_type": "stream",
          "name": "stderr",
          "text": [
            "[*********************100%%**********************]  1 of 1 completed\n",
            "[*********************100%%**********************]  1 of 1 completed"
          ]
        },
        {
          "output_type": "stream",
          "name": "stdout",
          "text": [
            "Data fetched and stored for HOLX\n"
          ]
        },
        {
          "output_type": "stream",
          "name": "stderr",
          "text": [
            "\n"
          ]
        },
        {
          "output_type": "stream",
          "name": "stdout",
          "text": [
            "Data fetched and stored for IDXX\n"
          ]
        },
        {
          "output_type": "stream",
          "name": "stderr",
          "text": [
            "\r[*********************100%%**********************]  1 of 1 completed\n"
          ]
        },
        {
          "output_type": "stream",
          "name": "stdout",
          "text": [
            "Data fetched and stored for ILMN\n"
          ]
        },
        {
          "output_type": "stream",
          "name": "stderr",
          "text": [
            "\r[*********************100%%**********************]  1 of 1 completed\n"
          ]
        },
        {
          "output_type": "stream",
          "name": "stdout",
          "text": [
            "Data fetched and stored for INCY\n"
          ]
        },
        {
          "output_type": "stream",
          "name": "stderr",
          "text": [
            "[*********************100%%**********************]  1 of 1 completed\n",
            "[*********************100%%**********************]  1 of 1 completed"
          ]
        },
        {
          "output_type": "stream",
          "name": "stdout",
          "text": [
            "Data fetched and stored for INTU\n"
          ]
        },
        {
          "output_type": "stream",
          "name": "stderr",
          "text": [
            "\n"
          ]
        },
        {
          "output_type": "stream",
          "name": "stdout",
          "text": [
            "Data fetched and stored for ISRG\n"
          ]
        },
        {
          "output_type": "stream",
          "name": "stderr",
          "text": [
            "[*********************100%%**********************]  1 of 1 completed\n",
            "[*********************100%%**********************]  1 of 1 completed\n"
          ]
        },
        {
          "output_type": "stream",
          "name": "stdout",
          "text": [
            "Data fetched and stored for KDP\n"
          ]
        },
        {
          "output_type": "stream",
          "name": "stderr",
          "text": [
            "\r[*********************100%%**********************]  1 of 1 completed"
          ]
        },
        {
          "output_type": "stream",
          "name": "stdout",
          "text": [
            "Data fetched and stored for KLAC\n"
          ]
        },
        {
          "output_type": "stream",
          "name": "stderr",
          "text": [
            "\n",
            "[*********************100%%**********************]  1 of 1 completed"
          ]
        },
        {
          "output_type": "stream",
          "name": "stdout",
          "text": [
            "Data fetched and stored for LRCX\n"
          ]
        },
        {
          "output_type": "stream",
          "name": "stderr",
          "text": [
            "\n"
          ]
        },
        {
          "output_type": "stream",
          "name": "stdout",
          "text": [
            "Data fetched and stored for LULU\n"
          ]
        },
        {
          "output_type": "stream",
          "name": "stderr",
          "text": [
            "[*********************100%%**********************]  1 of 1 completed\n",
            "[*********************100%%**********************]  1 of 1 completed"
          ]
        },
        {
          "output_type": "stream",
          "name": "stdout",
          "text": [
            "Data fetched and stored for MCHP\n"
          ]
        },
        {
          "output_type": "stream",
          "name": "stderr",
          "text": [
            "\n",
            "[*********************100%%**********************]  1 of 1 completed"
          ]
        },
        {
          "output_type": "stream",
          "name": "stdout",
          "text": [
            "Data fetched and stored for MKTX\n"
          ]
        },
        {
          "output_type": "stream",
          "name": "stderr",
          "text": [
            "\n"
          ]
        },
        {
          "output_type": "stream",
          "name": "stdout",
          "text": [
            "Data fetched and stored for MNST\n"
          ]
        },
        {
          "output_type": "stream",
          "name": "stderr",
          "text": [
            "\r[*********************100%%**********************]  1 of 1 completed\n"
          ]
        },
        {
          "output_type": "stream",
          "name": "stdout",
          "text": [
            "Data fetched and stored for MTCH\n"
          ]
        },
        {
          "output_type": "stream",
          "name": "stderr",
          "text": [
            "[*********************100%%**********************]  1 of 1 completed\n",
            "[*********************100%%**********************]  1 of 1 completed"
          ]
        },
        {
          "output_type": "stream",
          "name": "stdout",
          "text": [
            "Data fetched and stored for NOW\n"
          ]
        },
        {
          "output_type": "stream",
          "name": "stderr",
          "text": [
            "\n",
            "[*********************100%%**********************]  1 of 1 completed"
          ]
        },
        {
          "output_type": "stream",
          "name": "stdout",
          "text": [
            "Data fetched and stored for NXPI\n"
          ]
        },
        {
          "output_type": "stream",
          "name": "stderr",
          "text": [
            "\n",
            "[*********************100%%**********************]  1 of 1 completed"
          ]
        },
        {
          "output_type": "stream",
          "name": "stdout",
          "text": [
            "Data fetched and stored for OKTA\n"
          ]
        },
        {
          "output_type": "stream",
          "name": "stderr",
          "text": [
            "\n",
            "[*********************100%%**********************]  1 of 1 completed"
          ]
        },
        {
          "output_type": "stream",
          "name": "stdout",
          "text": [
            "Data fetched and stored for PAYC\n"
          ]
        },
        {
          "output_type": "stream",
          "name": "stderr",
          "text": [
            "\n"
          ]
        },
        {
          "output_type": "stream",
          "name": "stdout",
          "text": [
            "Data fetched and stored for PDD\n"
          ]
        },
        {
          "output_type": "stream",
          "name": "stderr",
          "text": [
            "[*********************100%%**********************]  1 of 1 completed\n",
            "[*********************100%%**********************]  1 of 1 completed"
          ]
        },
        {
          "output_type": "stream",
          "name": "stdout",
          "text": [
            "Data fetched and stored for POOL\n"
          ]
        },
        {
          "output_type": "stream",
          "name": "stderr",
          "text": [
            "\n",
            "[*********************100%%**********************]  1 of 1 completed\n"
          ]
        },
        {
          "output_type": "stream",
          "name": "stdout",
          "text": [
            "Data fetched and stored for PTC\n"
          ]
        },
        {
          "output_type": "stream",
          "name": "stderr",
          "text": [
            "\r[*********************100%%**********************]  1 of 1 completed"
          ]
        },
        {
          "output_type": "stream",
          "name": "stdout",
          "text": [
            "Data fetched and stored for PYPL\n"
          ]
        },
        {
          "output_type": "stream",
          "name": "stderr",
          "text": [
            "\n"
          ]
        },
        {
          "output_type": "stream",
          "name": "stdout",
          "text": [
            "Data fetched and stored for REGN\n"
          ]
        },
        {
          "output_type": "stream",
          "name": "stderr",
          "text": [
            "[*********************100%%**********************]  1 of 1 completed\n",
            "[*********************100%%**********************]  1 of 1 completed"
          ]
        },
        {
          "output_type": "stream",
          "name": "stdout",
          "text": [
            "Data fetched and stored for ROST\n"
          ]
        },
        {
          "output_type": "stream",
          "name": "stderr",
          "text": [
            "\n"
          ]
        },
        {
          "output_type": "stream",
          "name": "stdout",
          "text": [
            "Data fetched and stored for SPLK\n"
          ]
        },
        {
          "output_type": "stream",
          "name": "stderr",
          "text": [
            "\r[*********************100%%**********************]  1 of 1 completed\n"
          ]
        },
        {
          "output_type": "stream",
          "name": "stdout",
          "text": [
            "Data fetched and stored for SWKS\n"
          ]
        },
        {
          "output_type": "stream",
          "name": "stderr",
          "text": [
            "[*********************100%%**********************]  1 of 1 completed\n",
            "[*********************100%%**********************]  1 of 1 completed"
          ]
        },
        {
          "output_type": "stream",
          "name": "stdout",
          "text": [
            "Data fetched and stored for TTWO\n"
          ]
        },
        {
          "output_type": "stream",
          "name": "stderr",
          "text": [
            "\n",
            "[*********************100%%**********************]  1 of 1 completed"
          ]
        },
        {
          "output_type": "stream",
          "name": "stdout",
          "text": [
            "Data fetched and stored for TYL\n"
          ]
        },
        {
          "output_type": "stream",
          "name": "stderr",
          "text": [
            "\n",
            "[*********************100%%**********************]  1 of 1 completed"
          ]
        },
        {
          "output_type": "stream",
          "name": "stdout",
          "text": [
            "Data fetched and stored for VRSK\n"
          ]
        },
        {
          "output_type": "stream",
          "name": "stderr",
          "text": [
            "\n",
            "[*********************100%%**********************]  1 of 1 completed"
          ]
        },
        {
          "output_type": "stream",
          "name": "stdout",
          "text": [
            "Data fetched and stored for VRSN\n"
          ]
        },
        {
          "output_type": "stream",
          "name": "stderr",
          "text": [
            "\n",
            "[*********************100%%**********************]  1 of 1 completed"
          ]
        },
        {
          "output_type": "stream",
          "name": "stdout",
          "text": [
            "Data fetched and stored for WDAY\n"
          ]
        },
        {
          "output_type": "stream",
          "name": "stderr",
          "text": [
            "\n",
            "[*********************100%%**********************]  1 of 1 completed"
          ]
        },
        {
          "output_type": "stream",
          "name": "stdout",
          "text": [
            "Data fetched and stored for WIX\n"
          ]
        },
        {
          "output_type": "stream",
          "name": "stderr",
          "text": [
            "\n",
            "[*********************100%%**********************]  1 of 1 completed"
          ]
        },
        {
          "output_type": "stream",
          "name": "stdout",
          "text": [
            "Data fetched and stored for ZBRA\n",
            "\n",
            "Stock: AAPL\n",
            "\n"
          ]
        },
        {
          "output_type": "stream",
          "name": "stderr",
          "text": [
            "\n",
            "\r[*********************100%%**********************]  1 of 1 completed\n"
          ]
        },
        {
          "output_type": "stream",
          "name": "stdout",
          "text": [
            "                  Open        High         Low       Close     Volume\n",
            "Date                                                                 \n",
            "2020-01-02   74.059998   75.150002   73.797501   75.087502  135480400\n",
            "2020-01-03   74.287498   75.144997   74.125000   74.357498  146322800\n",
            "2020-01-06   73.447502   74.989998   73.187500   74.949997  118387200\n",
            "2020-01-07   74.959999   75.224998   74.370003   74.597504  108872000\n",
            "2020-01-08   74.290001   76.110001   74.290001   75.797501  132079200\n",
            "...                ...         ...         ...         ...        ...\n",
            "2024-04-17  169.610001  170.649994  168.000000  168.000000   50901200\n",
            "2024-04-18  168.029999  168.639999  166.550003  167.039993   43122900\n",
            "2024-04-19  166.210007  166.399994  164.080002  165.000000   67772100\n",
            "2024-04-22  165.520004  167.259995  164.770004  165.839996   48116400\n",
            "2024-04-23  165.350006  167.050003  164.919998  166.899994   49537800\n",
            "\n",
            "[1084 rows x 5 columns]\n",
            "\n",
            "Stock: MSFT\n",
            "\n",
            "                  Open        High         Low       Close    Volume\n",
            "Date                                                                \n",
            "2020-01-02  158.779999  160.729996  158.330002  160.619995  22622100\n",
            "2020-01-03  158.320007  159.949997  158.059998  158.619995  21116200\n",
            "2020-01-06  157.080002  159.100006  156.509995  159.029999  20813700\n",
            "2020-01-07  159.320007  159.669998  157.320007  157.580002  21634100\n",
            "2020-01-08  158.929993  160.800003  157.949997  160.089996  27746500\n",
            "...                ...         ...         ...         ...       ...\n",
            "2024-04-17  417.250000  418.880005  410.329987  411.839996  15855500\n",
            "2024-04-18  410.630005  411.890015  403.950012  404.269989  21029900\n",
            "2024-04-19  404.029999  405.480011  397.769989  399.119995  30276500\n",
            "2024-04-22  400.079987  402.850006  395.750000  400.959991  20286900\n",
            "2024-04-23  404.239990  408.200012  403.059998  407.570007  15734500\n",
            "\n",
            "[1084 rows x 5 columns]\n"
          ]
        },
        {
          "output_type": "stream",
          "name": "stderr",
          "text": [
            "[*********************100%%**********************]  1 of 1 completed\n",
            "[*********************100%%**********************]  1 of 1 completed\n"
          ]
        },
        {
          "output_type": "stream",
          "name": "stdout",
          "text": [
            "\n",
            "Stock: AMZN\n",
            "\n",
            "                  Open        High         Low       Close    Volume\n",
            "Date                                                                \n",
            "2020-01-02   93.750000   94.900497   93.207497   94.900497  80580000\n",
            "2020-01-03   93.224998   94.309998   93.224998   93.748497  75288000\n",
            "2020-01-06   93.000000   95.184502   93.000000   95.143997  81236000\n",
            "2020-01-07   95.224998   95.694504   94.601997   95.343002  80898000\n",
            "2020-01-08   94.902000   95.550003   94.321999   94.598503  70160000\n",
            "...                ...         ...         ...         ...       ...\n",
            "2024-04-17  184.309998  184.570007  179.820007  181.279999  31359700\n",
            "2024-04-18  181.470001  182.389999  178.649994  179.220001  30723800\n",
            "2024-04-19  178.740005  179.000000  173.440002  174.630005  55950000\n",
            "2024-04-22  176.940002  178.869995  174.559998  177.229996  37924900\n",
            "2024-04-23  178.080002  179.929993  175.979996  179.539993  37046500\n",
            "\n",
            "[1084 rows x 5 columns]\n",
            "\n",
            "Stock: GOOGL\n",
            "\n",
            "                  Open        High         Low       Close    Volume\n",
            "Date                                                                \n",
            "2020-01-02   67.420502   68.433998   67.324501   68.433998  27278000\n",
            "2020-01-03   67.400002   68.687500   67.365997   68.075996  23408000\n",
            "2020-01-06   67.581497   69.916000   67.550003   69.890503  46768000\n",
            "2020-01-07   70.023003   70.175003   69.578003   69.755501  34330000\n",
            "2020-01-08   69.740997   70.592499   69.631500   70.251999  35314000\n",
            "...                ...         ...         ...         ...       ...\n",
            "2024-04-17  155.619995  157.080002  154.580002  155.470001  21763100\n",
            "2024-04-18  155.339996  156.940002  154.619995  156.009995  19883000\n",
            "2024-04-19  156.199997  156.360001  152.300003  154.089996  32239100\n",
            "2024-04-22  154.309998  157.639999  154.059998  156.279999  26446200\n",
            "2024-04-23  156.960007  158.970001  156.279999  158.259995  21151600\n",
            "\n",
            "[1084 rows x 5 columns]\n"
          ]
        },
        {
          "output_type": "stream",
          "name": "stderr",
          "text": [
            "\r[*********************100%%**********************]  1 of 1 completed\n"
          ]
        },
        {
          "output_type": "stream",
          "name": "stdout",
          "text": [
            "\n",
            "Stock: TSLA\n",
            "\n",
            "                  Open        High         Low       Close     Volume\n",
            "Date                                                                 \n",
            "2020-01-02   28.299999   28.713333   28.114000   28.684000  142981500\n",
            "2020-01-03   29.366667   30.266666   29.128000   29.534000  266677500\n",
            "2020-01-06   29.364668   30.104000   29.333332   30.102667  151995000\n",
            "2020-01-07   30.760000   31.441999   30.224001   31.270666  268231500\n",
            "2020-01-08   31.580000   33.232666   31.215334   32.809334  467164500\n",
            "...                ...         ...         ...         ...        ...\n",
            "2024-04-17  157.639999  158.330002  153.779999  155.449997   82439700\n",
            "2024-04-18  151.250000  152.199997  148.699997  149.929993   96098800\n",
            "2024-04-19  148.970001  150.940002  146.220001  147.050003   86005100\n",
            "2024-04-22  140.559998  144.440002  138.800003  142.050003  107097600\n",
            "2024-04-23  143.330002  147.259995  141.110001  144.679993  124545100\n",
            "\n",
            "[1084 rows x 5 columns]\n"
          ]
        },
        {
          "output_type": "stream",
          "name": "stderr",
          "text": [
            "\r[*********************100%%**********************]  1 of 1 completed\n",
            "ERROR:yfinance:\n",
            "1 Failed download:\n",
            "ERROR:yfinance:['FB']: Exception('%ticker%: No timezone found, symbol may be delisted')\n",
            "[*********************100%%**********************]  1 of 1 completed\n",
            "[*********************100%%**********************]  1 of 1 completed\n"
          ]
        },
        {
          "output_type": "stream",
          "name": "stdout",
          "text": [
            "No data found for FB\n",
            "\n",
            "Stock: BRK-A\n",
            "\n",
            "                Open      High       Low     Close  Volume\n",
            "Date                                                      \n",
            "2020-01-02  341150.0  342261.0  340065.0  342261.0     400\n",
            "2020-01-03  338207.0  341040.0  337755.0  339155.0     200\n",
            "2020-01-06  337750.0  340340.0  337100.0  340210.0     300\n",
            "2020-01-07  340000.0  340000.0  338200.0  338901.0     300\n",
            "2020-01-08  339450.0  341580.0  338850.0  339188.0     200\n",
            "...              ...       ...       ...       ...     ...\n",
            "2024-04-17  600651.0  602900.0  596000.0  600300.0   12800\n",
            "2024-04-18  601345.0  607875.0  598311.0  604144.0   12200\n",
            "2024-04-19  604381.0  611244.0  602661.0  611244.0   13400\n",
            "2024-04-22  616550.0  619765.0  611521.0  617284.0   18100\n",
            "2024-04-23  619780.0  622139.0  608251.0  615175.0   13100\n",
            "\n",
            "[1084 rows x 5 columns]\n",
            "\n",
            "Stock: BRK-B\n",
            "\n",
            "                  Open        High         Low       Close   Volume\n",
            "Date                                                               \n",
            "2020-01-02  227.509995  228.389999  226.710007  228.389999  3764000\n",
            "2020-01-03  225.690002  227.429993  225.479996  226.179993  3023900\n",
            "2020-01-06  224.990005  227.130005  224.699997  226.990005  4263000\n",
            "2020-01-07  227.259995  227.259995  225.440002  225.919998  3517000\n",
            "2020-01-08  226.029999  227.839996  225.869995  225.990005  3780300\n",
            "...                ...         ...         ...         ...      ...\n",
            "2024-04-17  398.940002  399.279999  395.660004  397.739990  2465600\n",
            "2024-04-18  399.700012  402.989990  399.100006  399.890015  2669500\n",
            "2024-04-19  401.040009  405.570007  400.170013  405.079987  3996100\n",
            "2024-04-22  406.839996  411.350006  406.250000  408.779999  2980600\n",
            "2024-04-23  410.250000  410.720001  405.640015  408.739990  2287600\n",
            "\n",
            "[1084 rows x 5 columns]\n"
          ]
        },
        {
          "output_type": "stream",
          "name": "stderr",
          "text": [
            "[*********************100%%**********************]  1 of 1 completed\n",
            "[*********************100%%**********************]  1 of 1 completed\n"
          ]
        },
        {
          "output_type": "stream",
          "name": "stdout",
          "text": [
            "\n",
            "Stock: JNJ\n",
            "\n",
            "                  Open        High         Low       Close    Volume\n",
            "Date                                                                \n",
            "2020-01-02  145.869995  146.020004  145.080002  145.970001   5777000\n",
            "2020-01-03  143.500000  145.369995  143.000000  144.279999   5752400\n",
            "2020-01-06  144.000000  144.199997  142.850006  144.100006   7731300\n",
            "2020-01-07  144.009995  145.449997  141.380005  144.979996   7382900\n",
            "2020-01-08  144.869995  145.979996  143.699997  144.960007   6605800\n",
            "...                ...         ...         ...         ...       ...\n",
            "2024-04-17  145.000000  145.410004  143.539993  144.770004   9378100\n",
            "2024-04-18  144.979996  145.800003  143.130005  145.740005   9887700\n",
            "2024-04-19  146.149994  148.130005  144.539993  147.910004   9747700\n",
            "2024-04-22  148.509995  150.270004  147.300003  149.119995  10118700\n",
            "2024-04-23  149.860001  150.490005  148.199997  149.559998  10110400\n",
            "\n",
            "[1084 rows x 5 columns]\n",
            "\n",
            "Stock: JPM\n",
            "\n",
            "                  Open        High         Low       Close    Volume\n",
            "Date                                                                \n",
            "2020-01-02  139.789993  141.100006  139.259995  141.089996  10803700\n",
            "2020-01-03  137.500000  139.229996  137.080002  138.339996  10386800\n",
            "2020-01-06  136.559998  138.270004  136.500000  138.229996  10259000\n",
            "2020-01-07  137.279999  137.860001  135.820007  135.880005  10531300\n",
            "2020-01-08  135.699997  137.580002  135.600006  136.940002   9695300\n",
            "...                ...         ...         ...         ...       ...\n",
            "2024-04-17  181.369995  182.419998  179.199997  180.080002   9017100\n",
            "2024-04-18  181.100006  183.360001  179.970001  181.250000   9557700\n",
            "2024-04-19  182.399994  185.880005  181.410004  185.800003  13380200\n",
            "2024-04-22  185.990005  190.130005  185.979996  189.410004  11529700\n",
            "2024-04-23  191.130005  192.229996  190.520004  192.139999   9144400\n",
            "\n",
            "[1084 rows x 5 columns]\n"
          ]
        },
        {
          "output_type": "stream",
          "name": "stderr",
          "text": [
            "[*********************100%%**********************]  1 of 1 completed\n",
            "[*********************100%%**********************]  1 of 1 completed\n"
          ]
        },
        {
          "output_type": "stream",
          "name": "stdout",
          "text": [
            "\n",
            "Stock: V\n",
            "\n",
            "                  Open        High         Low       Close    Volume\n",
            "Date                                                                \n",
            "2020-01-02  189.000000  191.139999  188.720001  191.119995   8733000\n",
            "2020-01-03  188.410004  190.960007  187.919998  189.600006   4899700\n",
            "2020-01-06  188.000000  189.210007  187.160004  189.190002  10109500\n",
            "2020-01-07  189.589996  190.100006  188.600006  188.690002   4392300\n",
            "2020-01-08  189.490005  192.500000  188.800003  191.919998   5712000\n",
            "...                ...         ...         ...         ...       ...\n",
            "2024-04-17  273.299988  274.000000  271.500000  272.690002   5940900\n",
            "2024-04-18  272.570007  273.149994  269.859985  271.369995   8231800\n",
            "2024-04-19  271.470001  272.000000  268.290009  269.779999   7826200\n",
            "2024-04-22  270.950012  273.760010  269.359985  272.329987   6463700\n",
            "2024-04-23  274.010010  274.890015  272.709991  274.109985   6438000\n",
            "\n",
            "[1084 rows x 5 columns]\n",
            "\n",
            "Stock: NVDA\n",
            "\n",
            "                  Open        High         Low       Close    Volume\n",
            "Date                                                                \n",
            "2020-01-02   59.687500   59.977501   59.180000   59.977501  23753600\n",
            "2020-01-03   58.775002   59.457500   58.525002   59.017502  20538400\n",
            "2020-01-06   58.080002   59.317501   57.817501   59.264999  26263600\n",
            "2020-01-07   59.549999   60.442501   59.097500   59.982498  31485600\n",
            "2020-01-08   59.939999   60.509998   59.537498   60.095001  27710800\n",
            "...                ...         ...         ...         ...       ...\n",
            "2024-04-17  883.400024  887.750000  839.500000  840.349976  49540000\n",
            "2024-04-18  849.700012  861.900024  824.020020  846.710022  44726000\n",
            "2024-04-19  831.500000  843.239990  756.059998  762.000000  87190500\n",
            "2024-04-22  781.039978  800.729980  764.000000  795.179993  59634100\n",
            "2024-04-23  807.690002  827.690002  802.640015  824.229980  43855900\n",
            "\n",
            "[1084 rows x 5 columns]\n"
          ]
        },
        {
          "output_type": "stream",
          "name": "stderr",
          "text": [
            "[*********************100%%**********************]  1 of 1 completed\n",
            "[*********************100%%**********************]  1 of 1 completed\n"
          ]
        },
        {
          "output_type": "stream",
          "name": "stdout",
          "text": [
            "\n",
            "Stock: PG\n",
            "\n",
            "                  Open        High         Low       Close    Volume\n",
            "Date                                                                \n",
            "2020-01-02  124.500000  124.730003  122.940002  123.410004   8130800\n",
            "2020-01-03  122.160004  123.529999  121.860001  122.580002   7970500\n",
            "2020-01-06  122.570000  123.190002  122.379997  122.750000   6674400\n",
            "2020-01-07  122.879997  123.209999  121.870003  121.989998   7583400\n",
            "2020-01-08  122.190002  123.430000  122.000000  122.510002   5385100\n",
            "...                ...         ...         ...         ...       ...\n",
            "2024-04-17  156.300003  157.119995  155.740005  156.960007   6621900\n",
            "2024-04-18  156.339996  157.630005  155.960007  157.289993   7819300\n",
            "2024-04-19  154.979996  158.179993  153.520004  158.139999  12028400\n",
            "2024-04-22  158.429993  161.289993  157.250000  160.539993   8926300\n",
            "2024-04-23  161.679993  162.100006  160.419998  161.500000   7707300\n",
            "\n",
            "[1084 rows x 5 columns]\n",
            "\n",
            "Stock: UNH\n",
            "\n",
            "                  Open        High         Low       Close   Volume\n",
            "Date                                                               \n",
            "2020-01-02  293.980011  295.700012  289.790009  292.500000  2543400\n",
            "2020-01-03  287.269989  291.880005  284.359985  289.540009  2711400\n",
            "2020-01-06  288.000000  291.660004  287.220001  291.549988  3079100\n",
            "2020-01-07  290.700012  291.489990  287.579987  289.790009  2492900\n",
            "2020-01-08  291.500000  297.380005  290.040009  295.899994  3379200\n",
            "...                ...         ...         ...         ...      ...\n",
            "2024-04-17  478.600006  488.000000  474.589996  478.989990  8759800\n",
            "2024-04-18  486.130005  502.000000  485.970001  493.179993  8880400\n",
            "2024-04-19  497.000000  507.299988  495.559998  501.130005  6616000\n",
            "2024-04-22  497.779999  499.420013  490.640015  491.230011  4697700\n",
            "2024-04-23  491.000000  494.309998  484.970001  486.179993  3646700\n",
            "\n",
            "[1084 rows x 5 columns]\n"
          ]
        },
        {
          "output_type": "stream",
          "name": "stderr",
          "text": [
            "\r[*********************100%%**********************]  1 of 1 completed\n"
          ]
        },
        {
          "output_type": "stream",
          "name": "stdout",
          "text": [
            "\n",
            "Stock: HD\n",
            "\n",
            "                  Open        High         Low       Close   Volume\n",
            "Date                                                               \n",
            "2020-01-02  219.080002  219.759995  217.839996  219.660004  3935700\n",
            "2020-01-03  217.139999  219.679993  216.750000  218.929993  3423200\n",
            "2020-01-06  216.490005  220.000000  216.399994  219.960007  5682800\n",
            "2020-01-07  219.500000  220.559998  216.899994  218.520004  5685400\n",
            "2020-01-08  218.800003  222.970001  218.669998  221.789993  4916200\n",
            "...                ...         ...         ...         ...      ...\n",
            "2024-04-17  336.779999  337.250000  331.940002  332.829987  4273800\n",
            "2024-04-18  335.649994  336.950012  331.329987  332.890015  3717300\n",
            "2024-04-19  334.709991  335.869995  332.579987  335.359985  3076100\n",
            "2024-04-22  338.220001  339.450012  333.709991  336.109985  3112800\n",
            "2024-04-23  338.000000  340.190002  336.290009  339.000000  3697400\n",
            "\n",
            "[1084 rows x 5 columns]\n"
          ]
        },
        {
          "output_type": "stream",
          "name": "stderr",
          "text": [
            "[*********************100%%**********************]  1 of 1 completed\n",
            "[*********************100%%**********************]  1 of 1 completed\n"
          ]
        },
        {
          "output_type": "stream",
          "name": "stdout",
          "text": [
            "\n",
            "Stock: MA\n",
            "\n",
            "                  Open        High         Low       Close   Volume\n",
            "Date                                                               \n",
            "2020-01-02  300.459991  303.529999  299.500000  303.390015  3272400\n",
            "2020-01-03  299.459991  302.420013  298.600006  300.429993  2501300\n",
            "2020-01-06  297.359985  301.329987  296.019989  301.230011  3307200\n",
            "2020-01-07  301.739990  303.380005  299.880005  300.209991  3182000\n",
            "2020-01-08  300.779999  306.950012  300.510010  305.100006  3224400\n",
            "...                ...         ...         ...         ...      ...\n",
            "2024-04-17  462.769989  463.410004  458.149994  460.160004  1735000\n",
            "2024-04-18  460.500000  461.910004  453.799988  454.700012  1998900\n",
            "2024-04-19  458.890015  459.859985  452.589996  455.390015  2546300\n",
            "2024-04-22  457.500000  460.739990  455.130005  456.750000  2157400\n",
            "2024-04-23  458.480011  462.980011  457.309998  462.820007  2029100\n",
            "\n",
            "[1084 rows x 5 columns]\n",
            "\n",
            "Stock: PYPL\n",
            "\n",
            "                  Open        High         Low       Close    Volume\n",
            "Date                                                                \n",
            "2020-01-02  109.470001  111.209999  109.275002  110.750000   7418800\n",
            "2020-01-03  109.489998  110.419998  108.760002  108.760002   7098300\n",
            "2020-01-06  107.570000  110.220001  107.440002  110.169998   6764500\n",
            "2020-01-07  111.500000  111.559998  109.529999  109.669998   6898700\n",
            "2020-01-08  110.400002  112.639999  109.820000  111.820000   8293600\n",
            "...                ...         ...         ...         ...       ...\n",
            "2024-04-17   63.779999   63.970001   62.580002   63.259998   8000900\n",
            "2024-04-18   63.849998   64.029999   61.950001   62.099998   9240000\n",
            "2024-04-19   62.000000   62.459999   61.724998   62.310001  13118800\n",
            "2024-04-22   63.040001   63.634998   62.480000   63.189999   9958200\n",
            "2024-04-23   63.380001   64.699997   63.200001   64.430000   9913000\n",
            "\n",
            "[1084 rows x 5 columns]\n"
          ]
        },
        {
          "output_type": "stream",
          "name": "stderr",
          "text": [
            "\r[*********************100%%**********************]  1 of 1 completed\n"
          ]
        },
        {
          "output_type": "stream",
          "name": "stdout",
          "text": [
            "\n",
            "Stock: BAC\n",
            "\n",
            "                 Open       High        Low      Close    Volume\n",
            "Date                                                            \n",
            "2020-01-02  35.349998  35.660000  35.290001  35.639999  37614200\n",
            "2020-01-03  34.980000  35.150002  34.759998  34.900002  50357900\n",
            "2020-01-06  34.410000  34.900002  34.369999  34.849998  42185000\n",
            "2020-01-07  34.700001  34.919998  34.529999  34.619999  34149000\n",
            "2020-01-08  34.570000  35.189999  34.549999  34.970001  45311600\n",
            "...               ...        ...        ...        ...       ...\n",
            "2024-04-17  34.889999  35.750000  34.750000  35.230000  65951400\n",
            "2024-04-18  35.540001  35.990002  35.180000  35.770000  44506200\n",
            "2024-04-19  36.099998  37.119999  36.060001  36.970001  56240900\n",
            "2024-04-22  37.000000  37.910000  36.869999  37.730000  43867100\n",
            "2024-04-23  37.939999  38.419998  37.830002  38.369999  39180300\n",
            "\n",
            "[1084 rows x 5 columns]\n"
          ]
        },
        {
          "output_type": "stream",
          "name": "stderr",
          "text": [
            "\r[*********************100%%**********************]  1 of 1 completed\n"
          ]
        },
        {
          "output_type": "stream",
          "name": "stdout",
          "text": [
            "\n",
            "Stock: INTC\n",
            "\n",
            "                 Open       High        Low      Close    Volume\n",
            "Date                                                            \n",
            "2020-01-02  60.240002  60.970001  60.220001  60.840000  18056000\n",
            "2020-01-03  59.810001  60.700001  59.810001  60.099998  15293900\n",
            "2020-01-06  59.590000  60.200001  59.330002  59.930000  17755200\n",
            "2020-01-07  59.779999  59.799999  58.889999  58.930000  21876100\n",
            "2020-01-08  58.889999  59.320000  58.520000  58.970001  23133500\n",
            "...               ...        ...        ...        ...       ...\n",
            "2024-04-17  36.099998  36.130001  35.369999  35.680000  41173300\n",
            "2024-04-18  35.419998  35.660000  34.770000  35.040001  42334400\n",
            "2024-04-19  35.130001  35.130001  34.180000  34.200001  58968800\n",
            "2024-04-22  34.419998  34.570000  34.080002  34.410000  39909900\n",
            "2024-04-23  34.340000  34.599998  34.180000  34.279999  46834000\n",
            "\n",
            "[1084 rows x 5 columns]\n"
          ]
        },
        {
          "output_type": "stream",
          "name": "stderr",
          "text": [
            "[*********************100%%**********************]  1 of 1 completed\n",
            "[*********************100%%**********************]  1 of 1 completed\n"
          ]
        },
        {
          "output_type": "stream",
          "name": "stdout",
          "text": [
            "\n",
            "Stock: DIS\n",
            "\n",
            "                  Open        High         Low       Close   Volume\n",
            "Date                                                               \n",
            "2020-01-02  145.289993  148.199997  145.100006  148.199997  9502100\n",
            "2020-01-03  146.399994  147.899994  146.050003  146.500000  7320200\n",
            "2020-01-06  145.539993  146.029999  144.309998  145.649994  8262500\n",
            "2020-01-07  145.990005  146.869995  145.419998  145.699997  6906500\n",
            "2020-01-08  145.490005  146.130005  144.820007  145.399994  6984200\n",
            "...                ...         ...         ...         ...      ...\n",
            "2024-04-17  114.000000  114.209999  112.889999  112.940002  7379000\n",
            "2024-04-18  113.180000  114.250000  112.190002  112.430000  8235600\n",
            "2024-04-19  111.720001  112.720001  111.080002  112.610001  9407800\n",
            "2024-04-22  113.099998  113.639999  111.750000  111.989998  6901700\n",
            "2024-04-23  112.830002  114.239998  112.800003  113.709999  6839300\n",
            "\n",
            "[1084 rows x 5 columns]\n",
            "\n",
            "Stock: CMCSA\n",
            "\n",
            "                 Open       High        Low      Close    Volume\n",
            "Date                                                            \n",
            "2020-01-02  45.360001  45.400002  44.930000  45.369999  20170500\n",
            "2020-01-03  44.830002  45.220001  44.570000  45.009998  20496400\n",
            "2020-01-06  44.660000  44.869999  44.549999  44.669998  17628200\n",
            "2020-01-07  44.250000  45.009998  44.220001  44.930000  24563700\n",
            "2020-01-08  44.939999  45.570000  44.759998  45.389999  18097400\n",
            "...               ...        ...        ...        ...       ...\n",
            "2024-04-17  39.310001  39.419998  38.880001  38.990002  20450100\n",
            "2024-04-18  39.349998  39.689999  39.130001  39.619999  15684700\n",
            "2024-04-19  39.709999  40.299999  39.570000  40.240002  24227500\n",
            "2024-04-22  40.480000  40.700001  39.959999  40.570000  24644700\n",
            "2024-04-23  40.450001  41.119999  40.310001  40.360001  15324900\n",
            "\n",
            "[1084 rows x 5 columns]\n"
          ]
        },
        {
          "output_type": "stream",
          "name": "stderr",
          "text": [
            "[*********************100%%**********************]  1 of 1 completed\n",
            "[*********************100%%**********************]  1 of 1 completed\n"
          ]
        },
        {
          "output_type": "stream",
          "name": "stdout",
          "text": [
            "\n",
            "Stock: ADBE\n",
            "\n",
            "                  Open        High         Low       Close   Volume\n",
            "Date                                                               \n",
            "2020-01-02  330.000000  334.480011  329.170013  334.429993  1990100\n",
            "2020-01-03  329.170013  332.980011  328.690002  331.809998  1577600\n",
            "2020-01-06  328.290009  333.910004  328.190002  333.709991  1874700\n",
            "2020-01-07  334.149994  334.790009  332.309998  333.390015  2500800\n",
            "2020-01-08  333.809998  339.230011  333.399994  337.869995  2248500\n",
            "...                ...         ...         ...         ...      ...\n",
            "2024-04-17  477.309998  481.019989  472.690002  474.450012  2034800\n",
            "2024-04-18  476.760010  477.609985  471.829987  473.179993  2389700\n",
            "2024-04-19  476.540009  476.579987  463.089996  465.019989  3280600\n",
            "2024-04-22  470.220001  471.500000  462.279999  466.890015  2604300\n",
            "2024-04-23  469.720001  474.809998  467.829987  472.899994  2205800\n",
            "\n",
            "[1084 rows x 5 columns]\n",
            "\n",
            "Stock: NFLX\n",
            "\n",
            "                  Open        High         Low       Close    Volume\n",
            "Date                                                                \n",
            "2020-01-02  326.100006  329.980011  324.779999  329.809998   4485800\n",
            "2020-01-03  326.779999  329.859985  325.529999  325.899994   3806900\n",
            "2020-01-06  323.119995  336.359985  321.200012  335.829987   5663100\n",
            "2020-01-07  336.470001  336.700012  330.299988  330.750000   4703200\n",
            "2020-01-08  331.489990  342.700012  331.049988  339.260010   7104500\n",
            "...                ...         ...         ...         ...       ...\n",
            "2024-04-17  620.969971  620.969971  607.710022  613.690002   3312200\n",
            "2024-04-18  612.099976  621.330017  605.429993  610.559998   8468400\n",
            "2024-04-19  567.880005  579.000000  552.159973  555.039978  16425000\n",
            "2024-04-22  550.659973  558.609985  542.010010  554.599976   8597700\n",
            "2024-04-23  556.489990  579.210022  555.280029  577.750000   4975500\n",
            "\n",
            "[1084 rows x 5 columns]\n"
          ]
        },
        {
          "output_type": "stream",
          "name": "stderr",
          "text": [
            "[*********************100%%**********************]  1 of 1 completed\n",
            "[*********************100%%**********************]  1 of 1 completed\n"
          ]
        },
        {
          "output_type": "stream",
          "name": "stdout",
          "text": [
            "\n",
            "Stock: VZ\n",
            "\n",
            "                 Open       High        Low      Close    Volume\n",
            "Date                                                            \n",
            "2020-01-02  61.380001  61.450001  60.810001  61.049999  11447900\n",
            "2020-01-03  60.590000  60.790001  60.070000  60.400002  13263200\n",
            "2020-01-06  60.110001  60.590000  60.080002  60.270000  15094500\n",
            "2020-01-07  60.099998  60.180000  59.580002  59.599998  14293100\n",
            "2020-01-08  59.669998  60.099998  59.630001  59.709999  15926500\n",
            "...               ...        ...        ...        ...       ...\n",
            "2024-04-17  39.849998  39.980000  39.459999  39.779999  21009200\n",
            "2024-04-18  39.849998  40.169998  39.709999  40.130001  20173700\n",
            "2024-04-19  40.000000  40.669998  39.980000  40.490002  24693500\n",
            "2024-04-22  41.400002  41.639999  38.560001  38.599998  51243200\n",
            "2024-04-23  38.910000  39.990002  38.680000  39.700001  25972800\n",
            "\n",
            "[1084 rows x 5 columns]\n",
            "\n",
            "Stock: TMO\n",
            "\n",
            "                  Open        High         Low       Close   Volume\n",
            "Date                                                               \n",
            "2020-01-02  326.000000  326.940002  322.570007  326.369995  1173300\n",
            "2020-01-03  321.480011  325.290009  321.329987  322.820007   819600\n",
            "2020-01-06  319.839996  325.329987  318.649994  325.140015  1010000\n",
            "2020-01-07  325.429993  329.239990  324.980011  326.980011   917700\n",
            "2020-01-08  326.179993  330.589996  325.220001  327.500000   939100\n",
            "...                ...         ...         ...         ...      ...\n",
            "2024-04-17  555.859985  556.000000  546.450012  547.250000  1610100\n",
            "2024-04-18  534.799988  544.869995  529.640015  541.520020  2075800\n",
            "2024-04-19  542.950012  546.140015  539.169983  544.780029  1738400\n",
            "2024-04-22  549.150024  552.859985  543.150024  548.380005  1522800\n",
            "2024-04-23  567.510010  576.890015  560.000000  574.590027  2544000\n",
            "\n",
            "[1084 rows x 5 columns]\n"
          ]
        },
        {
          "output_type": "stream",
          "name": "stderr",
          "text": [
            "[*********************100%%**********************]  1 of 1 completed\n",
            "[*********************100%%**********************]  1 of 1 completed\n"
          ]
        },
        {
          "output_type": "stream",
          "name": "stdout",
          "text": [
            "\n",
            "Stock: CRM\n",
            "\n",
            "                  Open        High         Low       Close   Volume\n",
            "Date                                                               \n",
            "2020-01-02  163.919998  167.070007  163.580002  166.990005  5189300\n",
            "2020-01-03  165.059998  166.770004  165.000000  166.169998  3205400\n",
            "2020-01-06  165.000000  173.669998  164.449997  173.449997  8836200\n",
            "2020-01-07  173.229996  176.869995  172.089996  176.000000  8272700\n",
            "2020-01-08  175.229996  178.850006  174.750000  177.330002  7225100\n",
            "...                ...         ...         ...         ...      ...\n",
            "2024-04-17  277.739990  278.970001  274.839996  276.320007  4199400\n",
            "2024-04-18  276.320007  276.329987  269.750000  271.920013  5918200\n",
            "2024-04-19  272.489990  273.149994  268.730011  270.369995  4903600\n",
            "2024-04-22  279.390015  279.700012  269.559998  273.809998  6747200\n",
            "2024-04-23  274.950012  276.700012  270.410004  276.679993  6285200\n",
            "\n",
            "[1084 rows x 5 columns]\n",
            "\n",
            "Stock: PEP\n",
            "\n",
            "                  Open        High         Low       Close   Volume\n",
            "Date                                                               \n",
            "2020-01-02  136.869995  137.229996  135.139999  135.820007  3784100\n",
            "2020-01-03  135.460007  136.789993  135.130005  135.630005  4000100\n",
            "2020-01-06  135.300003  136.320007  135.199997  136.149994  4085100\n",
            "2020-01-07  136.000000  136.070007  133.949997  134.009995  5718100\n",
            "2020-01-08  134.460007  135.360001  134.070007  134.699997  3681400\n",
            "...                ...         ...         ...         ...      ...\n",
            "2024-04-17  169.089996  169.699997  168.210007  169.479996  4069200\n",
            "2024-04-18  170.100006  172.679993  170.100006  172.270004  5574700\n",
            "2024-04-19  172.279999  174.270004  171.800003  174.130005  6636400\n",
            "2024-04-22  174.410004  177.199997  174.029999  176.460007  7288700\n",
            "2024-04-23  174.699997  174.880005  170.139999  171.220001  9145000\n",
            "\n",
            "[1084 rows x 5 columns]\n"
          ]
        },
        {
          "output_type": "stream",
          "name": "stderr",
          "text": [
            "[*********************100%%**********************]  1 of 1 completed\n",
            "[*********************100%%**********************]  1 of 1 completed\n"
          ]
        },
        {
          "output_type": "stream",
          "name": "stdout",
          "text": [
            "\n",
            "Stock: KO\n",
            "\n",
            "                 Open       High        Low      Close    Volume\n",
            "Date                                                            \n",
            "2020-01-02  55.320000  55.430000  54.759998  54.990002  11867700\n",
            "2020-01-03  54.320000  54.990002  54.090000  54.689999  11354500\n",
            "2020-01-06  54.650002  54.910000  54.520000  54.669998  14698300\n",
            "2020-01-07  54.450001  54.599998  54.150002  54.250000   9973900\n",
            "2020-01-08  54.270000  54.639999  54.150002  54.349998  10676000\n",
            "...               ...        ...        ...        ...       ...\n",
            "2024-04-17  58.279999  58.560001  58.099998  58.509998  13805100\n",
            "2024-04-18  58.619999  58.980000  58.540001  58.910000  11125900\n",
            "2024-04-19  59.099998  60.360001  59.000000  60.169998  21206200\n",
            "2024-04-22  60.139999  60.630001  59.720001  60.549999  15624500\n",
            "2024-04-23  60.529999  60.680000  60.130001  60.639999  13689100\n",
            "\n",
            "[1084 rows x 5 columns]\n",
            "\n",
            "Stock: ABT\n",
            "\n",
            "                  Open        High         Low       Close    Volume\n",
            "Date                                                                \n",
            "2020-01-02   86.059998   86.959999   85.800003   86.949997   4969000\n",
            "2020-01-03   85.750000   86.669998   85.589996   85.889999   4747000\n",
            "2020-01-06   85.620003   86.360001   85.209999   86.339996   5631700\n",
            "2020-01-07   85.769997   86.300003   85.540001   85.860001   3408100\n",
            "2020-01-08   86.239998   86.660004   85.930000   86.209999   5693900\n",
            "...                ...         ...         ...         ...       ...\n",
            "2024-04-17  107.529999  108.720001  104.250000  105.900002  12002900\n",
            "2024-04-18  106.500000  107.029999  104.470001  105.269997   7306400\n",
            "2024-04-19  105.980003  107.769997  105.379997  107.279999  10521800\n",
            "2024-04-22  107.480003  107.900002  106.269997  107.070000   4948300\n",
            "2024-04-23  107.669998  108.110001  107.309998  107.589996   3849600\n",
            "\n",
            "[1084 rows x 5 columns]\n"
          ]
        },
        {
          "output_type": "stream",
          "name": "stderr",
          "text": [
            "[*********************100%%**********************]  1 of 1 completed\n",
            "[*********************100%%**********************]  1 of 1 completed\n"
          ]
        },
        {
          "output_type": "stream",
          "name": "stdout",
          "text": [
            "\n",
            "Stock: MRK\n",
            "\n",
            "                  Open        High         Low       Close    Volume\n",
            "Date                                                                \n",
            "2020-01-02   86.908394   87.919846   86.230919   87.824425   8251428\n",
            "2020-01-03   86.526718   87.853050   86.364502   87.070610   5903698\n",
            "2020-01-06   87.051529   87.538170   86.822517   87.442749   7522963\n",
            "2020-01-07   86.641220   86.946564   85.038170   85.114502  11132275\n",
            "2020-01-08   85.009544   85.400764   84.360687   84.541985  15200506\n",
            "...                ...         ...         ...         ...       ...\n",
            "2024-04-17  125.669998  126.190002  124.709999  125.370003   6122800\n",
            "2024-04-18  125.519997  125.519997  124.500000  125.230003   5992700\n",
            "2024-04-19  125.650002  126.120003  124.889999  125.779999   8403100\n",
            "2024-04-22  126.709999  128.080002  126.220001  126.940002   7805800\n",
            "2024-04-23  128.100006  128.100006  126.739998  126.879997   7744000\n",
            "\n",
            "[1084 rows x 5 columns]\n",
            "\n",
            "Stock: CSCO\n",
            "\n",
            "                 Open       High        Low      Close    Volume\n",
            "Date                                                            \n",
            "2020-01-02  48.060001  48.419998  47.880001  48.419998  16708100\n",
            "2020-01-03  47.910000  48.139999  47.480000  47.630001  15577400\n",
            "2020-01-06  47.139999  47.820000  47.009998  47.799999  22183600\n",
            "2020-01-07  47.720001  47.720001  47.099998  47.490002  16501900\n",
            "2020-01-08  46.970001  47.790001  46.810001  47.520000  25175900\n",
            "...               ...        ...        ...        ...       ...\n",
            "2024-04-17  48.000000  48.279999  47.709999  47.790001  14407600\n",
            "2024-04-18  48.410000  48.410000  47.880001  48.110001  13080900\n",
            "2024-04-19  48.389999  48.430000  48.029999  48.320000  20962400\n",
            "2024-04-22  48.490002  48.590000  48.000000  48.139999  20135700\n",
            "2024-04-23  48.139999  48.459999  48.060001  48.320000  16261700\n",
            "\n",
            "[1084 rows x 5 columns]\n"
          ]
        },
        {
          "output_type": "stream",
          "name": "stderr",
          "text": [
            "\r[*********************100%%**********************]  1 of 1 completed\n"
          ]
        },
        {
          "output_type": "stream",
          "name": "stdout",
          "text": [
            "\n",
            "Stock: ACN\n",
            "\n",
            "                  Open        High         Low       Close   Volume\n",
            "Date                                                               \n",
            "2020-01-02  210.860001  211.919998  208.809998  210.149994  2431100\n",
            "2020-01-03  208.500000  210.630005  207.000000  209.800003  1802100\n",
            "2020-01-06  208.270004  208.789993  206.809998  208.429993  2841400\n",
            "2020-01-07  203.199997  206.259995  203.190002  203.929993  3097400\n",
            "2020-01-08  204.000000  205.449997  203.529999  204.330002  2271300\n",
            "...                ...         ...         ...         ...      ...\n",
            "2024-04-17  316.869995  317.019989  312.609985  314.540009  2760000\n",
            "2024-04-18  312.630005  317.769989  312.010010  316.000000  3025100\n",
            "2024-04-19  317.859985  318.549988  314.600006  316.880005  3381500\n",
            "2024-04-22  318.540009  319.059998  315.500000  317.420013  2433300\n",
            "2024-04-23  318.480011  319.809998  316.489990  316.829987  2000300\n",
            "\n",
            "[1084 rows x 5 columns]\n"
          ]
        },
        {
          "output_type": "stream",
          "name": "stderr",
          "text": [
            "[*********************100%%**********************]  1 of 1 completed\n",
            "[*********************100%%**********************]  1 of 1 completed\n"
          ]
        },
        {
          "output_type": "stream",
          "name": "stdout",
          "text": [
            "\n",
            "Stock: CVX\n",
            "\n",
            "                  Open        High         Low       Close   Volume\n",
            "Date                                                               \n",
            "2020-01-02  120.809998  121.629997  120.769997  121.430000  5205000\n",
            "2020-01-03  121.779999  122.720001  120.739998  121.010002  6360900\n",
            "2020-01-06  121.239998  121.669998  120.330002  120.599998  9953000\n",
            "2020-01-07  119.019997  119.730003  117.769997  119.059998  7856900\n",
            "2020-01-08  118.550003  119.089996  117.650002  117.699997  7295900\n",
            "...                ...         ...         ...         ...      ...\n",
            "2024-04-17  155.990005  157.710007  155.639999  156.399994  6733900\n",
            "2024-04-18  157.139999  158.039993  156.389999  157.570007  4979200\n",
            "2024-04-19  158.750000  160.750000  158.149994  160.000000  7733100\n",
            "2024-04-22  159.949997  162.699997  158.440002  161.919998  6779200\n",
            "2024-04-23  161.309998  162.850006  160.600006  162.850006  5597600\n",
            "\n",
            "[1084 rows x 5 columns]\n",
            "\n",
            "Stock: ABBV\n",
            "\n",
            "                  Open        High         Low       Close   Volume\n",
            "Date                                                               \n",
            "2020-01-02   89.080002   89.570000   88.510002   89.550003  5639200\n",
            "2020-01-03   88.169998   89.389999   87.900002   88.699997  5988500\n",
            "2020-01-06   88.220001   89.620003   87.980003   89.400002  6786600\n",
            "2020-01-07   88.930000   89.540001   88.260002   88.889999  7242500\n",
            "2020-01-08   89.150002   90.059998   88.870003   89.519997  7696800\n",
            "...                ...         ...         ...         ...      ...\n",
            "2024-04-17  164.149994  164.740005  163.229996  164.250000  4792200\n",
            "2024-04-18  164.960007  167.440002  164.429993  164.660004  4480100\n",
            "2024-04-19  165.020004  166.600006  163.250000  166.410004  5532400\n",
            "2024-04-22  167.679993  169.589996  166.919998  167.889999  5580700\n",
            "2024-04-23  168.589996  170.369995  168.220001  169.539993  4084100\n",
            "\n",
            "[1084 rows x 5 columns]\n"
          ]
        },
        {
          "output_type": "stream",
          "name": "stderr",
          "text": [
            "\r[*********************100%%**********************]  1 of 1 completed\n"
          ]
        },
        {
          "output_type": "stream",
          "name": "stdout",
          "text": [
            "\n",
            "Stock: NKE\n",
            "\n",
            "                  Open        High         Low       Close    Volume\n",
            "Date                                                                \n",
            "2020-01-02  101.360001  102.209999  101.019997  102.199997   5644100\n",
            "2020-01-03  100.589996  102.000000  100.309998  101.919998   4541800\n",
            "2020-01-06  100.949997  101.839996  100.870003  101.830002   4612400\n",
            "2020-01-07  101.809998  102.739998  100.809998  101.779999   6719900\n",
            "2020-01-08  101.309998  102.139999  100.849998  101.550003   4942200\n",
            "...                ...         ...         ...         ...       ...\n",
            "2024-04-17   94.610001   95.070000   93.660004   94.839996  10181200\n",
            "2024-04-18   95.160004   95.879997   94.529999   95.739998  10062900\n",
            "2024-04-19   95.419998   96.220001   94.489998   94.529999  11237600\n",
            "2024-04-22   94.629997   95.059998   93.849998   94.190002   8642000\n",
            "2024-04-23   94.370003   94.720001   93.910004   94.019997   6582700\n",
            "\n",
            "[1084 rows x 5 columns]\n"
          ]
        },
        {
          "output_type": "stream",
          "name": "stderr",
          "text": [
            "[*********************100%%**********************]  1 of 1 completed\n",
            "[*********************100%%**********************]  1 of 1 completed\n"
          ]
        },
        {
          "output_type": "stream",
          "name": "stdout",
          "text": [
            "\n",
            "Stock: XOM\n",
            "\n",
            "                  Open        High         Low       Close    Volume\n",
            "Date                                                                \n",
            "2020-01-02   70.239998   71.019997   70.239998   70.900002  12456400\n",
            "2020-01-03   71.339996   71.370003   70.160004   70.330002  17386900\n",
            "2020-01-06   70.320000   71.360001   70.230003   70.870003  20081900\n",
            "2020-01-07   70.500000   70.519997   69.510002   70.290001  17387700\n",
            "2020-01-08   70.110001   70.290001   69.169998   69.230003  15137700\n",
            "...                ...         ...         ...         ...       ...\n",
            "2024-04-17  118.550003  119.349998  117.120003  118.629997  14538600\n",
            "2024-04-18  119.000000  119.720001  117.970001  118.519997  13821400\n",
            "2024-04-19  119.160004  120.930000  118.949997  119.879997  21566500\n",
            "2024-04-22  119.260002  121.570000  118.430000  120.559998  16340700\n",
            "2024-04-23  120.000000  121.059998  119.449997  121.029999  13929800\n",
            "\n",
            "[1084 rows x 5 columns]\n",
            "\n",
            "Stock: WMT\n",
            "\n",
            "                 Open       High        Low      Close    Volume\n",
            "Date                                                            \n",
            "2020-01-02  39.619999  39.963333  39.566666  39.646667  20294700\n",
            "2020-01-03  39.423332  39.596668  39.196667  39.296665  16197600\n",
            "2020-01-06  39.133331  39.363335  38.923332  39.216667  19336500\n",
            "2020-01-07  39.086666  39.173332  38.733334  38.853333  20540700\n",
            "2020-01-08  38.766666  38.910000  38.560001  38.720001  17627400\n",
            "...               ...        ...        ...        ...       ...\n",
            "2024-04-17  60.150002  60.430000  59.570000  59.650002  15329700\n",
            "2024-04-18  59.830002  59.939999  59.220001  59.259998  12061500\n",
            "2024-04-19  59.450001  59.669998  58.970001  59.529999  14160200\n",
            "2024-04-22  59.560001  60.400002  59.040001  60.139999  14910000\n",
            "2024-04-23  60.250000  60.349998  58.560001  59.090000  17963900\n",
            "\n",
            "[1084 rows x 5 columns]\n"
          ]
        },
        {
          "output_type": "stream",
          "name": "stderr",
          "text": [
            "[*********************100%%**********************]  1 of 1 completed\n",
            "[*********************100%%**********************]  1 of 1 completed\n"
          ]
        },
        {
          "output_type": "stream",
          "name": "stdout",
          "text": [
            "\n",
            "Stock: TGT\n",
            "\n",
            "                  Open        High         Low       Close   Volume\n",
            "Date                                                               \n",
            "2020-01-02  128.740005  128.899994  125.260002  126.070000  5149800\n",
            "2020-01-03  124.660004  125.529999  123.930000  124.760002  5018500\n",
            "2020-01-06  123.970001  124.650002  123.220001  123.580002  4226900\n",
            "2020-01-07  123.000000  124.430000  123.000000  123.800003  3641600\n",
            "2020-01-08  124.050003  125.250000  123.339996  123.400002  5731600\n",
            "...                ...         ...         ...         ...      ...\n",
            "2024-04-17  166.759995  167.940002  163.869995  164.470001  3700200\n",
            "2024-04-18  165.720001  167.529999  165.089996  166.580002  3169500\n",
            "2024-04-19  167.330002  168.470001  166.770004  168.300003  3376600\n",
            "2024-04-22  168.759995  169.089996  166.029999  167.110001  2155500\n",
            "2024-04-23  167.639999  168.009995  166.100006  166.509995  1890300\n",
            "\n",
            "[1084 rows x 5 columns]\n",
            "\n",
            "Stock: BMY\n",
            "\n",
            "                 Open       High        Low      Close    Volume\n",
            "Date                                                            \n",
            "2020-01-02  63.849998  64.000000  63.139999  63.340000  13163700\n",
            "2020-01-03  62.610001  63.330002  62.549999  62.779999  12984600\n",
            "2020-01-06  62.900002  63.240002  62.669998  62.980000  11311400\n",
            "2020-01-07  62.840000  64.180000  62.770000  63.930000  15551700\n",
            "2020-01-08  64.050003  64.610001  63.860001  63.860001  18527000\n",
            "...               ...        ...        ...        ...       ...\n",
            "2024-04-17  48.439999  48.549999  47.700001  47.840000  11763100\n",
            "2024-04-18  47.930000  48.410000  47.619999  48.299999  10917600\n",
            "2024-04-19  48.209999  49.049999  48.119999  48.930000  10303900\n",
            "2024-04-22  49.000000  49.560001  48.869999  49.139999   7929500\n",
            "2024-04-23  49.160000  49.470001  48.959999  48.990002   9153300\n",
            "\n",
            "[1084 rows x 5 columns]\n"
          ]
        },
        {
          "output_type": "stream",
          "name": "stderr",
          "text": [
            "[*********************100%%**********************]  1 of 1 completed\n",
            "[*********************100%%**********************]  1 of 1 completed\n"
          ]
        },
        {
          "output_type": "stream",
          "name": "stdout",
          "text": [
            "\n",
            "Stock: LLY\n",
            "\n",
            "                  Open        High         Low       Close   Volume\n",
            "Date                                                               \n",
            "2020-01-02  131.770004  132.259995  130.729996  132.210007  2204200\n",
            "2020-01-03  130.300003  132.470001  130.229996  131.770004  1963500\n",
            "2020-01-06  131.419998  132.559998  130.940002  132.259995  2102900\n",
            "2020-01-07  131.699997  132.929993  131.699997  132.509995  2448300\n",
            "2020-01-08  132.460007  134.210007  132.009995  133.710007  5188600\n",
            "...                ...         ...         ...         ...      ...\n",
            "2024-04-17  759.200012  771.830017  744.880005  750.770020  3069400\n",
            "2024-04-18  749.419983  752.200012  743.770020  745.950012  1717300\n",
            "2024-04-19  749.159973  750.010010  722.070007  726.309998  3503900\n",
            "2024-04-22  729.739990  737.880005  725.419983  731.330017  2354100\n",
            "2024-04-23  741.200012  746.159973  731.440002  745.690002  2042000\n",
            "\n",
            "[1084 rows x 5 columns]\n",
            "\n",
            "Stock: HON\n",
            "\n",
            "                  Open        High         Low       Close   Volume\n",
            "Date                                                               \n",
            "2020-01-02  177.500000  180.800003  177.139999  180.789993  2857400\n",
            "2020-01-03  178.339996  179.830002  177.410004  178.860001  2805200\n",
            "2020-01-06  177.839996  178.380005  176.929993  177.509995  3277900\n",
            "2020-01-07  177.369995  178.070007  175.589996  177.610001  3002800\n",
            "2020-01-08  177.669998  179.100006  176.729996  177.759995  2545500\n",
            "...                ...         ...         ...         ...      ...\n",
            "2024-04-17  192.410004  192.520004  189.750000  190.360001  2424300\n",
            "2024-04-18  191.000000  192.300003  189.990005  191.080002  2143100\n",
            "2024-04-19  192.610001  194.529999  191.630005  194.259995  3569700\n",
            "2024-04-22  194.279999  196.300003  194.139999  195.580002  2366900\n",
            "2024-04-23  196.029999  197.610001  195.679993  196.160004  2557300\n",
            "\n",
            "[1084 rows x 5 columns]\n"
          ]
        },
        {
          "output_type": "stream",
          "name": "stderr",
          "text": [
            "[*********************100%%**********************]  1 of 1 completed\n",
            "[*********************100%%**********************]  1 of 1 completed\n"
          ]
        },
        {
          "output_type": "stream",
          "name": "stdout",
          "text": [
            "\n",
            "Stock: TXN\n",
            "\n",
            "                  Open        High         Low       Close    Volume\n",
            "Date                                                                \n",
            "2020-01-02  129.130005  129.610001  127.769997  129.570007   4614000\n",
            "2020-01-03  127.459999  129.250000  127.230003  127.849998   4057200\n",
            "2020-01-06  127.059998  127.330002  125.900002  126.959999   4345400\n",
            "2020-01-07  129.149994  130.899994  128.419998  129.410004   7184100\n",
            "2020-01-08  129.339996  130.570007  129.059998  129.759995   3546900\n",
            "...                ...         ...         ...         ...       ...\n",
            "2024-04-17  168.380005  168.979996  165.500000  165.699997   4564900\n",
            "2024-04-18  163.679993  164.679993  161.550003  163.669998   5605500\n",
            "2024-04-19  163.080002  164.419998  159.110001  159.679993  10496700\n",
            "2024-04-22  160.259995  164.139999  160.050003  163.429993   5942400\n",
            "2024-04-23  163.039993  166.899994  162.460007  165.470001   6833600\n",
            "\n",
            "[1084 rows x 5 columns]\n",
            "\n",
            "Stock: DHR\n",
            "\n",
            "                  Open        High         Low       Close   Volume\n",
            "Date                                                               \n",
            "2020-01-02  136.489365  137.624115  135.753540  137.508865  2915993\n",
            "2020-01-03  136.019501  137.686172  135.132980  136.657806  2627112\n",
            "2020-01-06  136.037231  137.198578  135.868790  137.065598  3101323\n",
            "2020-01-07  137.429077  138.891846  136.613480  138.413116  2241562\n",
            "2020-01-08  139.450348  139.840424  138.537231  138.554962  3144977\n",
            "...                ...         ...         ...         ...      ...\n",
            "2024-04-17  240.419998  240.839996  238.020004  239.389999  2988500\n",
            "2024-04-18  232.259995  238.440002  230.740005  236.360001  4261000\n",
            "2024-04-19  237.779999  237.800003  234.020004  235.509995  2351300\n",
            "2024-04-22  235.960007  238.729996  234.470001  236.080002  2820300\n",
            "2024-04-23  254.720001  256.720001  249.589996  253.110001  6876700\n",
            "\n",
            "[1084 rows x 5 columns]\n"
          ]
        },
        {
          "output_type": "stream",
          "name": "stderr",
          "text": [
            "[*********************100%%**********************]  1 of 1 completed\n",
            "[*********************100%%**********************]  1 of 1 completed\n"
          ]
        },
        {
          "output_type": "stream",
          "name": "stdout",
          "text": [
            "\n",
            "Stock: PM\n",
            "\n",
            "                 Open       High        Low      Close    Volume\n",
            "Date                                                            \n",
            "2020-01-02  85.510002  86.169998  84.760002  85.190002   5107200\n",
            "2020-01-03  85.029999  85.940002  84.860001  85.029999   3806700\n",
            "2020-01-06  84.910004  86.110001  84.370003  86.019997   7041400\n",
            "2020-01-07  85.629997  86.830002  85.269997  86.400002   4311600\n",
            "2020-01-08  86.800003  88.349998  86.430000  88.040001   5337600\n",
            "...               ...        ...        ...        ...       ...\n",
            "2024-04-17  89.889999  90.629997  89.300003  90.580002   4767000\n",
            "2024-04-18  90.790001  91.230003  90.650002  91.199997   4041700\n",
            "2024-04-19  91.540001  94.029999  91.379997  93.769997   8703300\n",
            "2024-04-22  93.510002  94.279999  92.940002  94.059998   8656300\n",
            "2024-04-23  94.389999  97.709999  93.839996  97.660004  13105500\n",
            "\n",
            "[1084 rows x 5 columns]\n",
            "\n",
            "Stock: COST\n",
            "\n",
            "                  Open        High         Low       Close   Volume\n",
            "Date                                                               \n",
            "2020-01-02  294.059998  294.579987  291.000000  291.489990  2103600\n",
            "2020-01-03  290.049988  292.899994  289.329987  291.730011  1926000\n",
            "2020-01-06  290.549988  292.070007  288.619995  291.809998  2655100\n",
            "2020-01-07  291.320007  291.690002  289.279999  291.350006  1963400\n",
            "2020-01-08  290.989990  295.480011  290.500000  294.690002  2492800\n",
            "...                ...         ...         ...         ...      ...\n",
            "2024-04-17  723.000000  723.799988  711.000000  715.190002  1376700\n",
            "2024-04-18  715.190002  718.950012  709.570007  711.250000  1846400\n",
            "2024-04-19  713.030029  714.869995  702.000000  709.510010  2188900\n",
            "2024-04-22  714.859985  718.260010  706.169983  715.460022  1437100\n",
            "2024-04-23  719.030029  724.270020  716.299988  722.679993  1176200\n",
            "\n",
            "[1084 rows x 5 columns]\n"
          ]
        },
        {
          "output_type": "stream",
          "name": "stderr",
          "text": [
            "[*********************100%%**********************]  1 of 1 completed\n",
            "[*********************100%%**********************]  1 of 1 completed\n"
          ]
        },
        {
          "output_type": "stream",
          "name": "stdout",
          "text": [
            "\n",
            "Stock: MCD\n",
            "\n",
            "                  Open        High         Low       Close   Volume\n",
            "Date                                                               \n",
            "2020-01-02  198.000000  200.800003  197.809998  200.789993  3554200\n",
            "2020-01-03  199.389999  200.550003  198.850006  200.080002  2767600\n",
            "2020-01-06  199.600006  202.770004  199.350006  202.330002  4660400\n",
            "2020-01-07  201.869995  202.679993  200.509995  202.630005  4047400\n",
            "2020-01-08  202.619995  206.690002  202.199997  205.910004  5284200\n",
            "...                ...         ...         ...         ...      ...\n",
            "2024-04-17  266.500000  270.119995  265.519989  269.950012  3383100\n",
            "2024-04-18  270.980011  271.290009  268.850006  270.980011  3402700\n",
            "2024-04-19  272.010010  272.220001  270.480011  271.989990  3016700\n",
            "2024-04-22  273.750000  276.500000  272.320007  275.579987  3129300\n",
            "2024-04-23  276.820007  277.399994  274.239990  276.880005  3275700\n",
            "\n",
            "[1084 rows x 5 columns]\n",
            "\n",
            "Stock: UPS\n",
            "\n",
            "                  Open        High         Low       Close   Volume\n",
            "Date                                                               \n",
            "2020-01-02  117.680000  117.970001  115.230003  116.790001  4158100\n",
            "2020-01-03  114.970001  116.860001  114.839996  116.720001  2477800\n",
            "2020-01-06  115.449997  116.230003  114.370003  116.199997  3381600\n",
            "2020-01-07  115.860001  116.440002  115.070000  116.000000  1952300\n",
            "2020-01-08  115.379997  117.559998  115.320000  116.660004  2016000\n",
            "...                ...         ...         ...         ...      ...\n",
            "2024-04-17  142.500000  143.419998  141.350006  142.250000  4165700\n",
            "2024-04-18  143.080002  143.309998  141.880005  142.740005  3430600\n",
            "2024-04-19  143.149994  144.119995  142.550003  142.770004  5118500\n",
            "2024-04-22  143.210007  146.070007  142.559998  145.360001  4578500\n",
            "2024-04-23  146.000000  149.740005  145.250000  148.869995  6371100\n",
            "\n",
            "[1084 rows x 5 columns]\n"
          ]
        },
        {
          "output_type": "stream",
          "name": "stderr",
          "text": [
            "\r[*********************100%%**********************]  1 of 1 completed\n"
          ]
        },
        {
          "output_type": "stream",
          "name": "stdout",
          "text": [
            "\n",
            "Stock: ORCL\n",
            "\n",
            "                  Open        High         Low       Close    Volume\n",
            "Date                                                                \n",
            "2020-01-02   53.270000   53.959999   53.230000   53.950001  13899600\n",
            "2020-01-03   52.990002   54.049999   52.950001   53.759998  11026700\n",
            "2020-01-06   53.360001   54.200001   53.349998   54.040001  10982400\n",
            "2020-01-07   53.889999   54.330002   53.610001   54.160000  12015400\n",
            "2020-01-08   53.939999   54.599998   53.700001   54.130001  11856700\n",
            "...                ...         ...         ...         ...       ...\n",
            "2024-04-17  120.980003  121.040001  118.610001  118.669998   5366600\n",
            "2024-04-18  118.760002  118.760002  115.699997  116.000000   6662400\n",
            "2024-04-19  116.120003  116.769997  114.459999  114.879997   8250300\n",
            "2024-04-22  116.029999  116.339996  114.339996  114.529999   7125500\n",
            "2024-04-23  115.169998  115.860001  114.750000  115.089996   5494800\n",
            "\n",
            "[1084 rows x 5 columns]\n"
          ]
        },
        {
          "output_type": "stream",
          "name": "stderr",
          "text": [
            "[*********************100%%**********************]  1 of 1 completed\n",
            "[*********************100%%**********************]  1 of 1 completed\n"
          ]
        },
        {
          "output_type": "stream",
          "name": "stdout",
          "text": [
            "\n",
            "Stock: IBM\n",
            "\n",
            "                  Open        High         Low       Close   Volume\n",
            "Date                                                               \n",
            "2020-01-02  129.063095  129.942642  128.843216  129.464630  3293436\n",
            "2020-01-03  127.695984  128.929260  127.686424  128.432129  2482890\n",
            "2020-01-06  127.552582  128.336517  127.342255  128.202682  2537073\n",
            "2020-01-07  127.810707  129.024857  127.533463  128.288712  3232977\n",
            "2020-01-08  128.594650  129.885284  128.030594  129.359467  4545916\n",
            "...                ...         ...         ...         ...      ...\n",
            "2024-04-17  184.160004  184.669998  181.779999  183.100006  3003000\n",
            "2024-04-18  182.350006  183.460007  180.169998  181.470001  2886700\n",
            "2024-04-19  182.429993  182.800003  180.570007  181.580002  3037600\n",
            "2024-04-22  182.449997  183.320007  180.449997  181.899994  3076500\n",
            "2024-04-23  182.729996  184.679993  179.000000  182.190002  5950200\n",
            "\n",
            "[1084 rows x 5 columns]\n",
            "\n",
            "Stock: AMGN\n",
            "\n",
            "                  Open        High         Low       Close   Volume\n",
            "Date                                                               \n",
            "2020-01-02  243.000000  243.190002  238.979996  240.100006  2088000\n",
            "2020-01-03  237.160004  240.259995  236.240005  238.470001  1879000\n",
            "2020-01-06  237.199997  240.449997  236.559998  240.300003  1802800\n",
            "2020-01-07  239.309998  240.000000  237.589996  238.039993  1518900\n",
            "2020-01-08  237.929993  239.580002  236.610001  238.220001  2214700\n",
            "...                ...         ...         ...         ...      ...\n",
            "2024-04-17  267.540009  268.769989  263.390015  264.070007  2175100\n",
            "2024-04-18  265.640015  265.920013  262.579987  262.750000  2082700\n",
            "2024-04-19  264.630005  269.380005  260.679993  268.929993  3380100\n",
            "2024-04-22  269.839996  273.140015  269.839996  271.910004  2165800\n",
            "2024-04-23  272.140015  274.480011  271.049988  273.540009  2493300\n",
            "\n",
            "[1084 rows x 5 columns]\n"
          ]
        },
        {
          "output_type": "stream",
          "name": "stderr",
          "text": [
            "[*********************100%%**********************]  1 of 1 completed\n",
            "[*********************100%%**********************]  1 of 1 completed\n"
          ]
        },
        {
          "output_type": "stream",
          "name": "stdout",
          "text": [
            "\n",
            "Stock: MDT\n",
            "\n",
            "                  Open        High         Low       Close   Volume\n",
            "Date                                                               \n",
            "2020-01-02  114.459999  114.910004  113.099998  114.559998  3917000\n",
            "2020-01-03  113.160004  114.410004  113.050003  113.879997  2764600\n",
            "2020-01-06  113.269997  114.949997  113.099998  114.889999  3332000\n",
            "2020-01-07  114.339996  115.300003  114.139999  114.489998  4443800\n",
            "2020-01-08  115.309998  116.889999  115.250000  116.500000  5482800\n",
            "...                ...         ...         ...         ...      ...\n",
            "2024-04-17   79.410004   79.849998   78.949997   79.080002  5640100\n",
            "2024-04-18   79.250000   79.300003   78.430000   79.190002  6065600\n",
            "2024-04-19   79.529999   79.639999   79.089996   79.480003  6756900\n",
            "2024-04-22   79.870003   80.900002   79.400002   80.570000  4962600\n",
            "2024-04-23   80.959999   81.339996   80.620003   81.290001  5296200\n",
            "\n",
            "[1084 rows x 5 columns]\n",
            "\n",
            "Stock: NEE\n",
            "\n",
            "                 Open       High        Low      Close    Volume\n",
            "Date                                                            \n",
            "2020-01-02  60.492500  60.919998  59.487499  59.654999   7884800\n",
            "2020-01-03  59.657501  60.340000  59.535000  60.080002   7097200\n",
            "2020-01-06  60.174999  60.650002  60.105000  60.380001   5518800\n",
            "2020-01-07  60.172501  60.552502  60.042500  60.327499   6653200\n",
            "2020-01-08  60.417500  60.737499  60.250000  60.299999   5936000\n",
            "...               ...        ...        ...        ...       ...\n",
            "2024-04-17  62.240002  63.919998  61.919998  63.790001  15653700\n",
            "2024-04-18  63.849998  64.389999  63.130001  64.010002  10135000\n",
            "2024-04-19  64.220001  64.900002  63.650002  64.300003  13418800\n",
            "2024-04-22  64.589996  65.489998  63.919998  65.309998  14747200\n",
            "2024-04-23  65.239998  67.169998  65.099998  66.199997  14349200\n",
            "\n",
            "[1084 rows x 5 columns]\n"
          ]
        },
        {
          "output_type": "stream",
          "name": "stderr",
          "text": [
            "[*********************100%%**********************]  1 of 1 completed\n",
            "[*********************100%%**********************]  1 of 1 completed\n"
          ]
        },
        {
          "output_type": "stream",
          "name": "stdout",
          "text": [
            "\n",
            "Stock: AVGO\n",
            "\n",
            "                   Open         High          Low        Close   Volume\n",
            "Date                                                                   \n",
            "2020-01-02   319.320007   322.500000   317.320007   322.390015  2032900\n",
            "2020-01-03   317.510010   320.000000   314.079987   314.190002  2287000\n",
            "2020-01-06   310.850006   313.920013   309.630005   313.720001  2078900\n",
            "2020-01-07   315.250000   316.579987   312.250000   312.640015  1856500\n",
            "2020-01-08   312.980011   313.489990   308.410004   308.739990  3197900\n",
            "...                 ...          ...          ...          ...      ...\n",
            "2024-04-17  1343.109985  1347.000000  1281.420044  1282.630005  2471800\n",
            "2024-04-18  1288.000000  1292.650024  1255.459961  1258.989990  2488800\n",
            "2024-04-19  1258.989990  1260.000000  1197.560059  1204.709961  4455800\n",
            "2024-04-22  1224.500000  1233.199951  1200.540039  1224.459961  2516200\n",
            "2024-04-23  1228.170044  1257.900024  1228.020020  1249.189941  2202500\n",
            "\n",
            "[1084 rows x 5 columns]\n",
            "\n",
            "Stock: LMT\n",
            "\n",
            "                  Open        High         Low       Close   Volume\n",
            "Date                                                               \n",
            "2020-01-02  392.859985  399.369995  390.950012  399.369995  1258400\n",
            "2020-01-03  404.019989  417.170013  403.000000  413.739990  2990100\n",
            "2020-01-06  417.989990  417.989990  407.690002  413.109985  2477800\n",
            "2020-01-07  411.250000  416.119995  408.290009  414.500000  1059900\n",
            "2020-01-08  417.059998  418.179993  409.720001  411.029999  1708100\n",
            "...                ...         ...         ...         ...      ...\n",
            "2024-04-17  456.709991  457.239990  451.730011  456.049988   848300\n",
            "2024-04-18  454.839996  458.049988  454.269989  456.089996   714900\n",
            "2024-04-19  457.799988  465.359985  457.279999  463.869995  1387500\n",
            "2024-04-22  465.230011  469.540009  460.410004  461.329987  1820900\n",
            "2024-04-23  466.109985  473.540009  457.660004  460.079987  1789500\n",
            "\n",
            "[1084 rows x 5 columns]\n"
          ]
        },
        {
          "output_type": "stream",
          "name": "stderr",
          "text": [
            "\r[*********************100%%**********************]  1 of 1 completed\n"
          ]
        },
        {
          "output_type": "stream",
          "name": "stdout",
          "text": [
            "\n",
            "Stock: GS\n",
            "\n",
            "                  Open        High         Low       Close   Volume\n",
            "Date                                                               \n",
            "2020-01-02  231.000000  234.639999  230.160004  234.320007  3736300\n",
            "2020-01-03  231.600006  232.610001  230.300003  231.580002  2274500\n",
            "2020-01-06  229.929993  234.020004  229.490005  233.949997  3329300\n",
            "2020-01-07  235.000000  237.770004  234.759995  235.490005  5255200\n",
            "2020-01-08  235.679993  239.750000  235.479996  237.759995  3564700\n",
            "...                ...         ...         ...         ...      ...\n",
            "2024-04-17  402.399994  407.119995  401.179993  403.910004  4373800\n",
            "2024-04-18  405.489990  407.859985  402.410004  403.109985  2776300\n",
            "2024-04-19  404.059998  408.000000  403.010010  404.000000  2805100\n",
            "2024-04-22  406.940002  417.980011  404.570007  417.350006  4165600\n",
            "2024-04-23  417.709991  425.350006  416.200012  424.000000  2662300\n",
            "\n",
            "[1084 rows x 5 columns]\n"
          ]
        },
        {
          "output_type": "stream",
          "name": "stderr",
          "text": [
            "[*********************100%%**********************]  1 of 1 completed\n",
            "[*********************100%%**********************]  1 of 1 completed\n"
          ]
        },
        {
          "output_type": "stream",
          "name": "stdout",
          "text": [
            "\n",
            "Stock: QCOM\n",
            "\n",
            "                  Open        High         Low       Close    Volume\n",
            "Date                                                                \n",
            "2020-01-02   89.050003   89.809998   88.080002   88.690002   8413900\n",
            "2020-01-03   87.260002   87.639999   86.440002   87.019997   8340300\n",
            "2020-01-06   85.910004   86.550003   85.540001   86.510002   8381400\n",
            "2020-01-07   87.040001   89.489998   86.910004   88.970001   8377400\n",
            "2020-01-08   88.900002   89.470001   87.919998   88.709999   7619900\n",
            "...                ...         ...         ...         ...       ...\n",
            "2024-04-17  169.220001  170.190002  163.770004  164.320007   8082000\n",
            "2024-04-18  162.360001  164.100006  159.860001  161.440002   9209400\n",
            "2024-04-19  161.289993  161.389999  156.339996  157.630005  10287900\n",
            "2024-04-22  158.039993  161.639999  157.160004  160.179993   7848700\n",
            "2024-04-23  160.960007  162.259995  159.679993  161.350006   6616700\n",
            "\n",
            "[1084 rows x 5 columns]\n",
            "\n",
            "Stock: NOW\n",
            "\n",
            "                  Open        High         Low       Close   Volume\n",
            "Date                                                               \n",
            "2020-01-02  284.959991  291.679993  284.220001  291.239990  1831100\n",
            "2020-01-03  286.899994  293.059998  286.500000  291.100006  1135800\n",
            "2020-01-06  285.190002  293.410004  284.600006  292.869995  1474000\n",
            "2020-01-07  293.220001  294.579987  288.029999  292.910004  1438400\n",
            "2020-01-08  294.559998  297.690002  293.239990  295.649994  1740800\n",
            "...                ...         ...         ...         ...      ...\n",
            "2024-04-17  746.780029  748.989990  734.950012  736.450012   721500\n",
            "2024-04-18  736.900024  739.890015  727.349976  731.359985   788700\n",
            "2024-04-19  725.000000  726.030029  708.530029  713.909973  1536800\n",
            "2024-04-22  723.250000  724.989990  710.619995  721.950012  1464200\n",
            "2024-04-23  727.200012  743.669983  727.200012  740.950012  1164900\n",
            "\n",
            "[1084 rows x 5 columns]\n"
          ]
        },
        {
          "output_type": "stream",
          "name": "stderr",
          "text": [
            "\r[*********************100%%**********************]  1 of 1 completed\n"
          ]
        },
        {
          "output_type": "stream",
          "name": "stdout",
          "text": [
            "\n",
            "Stock: UNP\n",
            "\n",
            "                  Open        High         Low       Close   Volume\n",
            "Date                                                               \n",
            "2020-01-02  180.949997  182.380005  179.970001  182.270004  2444800\n",
            "2020-01-03  179.539993  181.190002  178.289993  180.979996  2344200\n",
            "2020-01-06  179.699997  180.080002  177.940002  179.429993  3142500\n",
            "2020-01-07  179.229996  179.580002  177.610001  178.070007  4096400\n",
            "2020-01-08  177.889999  181.050003  177.479996  180.020004  2817500\n",
            "...                ...         ...         ...         ...      ...\n",
            "2024-04-17  231.800003  232.130005  227.869995  229.229996  1997000\n",
            "2024-04-18  230.720001  231.410004  229.100006  229.809998  1570200\n",
            "2024-04-19  230.690002  232.809998  230.429993  232.080002  2971900\n",
            "2024-04-22  232.990005  235.649994  232.039993  234.470001  2200000\n",
            "2024-04-23  235.399994  237.320007  234.809998  236.289993  1980800\n",
            "\n",
            "[1084 rows x 5 columns]\n"
          ]
        },
        {
          "output_type": "stream",
          "name": "stderr",
          "text": [
            "\r[*********************100%%**********************]  1 of 1 completed\n"
          ]
        },
        {
          "output_type": "stream",
          "name": "stdout",
          "text": [
            "\n",
            "Stock: LOW\n",
            "\n",
            "                  Open        High         Low       Close   Volume\n",
            "Date                                                               \n",
            "2020-01-02  120.050003  120.459999  119.260002  120.459999  2788800\n",
            "2020-01-03  118.709999  119.820000  118.050003  119.599998  2774200\n",
            "2020-01-06  118.650002  120.389999  118.300003  120.349998  3635400\n",
            "2020-01-07  120.489998  120.660004  119.209999  119.629997  4191100\n",
            "2020-01-08  120.150002  122.730003  119.580002  121.529999  4030100\n",
            "...                ...         ...         ...         ...      ...\n",
            "2024-04-17  230.240005  230.889999  227.240005  228.860001  1982300\n",
            "2024-04-18  229.869995  232.289993  227.550003  228.789993  1993100\n",
            "2024-04-19  229.490005  232.110001  228.889999  230.240005  2112200\n",
            "2024-04-22  231.729996  233.039993  229.559998  231.229996  1872800\n",
            "2024-04-23  231.229996  234.210007  230.220001  233.559998  2189900\n",
            "\n",
            "[1084 rows x 5 columns]\n"
          ]
        },
        {
          "output_type": "stream",
          "name": "stderr",
          "text": [
            "\r[*********************100%%**********************]  1 of 1 completed\n",
            "ERROR:yfinance:\n",
            "1 Failed download:\n",
            "ERROR:yfinance:['ANTM']: Exception('%ticker%: No timezone found, symbol may be delisted')\n"
          ]
        },
        {
          "output_type": "stream",
          "name": "stdout",
          "text": [
            "No data found for ANTM\n"
          ]
        },
        {
          "output_type": "stream",
          "name": "stderr",
          "text": [
            "[*********************100%%**********************]  1 of 1 completed\n",
            "[*********************100%%**********************]  1 of 1 completed\n"
          ]
        },
        {
          "output_type": "stream",
          "name": "stdout",
          "text": [
            "\n",
            "Stock: AXP\n",
            "\n",
            "                  Open        High         Low       Close   Volume\n",
            "Date                                                               \n",
            "2020-01-02  124.660004  126.269997  124.230003  125.849998  2708000\n",
            "2020-01-03  124.320000  125.099998  123.940002  124.599998  2090600\n",
            "2020-01-06  123.370003  124.160004  123.120003  124.059998  2855200\n",
            "2020-01-07  123.470001  124.400002  123.360001  123.410004  2042300\n",
            "2020-01-08  124.050003  126.360001  123.800003  125.540001  3458200\n",
            "...                ...         ...         ...         ...      ...\n",
            "2024-04-17  219.559998  220.279999  216.520004  217.669998  2256800\n",
            "2024-04-18  218.259995  221.449997  217.179993  217.500000  3901500\n",
            "2024-04-19  218.839996  231.600006  218.839996  231.039993  7572300\n",
            "2024-04-22  232.029999  235.369995  227.690002  233.000000  5151300\n",
            "2024-04-23  234.770004  239.419998  233.669998  238.960007  4684500\n",
            "\n",
            "[1084 rows x 5 columns]\n",
            "\n",
            "Stock: BKNG\n",
            "\n",
            "                   Open         High          Low        Close  Volume\n",
            "Date                                                                  \n",
            "2020-01-02  2068.399902  2077.409912  2053.219971  2074.580078  329000\n",
            "2020-01-03  2042.469971  2067.689941  2035.000000  2065.479980  294000\n",
            "2020-01-06  2050.000000  2059.790039  2035.000000  2047.400024  384000\n",
            "2020-01-07  2047.390015  2072.830078  2038.540039  2068.050049  345300\n",
            "2020-01-08  2066.840088  2088.659912  2057.139893  2062.899902  325800\n",
            "...                 ...          ...          ...          ...     ...\n",
            "2024-04-17  3472.979980  3493.409912  3430.570068  3443.909912  170900\n",
            "2024-04-18  3470.000000  3485.159912  3424.139893  3430.139893  156700\n",
            "2024-04-19  3460.510010  3478.189941  3405.159912  3414.820068  218800\n",
            "2024-04-22  3441.120117  3492.520020  3424.520020  3463.000000  202300\n",
            "2024-04-23  3468.219971  3546.899902  3468.219971  3533.989990  152200\n",
            "\n",
            "[1084 rows x 5 columns]\n"
          ]
        },
        {
          "output_type": "stream",
          "name": "stderr",
          "text": [
            "\r[*********************100%%**********************]  1 of 1 completed\n"
          ]
        },
        {
          "output_type": "stream",
          "name": "stdout",
          "text": [
            "\n",
            "Stock: CHTR\n",
            "\n",
            "                  Open        High         Low       Close   Volume\n",
            "Date                                                               \n",
            "2020-01-02  487.410004  491.410004  480.489990  490.429993  1378800\n",
            "2020-01-03  485.529999  496.589996  485.529999  494.470001   974100\n",
            "2020-01-06  492.660004  498.149994  490.929993  497.450012   829900\n",
            "2020-01-07  497.130005  500.649994  495.549988  499.160004  1050800\n",
            "2020-01-08  499.000000  509.989990  498.549988  500.769989  1063200\n",
            "...                ...         ...         ...         ...      ...\n",
            "2024-04-17  260.250000  265.260010  257.619995  258.029999   997500\n",
            "2024-04-18  258.579987  261.100006  255.699997  259.910004   855900\n",
            "2024-04-19  260.010010  265.709991  259.700012  265.209991  1160300\n",
            "2024-04-22  267.559998  267.959991  259.529999  265.079987  1171100\n",
            "2024-04-23  265.950012  271.500000  265.600006  266.309998   967100\n",
            "\n",
            "[1084 rows x 5 columns]\n"
          ]
        },
        {
          "output_type": "stream",
          "name": "stderr",
          "text": [
            "[*********************100%%**********************]  1 of 1 completed\n",
            "[*********************100%%**********************]  1 of 1 completed\n"
          ]
        },
        {
          "output_type": "stream",
          "name": "stdout",
          "text": [
            "\n",
            "Stock: CI\n",
            "\n",
            "                  Open        High         Low       Close   Volume\n",
            "Date                                                               \n",
            "2020-01-02  205.389999  205.850006  202.089996  204.940002  1372600\n",
            "2020-01-03  202.009995  204.389999  200.800003  203.179993  1387300\n",
            "2020-01-06  202.000000  207.160004  201.949997  206.919998  1243000\n",
            "2020-01-07  206.179993  208.779999  205.279999  207.929993  1354600\n",
            "2020-01-08  207.929993  211.720001  207.190002  211.410004  1483600\n",
            "...                ...         ...         ...         ...      ...\n",
            "2024-04-17  346.859985  349.929993  345.779999  346.079987  1426500\n",
            "2024-04-18  349.709991  353.380005  347.000000  348.779999  1621700\n",
            "2024-04-19  351.279999  352.799988  348.019989  352.390015  1305100\n",
            "2024-04-22  352.750000  356.390015  352.649994  353.179993  1404000\n",
            "2024-04-23  354.000000  357.209991  351.890015  352.649994  1188500\n",
            "\n",
            "[1084 rows x 5 columns]\n",
            "\n",
            "Stock: DHR\n",
            "\n",
            "                  Open        High         Low       Close   Volume\n",
            "Date                                                               \n",
            "2020-01-02  136.489365  137.624115  135.753540  137.508865  2915993\n",
            "2020-01-03  136.019501  137.686172  135.132980  136.657806  2627112\n",
            "2020-01-06  136.037231  137.198578  135.868790  137.065598  3101323\n",
            "2020-01-07  137.429077  138.891846  136.613480  138.413116  2241562\n",
            "2020-01-08  139.450348  139.840424  138.537231  138.554962  3144977\n",
            "...                ...         ...         ...         ...      ...\n",
            "2024-04-17  240.419998  240.839996  238.020004  239.389999  2988500\n",
            "2024-04-18  232.259995  238.440002  230.740005  236.360001  4261000\n",
            "2024-04-19  237.779999  237.800003  234.020004  235.509995  2351300\n",
            "2024-04-22  235.960007  238.729996  234.470001  236.080002  2820300\n",
            "2024-04-23  254.720001  256.720001  249.589996  253.110001  6876700\n",
            "\n",
            "[1084 rows x 5 columns]\n"
          ]
        },
        {
          "output_type": "stream",
          "name": "stderr",
          "text": [
            "[*********************100%%**********************]  1 of 1 completed\n",
            "[*********************100%%**********************]  1 of 1 completed\n"
          ]
        },
        {
          "output_type": "stream",
          "name": "stdout",
          "text": [
            "\n",
            "Stock: DOW\n",
            "\n",
            "                 Open       High        Low      Close   Volume\n",
            "Date                                                           \n",
            "2020-01-02  55.230000  55.540001  53.639999  53.750000  5145200\n",
            "2020-01-03  53.110001  53.599998  52.410000  52.419998  5004300\n",
            "2020-01-06  52.320000  52.880001  52.000000  52.209999  4293100\n",
            "2020-01-07  52.290001  53.064999  51.990002  52.189999  5122800\n",
            "2020-01-08  52.410000  53.169998  51.919998  52.730000  3629700\n",
            "...               ...        ...        ...        ...      ...\n",
            "2024-04-17  57.169998  57.360001  56.669998  56.820000  2815400\n",
            "2024-04-18  57.299999  57.299999  56.040001  56.490002  3856200\n",
            "2024-04-19  56.490002  56.919998  56.314999  56.660000  3748400\n",
            "2024-04-22  56.619999  57.310001  56.279999  56.990002  3211600\n",
            "2024-04-23  56.650002  57.102001  56.450001  56.740002  3099300\n",
            "\n",
            "[1084 rows x 5 columns]\n",
            "\n",
            "Stock: DUK\n",
            "\n",
            "                 Open       High        Low      Close   Volume\n",
            "Date                                                           \n",
            "2020-01-02  91.279999  91.779999  90.029999  90.339996  3921800\n",
            "2020-01-03  90.230003  91.070000  90.150002  90.400002  2825400\n",
            "2020-01-06  90.400002  91.040001  90.300003  90.839996  2410300\n",
            "2020-01-07  90.889999  90.889999  89.839996  90.269997  3980900\n",
            "2020-01-08  90.459999  90.870003  89.959999  90.400002  2583300\n",
            "...               ...        ...        ...        ...      ...\n",
            "2024-04-17  93.570000  94.760002  93.199997  94.500000  1768000\n",
            "2024-04-18  94.910004  96.029999  94.209999  95.930000  2639200\n",
            "2024-04-19  96.099998  98.410004  95.980003  98.239998  4212800\n",
            "2024-04-22  98.129997  98.500000  97.699997  98.120003  2933000\n",
            "2024-04-23  98.110001  99.050003  97.900002  98.199997  2148800\n",
            "\n",
            "[1084 rows x 5 columns]\n"
          ]
        },
        {
          "output_type": "stream",
          "name": "stderr",
          "text": [
            "\r[*********************100%%**********************]  1 of 1 completed\n"
          ]
        },
        {
          "output_type": "stream",
          "name": "stdout",
          "text": [
            "\n",
            "Stock: ECL\n",
            "\n",
            "                  Open        High         Low       Close   Volume\n",
            "Date                                                               \n",
            "2020-01-02  193.660004  193.889999  189.850006  190.229996  1590500\n",
            "2020-01-03  188.600006  191.539993  187.360001  189.320007  1251100\n",
            "2020-01-06  188.330002  189.289993  187.679993  187.710007  1294800\n",
            "2020-01-07  187.110001  189.899994  186.330002  187.470001  1556700\n",
            "2020-01-08  187.500000  188.830002  186.190002  187.539993  1185900\n",
            "...                ...         ...         ...         ...      ...\n",
            "2024-04-17  221.199997  221.259995  217.639999  219.250000   911100\n",
            "2024-04-18  219.820007  220.460007  217.229996  219.210007   924400\n",
            "2024-04-19  219.509995  219.919998  217.050003  218.160004  2586600\n",
            "2024-04-22  218.759995  220.149994  217.270004  219.309998   858000\n",
            "2024-04-23  220.039993  220.720001  218.330002  219.660004   717000\n",
            "\n",
            "[1084 rows x 5 columns]\n"
          ]
        },
        {
          "output_type": "stream",
          "name": "stderr",
          "text": [
            "[*********************100%%**********************]  1 of 1 completed\n",
            "[*********************100%%**********************]  1 of 1 completed\n"
          ]
        },
        {
          "output_type": "stream",
          "name": "stdout",
          "text": [
            "\n",
            "Stock: EL\n",
            "\n",
            "                  Open        High         Low       Close   Volume\n",
            "Date                                                               \n",
            "2020-01-02  206.539993  207.860001  205.809998  206.259995  1138700\n",
            "2020-01-03  204.529999  206.550003  203.729996  204.699997  1076200\n",
            "2020-01-06  203.809998  207.500000  203.449997  207.360001  2428900\n",
            "2020-01-07  206.009995  207.210007  205.179993  206.050003  1180600\n",
            "2020-01-08  207.479996  209.389999  206.000000  207.720001  1614300\n",
            "...                ...         ...         ...         ...      ...\n",
            "2024-04-17  139.089996  139.649994  137.380005  138.039993  2200900\n",
            "2024-04-18  139.330002  146.630005  138.179993  144.809998  3921100\n",
            "2024-04-19  144.000000  145.169998  143.770004  144.410004  2324300\n",
            "2024-04-22  145.369995  147.800003  143.320007  147.419998  1777400\n",
            "2024-04-23  147.000000  149.910004  146.399994  148.979996  1884900\n",
            "\n",
            "[1084 rows x 5 columns]\n",
            "\n",
            "Stock: FDX\n",
            "\n",
            "                  Open        High         Low       Close   Volume\n",
            "Date                                                               \n",
            "2020-01-02  152.419998  155.100006  151.600006  155.100006  3027600\n",
            "2020-01-03  152.500000  153.339996  151.839996  153.179993  2216500\n",
            "2020-01-06  151.250000  153.550003  150.169998  153.300003  2389700\n",
            "2020-01-07  153.360001  155.220001  152.339996  154.800003  2140100\n",
            "2020-01-08  154.570007  157.750000  153.929993  157.130005  3053200\n",
            "...                ...         ...         ...         ...      ...\n",
            "2024-04-17  264.399994  265.929993  262.220001  263.070007  1371800\n",
            "2024-04-18  264.109985  265.200012  262.079987  263.369995  1063600\n",
            "2024-04-19  264.239990  269.100006  263.459991  266.989990  1894300\n",
            "2024-04-22  268.670013  271.940002  267.019989  270.149994  1246600\n",
            "2024-04-23  270.420013  273.910004  270.000000  271.750000  1187000\n",
            "\n",
            "[1084 rows x 5 columns]\n"
          ]
        },
        {
          "output_type": "stream",
          "name": "stderr",
          "text": [
            "[*********************100%%**********************]  1 of 1 completed\n",
            "[*********************100%%**********************]  1 of 1 completed\n"
          ]
        },
        {
          "output_type": "stream",
          "name": "stdout",
          "text": [
            "\n",
            "Stock: FIS\n",
            "\n",
            "                  Open        High         Low       Close   Volume\n",
            "Date                                                               \n",
            "2020-01-02  139.869995  140.839996  139.199997  139.899994  3002300\n",
            "2020-01-03  137.889999  140.320007  137.809998  139.020004  2365700\n",
            "2020-01-06  138.130005  140.350006  137.820007  140.350006  3685700\n",
            "2020-01-07  139.660004  140.000000  138.100006  138.190002  3568500\n",
            "2020-01-08  138.789993  140.750000  138.570007  140.220001  3206700\n",
            "...                ...         ...         ...         ...      ...\n",
            "2024-04-17   71.010002   71.209999   70.099998   70.349998  2950700\n",
            "2024-04-18   70.930000   70.980003   69.879997   70.000000  3617000\n",
            "2024-04-19   70.370003   71.669998   70.339996   70.730003  5607700\n",
            "2024-04-22   71.220001   71.930000   70.360001   71.300003  3397100\n",
            "2024-04-23   71.519997   72.209999   71.440002   71.900002  4256400\n",
            "\n",
            "[1084 rows x 5 columns]\n",
            "\n",
            "Stock: GD\n",
            "\n",
            "                  Open        High         Low       Close   Volume\n",
            "Date                                                               \n",
            "2020-01-02  177.449997  179.039993  176.919998  178.429993  1472100\n",
            "2020-01-03  178.000000  180.429993  178.000000  180.179993  1662200\n",
            "2020-01-06  181.550003  182.979996  181.000000  182.089996  1957000\n",
            "2020-01-07  180.419998  181.630005  179.750000  180.020004  1454600\n",
            "2020-01-08  180.199997  181.940002  179.600006  180.479996  1226400\n",
            "...                ...         ...         ...         ...      ...\n",
            "2024-04-17  286.500000  286.500000  283.670013  284.459991   709000\n",
            "2024-04-18  284.019989  286.910004  284.019989  285.269989   636500\n",
            "2024-04-19  287.429993  289.290009  286.730011  288.619995  1074900\n",
            "2024-04-22  289.940002  292.709991  288.049988  291.309998   889000\n",
            "2024-04-23  292.720001  294.700012  291.679993  292.720001  1132500\n",
            "\n",
            "[1084 rows x 5 columns]\n"
          ]
        },
        {
          "output_type": "stream",
          "name": "stderr",
          "text": [
            "[*********************100%%**********************]  1 of 1 completed\n",
            "[*********************100%%**********************]  1 of 1 completed\n"
          ]
        },
        {
          "output_type": "stream",
          "name": "stdout",
          "text": [
            "\n",
            "Stock: GM\n",
            "\n",
            "                 Open       High        Low      Close    Volume\n",
            "Date                                                            \n",
            "2020-01-02  37.000000  37.380001  36.549999  37.380001   7454400\n",
            "2020-01-03  36.730000  36.919998  36.110001  36.320000   9173000\n",
            "2020-01-06  35.950001  36.180000  35.799999  35.840000   8408200\n",
            "2020-01-07  35.750000  35.840000  34.740002  35.150002  17556800\n",
            "2020-01-08  35.040001  35.200001  34.410000  34.650002  13229400\n",
            "...               ...        ...        ...        ...       ...\n",
            "2024-04-17  42.910000  43.160000  42.290001  42.459999  10663300\n",
            "2024-04-18  42.770000  42.840000  42.009998  42.439999  14180500\n",
            "2024-04-19  42.509998  42.959999  42.189999  42.369999  15469300\n",
            "2024-04-22  42.680000  43.560001  42.209999  43.209999  21315100\n",
            "2024-04-23  45.889999  45.959999  44.369999  45.099998  28767300\n",
            "\n",
            "[1084 rows x 5 columns]\n",
            "\n",
            "Stock: HUM\n",
            "\n",
            "                  Open        High         Low       Close   Volume\n",
            "Date                                                               \n",
            "2020-01-02  367.160004  367.899994  360.529999  363.239990   678000\n",
            "2020-01-03  366.799988  372.000000  364.380005  364.859985   891400\n",
            "2020-01-06  364.250000  370.640015  363.500000  370.549988   956800\n",
            "2020-01-07  369.000000  369.000000  363.089996  366.869995   669200\n",
            "2020-01-08  368.179993  376.399994  367.390015  375.000000  1201700\n",
            "...                ...         ...         ...         ...      ...\n",
            "2024-04-17  319.630005  324.380005  318.100006  323.459991  1958800\n",
            "2024-04-18  327.600006  331.000000  324.059998  324.829987  1557400\n",
            "2024-04-19  327.000000  329.750000  326.899994  328.329987  1143700\n",
            "2024-04-22  326.739990  334.420013  324.630005  325.299988  1591100\n",
            "2024-04-23  325.429993  328.179993  320.470001  327.980011  1624700\n",
            "\n",
            "[1084 rows x 5 columns]\n"
          ]
        },
        {
          "output_type": "stream",
          "name": "stderr",
          "text": [
            "[*********************100%%**********************]  1 of 1 completed\n",
            "[*********************100%%**********************]  1 of 1 completed\n"
          ]
        },
        {
          "output_type": "stream",
          "name": "stdout",
          "text": [
            "\n",
            "Stock: LIN\n",
            "\n",
            "                  Open        High         Low       Close   Volume\n",
            "Date                                                               \n",
            "2020-01-02  213.580002  214.449997  210.460007  210.740005  2604100\n",
            "2020-01-03  207.399994  209.050003  205.169998  205.259995  2899300\n",
            "2020-01-06  204.600006  206.350006  204.190002  204.389999  2395300\n",
            "2020-01-07  204.809998  206.750000  204.250000  204.830002  2589200\n",
            "2020-01-08  205.270004  208.190002  205.100006  207.389999  1327300\n",
            "...                ...         ...         ...         ...      ...\n",
            "2024-04-17  445.579987  449.109985  443.980011  446.790009  1216800\n",
            "2024-04-18  450.970001  451.190002  445.519989  446.429993  1070300\n",
            "2024-04-19  451.970001  451.970001  444.089996  446.299988  1831200\n",
            "2024-04-22  443.380005  448.980011  441.730011  446.970001  1345900\n",
            "2024-04-23  446.570007  448.100006  444.089996  445.059998  1509900\n",
            "\n",
            "[1084 rows x 5 columns]\n",
            "\n",
            "Stock: MMM\n",
            "\n",
            "                  Open        High         Low       Close   Volume\n",
            "Date                                                               \n",
            "2020-01-02  148.561874  150.510040  148.110367  150.501678  4307633\n",
            "2020-01-03  148.010040  149.381271  146.847824  149.205688  2950412\n",
            "2020-01-06  148.118729  149.423080  147.449829  149.347824  2389608\n",
            "2020-01-07  149.063538  149.255859  147.842804  148.745819  2598908\n",
            "2020-01-08  148.829437  151.755859  148.536789  151.028427  3298927\n",
            "...                ...         ...         ...         ...      ...\n",
            "2024-04-17   91.730003   92.110001   90.330002   90.959999  3421600\n",
            "2024-04-18   91.400002   92.430000   90.870003   91.480003  3069400\n",
            "2024-04-19   91.239998   92.400002   91.099998   92.269997  3588000\n",
            "2024-04-22   92.540001   92.709999   91.699997   92.620003  2992900\n",
            "2024-04-23   92.980003   94.040001   92.790001   93.000000  3729800\n",
            "\n",
            "[1084 rows x 5 columns]\n"
          ]
        },
        {
          "output_type": "stream",
          "name": "stderr",
          "text": [
            "\r[*********************100%%**********************]  1 of 1 completed\n"
          ]
        },
        {
          "output_type": "stream",
          "name": "stdout",
          "text": [
            "\n",
            "Stock: MO\n",
            "\n",
            "                 Open       High        Low      Close    Volume\n",
            "Date                                                            \n",
            "2020-01-02  50.189999  50.340000  49.049999  49.250000   8717200\n",
            "2020-01-03  49.169998  49.950001  49.160000  49.630001   7850700\n",
            "2020-01-06  49.630001  50.070000  49.430000  49.830002   6532500\n",
            "2020-01-07  49.560001  49.930000  49.320000  49.570000   6423600\n",
            "2020-01-08  49.790001  50.279999  49.580002  50.080002   5987200\n",
            "...               ...        ...        ...        ...       ...\n",
            "2024-04-17  41.009998  41.220001  40.740002  41.099998   8787700\n",
            "2024-04-18  41.130001  41.430000  41.110001  41.299999  17571300\n",
            "2024-04-19  41.389999  42.270000  41.389999  42.090000  22323200\n",
            "2024-04-22  42.310001  42.720001  42.020000  42.570000  10775700\n",
            "2024-04-23  42.639999  43.040001  42.520000  42.869999  18917200\n",
            "\n",
            "[1084 rows x 5 columns]\n"
          ]
        },
        {
          "output_type": "stream",
          "name": "stderr",
          "text": [
            "\r[*********************100%%**********************]  1 of 1 completed\n"
          ]
        },
        {
          "output_type": "stream",
          "name": "stdout",
          "text": [
            "\n",
            "Stock: MS\n",
            "\n",
            "                 Open       High        Low      Close   Volume\n",
            "Date                                                           \n",
            "2020-01-02  51.200001  52.060001  51.169998  52.040001  7808000\n",
            "2020-01-03  51.220001  51.450001  50.830002  51.200001  6706000\n",
            "2020-01-06  50.669998  51.040001  50.459999  51.020000  7476700\n",
            "2020-01-07  51.040001  51.189999  50.709999  50.919998  4538100\n",
            "2020-01-08  50.959999  51.790001  50.900002  51.570000  6185200\n",
            "...               ...        ...        ...        ...      ...\n",
            "2024-04-17  90.129997  91.440002  89.669998  90.080002  9544600\n",
            "2024-04-18  90.660004  91.110001  89.739998  90.260002  6752000\n",
            "2024-04-19  90.360001  91.620003  90.360001  90.660004  8134700\n",
            "2024-04-22  91.110001  92.660004  90.709999  92.089996  7294400\n",
            "2024-04-23  92.160004  94.050003  92.160004  93.760002  6393900\n",
            "\n",
            "[1084 rows x 5 columns]\n"
          ]
        },
        {
          "output_type": "stream",
          "name": "stderr",
          "text": [
            "[*********************100%%**********************]  1 of 1 completed\n",
            "[*********************100%%**********************]  1 of 1 completed\n"
          ]
        },
        {
          "output_type": "stream",
          "name": "stdout",
          "text": [
            "\n",
            "Stock: PLD\n",
            "\n",
            "                  Open        High         Low       Close    Volume\n",
            "Date                                                                \n",
            "2020-01-02   89.669998   89.800003   87.750000   88.400002   2246200\n",
            "2020-01-03   87.550003   89.860001   87.550003   89.389999   2188000\n",
            "2020-01-06   89.440002   89.599998   88.889999   89.040001   1794500\n",
            "2020-01-07   88.620003   88.940002   87.879997   88.470001   2054500\n",
            "2020-01-08   88.459999   89.230003   88.150002   88.949997   2013700\n",
            "...                ...         ...         ...         ...       ...\n",
            "2024-04-17  108.699997  111.500000  105.559998  106.489998  11034000\n",
            "2024-04-18  105.959999  106.290001  103.599998  104.690002   6310200\n",
            "2024-04-19  104.639999  104.870003  102.519997  103.489998   6931100\n",
            "2024-04-22  103.800003  104.570000  102.550003  104.080002   3673000\n",
            "2024-04-23  104.540001  105.610001  104.070000  104.830002   4232300\n",
            "\n",
            "[1084 rows x 5 columns]\n",
            "\n",
            "Stock: RTX\n",
            "\n",
            "                  Open        High         Low       Close    Volume\n",
            "Date                                                                \n",
            "2020-01-02   94.235367   96.425423   94.235367   96.375076   4451584\n",
            "2020-01-03   94.984268   97.325363   94.719948   96.507240   4969756\n",
            "2020-01-06   96.570168   96.815605   95.972313   96.714912   4139504\n",
            "2020-01-07   95.594711   96.683449   95.594711   96.406548   4348775\n",
            "2020-01-08   96.362495   97.262428   96.117058   96.551292   3772445\n",
            "...                ...         ...         ...         ...       ...\n",
            "2024-04-17  101.260002  101.790001  100.150002  100.750000   5377600\n",
            "2024-04-18  100.519997  101.900002  100.510002  100.709999   4238600\n",
            "2024-04-19  101.529999  102.260002  101.029999  101.559998  10328000\n",
            "2024-04-22  102.000000  102.250000  101.370003  101.559998   7594100\n",
            "2024-04-23  101.000000  103.889999   99.879997  101.379997   8568200\n",
            "\n",
            "[1084 rows x 5 columns]\n"
          ]
        },
        {
          "output_type": "stream",
          "name": "stderr",
          "text": [
            "[*********************100%%**********************]  1 of 1 completed\n",
            "[*********************100%%**********************]  1 of 1 completed\n"
          ]
        },
        {
          "output_type": "stream",
          "name": "stdout",
          "text": [
            "\n",
            "Stock: SO\n",
            "\n",
            "                 Open       High        Low      Close   Volume\n",
            "Date                                                           \n",
            "2020-01-02  63.650002  63.669998  62.419998  62.619999  4675900\n",
            "2020-01-03  62.529999  62.910000  62.430000  62.560001  3531800\n",
            "2020-01-06  62.560001  63.000000  62.509998  62.810001  3507600\n",
            "2020-01-07  62.560001  62.730000  62.240002  62.619999  3191700\n",
            "2020-01-08  62.700001  62.840000  62.380001  62.599998  3413600\n",
            "...               ...        ...        ...        ...      ...\n",
            "2024-04-17  68.089996  69.980003  68.019997  69.800003  6705800\n",
            "2024-04-18  70.000000  70.690002  69.430000  70.570000  4602100\n",
            "2024-04-19  70.870003  72.180000  70.699997  72.150002  6549300\n",
            "2024-04-22  71.900002  73.150002  71.660004  72.980003  5387600\n",
            "2024-04-23  72.970001  73.769997  72.550003  73.250000  6054400\n",
            "\n",
            "[1084 rows x 5 columns]\n",
            "\n",
            "Stock: SPGI\n",
            "\n",
            "                  Open        High         Low       Close   Volume\n",
            "Date                                                               \n",
            "2020-01-02  274.570007  277.899994  273.720001  277.839996  1092300\n",
            "2020-01-03  274.549988  278.200012  274.029999  276.910004   576800\n",
            "2020-01-06  275.600006  279.070007  274.769989  279.040009   875100\n",
            "2020-01-07  283.119995  286.690002  280.970001  280.980011  1253700\n",
            "2020-01-08  281.929993  286.809998  281.130005  285.010010  1004500\n",
            "...                ...         ...         ...         ...      ...\n",
            "2024-04-17  411.390015  413.940002  409.510010  412.109985   851100\n",
            "2024-04-18  414.959991  415.779999  408.399994  413.369995  1155000\n",
            "2024-04-19  414.690002  414.850006  409.910004  412.559998  1138200\n",
            "2024-04-22  415.000000  417.899994  413.040009  416.929993  1168500\n",
            "2024-04-23  417.040009  418.190002  411.380005  413.260010  2356300\n",
            "\n",
            "[1084 rows x 5 columns]\n"
          ]
        },
        {
          "output_type": "stream",
          "name": "stderr",
          "text": [
            "[*********************100%%**********************]  1 of 1 completed\n",
            "[*********************100%%**********************]  1 of 1 completed\n"
          ]
        },
        {
          "output_type": "stream",
          "name": "stdout",
          "text": [
            "\n",
            "Stock: TFC\n",
            "\n",
            "                 Open       High        Low      Close    Volume\n",
            "Date                                                            \n",
            "2020-01-02  56.410000  56.680000  55.880001  56.669998   5607100\n",
            "2020-01-03  56.150002  56.299999  55.660000  56.200001   4434300\n",
            "2020-01-06  55.490002  55.799999  55.150002  55.730000   9669300\n",
            "2020-01-07  55.669998  55.669998  55.090000  55.490002   5272800\n",
            "2020-01-08  55.419998  55.820000  55.310001  55.610001   6232700\n",
            "...               ...        ...        ...        ...       ...\n",
            "2024-04-17  35.790001  35.930000  35.090000  35.660000   9211300\n",
            "2024-04-18  35.830002  35.980000  35.459999  35.709999   5755500\n",
            "2024-04-19  35.799999  36.840000  35.650002  36.799999  10358700\n",
            "2024-04-22  35.840000  38.299999  35.840000  38.060001  12580400\n",
            "2024-04-23  37.980000  39.200001  37.799999  38.840000  10596900\n",
            "\n",
            "[1084 rows x 5 columns]\n",
            "\n",
            "Stock: TJX\n",
            "\n",
            "                 Open       High        Low      Close   Volume\n",
            "Date                                                           \n",
            "2020-01-02  61.330002  61.700001  61.060001  61.700001  5190200\n",
            "2020-01-03  61.049999  61.570000  60.770000  61.240002  3229200\n",
            "2020-01-06  61.200001  61.639999  60.910000  61.630001  5223000\n",
            "2020-01-07  61.230000  61.669998  61.139999  61.590000  4586700\n",
            "2020-01-08  61.730000  62.389999  61.730000  61.919998  3658100\n",
            "...               ...        ...        ...        ...      ...\n",
            "2024-04-17  94.260002  94.260002  92.809998  93.129997  4768400\n",
            "2024-04-18  93.650002  93.699997  92.519997  92.660004  3290800\n",
            "2024-04-19  93.019997  93.389999  92.349998  93.360001  6043900\n",
            "2024-04-22  94.129997  94.610001  93.320000  94.080002  4114500\n",
            "2024-04-23  94.470001  94.669998  93.489998  94.500000  5843600\n",
            "\n",
            "[1084 rows x 5 columns]\n"
          ]
        },
        {
          "output_type": "stream",
          "name": "stderr",
          "text": [
            "[*********************100%%**********************]  1 of 1 completed\n",
            "[*********************100%%**********************]  1 of 1 completed\n"
          ]
        },
        {
          "output_type": "stream",
          "name": "stdout",
          "text": [
            "\n",
            "Stock: TMUS\n",
            "\n",
            "                  Open        High         Low       Close   Volume\n",
            "Date                                                               \n",
            "2020-01-02   78.879997   78.889999   77.930000   78.589996  3392700\n",
            "2020-01-03   78.059998   78.430000   77.470001   78.169998  1831900\n",
            "2020-01-06   78.129997   78.849998   77.970001   78.620003  2675300\n",
            "2020-01-07   78.570000   79.510002   78.150002   78.919998  3262400\n",
            "2020-01-08   79.220001   79.790001   78.080002   79.419998  3037400\n",
            "...                ...         ...         ...         ...      ...\n",
            "2024-04-17  159.580002  160.649994  159.410004  160.089996  4098300\n",
            "2024-04-18  160.059998  161.509995  160.059998  160.850006  3246600\n",
            "2024-04-19  161.460007  162.389999  160.699997  162.330002  5005900\n",
            "2024-04-22  163.850006  164.610001  162.110001  162.360001  3701900\n",
            "2024-04-23  162.690002  163.869995  162.350006  163.250000  4165100\n",
            "\n",
            "[1084 rows x 5 columns]\n",
            "\n",
            "Stock: UPS\n",
            "\n",
            "                  Open        High         Low       Close   Volume\n",
            "Date                                                               \n",
            "2020-01-02  117.680000  117.970001  115.230003  116.790001  4158100\n",
            "2020-01-03  114.970001  116.860001  114.839996  116.720001  2477800\n",
            "2020-01-06  115.449997  116.230003  114.370003  116.199997  3381600\n",
            "2020-01-07  115.860001  116.440002  115.070000  116.000000  1952300\n",
            "2020-01-08  115.379997  117.559998  115.320000  116.660004  2016000\n",
            "...                ...         ...         ...         ...      ...\n",
            "2024-04-17  142.500000  143.419998  141.350006  142.250000  4165700\n",
            "2024-04-18  143.080002  143.309998  141.880005  142.740005  3430600\n",
            "2024-04-19  143.149994  144.119995  142.550003  142.770004  5118500\n",
            "2024-04-22  143.210007  146.070007  142.559998  145.360001  4578500\n",
            "2024-04-23  146.000000  149.740005  145.250000  148.869995  6371100\n",
            "\n",
            "[1084 rows x 5 columns]\n"
          ]
        },
        {
          "output_type": "stream",
          "name": "stderr",
          "text": [
            "[*********************100%%**********************]  1 of 1 completed\n",
            "[*********************100%%**********************]  1 of 1 completed\n"
          ]
        },
        {
          "output_type": "stream",
          "name": "stdout",
          "text": [
            "\n",
            "Stock: USB\n",
            "\n",
            "                 Open       High        Low      Close    Volume\n",
            "Date                                                            \n",
            "2020-01-02  59.470001  59.480000  59.009998  59.200001   5002100\n",
            "2020-01-03  58.500000  58.810001  58.020000  58.509998   5161800\n",
            "2020-01-06  57.070000  57.790001  56.820000  57.709999   6869200\n",
            "2020-01-07  57.529999  57.689999  57.139999  57.160000   4006800\n",
            "2020-01-08  57.200001  57.509998  57.029999  57.040001   5627500\n",
            "...               ...        ...        ...        ...       ...\n",
            "2024-04-17  39.500000  39.970001  38.790001  39.520000  14178500\n",
            "2024-04-18  39.410000  40.150002  39.189999  39.439999   9878700\n",
            "2024-04-19  39.459999  40.459999  39.410000  40.450001  12061400\n",
            "2024-04-22  40.680000  41.369999  40.240002  41.049999   8630700\n",
            "2024-04-23  41.130001  41.259998  40.810001  40.970001   7079900\n",
            "\n",
            "[1084 rows x 5 columns]\n",
            "\n",
            "Stock: VRTX\n",
            "\n",
            "                  Open        High         Low       Close   Volume\n",
            "Date                                                               \n",
            "2020-01-02  220.240005  220.649994  216.949997  219.449997  1334300\n",
            "2020-01-03  216.160004  219.889999  214.550003  217.979996   943400\n",
            "2020-01-06  217.729996  224.350006  216.910004  224.029999  1436600\n",
            "2020-01-07  224.259995  225.919998  222.139999  223.789993  1027700\n",
            "2020-01-08  225.889999  232.699997  224.910004  231.089996  1802600\n",
            "...                ...         ...         ...         ...      ...\n",
            "2024-04-17  394.940002  398.109985  392.029999  393.100006   881000\n",
            "2024-04-18  394.190002  396.140015  391.010010  393.480011   949100\n",
            "2024-04-19  394.720001  396.980011  391.250000  394.279999  1342000\n",
            "2024-04-22  397.299988  406.339996  396.000000  399.920013  1393800\n",
            "2024-04-23  404.000000  406.859985  403.470001  404.910004  1070300\n",
            "\n",
            "[1084 rows x 5 columns]\n"
          ]
        },
        {
          "output_type": "stream",
          "name": "stderr",
          "text": [
            "[*********************100%%**********************]  1 of 1 completed\n",
            "[*********************100%%**********************]  1 of 1 completed\n"
          ]
        },
        {
          "output_type": "stream",
          "name": "stdout",
          "text": [
            "\n",
            "Stock: WBA\n",
            "\n",
            "                 Open       High        Low      Close    Volume\n",
            "Date                                                            \n",
            "2020-01-02  59.279999  59.590000  58.700001  59.080002   5700500\n",
            "2020-01-03  58.540001  59.349998  58.180000  59.080002   4892300\n",
            "2020-01-06  59.040001  59.779999  58.480000  59.590000   6003300\n",
            "2020-01-07  59.220001  59.480000  58.619999  59.290001   4365700\n",
            "2020-01-08  56.049999  56.799999  54.910000  55.830002  17431800\n",
            "...               ...        ...        ...        ...       ...\n",
            "2024-04-17  17.770000  17.860001  17.530001  17.629999   7699300\n",
            "2024-04-18  17.680000  17.730000  17.510000  17.590000   6754800\n",
            "2024-04-19  17.580000  18.280001  17.559999  18.240000  10863100\n",
            "2024-04-22  18.330000  18.350000  18.000000  18.219999   7640600\n",
            "2024-04-23  18.129999  18.459999  18.030001  18.049999   7297000\n",
            "\n",
            "[1084 rows x 5 columns]\n",
            "\n",
            "Stock: WFC\n",
            "\n",
            "                 Open       High        Low      Close    Volume\n",
            "Date                                                            \n",
            "2020-01-02  53.849998  54.040001  53.509998  53.750000  16803100\n",
            "2020-01-03  53.110001  53.619999  52.900002  53.419998  15608800\n",
            "2020-01-06  52.740002  53.200001  52.720001  53.099998  13200300\n",
            "2020-01-07  53.049999  53.049999  52.470001  52.660000  13278600\n",
            "2020-01-08  52.840000  53.330002  52.799999  52.820000  16585600\n",
            "...               ...        ...        ...        ...       ...\n",
            "2024-04-17  56.880001  57.630001  56.650002  57.180000  18867700\n",
            "2024-04-18  57.630001  59.130001  57.220001  58.740002  24468500\n",
            "2024-04-19  59.000000  60.849998  58.860001  60.349998  34330900\n",
            "2024-04-22  60.400002  61.490002  60.340000  61.099998  21753400\n",
            "2024-04-23  61.169998  61.759998  60.810001  60.939999  21731200\n",
            "\n",
            "[1084 rows x 5 columns]\n"
          ]
        },
        {
          "output_type": "stream",
          "name": "stderr",
          "text": [
            "[*********************100%%**********************]  1 of 1 completed\n",
            "[*********************100%%**********************]  1 of 1 completed\n"
          ]
        },
        {
          "output_type": "stream",
          "name": "stdout",
          "text": [
            "\n",
            "Stock: XEL\n",
            "\n",
            "                 Open       High        Low      Close   Volume\n",
            "Date                                                           \n",
            "2020-01-02  63.549999  63.580002  62.200001  62.380001  2915400\n",
            "2020-01-03  62.279999  62.919998  62.279999  62.680000  2422500\n",
            "2020-01-06  62.759998  62.939999  62.330002  62.590000  2217100\n",
            "2020-01-07  62.150002  62.520000  61.970001  62.459999  1861100\n",
            "2020-01-08  62.590000  62.639999  62.119999  62.400002  4828900\n",
            "...               ...        ...        ...        ...      ...\n",
            "2024-04-17  53.009998  53.360001  52.439999  53.189999  3926400\n",
            "2024-04-18  53.660000  53.970001  53.099998  53.759998  3087000\n",
            "2024-04-19  53.869999  55.000000  53.840000  54.720001  4477700\n",
            "2024-04-22  54.840000  55.209999  54.470001  54.959999  3996100\n",
            "2024-04-23  54.680000  55.490002  54.680000  55.270000  4432100\n",
            "\n",
            "[1084 rows x 5 columns]\n",
            "\n",
            "Stock: ZTS\n",
            "\n",
            "                  Open        High         Low       Close   Volume\n",
            "Date                                                               \n",
            "2020-01-02  132.050003  134.279999  131.479996  134.139999  1576700\n",
            "2020-01-03  132.479996  134.910004  132.270004  134.160004  1274000\n",
            "2020-01-06  133.779999  134.070007  132.710007  133.130005  2334100\n",
            "2020-01-07  133.000000  134.809998  132.669998  133.580002  1224500\n",
            "2020-01-08  133.759995  135.270004  133.240005  133.289993  1766700\n",
            "...                ...         ...         ...         ...      ...\n",
            "2024-04-17  153.009995  153.179993  151.240005  151.940002  3270500\n",
            "2024-04-18  151.630005  153.669998  151.169998  153.110001  4772800\n",
            "2024-04-19  151.500000  151.539993  145.800003  146.500000  6162800\n",
            "2024-04-22  150.820007  151.529999  144.800003  145.539993  4545000\n",
            "2024-04-23  146.250000  149.899994  145.179993  149.559998  4315300\n",
            "\n",
            "[1084 rows x 5 columns]\n"
          ]
        },
        {
          "output_type": "stream",
          "name": "stderr",
          "text": [
            "\r[*********************100%%**********************]  1 of 1 completed\n"
          ]
        },
        {
          "output_type": "stream",
          "name": "stdout",
          "text": [
            "\n",
            "Stock: ADP\n",
            "\n",
            "                  Open        High         Low       Close   Volume\n",
            "Date                                                               \n",
            "2020-01-02  171.960007  172.000000  169.199997  170.320007  1364600\n",
            "2020-01-03  168.059998  170.449997  168.059998  169.960007  1000100\n",
            "2020-01-06  169.080002  170.339996  168.830002  170.190002  1205900\n",
            "2020-01-07  169.289993  169.460007  167.949997  168.130005  1878900\n",
            "2020-01-08  168.789993  170.509995  168.169998  169.710007  1675500\n",
            "...                ...         ...         ...         ...      ...\n",
            "2024-04-17  245.080002  245.080002  242.029999  242.899994  1126100\n",
            "2024-04-18  244.500000  245.000000  241.669998  241.990005  1454200\n",
            "2024-04-19  243.809998  244.279999  242.449997  243.309998  1638700\n",
            "2024-04-22  245.100006  247.580002  243.919998  246.309998  1329000\n",
            "2024-04-23  246.759995  248.089996  245.929993  246.839996  1661800\n",
            "\n",
            "[1084 rows x 5 columns]\n"
          ]
        },
        {
          "output_type": "stream",
          "name": "stderr",
          "text": [
            "\r[*********************100%%**********************]  1 of 1 completed\n"
          ]
        },
        {
          "output_type": "stream",
          "name": "stdout",
          "text": [
            "\n",
            "Stock: AMT\n",
            "\n",
            "                  Open        High         Low       Close   Volume\n",
            "Date                                                               \n",
            "2020-01-02  229.679993  231.149994  228.009995  228.500000  1426000\n",
            "2020-01-03  227.559998  229.830002  227.000000  228.610001  1598900\n",
            "2020-01-06  228.479996  230.000000  227.889999  228.550003  1526800\n",
            "2020-01-07  227.130005  227.570007  221.619995  223.679993  1463800\n",
            "2020-01-08  223.479996  226.490005  222.520004  225.619995  1433900\n",
            "...                ...         ...         ...         ...      ...\n",
            "2024-04-17  172.960007  173.360001  171.080002  172.020004  2732800\n",
            "2024-04-18  173.729996  174.059998  170.669998  171.000000  2276200\n",
            "2024-04-19  171.800003  173.009995  170.690002  171.300003  2867400\n",
            "2024-04-22  171.630005  172.940002  171.009995  172.300003  2603800\n",
            "2024-04-23  172.490005  176.070007  171.429993  174.179993  2659000\n",
            "\n",
            "[1084 rows x 5 columns]\n"
          ]
        },
        {
          "output_type": "stream",
          "name": "stderr",
          "text": [
            "[*********************100%%**********************]  1 of 1 completed\n",
            "[*********************100%%**********************]  1 of 1 completed\n"
          ]
        },
        {
          "output_type": "stream",
          "name": "stdout",
          "text": [
            "\n",
            "Stock: AON\n",
            "\n",
            "                  Open        High         Low       Close  Volume\n",
            "Date                                                              \n",
            "2020-01-02  209.199997  209.880005  207.889999  208.789993  830100\n",
            "2020-01-03  207.009995  208.910004  207.009995  207.970001  501700\n",
            "2020-01-06  207.229996  208.570007  206.770004  208.570007  740600\n",
            "2020-01-07  205.470001  208.509995  205.470001  206.800003  495500\n",
            "2020-01-08  206.970001  209.100006  206.500000  207.649994  691700\n",
            "...                ...         ...         ...         ...     ...\n",
            "2024-04-17  305.130005  308.019989  303.809998  304.790009  833400\n",
            "2024-04-18  307.579987  312.019989  307.579987  308.700012  637000\n",
            "2024-04-19  311.070007  311.070007  309.070007  310.190002  823300\n",
            "2024-04-22  311.000000  313.230011  309.380005  311.019989  938400\n",
            "2024-04-23  312.000000  313.790009  310.579987  311.859985  620900\n",
            "\n",
            "[1084 rows x 5 columns]\n",
            "\n",
            "Stock: BIIB\n",
            "\n",
            "                  Open        High         Low       Close   Volume\n",
            "Date                                                               \n",
            "2020-01-02  299.059998  299.079987  292.279999  294.239990  1178300\n",
            "2020-01-03  290.769989  292.679993  290.220001  290.850006   700100\n",
            "2020-01-06  290.239990  291.190002  288.200012  290.820007  1271000\n",
            "2020-01-07  290.570007  291.839996  287.989990  290.089996  1034000\n",
            "2020-01-08  288.880005  294.190002  287.809998  292.660004  1059000\n",
            "...                ...         ...         ...         ...      ...\n",
            "2024-04-17  196.360001  196.360001  192.009995  192.160004  1320600\n",
            "2024-04-18  191.750000  192.559998  189.520004  190.520004  1512000\n",
            "2024-04-19  190.720001  194.529999  189.440002  194.380005  1599600\n",
            "2024-04-22  196.190002  196.779999  193.229996  194.110001  1119500\n",
            "2024-04-23  193.339996  195.860001  192.750000  193.179993  1461700\n",
            "\n",
            "[1084 rows x 5 columns]\n"
          ]
        },
        {
          "output_type": "stream",
          "name": "stderr",
          "text": [
            "\r[*********************100%%**********************]  1 of 1 completed\n"
          ]
        },
        {
          "output_type": "stream",
          "name": "stdout",
          "text": [
            "\n",
            "Stock: CCI\n",
            "\n",
            "                  Open        High         Low       Close   Volume\n",
            "Date                                                               \n",
            "2020-01-02  142.330002  142.660004  141.130005  141.679993  1795500\n",
            "2020-01-03  140.850006  142.699997  140.100006  142.460007  1254500\n",
            "2020-01-06  142.139999  142.679993  141.250000  141.259995  1631100\n",
            "2020-01-07  141.000000  141.419998  138.160004  138.869995  1667200\n",
            "2020-01-08  139.009995  139.910004  138.589996  139.449997  2644600\n",
            "...                ...         ...         ...         ...      ...\n",
            "2024-04-17   94.400002   94.699997   92.809998   93.050003  3985800\n",
            "2024-04-18   95.690002   96.480003   92.480003   94.370003  4938200\n",
            "2024-04-19   94.370003   95.559998   93.800003   95.199997  5055400\n",
            "2024-04-22   95.000000   95.309998   93.760002   95.080002  3280300\n",
            "2024-04-23   95.089996   96.300003   94.769997   95.470001  2484500\n",
            "\n",
            "[1084 rows x 5 columns]\n"
          ]
        },
        {
          "output_type": "stream",
          "name": "stderr",
          "text": [
            "[*********************100%%**********************]  1 of 1 completed\n",
            "[*********************100%%**********************]  1 of 1 completed\n"
          ]
        },
        {
          "output_type": "stream",
          "name": "stdout",
          "text": [
            "\n",
            "Stock: CME\n",
            "\n",
            "                  Open        High         Low       Close   Volume\n",
            "Date                                                               \n",
            "2020-01-02  201.110001  202.050003  200.580002  201.850006  1464900\n",
            "2020-01-03  201.160004  205.050003  201.100006  204.550003  1184900\n",
            "2020-01-06  205.089996  206.289993  203.669998  205.389999  1329800\n",
            "2020-01-07  205.500000  206.009995  202.940002  204.990005   968000\n",
            "2020-01-08  205.559998  208.380005  205.559998  206.100006  1512300\n",
            "...                ...         ...         ...         ...      ...\n",
            "2024-04-17  208.059998  209.130005  206.210007  208.419998  1853400\n",
            "2024-04-18  210.149994  210.360001  207.770004  209.649994  1256400\n",
            "2024-04-19  211.279999  214.500000  210.270004  213.039993  2563900\n",
            "2024-04-22  213.300003  216.710007  212.880005  215.479996  1743300\n",
            "2024-04-23  215.009995  217.449997  214.139999  216.770004  2048700\n",
            "\n",
            "[1084 rows x 5 columns]\n",
            "\n",
            "Stock: COF\n",
            "\n",
            "                  Open        High         Low       Close   Volume\n",
            "Date                                                               \n",
            "2020-01-02  103.410004  103.620003  102.300003  103.610001  1603000\n",
            "2020-01-03  101.980003  102.519997  101.320000  102.000000  1450100\n",
            "2020-01-06  100.879997  101.129997  100.059998  101.080002  1526300\n",
            "2020-01-07  100.199997  100.699997   99.830002  100.080002  1978200\n",
            "2020-01-08  100.510002  101.550003  100.269997  101.139999  2194600\n",
            "...                ...         ...         ...         ...      ...\n",
            "2024-04-17  137.750000  138.570007  136.520004  136.770004  1762300\n",
            "2024-04-18  137.990005  143.660004  137.990005  141.630005  3001200\n",
            "2024-04-19  142.259995  145.190002  142.259995  142.910004  2530400\n",
            "2024-04-22  144.100006  147.279999  143.089996  147.250000  2875500\n",
            "2024-04-23  147.080002  149.940002  146.880005  147.899994  2503200\n",
            "\n",
            "[1084 rows x 5 columns]\n"
          ]
        },
        {
          "output_type": "stream",
          "name": "stderr",
          "text": [
            "\r[*********************100%%**********************]  1 of 1 completed\n"
          ]
        },
        {
          "output_type": "stream",
          "name": "stdout",
          "text": [
            "\n",
            "Stock: D\n",
            "\n",
            "                 Open       High        Low      Close   Volume\n",
            "Date                                                           \n",
            "2020-01-02  82.879997  82.940002  81.510002  81.959999  3004200\n",
            "2020-01-03  81.809998  82.550003  81.730003  81.760002  2840700\n",
            "2020-01-06  81.849998  82.650002  81.849998  82.389999  2164400\n",
            "2020-01-07  82.180000  82.480003  81.959999  82.209999  2555100\n",
            "2020-01-08  82.419998  82.480003  81.559998  81.690002  2591100\n",
            "...               ...        ...        ...        ...      ...\n",
            "2024-04-17  47.330002  48.430000  47.150002  48.320000  3124800\n",
            "2024-04-18  48.610001  48.810001  48.169998  48.570000  2822700\n",
            "2024-04-19  48.810001  49.980000  48.680000  49.840000  4112400\n",
            "2024-04-22  49.660000  50.669998  49.430000  50.630001  4257200\n",
            "2024-04-23  50.360001  51.110001  50.240002  50.669998  4636500\n",
            "\n",
            "[1084 rows x 5 columns]\n"
          ]
        },
        {
          "output_type": "stream",
          "name": "stderr",
          "text": [
            "[*********************100%%**********************]  1 of 1 completed\n",
            "[*********************100%%**********************]  1 of 1 completed\n"
          ]
        },
        {
          "output_type": "stream",
          "name": "stdout",
          "text": [
            "\n",
            "Stock: ICE\n",
            "\n",
            "                  Open        High         Low       Close   Volume\n",
            "Date                                                               \n",
            "2020-01-02   92.839996   93.070000   92.180000   92.669998  3045300\n",
            "2020-01-03   92.099998   94.980003   91.949997   94.669998  2544500\n",
            "2020-01-06   94.699997   95.470001   94.019997   94.699997  2649700\n",
            "2020-01-07   94.080002   94.930000   93.769997   94.430000  2343900\n",
            "2020-01-08   94.660004   94.900002   93.480003   93.599998  3013700\n",
            "...                ...         ...         ...         ...      ...\n",
            "2024-04-17  132.000000  132.000000  130.000000  130.740005  2362400\n",
            "2024-04-18  131.500000  131.500000  130.179993  130.979996  2015000\n",
            "2024-04-19  131.369995  131.779999  130.240005  131.210007  2263400\n",
            "2024-04-22  132.100006  132.369995  131.119995  131.649994  1877300\n",
            "2024-04-23  132.000000  132.470001  131.399994  132.330002  2375900\n",
            "\n",
            "[1084 rows x 5 columns]\n",
            "\n",
            "Stock: IDXX\n",
            "\n",
            "                  Open        High         Low       Close  Volume\n",
            "Date                                                              \n",
            "2020-01-02  261.529999  265.260010  260.489990  265.019989  445500\n",
            "2020-01-03  260.869995  266.390015  259.989990  264.769989  399100\n",
            "2020-01-06  263.899994  267.179993  261.320007  266.929993  579000\n",
            "2020-01-07  267.290009  269.459991  265.369995  266.119995  418400\n",
            "2020-01-08  267.890015  274.649994  266.109985  271.679993  717500\n",
            "...                ...         ...         ...         ...     ...\n",
            "2024-04-17  489.440002  490.489990  477.630005  478.239990  533300\n",
            "2024-04-18  478.290009  483.100006  475.559998  477.790009  399900\n",
            "2024-04-19  482.200012  482.209991  471.420013  476.350006  568600\n",
            "2024-04-22  479.480011  481.940002  473.859985  479.570007  419600\n",
            "2024-04-23  482.600006  494.450012  481.489990  493.799988  558400\n",
            "\n",
            "[1084 rows x 5 columns]\n"
          ]
        },
        {
          "output_type": "stream",
          "name": "stderr",
          "text": [
            "[*********************100%%**********************]  1 of 1 completed\n",
            "[*********************100%%**********************]  1 of 1 completed"
          ]
        },
        {
          "output_type": "stream",
          "name": "stdout",
          "text": [
            "\n",
            "Stock: KLAC\n",
            "\n",
            "                  Open        High         Low       Close   Volume\n",
            "Date                                                               \n",
            "2020-01-02  180.779999  182.699997  180.020004  182.570007  1056900\n",
            "2020-01-03  179.330002  181.169998  177.860001  179.080002   833400\n",
            "2020-01-06  176.320007  177.559998  174.089996  175.050003  1266800\n",
            "2020-01-07  176.139999  177.770004  174.300003  176.440002  1139300\n",
            "2020-01-08  176.500000  178.660004  175.520004  176.669998   883500\n",
            "...                ...         ...         ...         ...      ...\n",
            "2024-04-17  681.770020  684.849976  657.830017  658.979980  1193100\n",
            "2024-04-18  655.789978  658.409973  642.000000  644.219971   903100\n",
            "2024-04-19  646.200012  647.710022  623.169983  628.159973  1072600\n",
            "2024-04-22  635.349976  638.729980  625.330017  633.640015   924300\n",
            "2024-04-23  636.039978  654.000000  635.830017  648.210022   710100\n",
            "\n",
            "[1084 rows x 5 columns]\n"
          ]
        },
        {
          "output_type": "stream",
          "name": "stderr",
          "text": [
            "\n",
            "\r[*********************100%%**********************]  1 of 1 completed\n"
          ]
        },
        {
          "output_type": "stream",
          "name": "stdout",
          "text": [
            "\n",
            "Stock: LRCX\n",
            "\n",
            "                  Open        High         Low       Close   Volume\n",
            "Date                                                               \n",
            "2020-01-02  295.779999  299.799988  294.489990  297.890015  1506400\n",
            "2020-01-03  292.049988  296.809998  291.720001  294.690002   962200\n",
            "2020-01-06  289.790009  292.029999  287.540009  289.190002  1340500\n",
            "2020-01-07  291.739990  298.540009  291.380005  296.239990  1559500\n",
            "2020-01-08  297.480011  301.670013  295.200012  299.970001  1553700\n",
            "...                ...         ...         ...         ...      ...\n",
            "2024-04-17  950.000000  952.489990  910.260010  912.260010  1668600\n",
            "2024-04-18  909.229980  909.330017  884.390015  888.919983  2307400\n",
            "2024-04-19  894.940002  899.679993  861.950012  870.250000  1353200\n",
            "2024-04-22  876.400024  878.739990  857.979980  868.070007  1856300\n",
            "2024-04-23  878.000000  894.299988  868.099976  887.419983   982300\n",
            "\n",
            "[1084 rows x 5 columns]\n",
            "\n",
            "Stock: MDLZ\n",
            "\n",
            "                 Open       High        Low      Close    Volume\n",
            "Date                                                            \n",
            "2020-01-02  55.060001  55.349998  54.110001  54.330002   7272900\n",
            "2020-01-03  54.000000  54.570000  53.959999  54.240002   6791700\n",
            "2020-01-06  54.389999  54.480000  53.849998  54.150002   5906400\n",
            "2020-01-07  54.049999  54.080002  53.570000  53.919998   6716300\n",
            "2020-01-08  54.029999  54.419998  53.910000  54.049999   5435400\n",
            "...               ...        ...        ...        ...       ...\n",
            "2024-04-17  66.230003  66.660004  66.000000  66.510002   6755500\n",
            "2024-04-18  66.660004  67.330002  66.550003  67.169998   8695700\n",
            "2024-04-19  67.419998  68.160004  67.089996  68.110001  11017000\n",
            "2024-04-22  68.260002  69.430000  68.230003  69.410004  10426900\n",
            "2024-04-23  69.250000  70.779999  69.230003  70.750000  15893900\n",
            "\n",
            "[1084 rows x 5 columns]\n"
          ]
        },
        {
          "output_type": "stream",
          "name": "stderr",
          "text": [
            "\r[*********************100%%**********************]  1 of 1 completed\n"
          ]
        },
        {
          "output_type": "stream",
          "name": "stdout",
          "text": [
            "\n",
            "Stock: MET\n",
            "\n",
            "                 Open       High        Low      Close   Volume\n",
            "Date                                                           \n",
            "2020-01-02  51.279999  51.689999  51.060001  51.619999  4416800\n",
            "2020-01-03  50.990002  51.160000  50.599998  51.090000  5162300\n",
            "2020-01-06  50.630001  51.029999  50.320000  50.950001  3271700\n",
            "2020-01-07  51.009998  51.619999  50.740002  51.290001  6578000\n",
            "2020-01-08  51.470001  52.570000  51.439999  51.830002  9880500\n",
            "...               ...        ...        ...        ...      ...\n",
            "2024-04-17  69.309998  69.680000  68.580002  68.919998  2650900\n",
            "2024-04-18  69.410004  70.150002  69.330002  69.949997  2823600\n",
            "2024-04-19  70.220001  71.309998  70.029999  71.110001  3345300\n",
            "2024-04-22  71.599998  72.430000  70.970001  71.959999  2846000\n",
            "2024-04-23  72.230003  72.599998  72.029999  72.220001  2106200\n",
            "\n",
            "[1084 rows x 5 columns]\n"
          ]
        },
        {
          "output_type": "stream",
          "name": "stderr",
          "text": [
            "\r[*********************100%%**********************]  1 of 1 completed\n"
          ]
        },
        {
          "output_type": "stream",
          "name": "stdout",
          "text": [
            "\n",
            "Stock: MSI\n",
            "\n",
            "                  Open        High         Low       Close   Volume\n",
            "Date                                                               \n",
            "2020-01-02  162.169998  162.309998  160.770004  161.630005  1356900\n",
            "2020-01-03  160.029999  164.580002  159.369995  164.380005   962400\n",
            "2020-01-06  163.929993  167.029999  163.110001  166.919998  1544400\n",
            "2020-01-07  165.880005  166.449997  165.000000  165.720001  1131000\n",
            "2020-01-08  165.899994  166.899994  165.039993  165.889999  1386800\n",
            "...                ...         ...         ...         ...      ...\n",
            "2024-04-17  342.200012  343.170013  339.209991  340.510010   540400\n",
            "2024-04-18  341.779999  342.589996  337.320007  339.459991   493700\n",
            "2024-04-19  341.070007  341.070007  337.160004  339.649994  1393000\n",
            "2024-04-22  341.420013  347.859985  339.760010  345.230011  1026900\n",
            "2024-04-23  345.970001  350.089996  344.920013  345.549988   721300\n",
            "\n",
            "[1084 rows x 5 columns]\n"
          ]
        },
        {
          "output_type": "stream",
          "name": "stderr",
          "text": [
            "\r[*********************100%%**********************]  1 of 1 completed\n"
          ]
        },
        {
          "output_type": "stream",
          "name": "stdout",
          "text": [
            "\n",
            "Stock: NOC\n",
            "\n",
            "                  Open        High         Low       Close   Volume\n",
            "Date                                                               \n",
            "2020-01-02  344.440002  355.700012  343.619995  355.700012   941900\n",
            "2020-01-03  368.149994  375.820007  366.369995  375.010010  2600300\n",
            "2020-01-06  379.950012  382.260010  372.579987  375.829987  2130000\n",
            "2020-01-07  373.619995  376.709991  371.089996  374.970001   863600\n",
            "2020-01-08  376.200012  379.269989  367.100006  370.290009  1312400\n",
            "...                ...         ...         ...         ...      ...\n",
            "2024-04-17  452.920013  453.850006  448.440002  452.049988   818200\n",
            "2024-04-18  449.880005  456.700012  449.880005  452.500000   846300\n",
            "2024-04-19  455.589996  463.500000  453.070007  462.579987  1213900\n",
            "2024-04-22  464.929993  472.450012  462.070007  470.980011  1006300\n",
            "2024-04-23  473.579987  476.769989  470.410004  474.679993  1365400\n",
            "\n",
            "[1084 rows x 5 columns]\n"
          ]
        },
        {
          "output_type": "stream",
          "name": "stderr",
          "text": [
            "[*********************100%%**********************]  1 of 1 completed\n",
            "[*********************100%%**********************]  1 of 1 completed\n",
            "[*********************100%%**********************]  1 of 1 completed\n"
          ]
        },
        {
          "output_type": "stream",
          "name": "stdout",
          "text": [
            "\n",
            "Stock: NSC\n",
            "\n",
            "                  Open        High         Low       Close   Volume\n",
            "Date                                                               \n",
            "2020-01-02  195.050003  196.800003  194.270004  196.800003  1458800\n",
            "2020-01-03  193.190002  196.589996  193.190002  196.440002  2003700\n",
            "2020-01-06  195.169998  196.169998  194.199997  195.929993  2076800\n",
            "2020-01-07  196.520004  197.729996  195.130005  196.710007  1478900\n",
            "2020-01-08  196.820007  199.350006  195.979996  197.630005  1133600\n",
            "...                ...         ...         ...         ...      ...\n",
            "2024-04-17  242.910004  243.279999  239.080002  239.339996  1011100\n",
            "2024-04-18  241.809998  244.119995  239.759995  240.270004   922200\n",
            "2024-04-19  242.570007  244.000000  240.350006  241.279999   963400\n",
            "2024-04-22  241.949997  246.279999  239.690002  244.610001   976100\n",
            "2024-04-23  245.190002  247.169998  243.979996  245.029999  1148600\n",
            "\n",
            "[1084 rows x 5 columns]\n",
            "\n",
            "Stock: PLD\n",
            "\n",
            "                  Open        High         Low       Close    Volume\n",
            "Date                                                                \n",
            "2020-01-02   89.669998   89.800003   87.750000   88.400002   2246200\n",
            "2020-01-03   87.550003   89.860001   87.550003   89.389999   2188000\n",
            "2020-01-06   89.440002   89.599998   88.889999   89.040001   1794500\n",
            "2020-01-07   88.620003   88.940002   87.879997   88.470001   2054500\n",
            "2020-01-08   88.459999   89.230003   88.150002   88.949997   2013700\n",
            "...                ...         ...         ...         ...       ...\n",
            "2024-04-17  108.699997  111.500000  105.559998  106.489998  11034000\n",
            "2024-04-18  105.959999  106.290001  103.599998  104.690002   6310200\n",
            "2024-04-19  104.639999  104.870003  102.519997  103.489998   6931100\n",
            "2024-04-22  103.800003  104.570000  102.550003  104.080002   3673000\n",
            "2024-04-23  104.540001  105.610001  104.070000  104.830002   4232300\n",
            "\n",
            "[1084 rows x 5 columns]\n",
            "\n",
            "Stock: PNC\n",
            "\n",
            "                  Open        High         Low       Close   Volume\n",
            "Date                                                               \n",
            "2020-01-02  159.750000  160.369995  158.899994  160.369995  1881300\n",
            "2020-01-03  158.410004  159.589996  157.429993  158.830002  1374400\n",
            "2020-01-06  158.100006  158.679993  157.449997  158.509995  1335500\n",
            "2020-01-07  157.429993  158.399994  156.610001  157.259995  1936300\n",
            "2020-01-08  158.000000  159.910004  157.300003  158.889999  1958400\n",
            "...                ...         ...         ...         ...      ...\n",
            "2024-04-17  149.059998  149.460007  145.779999  147.250000  1897100\n",
            "2024-04-18  147.360001  149.119995  146.889999  147.889999  1352900\n",
            "2024-04-19  148.990005  152.699997  148.660004  152.300003  2368900\n",
            "2024-04-22  152.759995  156.070007  152.240005  155.929993  2212300\n",
            "2024-04-23  156.500000  158.360001  155.860001  157.610001  2137000\n",
            "\n",
            "[1084 rows x 5 columns]\n"
          ]
        },
        {
          "output_type": "stream",
          "name": "stderr",
          "text": [
            "[*********************100%%**********************]  1 of 1 completed\n",
            "[*********************100%%**********************]  1 of 1 completed\n"
          ]
        },
        {
          "output_type": "stream",
          "name": "stdout",
          "text": [
            "\n",
            "Stock: SO\n",
            "\n",
            "                 Open       High        Low      Close   Volume\n",
            "Date                                                           \n",
            "2020-01-02  63.650002  63.669998  62.419998  62.619999  4675900\n",
            "2020-01-03  62.529999  62.910000  62.430000  62.560001  3531800\n",
            "2020-01-06  62.560001  63.000000  62.509998  62.810001  3507600\n",
            "2020-01-07  62.560001  62.730000  62.240002  62.619999  3191700\n",
            "2020-01-08  62.700001  62.840000  62.380001  62.599998  3413600\n",
            "...               ...        ...        ...        ...      ...\n",
            "2024-04-17  68.089996  69.980003  68.019997  69.800003  6705800\n",
            "2024-04-18  70.000000  70.690002  69.430000  70.570000  4602100\n",
            "2024-04-19  70.870003  72.180000  70.699997  72.150002  6549300\n",
            "2024-04-22  71.900002  73.150002  71.660004  72.980003  5387600\n",
            "2024-04-23  72.970001  73.769997  72.550003  73.250000  6054400\n",
            "\n",
            "[1084 rows x 5 columns]\n",
            "\n",
            "Stock: SYK\n",
            "\n",
            "                  Open        High         Low       Close   Volume\n",
            "Date                                                               \n",
            "2020-01-02  210.940002  211.000000  208.210007  210.449997  1092600\n",
            "2020-01-03  207.000000  210.570007  207.000000  209.589996   801600\n",
            "2020-01-06  209.199997  213.070007  208.229996  212.220001  1294500\n",
            "2020-01-07  210.029999  210.850006  207.110001  209.619995  1077500\n",
            "2020-01-08  210.559998  212.009995  209.220001  210.690002  1019100\n",
            "...                ...         ...         ...         ...      ...\n",
            "2024-04-17  338.609985  339.399994  334.589996  336.029999  1066100\n",
            "2024-04-18  336.070007  337.029999  326.589996  327.450012  2143600\n",
            "2024-04-19  330.380005  330.380005  324.679993  325.429993  1883900\n",
            "2024-04-22  327.709991  329.429993  323.750000  327.679993  1688600\n",
            "2024-04-23  328.549988  335.119995  327.000000  334.910004  1430500\n",
            "\n",
            "[1084 rows x 5 columns]\n"
          ]
        },
        {
          "output_type": "stream",
          "name": "stderr",
          "text": [
            "[*********************100%%**********************]  1 of 1 completed\n",
            "[*********************100%%**********************]  1 of 1 completed\n"
          ]
        },
        {
          "output_type": "stream",
          "name": "stdout",
          "text": [
            "\n",
            "Stock: TEL\n",
            "\n",
            "                  Open        High         Low       Close   Volume\n",
            "Date                                                               \n",
            "2020-01-02   96.849998   97.089996   95.739998   96.510002  1866500\n",
            "2020-01-03   94.959999   95.570000   94.550003   95.370003  1439800\n",
            "2020-01-06   94.800003   95.269997   94.440002   94.709999  1150100\n",
            "2020-01-07   94.379997   96.839996   93.879997   96.669998  2103400\n",
            "2020-01-08   96.959999   98.160004   96.860001   97.669998  2001000\n",
            "...                ...         ...         ...         ...      ...\n",
            "2024-04-17  143.559998  143.759995  140.929993  141.479996  1865300\n",
            "2024-04-18  141.750000  142.649994  140.289993  140.479996  2295900\n",
            "2024-04-19  140.649994  141.330002  140.119995  140.550003  4115600\n",
            "2024-04-22  141.470001  144.110001  140.389999  143.770004  3026200\n",
            "2024-04-23  143.990005  145.610001  142.979996  143.229996  2993600\n",
            "\n",
            "[1084 rows x 5 columns]\n",
            "\n",
            "Stock: TMUS\n",
            "\n",
            "                  Open        High         Low       Close   Volume\n",
            "Date                                                               \n",
            "2020-01-02   78.879997   78.889999   77.930000   78.589996  3392700\n",
            "2020-01-03   78.059998   78.430000   77.470001   78.169998  1831900\n",
            "2020-01-06   78.129997   78.849998   77.970001   78.620003  2675300\n",
            "2020-01-07   78.570000   79.510002   78.150002   78.919998  3262400\n",
            "2020-01-08   79.220001   79.790001   78.080002   79.419998  3037400\n",
            "...                ...         ...         ...         ...      ...\n",
            "2024-04-17  159.580002  160.649994  159.410004  160.089996  4098300\n",
            "2024-04-18  160.059998  161.509995  160.059998  160.850006  3246600\n",
            "2024-04-19  161.460007  162.389999  160.699997  162.330002  5005900\n",
            "2024-04-22  163.850006  164.610001  162.110001  162.360001  3701900\n",
            "2024-04-23  162.690002  163.869995  162.350006  163.250000  4165100\n",
            "\n",
            "[1084 rows x 5 columns]\n"
          ]
        },
        {
          "output_type": "stream",
          "name": "stderr",
          "text": [
            "\r[*********************100%%**********************]  1 of 1 completed\n",
            "ERROR:yfinance:\n",
            "1 Failed download:\n",
            "ERROR:yfinance:['TWTR']: Exception('%ticker%: No timezone found, symbol may be delisted')\n",
            "[*********************100%%**********************]  1 of 1 completed\n"
          ]
        },
        {
          "output_type": "stream",
          "name": "stdout",
          "text": [
            "No data found for TWTR\n",
            "\n",
            "Stock: WM\n",
            "\n",
            "                  Open        High         Low       Close   Volume\n",
            "Date                                                               \n",
            "2020-01-02  114.089996  114.220001  112.500000  114.220001  2071700\n",
            "2020-01-03  113.150002  115.470001  113.099998  115.330002  1424900\n",
            "2020-01-06  114.599998  115.949997  114.510002  115.930000  1840700\n",
            "2020-01-07  115.529999  116.199997  114.879997  116.010002  2325500\n",
            "2020-01-08  116.099998  116.480003  115.680000  116.080002  1824600\n",
            "...                ...         ...         ...         ...      ...\n",
            "2024-04-17  206.169998  206.309998  204.369995  206.149994  1193300\n",
            "2024-04-18  205.589996  206.050003  204.520004  205.070007   983100\n",
            "2024-04-19  206.449997  207.330002  205.800003  207.070007  1354000\n",
            "2024-04-22  207.690002  209.000000  207.309998  207.529999  1420600\n",
            "2024-04-23  207.250000  210.139999  207.240005  208.779999  1596500\n",
            "\n",
            "[1084 rows x 5 columns]\n"
          ]
        },
        {
          "output_type": "stream",
          "name": "stderr",
          "text": [
            "[*********************100%%**********************]  1 of 1 completed\n",
            "[*********************100%%**********************]  1 of 1 completed\n"
          ]
        },
        {
          "output_type": "stream",
          "name": "stdout",
          "text": [
            "\n",
            "Stock: ZTS\n",
            "\n",
            "                  Open        High         Low       Close   Volume\n",
            "Date                                                               \n",
            "2020-01-02  132.050003  134.279999  131.479996  134.139999  1576700\n",
            "2020-01-03  132.479996  134.910004  132.270004  134.160004  1274000\n",
            "2020-01-06  133.779999  134.070007  132.710007  133.130005  2334100\n",
            "2020-01-07  133.000000  134.809998  132.669998  133.580002  1224500\n",
            "2020-01-08  133.759995  135.270004  133.240005  133.289993  1766700\n",
            "...                ...         ...         ...         ...      ...\n",
            "2024-04-17  153.009995  153.179993  151.240005  151.940002  3270500\n",
            "2024-04-18  151.630005  153.669998  151.169998  153.110001  4772800\n",
            "2024-04-19  151.500000  151.539993  145.800003  146.500000  6162800\n",
            "2024-04-22  150.820007  151.529999  144.800003  145.539993  4545000\n",
            "2024-04-23  146.250000  149.899994  145.179993  149.559998  4315300\n",
            "\n",
            "[1084 rows x 5 columns]\n",
            "\n",
            "Stock: ABBV\n",
            "\n",
            "                  Open        High         Low       Close   Volume\n",
            "Date                                                               \n",
            "2020-01-02   89.080002   89.570000   88.510002   89.550003  5639200\n",
            "2020-01-03   88.169998   89.389999   87.900002   88.699997  5988500\n",
            "2020-01-06   88.220001   89.620003   87.980003   89.400002  6786600\n",
            "2020-01-07   88.930000   89.540001   88.260002   88.889999  7242500\n",
            "2020-01-08   89.150002   90.059998   88.870003   89.519997  7696800\n",
            "...                ...         ...         ...         ...      ...\n",
            "2024-04-17  164.149994  164.740005  163.229996  164.250000  4792200\n",
            "2024-04-18  164.960007  167.440002  164.429993  164.660004  4480100\n",
            "2024-04-19  165.020004  166.600006  163.250000  166.410004  5532400\n",
            "2024-04-22  167.679993  169.589996  166.919998  167.889999  5580700\n",
            "2024-04-23  168.589996  170.369995  168.220001  169.539993  4084100\n",
            "\n",
            "[1084 rows x 5 columns]\n"
          ]
        },
        {
          "output_type": "stream",
          "name": "stderr",
          "text": [
            "[*********************100%%**********************]  1 of 1 completed\n",
            "[*********************100%%**********************]  1 of 1 completed\n"
          ]
        },
        {
          "output_type": "stream",
          "name": "stdout",
          "text": [
            "\n",
            "Stock: ADI\n",
            "\n",
            "                  Open        High         Low       Close   Volume\n",
            "Date                                                               \n",
            "2020-01-02  120.110001  120.650002  118.739998  120.430000  1279300\n",
            "2020-01-03  118.000000  119.669998  117.730003  118.309998  1374400\n",
            "2020-01-06  116.250000  117.320000  115.610001  116.919998  1979400\n",
            "2020-01-07  118.900002  120.879997  118.400002  119.580002  2214700\n",
            "2020-01-08  120.309998  121.459999  119.690002  120.660004  2036500\n",
            "...                ...         ...         ...         ...      ...\n",
            "2024-04-17  192.419998  192.830002  189.199997  189.429993  2763200\n",
            "2024-04-18  188.320007  190.199997  186.600006  187.580002  2748900\n",
            "2024-04-19  187.089996  187.929993  182.570007  183.360001  4121300\n",
            "2024-04-22  184.440002  188.309998  183.190002  186.309998  3557800\n",
            "2024-04-23  187.000000  190.860001  186.429993  189.929993  4177800\n",
            "\n",
            "[1084 rows x 5 columns]\n",
            "\n",
            "Stock: ALL\n",
            "\n",
            "                  Open        High         Low       Close   Volume\n",
            "Date                                                               \n",
            "2020-01-02  112.970001  113.000000  111.660004  112.820000  1212400\n",
            "2020-01-03  111.839996  113.099998  111.769997  112.830002  1047100\n",
            "2020-01-06  112.339996  113.209999  112.040001  113.160004  1214800\n",
            "2020-01-07  112.680000  112.989998  112.160004  112.190002  1641000\n",
            "2020-01-08  112.550003  113.830002  112.440002  112.500000  1748900\n",
            "...                ...         ...         ...         ...      ...\n",
            "2024-04-17  162.270004  164.009995  161.059998  162.919998  1581500\n",
            "2024-04-18  165.100006  169.529999  164.679993  169.110001  2068300\n",
            "2024-04-19  170.009995  173.850006  169.770004  172.960007  2367900\n",
            "2024-04-22  173.160004  176.119995  172.410004  175.410004  1698300\n",
            "2024-04-23  176.149994  176.929993  174.669998  175.279999  1410800\n",
            "\n",
            "[1084 rows x 5 columns]\n"
          ]
        },
        {
          "output_type": "stream",
          "name": "stderr",
          "text": [
            "[*********************100%%**********************]  1 of 1 completed\n",
            "[*********************100%%**********************]  1 of 1 completed\n"
          ]
        },
        {
          "output_type": "stream",
          "name": "stdout",
          "text": [
            "\n",
            "Stock: AMAT\n",
            "\n",
            "                  Open        High         Low       Close   Volume\n",
            "Date                                                               \n",
            "2020-01-02   62.000000   62.650002   61.700001   62.200001  6647900\n",
            "2020-01-03   60.689999   61.730000   60.560001   61.209999  5415200\n",
            "2020-01-06   59.849998   60.459999   59.299999   59.889999  8586000\n",
            "2020-01-07   60.270000   62.099998   60.139999   61.619999  7970400\n",
            "2020-01-08   61.700001   62.200001   61.250000   61.580002  4364400\n",
            "...                ...         ...         ...         ...      ...\n",
            "2024-04-17  206.089996  207.000000  198.100006  199.889999  6350300\n",
            "2024-04-18  197.470001  198.419998  193.520004  194.320007  6219400\n",
            "2024-04-19  194.259995  194.690002  188.160004  189.770004  6493500\n",
            "2024-04-22  191.550003  191.779999  186.860001  189.460007  7149800\n",
            "2024-04-23  190.250000  194.500000  189.970001  193.240005  4425900\n",
            "\n",
            "[1084 rows x 5 columns]\n",
            "\n",
            "Stock: AMP\n",
            "\n",
            "                  Open        High         Low       Close   Volume\n",
            "Date                                                               \n",
            "2020-01-02  167.539993  169.240005  166.690002  169.229996   822100\n",
            "2020-01-03  167.979996  168.210007  165.789993  167.119995   581300\n",
            "2020-01-06  165.419998  167.800003  165.220001  167.669998   748700\n",
            "2020-01-07  166.490005  167.309998  165.570007  165.649994  1009200\n",
            "2020-01-08  165.910004  168.699997  165.910004  167.139999   657700\n",
            "...                ...         ...         ...         ...      ...\n",
            "2024-04-17  414.070007  416.269989  411.209991  411.769989   518300\n",
            "2024-04-18  413.670013  416.420013  410.540009  412.630005   365800\n",
            "2024-04-19  414.320007  417.920013  411.609985  417.010010  1159100\n",
            "2024-04-22  419.980011  425.220001  414.489990  421.380005   538100\n",
            "2024-04-23  420.109985  423.579987  402.700012  407.690002   992000\n",
            "\n",
            "[1084 rows x 5 columns]\n"
          ]
        },
        {
          "output_type": "stream",
          "name": "stderr",
          "text": [
            "[*********************100%%**********************]  1 of 1 completed\n",
            "[*********************100%%**********************]  1 of 1 completed\n"
          ]
        },
        {
          "output_type": "stream",
          "name": "stdout",
          "text": [
            "\n",
            "Stock: APH\n",
            "\n",
            "                  Open        High         Low       Close   Volume\n",
            "Date                                                               \n",
            "2020-01-02   54.200001   54.615002   53.889999   54.615002  2343000\n",
            "2020-01-03   53.799999   54.150002   53.720001   54.044998  1397800\n",
            "2020-01-06   53.639999   53.779999   53.340000   53.764999  2195000\n",
            "2020-01-07   54.009998   54.270000   53.790001   54.055000  1668000\n",
            "2020-01-08   54.000000   54.470001   53.695000   54.185001  1615800\n",
            "...                ...         ...         ...         ...      ...\n",
            "2024-04-17  112.570000  113.050003  111.050003  111.489998  2641700\n",
            "2024-04-18  111.550003  112.699997  110.860001  110.879997  2874300\n",
            "2024-04-19  110.980003  111.879997  109.440002  110.169998  3769000\n",
            "2024-04-22  111.150002  112.660004  110.190002  111.860001  3274800\n",
            "2024-04-23  112.720001  114.449997  112.129997  114.260002  5100900\n",
            "\n",
            "[1084 rows x 5 columns]\n",
            "\n",
            "Stock: APTV\n",
            "\n",
            "                 Open       High        Low      Close   Volume\n",
            "Date                                                           \n",
            "2020-01-02  95.940002  96.339996  95.010002  96.309998  1655300\n",
            "2020-01-03  94.250000  94.830002  93.599998  94.099998   960600\n",
            "2020-01-06  93.180000  93.180000  91.739998  92.349998  1574900\n",
            "2020-01-07  92.330002  92.500000  90.849998  91.190002  2100900\n",
            "2020-01-08  91.430000  93.470001  90.959999  93.089996  2295700\n",
            "...               ...        ...        ...        ...      ...\n",
            "2024-04-17  71.150002  71.889999  69.300003  69.349998  3727600\n",
            "2024-04-18  70.059998  70.129997  68.839996  69.320000  1727900\n",
            "2024-04-19  68.919998  69.989998  68.919998  69.629997  1867600\n",
            "2024-04-22  70.269997  70.449997  69.220001  70.099998  1883800\n",
            "2024-04-23  70.120003  70.970001  69.690002  70.250000  1902700\n",
            "\n",
            "[1084 rows x 5 columns]\n"
          ]
        },
        {
          "output_type": "stream",
          "name": "stderr",
          "text": [
            "[*********************100%%**********************]  1 of 1 completed\n",
            "[*********************100%%**********************]  1 of 1 completed\n"
          ]
        },
        {
          "output_type": "stream",
          "name": "stdout",
          "text": [
            "\n",
            "Stock: AVB\n",
            "\n",
            "                  Open        High         Low       Close  Volume\n",
            "Date                                                              \n",
            "2020-01-02  210.460007  210.910004  206.070007  207.240005  817400\n",
            "2020-01-03  206.380005  209.570007  206.309998  209.229996  672100\n",
            "2020-01-06  209.059998  209.869995  208.240005  209.580002  602000\n",
            "2020-01-07  208.190002  208.580002  204.779999  205.020004  850500\n",
            "2020-01-08  205.289993  206.830002  204.559998  205.869995  872300\n",
            "...                ...         ...         ...         ...     ...\n",
            "2024-04-17  179.729996  182.179993  178.289993  180.949997  790400\n",
            "2024-04-18  181.470001  182.789993  180.169998  182.020004  671400\n",
            "2024-04-19  183.070007  184.559998  182.820007  184.130005  543000\n",
            "2024-04-22  184.589996  187.669998  183.919998  186.869995  633800\n",
            "2024-04-23  187.080002  189.820007  187.080002  188.660004  746300\n",
            "\n",
            "[1084 rows x 5 columns]\n",
            "\n",
            "Stock: AWK\n",
            "\n",
            "                  Open        High         Low       Close   Volume\n",
            "Date                                                               \n",
            "2020-01-02  123.000000  123.160004  119.580002  120.199997  1618900\n",
            "2020-01-03  120.440002  122.120003  120.440002  120.980003   869300\n",
            "2020-01-06  120.989998  121.750000  120.489998  120.750000   765800\n",
            "2020-01-07  120.430000  120.970001  119.910004  120.000000   841000\n",
            "2020-01-08  119.550003  121.190002  119.230003  120.489998  1096700\n",
            "...                ...         ...         ...         ...      ...\n",
            "2024-04-17  113.839996  115.769997  113.529999  115.400002  1902800\n",
            "2024-04-18  116.120003  117.570000  115.089996  117.349998  1399800\n",
            "2024-04-19  117.940002  119.389999  117.650002  118.519997  1874300\n",
            "2024-04-22  118.599998  119.790001  117.669998  119.260002  1247600\n",
            "2024-04-23  119.309998  120.550003  119.019997  119.870003  1255500\n",
            "\n",
            "[1084 rows x 5 columns]\n"
          ]
        },
        {
          "output_type": "stream",
          "name": "stderr",
          "text": [
            "\r[*********************100%%**********************]  1 of 1 completed\n"
          ]
        },
        {
          "output_type": "stream",
          "name": "stdout",
          "text": [
            "\n",
            "Stock: BAX\n",
            "\n",
            "                 Open       High        Low      Close   Volume\n",
            "Date                                                           \n",
            "2020-01-02  85.000000  85.870003  84.180000  85.870003  2957800\n",
            "2020-01-03  84.480003  85.760002  84.389999  85.500000  1871700\n",
            "2020-01-06  85.300003  85.589996  84.150002  85.290001  3500000\n",
            "2020-01-07  84.709999  85.930000  84.699997  85.489998  4803200\n",
            "2020-01-08  85.610001  86.989998  85.540001  86.730003  3576600\n",
            "...               ...        ...        ...        ...      ...\n",
            "2024-04-17  39.709999  39.849998  39.459999  39.520000  2809400\n",
            "2024-04-18  39.740002  39.740002  39.290001  39.650002  2332100\n",
            "2024-04-19  39.930000  40.080002  39.389999  39.470001  2808400\n",
            "2024-04-22  39.779999  40.820000  39.529999  40.400002  3272900\n",
            "2024-04-23  40.400002  41.180000  40.250000  41.020000  2646300\n",
            "\n",
            "[1084 rows x 5 columns]\n"
          ]
        },
        {
          "output_type": "stream",
          "name": "stderr",
          "text": [
            "\r[*********************100%%**********************]  1 of 1 completed\n"
          ]
        },
        {
          "output_type": "stream",
          "name": "stdout",
          "text": [
            "\n",
            "Stock: BDX\n",
            "\n",
            "                  Open        High         Low       Close   Volume\n",
            "Date                                                               \n",
            "2020-01-02  265.453644  266.780487  263.287811  265.892670  1725895\n",
            "2020-01-03  261.912201  264.419525  261.863403  263.014648  1601973\n",
            "2020-01-06  262.399994  267.024384  260.146332  266.712189  1603408\n",
            "2020-01-07  264.956085  266.848785  263.541473  266.078064  1366223\n",
            "2020-01-08  266.253662  268.819519  264.936584  266.731720  1443713\n",
            "...                ...         ...         ...         ...      ...\n",
            "2024-04-17  230.740005  232.639999  229.399994  232.210007  1510600\n",
            "2024-04-18  232.610001  233.250000  230.470001  233.149994   891600\n",
            "2024-04-19  234.699997  235.630005  233.070007  234.119995  1265200\n",
            "2024-04-22  234.720001  236.070007  233.330002  233.880005   768400\n",
            "2024-04-23  234.580002  236.179993  233.399994  234.360001   800500\n",
            "\n",
            "[1084 rows x 5 columns]\n"
          ]
        },
        {
          "output_type": "stream",
          "name": "stderr",
          "text": [
            "\r[*********************100%%**********************]  1 of 1 completed\n",
            "ERROR:yfinance:\n",
            "1 Failed download:\n",
            "ERROR:yfinance:['BLL']: Exception('%ticker%: No timezone found, symbol may be delisted')\n",
            "[*********************100%%**********************]  1 of 1 completed\n"
          ]
        },
        {
          "output_type": "stream",
          "name": "stdout",
          "text": [
            "No data found for BLL\n",
            "\n",
            "Stock: BSX\n",
            "\n",
            "                 Open       High        Low      Close   Volume\n",
            "Date                                                           \n",
            "2020-01-02  45.500000  45.590000  44.939999  45.330002  6092400\n",
            "2020-01-03  44.520000  45.209999  44.349998  44.980000  4704100\n",
            "2020-01-06  44.849998  45.570000  44.680000  45.349998  5768900\n",
            "2020-01-07  45.119999  45.580002  44.970001  45.400002  4298400\n",
            "2020-01-08  45.599998  46.060001  45.470001  45.639999  5071800\n",
            "...               ...        ...        ...        ...      ...\n",
            "2024-04-17  68.169998  68.330002  67.459999  67.959999  6177600\n",
            "2024-04-18  68.050003  68.199997  67.220001  67.419998  5946600\n",
            "2024-04-19  67.870003  68.080002  66.910004  67.330002  6951300\n",
            "2024-04-22  67.629997  68.610001  66.800003  68.019997  7659800\n",
            "2024-04-23  68.320000  69.000000  67.800003  68.989998  9075700\n",
            "\n",
            "[1084 rows x 5 columns]\n"
          ]
        },
        {
          "output_type": "stream",
          "name": "stderr",
          "text": [
            "[*********************100%%**********************]  1 of 1 completed\n",
            "[*********************100%%**********************]  1 of 1 completed\n"
          ]
        },
        {
          "output_type": "stream",
          "name": "stdout",
          "text": [
            "\n",
            "Stock: CAG\n",
            "\n",
            "                 Open       High        Low      Close   Volume\n",
            "Date                                                           \n",
            "2020-01-02  34.250000  34.410000  33.380001  33.630001  4299000\n",
            "2020-01-03  33.590000  33.990002  33.310001  33.340000  3054300\n",
            "2020-01-06  33.759998  33.820000  33.410000  33.520000  4579100\n",
            "2020-01-07  33.320000  33.430000  32.310001  32.320000  8378000\n",
            "2020-01-08  32.540001  32.689999  31.840000  31.870001  4944200\n",
            "...               ...        ...        ...        ...      ...\n",
            "2024-04-17  30.209999  30.389999  30.070000  30.240000  5147400\n",
            "2024-04-18  30.350000  30.410000  29.850000  30.360001  3371600\n",
            "2024-04-19  30.420000  30.820000  30.309999  30.620001  4850700\n",
            "2024-04-22  30.700001  31.160000  30.680000  31.100000  4168300\n",
            "2024-04-23  31.070000  31.520000  31.030001  31.270000  5357300\n",
            "\n",
            "[1084 rows x 5 columns]\n",
            "\n",
            "Stock: CAT\n",
            "\n",
            "                  Open        High         Low       Close   Volume\n",
            "Date                                                               \n",
            "2020-01-02  149.000000  150.550003  147.979996  150.529999  3311900\n",
            "2020-01-03  148.770004  149.960007  147.449997  148.440002  3100600\n",
            "2020-01-06  147.270004  148.559998  146.539993  148.339996  2549600\n",
            "2020-01-07  147.350006  147.570007  145.509995  146.380005  2841900\n",
            "2020-01-08  146.830002  148.570007  146.460007  147.679993  2153200\n",
            "...                ...         ...         ...         ...      ...\n",
            "2024-04-17  362.649994  362.910004  352.880005  358.320007  2313800\n",
            "2024-04-18  361.149994  363.480011  356.170013  357.929993  2380700\n",
            "2024-04-19  358.290009  360.950012  352.140015  354.660004  2928300\n",
            "2024-04-22  356.100006  362.000000  353.239990  357.609985  2085400\n",
            "2024-04-23  360.000000  365.519989  359.040009  363.250000  1810700\n",
            "\n",
            "[1084 rows x 5 columns]\n"
          ]
        },
        {
          "output_type": "stream",
          "name": "stderr",
          "text": [
            "[*********************100%%**********************]  1 of 1 completed\n",
            "[*********************100%%**********************]  1 of 1 completed\n"
          ]
        },
        {
          "output_type": "stream",
          "name": "stdout",
          "text": [
            "\n",
            "Stock: CCI\n",
            "\n",
            "                  Open        High         Low       Close   Volume\n",
            "Date                                                               \n",
            "2020-01-02  142.330002  142.660004  141.130005  141.679993  1795500\n",
            "2020-01-03  140.850006  142.699997  140.100006  142.460007  1254500\n",
            "2020-01-06  142.139999  142.679993  141.250000  141.259995  1631100\n",
            "2020-01-07  141.000000  141.419998  138.160004  138.869995  1667200\n",
            "2020-01-08  139.009995  139.910004  138.589996  139.449997  2644600\n",
            "...                ...         ...         ...         ...      ...\n",
            "2024-04-17   94.400002   94.699997   92.809998   93.050003  3985800\n",
            "2024-04-18   95.690002   96.480003   92.480003   94.370003  4938200\n",
            "2024-04-19   94.370003   95.559998   93.800003   95.199997  5055400\n",
            "2024-04-22   95.000000   95.309998   93.760002   95.080002  3280300\n",
            "2024-04-23   95.089996   96.300003   94.769997   95.470001  2484500\n",
            "\n",
            "[1084 rows x 5 columns]\n",
            "\n",
            "Stock: CINF\n",
            "\n",
            "                  Open        High         Low       Close  Volume\n",
            "Date                                                              \n",
            "2020-01-02  105.620003  106.029999  104.800003  105.959999  801100\n",
            "2020-01-03  105.309998  106.610001  105.309998  106.500000  461800\n",
            "2020-01-06  105.849998  106.279999  105.080002  105.680000  409100\n",
            "2020-01-07  105.150002  105.610001  103.680000  103.690002  442300\n",
            "2020-01-08  102.900002  103.870003  102.820000  103.099998  884500\n",
            "...                ...         ...         ...         ...     ...\n",
            "2024-04-17  116.639999  117.300003  115.150002  115.300003  876000\n",
            "2024-04-18  116.699997  117.900002  116.370003  117.519997  808200\n",
            "2024-04-19  118.220001  120.029999  118.099998  119.949997  808500\n",
            "2024-04-22  120.900002  121.849998  119.760002  120.959999  484500\n",
            "2024-04-23  121.209999  121.860001  120.699997  120.830002  528500\n",
            "\n",
            "[1084 rows x 5 columns]\n"
          ]
        },
        {
          "output_type": "stream",
          "name": "stderr",
          "text": [
            "[*********************100%%**********************]  1 of 1 completed\n",
            "[*********************100%%**********************]  1 of 1 completed\n"
          ]
        },
        {
          "output_type": "stream",
          "name": "stdout",
          "text": [
            "\n",
            "Stock: CL\n",
            "\n",
            "                 Open       High        Low      Close   Volume\n",
            "Date                                                           \n",
            "2020-01-02  68.839996  68.940002  67.889999  68.120003  3441800\n",
            "2020-01-03  67.839996  68.470001  67.680000  68.019997  3473800\n",
            "2020-01-06  68.080002  68.849998  68.010002  68.489998  4607500\n",
            "2020-01-07  68.459999  68.459999  67.470001  67.550003  4500000\n",
            "2020-01-08  67.800003  69.650002  67.730003  69.269997  4676100\n",
            "...               ...        ...        ...        ...      ...\n",
            "2024-04-17  86.500000  86.830002  85.919998  86.750000  3886200\n",
            "2024-04-18  87.000000  87.309998  86.400002  86.709999  4880800\n",
            "2024-04-19  86.099998  87.260002  85.910004  87.129997  6005100\n",
            "2024-04-22  87.400002  88.730003  87.239998  88.330002  3954100\n",
            "2024-04-23  89.169998  89.300003  88.389999  88.580002  4014800\n",
            "\n",
            "[1084 rows x 5 columns]\n",
            "\n",
            "Stock: CLX\n",
            "\n",
            "                  Open        High         Low       Close   Volume\n",
            "Date                                                               \n",
            "2020-01-02  153.380005  153.410004  151.550003  152.610001  1292500\n",
            "2020-01-03  152.570007  153.880005  151.240005  152.910004   809800\n",
            "2020-01-06  153.070007  153.940002  152.289993  153.369995   869300\n",
            "2020-01-07  153.190002  153.289993  151.509995  151.520004  1198200\n",
            "2020-01-08  151.779999  153.339996  150.949997  151.970001   901200\n",
            "...                ...         ...         ...         ...      ...\n",
            "2024-04-17  142.479996  142.910004  140.710007  142.339996   839200\n",
            "2024-04-18  143.020004  143.440002  142.309998  143.199997   760100\n",
            "2024-04-19  142.550003  143.610001  141.399994  143.550003  1110500\n",
            "2024-04-22  144.389999  145.860001  142.899994  145.139999  1293900\n",
            "2024-04-23  145.139999  146.600006  144.220001  145.970001  1443900\n",
            "\n",
            "[1084 rows x 5 columns]\n"
          ]
        },
        {
          "output_type": "stream",
          "name": "stderr",
          "text": [
            "\r[*********************100%%**********************]  1 of 1 completed\n"
          ]
        },
        {
          "output_type": "stream",
          "name": "stdout",
          "text": [
            "\n",
            "Stock: CMI\n",
            "\n",
            "                  Open        High         Low       Close   Volume\n",
            "Date                                                               \n",
            "2020-01-02  180.020004  180.880005  177.399994  179.320007  1272900\n",
            "2020-01-03  177.179993  177.179993  174.380005  176.809998  1017600\n",
            "2020-01-06  175.559998  175.559998  173.160004  174.130005  1253900\n",
            "2020-01-07  174.080002  174.839996  171.649994  174.259995  1437200\n",
            "2020-01-08  174.169998  175.419998  173.080002  174.350006   896800\n",
            "...                ...         ...         ...         ...      ...\n",
            "2024-04-17  296.790009  296.790009  289.250000  291.359985   757500\n",
            "2024-04-18  293.140015  293.989990  289.700012  291.420013   764500\n",
            "2024-04-19  291.970001  293.440002  284.920013  287.559998  2566900\n",
            "2024-04-22  287.980011  292.959991  286.089996  290.399994  1027200\n",
            "2024-04-23  291.399994  294.980011  291.200012  292.700012   782600\n",
            "\n",
            "[1084 rows x 5 columns]\n"
          ]
        },
        {
          "output_type": "stream",
          "name": "stderr",
          "text": [
            "[*********************100%%**********************]  1 of 1 completed\n",
            "[*********************100%%**********************]  1 of 1 completed\n"
          ]
        },
        {
          "output_type": "stream",
          "name": "stdout",
          "text": [
            "\n",
            "Stock: CNP\n",
            "\n",
            "                 Open       High        Low      Close   Volume\n",
            "Date                                                           \n",
            "2020-01-02  27.330000  27.340000  26.690001  26.950001  3385800\n",
            "2020-01-03  26.770000  26.940001  26.730000  26.790001  3405400\n",
            "2020-01-06  26.770000  27.000000  26.680000  26.750000  3513900\n",
            "2020-01-07  26.760000  26.879999  26.370001  26.870001  4252100\n",
            "2020-01-08  26.920000  26.940001  26.620001  26.639999  5922600\n",
            "...               ...        ...        ...        ...      ...\n",
            "2024-04-17  27.430000  27.780001  27.330000  27.700001  4490500\n",
            "2024-04-18  27.850000  28.010000  27.660000  27.950001  2506100\n",
            "2024-04-19  28.080000  28.530001  27.990000  28.530001  3338100\n",
            "2024-04-22  28.530001  28.950001  28.379999  28.780001  2983000\n",
            "2024-04-23  28.700001  28.980000  28.650000  28.730000  2588000\n",
            "\n",
            "[1084 rows x 5 columns]\n",
            "\n",
            "Stock: CPRT\n",
            "\n",
            "                 Open       High        Low      Close    Volume\n",
            "Date                                                            \n",
            "2020-01-02  22.850000  23.392500  22.840000  23.370001  10866000\n",
            "2020-01-03  23.155001  23.195000  22.780001  23.165001   5023200\n",
            "2020-01-06  23.065001  23.407499  23.002501  23.372499   7451200\n",
            "2020-01-07  23.355000  23.389999  23.137501  23.342501   7188400\n",
            "2020-01-08  23.352501  23.620001  23.299999  23.502501   4671200\n",
            "...               ...        ...        ...        ...       ...\n",
            "2024-04-17  54.490002  54.759998  53.869999  54.020000   3565300\n",
            "2024-04-18  54.189999  54.340000  53.160000  53.200001   3490100\n",
            "2024-04-19  53.419998  53.619999  52.410000  52.880001   5783500\n",
            "2024-04-22  53.279999  53.570000  52.869999  53.299999   3307200\n",
            "2024-04-23  53.369999  54.480000  53.259998  54.310001   3585300\n",
            "\n",
            "[1084 rows x 5 columns]\n"
          ]
        },
        {
          "output_type": "stream",
          "name": "stderr",
          "text": [
            "\r[*********************100%%**********************]  1 of 1 completed\n"
          ]
        },
        {
          "output_type": "stream",
          "name": "stdout",
          "text": [
            "\n",
            "Stock: CSX\n",
            "\n",
            "                 Open       High        Low      Close    Volume\n",
            "Date                                                            \n",
            "2020-01-02  24.273333  24.396667  24.083332  24.396667   8490300\n",
            "2020-01-03  24.000000  24.313334  23.876667  24.296667   9978900\n",
            "2020-01-06  24.059999  24.250000  23.913334  24.170000  14636400\n",
            "2020-01-07  24.233334  24.510000  24.053333  24.333332  14360700\n",
            "2020-01-08  24.490000  24.610001  24.356667  24.459999   8612700\n",
            "...               ...        ...        ...        ...       ...\n",
            "2024-04-17  34.750000  34.779999  33.919998  34.160000  24343500\n",
            "2024-04-18  34.750000  35.080002  34.080002  34.389999  25707000\n",
            "2024-04-19  34.450001  34.610001  34.200001  34.340000  13613600\n",
            "2024-04-22  34.570000  34.759998  34.230000  34.619999  14638300\n",
            "2024-04-23  34.619999  34.970001  34.509998  34.720001  19272500\n",
            "\n",
            "[1084 rows x 5 columns]\n"
          ]
        },
        {
          "output_type": "stream",
          "name": "stderr",
          "text": [
            "\r[*********************100%%**********************]  1 of 1 completed\n"
          ]
        },
        {
          "output_type": "stream",
          "name": "stdout",
          "text": [
            "\n",
            "Stock: CTAS\n",
            "\n",
            "                  Open        High         Low       Close  Volume\n",
            "Date                                                              \n",
            "2020-01-02  269.859985  270.829987  266.579987  270.790009  544200\n",
            "2020-01-03  268.070007  271.980011  267.070007  269.570007  493100\n",
            "2020-01-06  268.130005  270.350006  266.779999  270.269989  409200\n",
            "2020-01-07  268.119995  271.250000  267.339996  270.070007  388400\n",
            "2020-01-08  270.769989  275.820007  268.899994  275.279999  702100\n",
            "...                ...         ...         ...         ...     ...\n",
            "2024-04-17  671.859985  676.239990  664.869995  668.510010  295800\n",
            "2024-04-18  667.960022  671.750000  661.710022  662.440002  212200\n",
            "2024-04-19  666.010010  669.219971  659.000000  661.289978  390100\n",
            "2024-04-22  666.669983  669.690002  663.419983  665.000000  401600\n",
            "2024-04-23  666.289978  669.530029  665.150024  666.330017  542800\n",
            "\n",
            "[1084 rows x 5 columns]\n"
          ]
        },
        {
          "output_type": "stream",
          "name": "stderr",
          "text": [
            "\r[*********************100%%**********************]  1 of 1 completed\n",
            "ERROR:yfinance:\n",
            "1 Failed download:\n",
            "ERROR:yfinance:['CTL']: Exception('%ticker%: No timezone found, symbol may be delisted')\n",
            "[*********************100%%**********************]  1 of 1 completed\n"
          ]
        },
        {
          "output_type": "stream",
          "name": "stdout",
          "text": [
            "No data found for CTL\n",
            "\n",
            "Stock: DLR\n",
            "\n",
            "                  Open        High         Low       Close   Volume\n",
            "Date                                                               \n",
            "2020-01-02  120.010002  120.360001  117.459999  118.000000  1071900\n",
            "2020-01-03  117.230003  120.180000  117.080002  119.940002   869400\n",
            "2020-01-06  119.470001  119.650002  118.050003  118.860001  1151000\n",
            "2020-01-07  118.379997  118.529999  116.760002  117.690002  1006400\n",
            "2020-01-08  117.839996  118.949997  117.239998  118.709999  2553900\n",
            "...                ...         ...         ...         ...      ...\n",
            "2024-04-17  136.699997  137.789993  135.639999  135.750000  1965300\n",
            "2024-04-18  136.300003  138.979996  135.699997  136.660004  1498500\n",
            "2024-04-19  137.410004  137.929993  136.320007  136.830002  1505200\n",
            "2024-04-22  137.649994  138.149994  135.740005  135.860001  1518400\n",
            "2024-04-23  136.509995  138.889999  135.720001  138.529999  1320400\n",
            "\n",
            "[1084 rows x 5 columns]\n"
          ]
        },
        {
          "output_type": "stream",
          "name": "stderr",
          "text": [
            "[*********************100%%**********************]  1 of 1 completed\n",
            "[*********************100%%**********************]  1 of 1 completed\n"
          ]
        },
        {
          "output_type": "stream",
          "name": "stdout",
          "text": [
            "\n",
            "Stock: EIX\n",
            "\n",
            "                 Open       High        Low      Close   Volume\n",
            "Date                                                           \n",
            "2020-01-02  74.709999  75.580002  74.309998  74.379997  2632200\n",
            "2020-01-03  74.320000  74.870003  74.129997  74.779999  1459400\n",
            "2020-01-06  74.760002  75.190002  74.250000  75.129997  1360100\n",
            "2020-01-07  75.129997  76.199997  74.839996  75.860001  1610400\n",
            "2020-01-08  76.150002  76.830002  75.680000  75.739998  1886200\n",
            "...               ...        ...        ...        ...      ...\n",
            "2024-04-17  67.370003  68.120003  67.000000  68.040001  1719100\n",
            "2024-04-18  68.370003  68.519997  67.730003  68.129997  1359800\n",
            "2024-04-19  68.279999  70.099998  68.279999  69.930000  1342500\n",
            "2024-04-22  69.949997  71.199997  69.620003  70.660004  1438500\n",
            "2024-04-23  70.699997  71.489998  70.480003  70.849998  1713500\n",
            "\n",
            "[1084 rows x 5 columns]\n",
            "\n",
            "Stock: EQIX\n",
            "\n",
            "                  Open        High         Low       Close  Volume\n",
            "Date                                                              \n",
            "2020-01-02  583.909973  584.909973  576.030029  579.349976  448500\n",
            "2020-01-03  575.469971  590.359985  575.469971  585.119995  385200\n",
            "2020-01-06  585.130005  588.000000  579.750000  584.479980  284200\n",
            "2020-01-07  584.469971  586.500000  575.020020  581.880005  252600\n",
            "2020-01-08  583.000000  586.159973  575.010010  583.799988  261000\n",
            "...                ...         ...         ...         ...     ...\n",
            "2024-04-17  743.549988  746.780029  734.250000  734.559998  510800\n",
            "2024-04-18  736.109985  747.159973  731.539978  739.849976  483500\n",
            "2024-04-19  743.750000  748.369995  736.239990  748.000000  611900\n",
            "2024-04-22  752.400024  755.890015  745.000000  754.739990  687400\n",
            "2024-04-23  761.080017  764.340027  751.390015  761.900024  662900\n",
            "\n",
            "[1084 rows x 5 columns]\n"
          ]
        },
        {
          "output_type": "stream",
          "name": "stderr",
          "text": [
            "\r[*********************100%%**********************]  1 of 1 completed\n"
          ]
        },
        {
          "output_type": "stream",
          "name": "stdout",
          "text": [
            "\n",
            "Stock: ES\n",
            "\n",
            "                 Open       High        Low      Close   Volume\n",
            "Date                                                           \n",
            "2020-01-02  85.029999  85.029999  83.080002  83.230003  3278200\n",
            "2020-01-03  83.129997  83.510002  82.699997  82.860001  2199100\n",
            "2020-01-06  83.050003  83.750000  83.000000  83.309998  2717500\n",
            "2020-01-07  83.300003  83.300003  82.089996  82.680000  2432800\n",
            "2020-01-08  82.610001  83.169998  82.339996  82.750000  1548900\n",
            "...               ...        ...        ...        ...      ...\n",
            "2024-04-17  57.540001  58.570000  57.070000  58.509998  1994000\n",
            "2024-04-18  58.770000  59.189999  58.080002  58.990002  1626200\n",
            "2024-04-19  59.119999  59.910000  58.980000  59.689999  2323400\n",
            "2024-04-22  59.680000  60.849998  59.459999  60.299999  1559400\n",
            "2024-04-23  60.029999  60.990002  59.820000  60.349998  1831900\n",
            "\n",
            "[1084 rows x 5 columns]\n"
          ]
        },
        {
          "output_type": "stream",
          "name": "stderr",
          "text": [
            "[*********************100%%**********************]  1 of 1 completed\n",
            "[*********************100%%**********************]  1 of 1 completed\n"
          ]
        },
        {
          "output_type": "stream",
          "name": "stdout",
          "text": [
            "\n",
            "Stock: ETN\n",
            "\n",
            "                  Open        High         Low       Close   Volume\n",
            "Date                                                               \n",
            "2020-01-02   95.239998   95.879997   94.239998   95.870003  2380800\n",
            "2020-01-03   94.230003   95.239998   93.709999   95.160004  1557900\n",
            "2020-01-06   94.540001   95.430000   94.269997   95.339996  3665200\n",
            "2020-01-07   94.160004   95.000000   94.010002   94.839996  2631000\n",
            "2020-01-08   94.839996   95.559998   94.650002   95.129997  2480500\n",
            "...                ...         ...         ...         ...      ...\n",
            "2024-04-17  316.679993  316.679993  305.850006  310.179993  2204600\n",
            "2024-04-18  313.750000  315.709991  308.459991  308.940002  1860300\n",
            "2024-04-19  309.040009  311.660004  302.260010  303.019989  3084200\n",
            "2024-04-22  305.350006  310.339996  304.170013  308.089996  2379200\n",
            "2024-04-23  311.940002  315.279999  310.399994  312.839996  2781400\n",
            "\n",
            "[1084 rows x 5 columns]\n",
            "\n",
            "Stock: EW\n",
            "\n",
            "                 Open       High        Low      Close   Volume\n",
            "Date                                                           \n",
            "2020-01-02  76.666664  77.916664  76.629997  77.500000  4137000\n",
            "2020-01-03  76.166664  77.500000  76.106667  77.209999  2993700\n",
            "2020-01-06  76.983330  78.353333  76.669998  78.266670  3244200\n",
            "2020-01-07  78.083336  78.599998  77.383331  77.669998  2621400\n",
            "2020-01-08  78.000000  78.000000  76.613335  77.153336  4319400\n",
            "...               ...        ...        ...        ...      ...\n",
            "2024-04-17  89.889999  89.889999  86.449997  87.239998  2878100\n",
            "2024-04-18  87.349998  87.349998  85.980003  86.449997  3122000\n",
            "2024-04-19  87.199997  87.199997  85.379997  85.940002  3895700\n",
            "2024-04-22  86.540001  87.110001  85.730003  86.959999  2408100\n",
            "2024-04-23  87.400002  87.930000  86.760002  87.750000  2663600\n",
            "\n",
            "[1084 rows x 5 columns]\n"
          ]
        },
        {
          "output_type": "stream",
          "name": "stderr",
          "text": [
            "[*********************100%%**********************]  1 of 1 completed\n",
            "[*********************100%%**********************]  1 of 1 completed\n"
          ]
        },
        {
          "output_type": "stream",
          "name": "stdout",
          "text": [
            "\n",
            "Stock: F\n",
            "\n",
            "             Open   High    Low  Close    Volume\n",
            "Date                                            \n",
            "2020-01-02   9.29   9.42   9.19   9.42  43425700\n",
            "2020-01-03   9.31   9.37   9.15   9.21  45040800\n",
            "2020-01-06   9.10   9.17   9.06   9.16  43372300\n",
            "2020-01-07   9.20   9.25   9.12   9.25  44984100\n",
            "2020-01-08   9.23   9.30   9.17   9.25  45994900\n",
            "...           ...    ...    ...    ...       ...\n",
            "2024-04-17  12.14  12.25  12.02  12.04  43646600\n",
            "2024-04-18  12.08  12.17  11.98  12.06  39902100\n",
            "2024-04-19  12.02  12.23  12.02  12.14  39592900\n",
            "2024-04-22  12.31  12.90  12.25  12.88  86462700\n",
            "2024-04-23  13.05  13.05  12.82  12.94  62807100\n",
            "\n",
            "[1084 rows x 5 columns]\n",
            "\n",
            "Stock: FAST\n",
            "\n",
            "                 Open       High        Low      Close   Volume\n",
            "Date                                                           \n",
            "2020-01-02  37.080002  37.330002  36.650002  37.230000  4190300\n",
            "2020-01-03  36.669998  36.820000  36.029999  36.570000  4101300\n",
            "2020-01-06  36.240002  36.299999  35.750000  36.000000  4135200\n",
            "2020-01-07  35.869999  36.099998  35.650002  35.930000  3108300\n",
            "2020-01-08  36.110001  36.630001  35.930000  36.200001  3795900\n",
            "...               ...        ...        ...        ...      ...\n",
            "2024-04-17  69.230003  69.230003  67.879997  68.480003  4217200\n",
            "2024-04-18  68.900002  69.029999  67.360001  67.500000  3583500\n",
            "2024-04-19  67.669998  68.099998  67.300003  67.570000  3785000\n",
            "2024-04-22  67.809998  67.949997  67.199997  67.449997  2868600\n",
            "2024-04-23  67.959999  68.150002  67.459999  67.510002  3659600\n",
            "\n",
            "[1084 rows x 5 columns]\n"
          ]
        },
        {
          "output_type": "stream",
          "name": "stderr",
          "text": [
            "\r[*********************100%%**********************]  1 of 1 completed\n"
          ]
        },
        {
          "output_type": "stream",
          "name": "stdout",
          "text": [
            "\n",
            "Stock: FISV\n",
            "\n",
            "                  Open        High         Low       Close    Volume\n",
            "Date                                                                \n",
            "2023-05-30  113.769997  113.830002  111.379997  112.959999   4087484\n",
            "2023-05-31  112.290001  112.959999  110.305000  112.190002  16398430\n",
            "2023-06-01  112.099998  113.230003  111.599998  112.750000   4084447\n",
            "2023-06-02  113.410004  114.349998  112.849998  113.900002   4527026\n",
            "2023-06-05  113.900002  114.290001  111.764999  112.230003   5873121\n",
            "...                ...         ...         ...         ...       ...\n",
            "2024-04-17  147.600006  148.740005  146.929993  147.100006   2949247\n",
            "2024-04-18  146.500000  147.880005  146.304993  146.910004   1989629\n",
            "2024-04-19  147.009995  148.660004  145.979996  148.619995   2515820\n",
            "2024-04-22  149.279999  149.770004  148.000000  148.800003   2773124\n",
            "2024-04-23  159.229996  159.559998  153.520004  155.389999   5334751\n",
            "\n",
            "[227 rows x 5 columns]\n"
          ]
        },
        {
          "output_type": "stream",
          "name": "stderr",
          "text": [
            "\r[*********************100%%**********************]  1 of 1 completed\n"
          ]
        },
        {
          "output_type": "stream",
          "name": "stdout",
          "text": [
            "\n",
            "Stock: FITB\n",
            "\n",
            "                 Open       High        Low      Close    Volume\n",
            "Date                                                            \n",
            "2020-01-02  30.950001  31.020000  30.559999  31.020000   4618500\n",
            "2020-01-03  30.510000  30.620001  30.190001  30.440001   4245300\n",
            "2020-01-06  30.270000  30.270000  29.889999  30.190001   3652200\n",
            "2020-01-07  30.020000  30.160000  29.700001  29.850000   4057900\n",
            "2020-01-08  29.959999  30.160000  29.809999  29.920000   4795400\n",
            "...               ...        ...        ...        ...       ...\n",
            "2024-04-17  34.520000  34.680000  33.930000  34.099998   5484600\n",
            "2024-04-18  34.169998  34.660000  33.990002  34.220001   6035700\n",
            "2024-04-19  36.419998  36.750000  34.970001  36.250000  13812100\n",
            "2024-04-22  36.549999  36.849998  36.110001  36.549999   5507600\n",
            "2024-04-23  36.639999  37.150002  36.439999  37.060001   4293000\n",
            "\n",
            "[1084 rows x 5 columns]\n"
          ]
        },
        {
          "output_type": "stream",
          "name": "stderr",
          "text": [
            "\r[*********************100%%**********************]  1 of 1 completed\n",
            "ERROR:yfinance:\n",
            "1 Failed download:\n",
            "ERROR:yfinance:['FLIR']: Exception('%ticker%: No timezone found, symbol may be delisted')\n"
          ]
        },
        {
          "output_type": "stream",
          "name": "stdout",
          "text": [
            "No data found for FLIR\n"
          ]
        },
        {
          "output_type": "stream",
          "name": "stderr",
          "text": [
            "\r[*********************100%%**********************]  1 of 1 completed\n"
          ]
        },
        {
          "output_type": "stream",
          "name": "stdout",
          "text": [
            "\n",
            "Stock: FLS\n",
            "\n",
            "                 Open       High        Low      Close   Volume\n",
            "Date                                                           \n",
            "2020-01-02  50.209999  50.680000  49.820000  50.680000   628900\n",
            "2020-01-03  49.730000  50.070000  49.419998  49.880001   625900\n",
            "2020-01-06  49.490002  49.869999  49.130001  49.779999   452800\n",
            "2020-01-07  49.830002  49.959999  49.220001  49.709999   463900\n",
            "2020-01-08  50.110001  50.220001  49.240002  50.209999   922100\n",
            "...               ...        ...        ...        ...      ...\n",
            "2024-04-17  46.950001  47.080002  45.419998  45.669998  1060600\n",
            "2024-04-18  46.070000  46.189999  45.599998  45.630001  1013100\n",
            "2024-04-19  45.599998  46.130001  45.509998  45.799999   673700\n",
            "2024-04-22  45.830002  46.500000  45.619999  46.040001   965600\n",
            "2024-04-23  46.320000  47.320000  46.180000  47.080002   797000\n",
            "\n",
            "[1084 rows x 5 columns]\n"
          ]
        },
        {
          "output_type": "stream",
          "name": "stderr",
          "text": [
            "[*********************100%%**********************]  1 of 1 completed\n",
            "[*********************100%%**********************]  1 of 1 completed\n"
          ]
        },
        {
          "output_type": "stream",
          "name": "stdout",
          "text": [
            "\n",
            "Stock: GD\n",
            "\n",
            "                  Open        High         Low       Close   Volume\n",
            "Date                                                               \n",
            "2020-01-02  177.449997  179.039993  176.919998  178.429993  1472100\n",
            "2020-01-03  178.000000  180.429993  178.000000  180.179993  1662200\n",
            "2020-01-06  181.550003  182.979996  181.000000  182.089996  1957000\n",
            "2020-01-07  180.419998  181.630005  179.750000  180.020004  1454600\n",
            "2020-01-08  180.199997  181.940002  179.600006  180.479996  1226400\n",
            "...                ...         ...         ...         ...      ...\n",
            "2024-04-17  286.500000  286.500000  283.670013  284.459991   709000\n",
            "2024-04-18  284.019989  286.910004  284.019989  285.269989   636500\n",
            "2024-04-19  287.429993  289.290009  286.730011  288.619995  1074900\n",
            "2024-04-22  289.940002  292.709991  288.049988  291.309998   889000\n",
            "2024-04-23  292.720001  294.700012  291.679993  292.720001  1132500\n",
            "\n",
            "[1084 rows x 5 columns]\n",
            "\n",
            "Stock: GILD\n",
            "\n",
            "                 Open       High        Low      Close    Volume\n",
            "Date                                                            \n",
            "2020-01-02  65.529999  65.739998  65.040001  65.230003   5038200\n",
            "2020-01-03  64.629997  65.370003  64.559998  65.070000   4689700\n",
            "2020-01-06  64.669998  65.830002  64.660004  65.650002   8248700\n",
            "2020-01-07  65.260002  65.290001  64.169998  65.120003   8082600\n",
            "2020-01-08  65.110001  66.239998  64.809998  65.800003   6607300\n",
            "...               ...        ...        ...        ...       ...\n",
            "2024-04-17  67.349998  67.550003  66.889999  66.930000   5287700\n",
            "2024-04-18  67.010002  67.019997  65.900002  66.160004   6442200\n",
            "2024-04-19  66.250000  66.830002  66.160004  66.760002  10657000\n",
            "2024-04-22  66.930000  67.570000  66.739998  66.949997   5622400\n",
            "2024-04-23  67.089996  67.680000  67.000000  67.029999   5240200\n",
            "\n",
            "[1084 rows x 5 columns]\n"
          ]
        },
        {
          "output_type": "stream",
          "name": "stderr",
          "text": [
            "[*********************100%%**********************]  1 of 1 completed\n",
            "[*********************100%%**********************]  1 of 1 completed\n"
          ]
        },
        {
          "output_type": "stream",
          "name": "stdout",
          "text": [
            "\n",
            "Stock: GIS\n",
            "\n",
            "                 Open       High        Low      Close   Volume\n",
            "Date                                                           \n",
            "2020-01-02  53.630001  53.799999  52.040001  52.130001  4422100\n",
            "2020-01-03  52.230000  52.520000  51.820000  51.939999  4718900\n",
            "2020-01-06  52.080002  52.730000  51.980000  52.590000  3884700\n",
            "2020-01-07  52.299999  52.490002  51.939999  52.230000  4274300\n",
            "2020-01-08  52.490002  53.060001  52.279999  52.980000  4143400\n",
            "...               ...        ...        ...        ...      ...\n",
            "2024-04-17  68.220001  68.800003  68.080002  68.510002  3664800\n",
            "2024-04-18  69.000000  69.260002  68.570000  69.089996  3620400\n",
            "2024-04-19  69.209999  70.650002  69.080002  70.419998  3992200\n",
            "2024-04-22  70.610001  71.379997  70.400002  71.169998  3637500\n",
            "2024-04-23  71.070000  71.550003  70.639999  70.820000  3690600\n",
            "\n",
            "[1084 rows x 5 columns]\n",
            "\n",
            "Stock: GPC\n",
            "\n",
            "                  Open        High         Low       Close   Volume\n",
            "Date                                                               \n",
            "2020-01-02  106.599998  106.839996  104.809998  105.809998   815100\n",
            "2020-01-03  104.559998  104.879997  103.059998  104.309998   799100\n",
            "2020-01-06  103.419998  103.760002  101.680000  102.099998   643500\n",
            "2020-01-07  101.720001  103.000000  100.769997  101.709999   583100\n",
            "2020-01-08  101.709999  102.570000  101.370003  101.419998   597300\n",
            "...                ...         ...         ...         ...      ...\n",
            "2024-04-17  145.309998  145.850006  143.710007  144.070007  1763200\n",
            "2024-04-18  155.880005  164.449997  155.880005  160.229996  3914700\n",
            "2024-04-19  161.000000  162.929993  160.259995  162.389999  3396400\n",
            "2024-04-22  162.809998  163.539993  160.949997  163.089996  1447200\n",
            "2024-04-23  162.610001  163.860001  160.919998  163.380005  1113200\n",
            "\n",
            "[1084 rows x 5 columns]\n"
          ]
        },
        {
          "output_type": "stream",
          "name": "stderr",
          "text": [
            "[*********************100%%**********************]  1 of 1 completed\n",
            "[*********************100%%**********************]  1 of 1 completed\n"
          ]
        },
        {
          "output_type": "stream",
          "name": "stdout",
          "text": [
            "\n",
            "Stock: GPN\n",
            "\n",
            "                  Open        High         Low       Close   Volume\n",
            "Date                                                               \n",
            "2020-01-02  183.949997  186.669998  183.610001  185.669998  1816400\n",
            "2020-01-03  183.149994  185.809998  182.270004  184.399994  1310900\n",
            "2020-01-06  184.130005  188.000000  183.559998  187.970001  1533000\n",
            "2020-01-07  188.240005  189.600006  187.169998  187.369995  1520500\n",
            "2020-01-08  187.419998  191.020004  187.419998  188.860001  1325800\n",
            "...                ...         ...         ...         ...      ...\n",
            "2024-04-17  124.500000  124.500000  122.540001  122.949997  1530600\n",
            "2024-04-18  123.260002  124.120003  121.949997  122.180000   863400\n",
            "2024-04-19  122.269997  123.110001  121.540001  122.099998  1064700\n",
            "2024-04-22  123.000000  125.059998  121.849998  124.230003  1027100\n",
            "2024-04-23  125.250000  127.040001  124.809998  126.870003  1219000\n",
            "\n",
            "[1084 rows x 5 columns]\n",
            "\n",
            "Stock: GWW\n",
            "\n",
            "                  Open        High         Low       Close  Volume\n",
            "Date                                                              \n",
            "2020-01-02  339.750000  344.709991  337.209991  344.709991  376700\n",
            "2020-01-03  339.540009  342.260010  335.010010  340.660004  355200\n",
            "2020-01-06  337.920013  339.850006  335.250000  337.489990  316500\n",
            "2020-01-07  335.140015  339.299988  333.500000  337.839996  325000\n",
            "2020-01-08  338.109985  343.109985  338.109985  341.410004  321200\n",
            "...                ...         ...         ...         ...     ...\n",
            "2024-04-17  962.479980  962.479980  943.140015  949.919983  164400\n",
            "2024-04-18  955.989990  955.989990  935.890015  937.539978  188200\n",
            "2024-04-19  940.520020  946.000000  932.789978  942.650024  262000\n",
            "2024-04-22  948.479980  956.150024  940.409973  942.070007  289900\n",
            "2024-04-23  945.940002  961.979980  942.070007  955.789978  201500\n",
            "\n",
            "[1084 rows x 5 columns]\n"
          ]
        },
        {
          "output_type": "stream",
          "name": "stderr",
          "text": [
            "\r[*********************100%%**********************]  1 of 1 completed\n"
          ]
        },
        {
          "output_type": "stream",
          "name": "stdout",
          "text": [
            "\n",
            "Stock: HES\n",
            "\n",
            "                  Open        High         Low       Close   Volume\n",
            "Date                                                               \n",
            "2020-01-02   67.510002   68.010002   67.139999   67.720001  1561400\n",
            "2020-01-03   68.870003   70.290001   68.519997   69.839996  2925600\n",
            "2020-01-06   70.230003   71.029999   69.709999   70.860001  2116800\n",
            "2020-01-07   70.349998   70.959999   69.589996   70.940002  1733200\n",
            "2020-01-08   70.919998   71.000000   68.029999   68.519997  2377000\n",
            "...                ...         ...         ...         ...      ...\n",
            "2024-04-17  150.259995  152.279999  149.990005  150.800003  1280600\n",
            "2024-04-18  151.699997  152.190002  150.539993  151.779999  1002800\n",
            "2024-04-19  152.179993  154.710007  152.179993  154.350006  2551000\n",
            "2024-04-22  153.679993  157.250000  151.910004  156.229996  1810800\n",
            "2024-04-23  155.990005  157.470001  155.070007  156.940002  2446700\n",
            "\n",
            "[1084 rows x 5 columns]\n"
          ]
        },
        {
          "output_type": "stream",
          "name": "stderr",
          "text": [
            "[*********************100%%**********************]  1 of 1 completed\n",
            "[*********************100%%**********************]  1 of 1 completed\n"
          ]
        },
        {
          "output_type": "stream",
          "name": "stdout",
          "text": [
            "\n",
            "Stock: HIG\n",
            "\n",
            "                  Open        High        Low       Close   Volume\n",
            "Date                                                              \n",
            "2020-01-02   60.959999   61.009998  60.230000   60.950001  1612000\n",
            "2020-01-03   60.299999   60.770000  60.290001   60.639999  1326800\n",
            "2020-01-06   60.520000   60.830002  60.320000   60.480000  2050400\n",
            "2020-01-07   60.090000   60.490002  59.840000   59.939999  1413900\n",
            "2020-01-08   60.060001   60.830002  59.939999   60.259998  1656100\n",
            "...                ...         ...        ...         ...      ...\n",
            "2024-04-17   96.540001   97.559998  95.519997   95.779999  2617500\n",
            "2024-04-18   96.540001   97.820000  96.199997   96.949997  1618600\n",
            "2024-04-19   97.720001   99.070000  97.290001   98.949997  1484900\n",
            "2024-04-22   99.639999  100.599998  98.860001   99.820000  1426700\n",
            "2024-04-23  100.269997  100.800003  99.540001  100.029999  1632000\n",
            "\n",
            "[1084 rows x 5 columns]\n",
            "\n",
            "Stock: HRL\n",
            "\n",
            "                 Open       High        Low      Close   Volume\n",
            "Date                                                           \n",
            "2020-01-02  45.139999  45.349998  44.040001  44.310001  2405700\n",
            "2020-01-03  44.230000  44.570000  44.009998  44.250000  1858700\n",
            "2020-01-06  44.299999  44.650002  44.220001  44.270000  2276200\n",
            "2020-01-07  44.200001  44.669998  44.130001  44.540001  2076400\n",
            "2020-01-08  44.509998  44.770000  44.509998  44.590000  2016700\n",
            "...               ...        ...        ...        ...      ...\n",
            "2024-04-17  33.950001  34.230000  33.759998  34.040001  2193600\n",
            "2024-04-18  34.250000  34.400002  34.029999  34.380001  2064600\n",
            "2024-04-19  34.480000  34.790001  34.369999  34.740002  2358700\n",
            "2024-04-22  34.900002  35.299999  34.540001  35.139999  2024100\n",
            "2024-04-23  35.240002  35.360001  35.070000  35.139999  1595900\n",
            "\n",
            "[1084 rows x 5 columns]\n"
          ]
        },
        {
          "output_type": "stream",
          "name": "stderr",
          "text": [
            "\r[*********************100%%**********************]  1 of 1 completed\n"
          ]
        },
        {
          "output_type": "stream",
          "name": "stdout",
          "text": [
            "\n",
            "Stock: HSIC\n",
            "\n",
            "                 Open       High        Low      Close   Volume\n",
            "Date                                                           \n",
            "2020-01-02  67.190002  67.940002  66.750000  67.120003   987600\n",
            "2020-01-03  66.430000  66.720001  66.059998  66.559998   663400\n",
            "2020-01-06  66.190002  67.360001  65.959999  67.290001   696300\n",
            "2020-01-07  67.300003  67.820000  66.900002  67.739998   790700\n",
            "2020-01-08  67.830002  68.250000  67.470001  67.930000   730300\n",
            "...               ...        ...        ...        ...      ...\n",
            "2024-04-17  71.470001  71.919998  70.190002  70.199997  1067100\n",
            "2024-04-18  70.339996  70.370003  69.480003  69.970001   745200\n",
            "2024-04-19  70.309998  70.980003  70.000000  70.860001   768600\n",
            "2024-04-22  70.949997  72.320000  70.949997  72.040001   837500\n",
            "2024-04-23  72.190002  73.160004  72.019997  72.760002   627000\n",
            "\n",
            "[1084 rows x 5 columns]\n"
          ]
        },
        {
          "output_type": "stream",
          "name": "stderr",
          "text": [
            "\r[*********************100%%**********************]  1 of 1 completed\n"
          ]
        },
        {
          "output_type": "stream",
          "name": "stdout",
          "text": [
            "\n",
            "Stock: HST\n",
            "\n",
            "                 Open       High        Low      Close    Volume\n",
            "Date                                                            \n",
            "2020-01-02  18.650000  18.660000  18.129999  18.230000   8615600\n",
            "2020-01-03  17.940001  18.100000  17.930000  18.040001   7338700\n",
            "2020-01-06  17.930000  17.930000  17.530001  17.570000   6040600\n",
            "2020-01-07  17.570000  17.580000  17.370001  17.520000  10964100\n",
            "2020-01-08  17.540001  17.790001  17.510000  17.639999   8460600\n",
            "...               ...        ...        ...        ...       ...\n",
            "2024-04-17  19.209999  19.270000  18.670000  18.740000   8122900\n",
            "2024-04-18  18.860001  18.860001  18.469999  18.590000   4941700\n",
            "2024-04-19  18.650000  18.790001  18.520000  18.709999   3946600\n",
            "2024-04-22  18.770000  19.040001  18.730000  19.000000   4631800\n",
            "2024-04-23  19.000000  19.430000  19.000000  19.290001   6391300\n",
            "\n",
            "[1084 rows x 5 columns]\n"
          ]
        },
        {
          "output_type": "stream",
          "name": "stderr",
          "text": [
            "\r[*********************100%%**********************]  1 of 1 completed\n",
            "ERROR:yfinance:\n",
            "1 Failed download:\n",
            "ERROR:yfinance:['INFO']: Exception('%ticker%: No timezone found, symbol may be delisted')\n",
            "[*********************100%%**********************]  1 of 1 completed\n"
          ]
        },
        {
          "output_type": "stream",
          "name": "stdout",
          "text": [
            "No data found for INFO\n",
            "\n",
            "Stock: IPG\n",
            "\n",
            "                 Open       High        Low      Close   Volume\n",
            "Date                                                           \n",
            "2020-01-02  23.270000  23.360001  22.389999  22.709999  4513100\n",
            "2020-01-03  22.410000  22.780001  22.410000  22.730000  2302000\n",
            "2020-01-06  22.580000  22.950001  22.520000  22.930000  3321100\n",
            "2020-01-07  22.879999  23.020000  22.760000  22.980000  2853400\n",
            "2020-01-08  23.020000  23.160000  22.820000  23.040001  4438200\n",
            "...               ...        ...        ...        ...      ...\n",
            "2024-04-17  30.820000  30.889999  30.100000  30.270000  3817200\n",
            "2024-04-18  30.520000  30.600000  30.190001  30.389999  3788100\n",
            "2024-04-19  30.459999  30.790001  30.209999  30.719999  4643800\n",
            "2024-04-22  30.959999  31.309999  30.500000  31.030001  3207700\n",
            "2024-04-23  30.820000  31.180000  30.709999  30.990000  3601000\n",
            "\n",
            "[1084 rows x 5 columns]\n"
          ]
        },
        {
          "output_type": "stream",
          "name": "stderr",
          "text": [
            "\r[*********************100%%**********************]  1 of 1 completed\n"
          ]
        },
        {
          "output_type": "stream",
          "name": "stdout",
          "text": [
            "\n",
            "Stock: IQV\n",
            "\n",
            "                  Open        High         Low       Close   Volume\n",
            "Date                                                               \n",
            "2020-01-02  155.229996  156.729996  153.570007  156.410004  1925900\n",
            "2020-01-03  153.970001  154.949997  153.729996  154.190002  1047200\n",
            "2020-01-06  153.119995  155.089996  152.169998  155.000000  1539200\n",
            "2020-01-07  155.779999  157.899994  155.380005  156.800003  1052900\n",
            "2020-01-08  157.070007  159.250000  156.820007  157.600006  1182100\n",
            "...                ...         ...         ...         ...      ...\n",
            "2024-04-17  230.559998  231.580002  226.880005  227.250000   705900\n",
            "2024-04-18  225.190002  230.520004  222.710007  227.169998   631200\n",
            "2024-04-19  227.539993  229.850006  225.539993  228.089996   756500\n",
            "2024-04-22  230.360001  232.979996  228.000000  231.339996   737100\n",
            "2024-04-23  235.949997  239.919998  232.119995  238.619995  1112800\n",
            "\n",
            "[1084 rows x 5 columns]\n"
          ]
        },
        {
          "output_type": "stream",
          "name": "stderr",
          "text": [
            "\r[*********************100%%**********************]  1 of 1 completed\n"
          ]
        },
        {
          "output_type": "stream",
          "name": "stdout",
          "text": [
            "\n",
            "Stock: IRM\n",
            "\n",
            "                 Open       High        Low      Close   Volume\n",
            "Date                                                           \n",
            "2020-01-02  31.900000  32.029999  30.200001  30.410000  8480500\n",
            "2020-01-03  30.410000  30.870001  30.209999  30.639999  4402600\n",
            "2020-01-06  30.680000  31.469999  30.559999  31.170000  2871600\n",
            "2020-01-07  31.090000  31.139999  30.709999  30.980000  2312900\n",
            "2020-01-08  30.870001  31.170000  30.820000  30.950001  2274600\n",
            "...               ...        ...        ...        ...      ...\n",
            "2024-04-17  74.989998  75.470001  74.190002  75.150002  1244500\n",
            "2024-04-18  75.470001  75.629997  74.410004  74.419998   869000\n",
            "2024-04-19  74.750000  75.260002  74.489998  75.099998  1093200\n",
            "2024-04-22  75.349998  75.970001  74.750000  75.849998   926200\n",
            "2024-04-23  76.180000  76.940002  75.779999  76.599998   774700\n",
            "\n",
            "[1084 rows x 5 columns]\n"
          ]
        },
        {
          "output_type": "stream",
          "name": "stderr",
          "text": [
            "\r[*********************100%%**********************]  1 of 1 completed\n"
          ]
        },
        {
          "output_type": "stream",
          "name": "stdout",
          "text": [
            "\n",
            "Stock: KEY\n",
            "\n",
            "                 Open       High        Low      Close    Volume\n",
            "Date                                                            \n",
            "2020-01-02  20.360001  20.370001  20.010000  20.260000  11104200\n",
            "2020-01-03  19.920000  20.030001  19.770000  19.910000   6898800\n",
            "2020-01-06  19.620001  19.680000  19.469999  19.610001   9225600\n",
            "2020-01-07  19.580000  19.639999  19.360001  19.459999   8343900\n",
            "2020-01-08  19.480000  19.770000  19.440001  19.650000  10701700\n",
            "...               ...        ...        ...        ...       ...\n",
            "2024-04-17  14.350000  14.510000  14.170000  14.430000  16756900\n",
            "2024-04-18  14.300000  14.810000  14.100000  14.380000  32085000\n",
            "2024-04-19  14.340000  14.800000  14.320000  14.630000  16943100\n",
            "2024-04-22  14.690000  14.770000  14.460000  14.640000  26489200\n",
            "2024-04-23  14.560000  14.830000  14.350000  14.720000  23058300\n",
            "\n",
            "[1084 rows x 5 columns]\n"
          ]
        },
        {
          "output_type": "stream",
          "name": "stderr",
          "text": [
            "\r[*********************100%%**********************]  1 of 1 completed\n"
          ]
        },
        {
          "output_type": "stream",
          "name": "stdout",
          "text": [
            "\n",
            "Stock: KMB\n",
            "\n",
            "                  Open        High         Low       Close   Volume\n",
            "Date                                                               \n",
            "2020-01-02  137.399994  137.570007  135.009995  135.830002  1421300\n",
            "2020-01-03  134.979996  136.770004  134.619995  135.789993  1352900\n",
            "2020-01-06  135.839996  136.479996  135.330002  136.089996  1181300\n",
            "2020-01-07  135.490005  136.729996  135.289993  135.970001  1608500\n",
            "2020-01-08  136.350006  138.059998  135.929993  137.289993  1741300\n",
            "...                ...         ...         ...         ...      ...\n",
            "2024-04-17  125.589996  126.199997  125.050003  125.959999  2290800\n",
            "2024-04-18  126.279999  126.570000  124.930000  125.610001  2350800\n",
            "2024-04-19  124.889999  126.919998  124.459999  126.830002  4795600\n",
            "2024-04-22  127.510002  129.039993  126.839996  128.929993  2705600\n",
            "2024-04-23  138.960007  139.750000  134.979996  136.039993  5773600\n",
            "\n",
            "[1084 rows x 5 columns]\n"
          ]
        },
        {
          "output_type": "stream",
          "name": "stderr",
          "text": [
            "\r[*********************100%%**********************]  1 of 1 completed\n"
          ]
        },
        {
          "output_type": "stream",
          "name": "stdout",
          "text": [
            "\n",
            "Stock: KR\n",
            "\n",
            "                 Open       High        Low      Close   Volume\n",
            "Date                                                           \n",
            "2020-01-02  29.030001  29.160000  28.360001  28.660000  6224900\n",
            "2020-01-03  28.480000  28.820000  28.400000  28.700001  5442000\n",
            "2020-01-06  28.570000  28.870001  28.350000  28.799999  6929600\n",
            "2020-01-07  28.719999  28.799999  28.420000  28.590000  5882200\n",
            "2020-01-08  28.709999  28.730000  28.420000  28.420000  7341600\n",
            "...               ...        ...        ...        ...      ...\n",
            "2024-04-17  55.500000  56.070000  55.090000  55.259998  4955800\n",
            "2024-04-18  55.400002  55.700001  55.180000  55.570000  3707000\n",
            "2024-04-19  55.740002  56.689999  55.520000  56.570000  4522200\n",
            "2024-04-22  56.799999  57.139999  56.349998  56.930000  4260400\n",
            "2024-04-23  57.080002  57.230000  55.520000  55.630001  5149100\n",
            "\n",
            "[1084 rows x 5 columns]\n"
          ]
        },
        {
          "output_type": "stream",
          "name": "stderr",
          "text": [
            "\r[*********************100%%**********************]  1 of 1 completed\n",
            "ERROR:yfinance:\n",
            "1 Failed download:\n",
            "ERROR:yfinance:['KSU']: Exception('%ticker%: No timezone found, symbol may be delisted')\n",
            "[*********************100%%**********************]  1 of 1 completed\n"
          ]
        },
        {
          "output_type": "stream",
          "name": "stdout",
          "text": [
            "No data found for KSU\n",
            "\n",
            "Stock: LEN\n",
            "\n",
            "                  Open        High         Low       Close   Volume\n",
            "Date                                                               \n",
            "2020-01-02   56.070000   56.169998   55.310001   55.810001  3149200\n",
            "2020-01-03   55.639999   56.750000   55.500000   56.470001  2623600\n",
            "2020-01-06   56.680000   58.369999   56.540001   58.049999  6703400\n",
            "2020-01-07   58.090000   58.330002   56.799999   57.139999  5102700\n",
            "2020-01-08   58.680000   60.240002   57.570000   57.590000  9236900\n",
            "...                ...         ...         ...         ...      ...\n",
            "2024-04-17  153.779999  154.610001  151.350006  151.880005  1467900\n",
            "2024-04-18  156.300003  157.160004  152.429993  152.490005  2788300\n",
            "2024-04-19  152.750000  153.759995  149.139999  150.190002  2451500\n",
            "2024-04-22  151.250000  153.009995  149.199997  151.570007  1568200\n",
            "2024-04-23  152.440002  156.649994  150.809998  155.699997  2087100\n",
            "\n",
            "[1084 rows x 5 columns]\n"
          ]
        },
        {
          "output_type": "stream",
          "name": "stderr",
          "text": [
            "\r[*********************100%%**********************]  1 of 1 completed\n"
          ]
        },
        {
          "output_type": "stream",
          "name": "stdout",
          "text": [
            "\n",
            "Stock: LHX\n",
            "\n",
            "                  Open        High         Low       Close   Volume\n",
            "Date                                                               \n",
            "2020-01-02  198.429993  203.369995  198.059998  203.309998  1214700\n",
            "2020-01-03  206.169998  210.830002  206.169998  210.470001  2182200\n",
            "2020-01-06  212.220001  214.000000  209.139999  211.720001  1968100\n",
            "2020-01-07  212.020004  214.240005  211.000000  212.729996  1538100\n",
            "2020-01-08  212.750000  214.889999  210.410004  211.289993  1683300\n",
            "...                ...         ...         ...         ...      ...\n",
            "2024-04-17  202.500000  202.500000  200.539993  201.399994   895800\n",
            "2024-04-18  201.389999  203.960007  201.389999  202.080002   683600\n",
            "2024-04-19  203.339996  205.589996  202.630005  205.449997   898600\n",
            "2024-04-22  206.589996  209.809998  205.850006  208.139999   934200\n",
            "2024-04-23  209.960007  210.729996  207.509995  207.679993   850700\n",
            "\n",
            "[1084 rows x 5 columns]\n"
          ]
        },
        {
          "output_type": "stream",
          "name": "stderr",
          "text": [
            "\r[*********************100%%**********************]  1 of 1 completed\n"
          ]
        },
        {
          "output_type": "stream",
          "name": "stdout",
          "text": [
            "\n",
            "Stock: LMT\n",
            "\n",
            "                  Open        High         Low       Close   Volume\n",
            "Date                                                               \n",
            "2020-01-02  392.859985  399.369995  390.950012  399.369995  1258400\n",
            "2020-01-03  404.019989  417.170013  403.000000  413.739990  2990100\n",
            "2020-01-06  417.989990  417.989990  407.690002  413.109985  2477800\n",
            "2020-01-07  411.250000  416.119995  408.290009  414.500000  1059900\n",
            "2020-01-08  417.059998  418.179993  409.720001  411.029999  1708100\n",
            "...                ...         ...         ...         ...      ...\n",
            "2024-04-17  456.709991  457.239990  451.730011  456.049988   848300\n",
            "2024-04-18  454.839996  458.049988  454.269989  456.089996   714900\n",
            "2024-04-19  457.799988  465.359985  457.279999  463.869995  1387500\n",
            "2024-04-22  465.230011  469.540009  460.410004  461.329987  1820900\n",
            "2024-04-23  466.109985  473.540009  457.660004  460.079987  1789500\n",
            "\n",
            "[1084 rows x 5 columns]\n"
          ]
        },
        {
          "output_type": "stream",
          "name": "stderr",
          "text": [
            "[*********************100%%**********************]  1 of 1 completed\n",
            "[*********************100%%**********************]  1 of 1 completed\n"
          ]
        },
        {
          "output_type": "stream",
          "name": "stdout",
          "text": [
            "\n",
            "Stock: LNT\n",
            "\n",
            "                 Open       High        Low      Close   Volume\n",
            "Date                                                           \n",
            "2020-01-02  54.680000  54.770000  53.389999  53.630001  1387300\n",
            "2020-01-03  53.669998  54.349998  53.560001  53.799999   976100\n",
            "2020-01-06  53.799999  54.119999  53.549999  53.750000  2585200\n",
            "2020-01-07  53.650002  53.840000  53.320000  53.799999  1815100\n",
            "2020-01-08  53.820000  54.080002  53.650002  53.919998  1504300\n",
            "...               ...        ...        ...        ...      ...\n",
            "2024-04-17  47.779999  48.529999  47.619999  48.419998  1673700\n",
            "2024-04-18  48.590000  48.950001  48.250000  48.840000  1131900\n",
            "2024-04-19  48.959999  49.919998  48.950001  49.820000  1382500\n",
            "2024-04-22  49.580002  50.160000  49.240002  49.889999  1457400\n",
            "2024-04-23  49.779999  50.320000  49.689999  49.970001  1644200\n",
            "\n",
            "[1084 rows x 5 columns]\n",
            "\n",
            "Stock: LOW\n",
            "\n",
            "                  Open        High         Low       Close   Volume\n",
            "Date                                                               \n",
            "2020-01-02  120.050003  120.459999  119.260002  120.459999  2788800\n",
            "2020-01-03  118.709999  119.820000  118.050003  119.599998  2774200\n",
            "2020-01-06  118.650002  120.389999  118.300003  120.349998  3635400\n",
            "2020-01-07  120.489998  120.660004  119.209999  119.629997  4191100\n",
            "2020-01-08  120.150002  122.730003  119.580002  121.529999  4030100\n",
            "...                ...         ...         ...         ...      ...\n",
            "2024-04-17  230.240005  230.889999  227.240005  228.860001  1982300\n",
            "2024-04-18  229.869995  232.289993  227.550003  228.789993  1993100\n",
            "2024-04-19  229.490005  232.110001  228.889999  230.240005  2112200\n",
            "2024-04-22  231.729996  233.039993  229.559998  231.229996  1872800\n",
            "2024-04-23  231.229996  234.210007  230.220001  233.559998  2189900\n",
            "\n",
            "[1084 rows x 5 columns]\n"
          ]
        },
        {
          "output_type": "stream",
          "name": "stderr",
          "text": [
            "[*********************100%%**********************]  1 of 1 completed\n",
            "[*********************100%%**********************]  1 of 1 completed\n"
          ]
        },
        {
          "output_type": "stream",
          "name": "stdout",
          "text": [
            "\n",
            "Stock: LVS\n",
            "\n",
            "                 Open       High        Low      Close    Volume\n",
            "Date                                                            \n",
            "2020-01-02  69.879997  70.940002  69.790001  70.800003   5299600\n",
            "2020-01-03  69.620003  70.150002  69.389999  69.720001   2822400\n",
            "2020-01-06  69.180000  70.120003  69.040001  70.089996   2922500\n",
            "2020-01-07  69.550003  70.199997  69.500000  70.160004   2262800\n",
            "2020-01-08  70.000000  71.300003  69.889999  70.800003   3455300\n",
            "...               ...        ...        ...        ...       ...\n",
            "2024-04-17  50.560001  50.799999  49.849998  50.230000   9102500\n",
            "2024-04-18  48.090000  48.209999  45.439999  45.880001  21519900\n",
            "2024-04-19  46.299999  46.849998  45.400002  45.459999   7964900\n",
            "2024-04-22  45.980000  47.320000  45.980000  46.560001   7882200\n",
            "2024-04-23  46.919998  47.090000  45.980000  46.009998   7965400\n",
            "\n",
            "[1084 rows x 5 columns]\n",
            "\n",
            "Stock: MAS\n",
            "\n",
            "                 Open       High        Low      Close   Volume\n",
            "Date                                                           \n",
            "2020-01-02  48.200001  48.410000  47.639999  48.270000  2145600\n",
            "2020-01-03  47.459999  47.919998  47.419998  47.900002  2127800\n",
            "2020-01-06  47.240002  47.630001  47.009998  47.529999  3314500\n",
            "2020-01-07  47.270000  47.540001  47.070000  47.080002  2025800\n",
            "2020-01-08  47.230000  47.930000  47.119999  47.459999  2549100\n",
            "...               ...        ...        ...        ...      ...\n",
            "2024-04-17  73.260002  73.260002  71.820000  72.360001  1661700\n",
            "2024-04-18  73.059998  73.769997  72.139999  72.220001  1890500\n",
            "2024-04-19  72.320000  72.889999  71.620003  71.910004  1809300\n",
            "2024-04-22  72.400002  72.989998  71.599998  72.019997  2073800\n",
            "2024-04-23  72.230003  73.199997  71.690002  73.010002  2540600\n",
            "\n",
            "[1084 rows x 5 columns]\n"
          ]
        },
        {
          "output_type": "stream",
          "name": "stderr",
          "text": [
            "\r[*********************100%%**********************]  1 of 1 completed\n"
          ]
        },
        {
          "output_type": "stream",
          "name": "stdout",
          "text": [
            "\n",
            "Stock: MKC\n",
            "\n",
            "                 Open       High        Low      Close   Volume\n",
            "Date                                                           \n",
            "2020-01-02  84.684998  85.285004  83.684998  83.764999  1561200\n",
            "2020-01-03  83.834999  85.464996  83.565002  85.099998  1469800\n",
            "2020-01-06  85.129997  85.860001  84.809998  85.610001  1326600\n",
            "2020-01-07  85.364998  85.570000  84.080002  84.139999  1432000\n",
            "2020-01-08  84.635002  84.769997  83.650002  83.690002  1014400\n",
            "...               ...        ...        ...        ...      ...\n",
            "2024-04-17  72.220001  72.389999  71.639999  72.269997  1158800\n",
            "2024-04-18  72.760002  72.949997  72.370003  72.699997  1330400\n",
            "2024-04-19  73.190002  74.180000  72.730003  73.919998  1726900\n",
            "2024-04-22  74.209999  75.360001  73.910004  74.690002  1715000\n",
            "2024-04-23  74.570000  75.220001  74.410004  75.019997  1701200\n",
            "\n",
            "[1084 rows x 5 columns]\n"
          ]
        },
        {
          "output_type": "stream",
          "name": "stderr",
          "text": [
            "\r[*********************100%%**********************]  1 of 1 completed\n"
          ]
        },
        {
          "output_type": "stream",
          "name": "stdout",
          "text": [
            "\n",
            "Stock: MMC\n",
            "\n",
            "                  Open        High         Low       Close   Volume\n",
            "Date                                                               \n",
            "2020-01-02  111.589996  112.050003  111.120003  112.050003  2014000\n",
            "2020-01-03  110.970001  112.089996  110.830002  111.879997  1486500\n",
            "2020-01-06  111.330002  111.949997  111.059998  111.910004  1344400\n",
            "2020-01-07  111.739998  112.260002  111.209999  111.570000  1014000\n",
            "2020-01-08  111.639999  112.349998  111.209999  111.239998  1327300\n",
            "...                ...         ...         ...         ...      ...\n",
            "2024-04-17  196.759995  198.050003  196.229996  197.619995  2222500\n",
            "2024-04-18  205.979996  206.500000  201.529999  201.729996  3707900\n",
            "2024-04-19  202.509995  203.130005  198.889999  202.410004  2461000\n",
            "2024-04-22  203.929993  203.929993  201.250000  201.429993  1616400\n",
            "2024-04-23  202.509995  203.009995  200.720001  201.710007  1920400\n",
            "\n",
            "[1084 rows x 5 columns]\n"
          ]
        },
        {
          "output_type": "stream",
          "name": "stderr",
          "text": [
            "\r[*********************100%%**********************]  1 of 1 completed\n"
          ]
        },
        {
          "output_type": "stream",
          "name": "stdout",
          "text": [
            "\n",
            "Stock: MSCI\n",
            "\n",
            "                  Open        High         Low       Close   Volume\n",
            "Date                                                               \n",
            "2020-01-02  260.089996  266.059998  259.739990  266.049988   543300\n",
            "2020-01-03  262.200012  263.579987  259.269989  260.750000   459700\n",
            "2020-01-06  258.579987  262.149994  256.799988  262.049988   450900\n",
            "2020-01-07  260.859985  265.359985  260.739990  262.410004   460700\n",
            "2020-01-08  263.040009  269.230011  263.040009  266.559998   528700\n",
            "...                ...         ...         ...         ...      ...\n",
            "2024-04-17  517.570007  518.419983  511.470001  511.829987   447700\n",
            "2024-04-18  512.320007  518.169983  499.769989  505.760010  1421600\n",
            "2024-04-19  508.029999  510.220001  503.989990  510.070007   516900\n",
            "2024-04-22  514.280029  522.130005  510.390015  515.169983   915200\n",
            "2024-04-23  479.000000  483.079987  439.950012  446.000000  3661100\n",
            "\n",
            "[1084 rows x 5 columns]\n"
          ]
        },
        {
          "output_type": "stream",
          "name": "stderr",
          "text": [
            "\r[*********************100%%**********************]  1 of 1 completed\n"
          ]
        },
        {
          "output_type": "stream",
          "name": "stdout",
          "text": [
            "\n",
            "Stock: MTB\n",
            "\n",
            "                  Open        High         Low       Close   Volume\n",
            "Date                                                               \n",
            "2020-01-02  170.360001  171.070007  168.949997  171.070007   509100\n",
            "2020-01-03  168.360001  170.300003  167.500000  169.320007   461900\n",
            "2020-01-06  169.000000  169.500000  166.679993  167.919998   372900\n",
            "2020-01-07  167.279999  168.070007  165.440002  165.889999   324800\n",
            "2020-01-08  166.610001  168.039993  166.309998  166.729996   462500\n",
            "...                ...         ...         ...         ...      ...\n",
            "2024-04-17  138.610001  140.160004  137.759995  139.039993  1169800\n",
            "2024-04-18  138.929993  140.979996  138.380005  139.300003   816800\n",
            "2024-04-19  139.919998  143.419998  139.559998  143.380005  1525200\n",
            "2024-04-22  144.059998  146.059998  143.000000  145.679993   861200\n",
            "2024-04-23  145.789993  147.669998  145.220001  146.860001   727100\n",
            "\n",
            "[1084 rows x 5 columns]\n"
          ]
        },
        {
          "output_type": "stream",
          "name": "stderr",
          "text": [
            "\r[*********************100%%**********************]  1 of 1 completed\n"
          ]
        },
        {
          "output_type": "stream",
          "name": "stdout",
          "text": [
            "\n",
            "Stock: MTD\n",
            "\n",
            "                   Open         High          Low        Close  Volume\n",
            "Date                                                                  \n",
            "2020-01-02   805.169983   809.989990   796.469971   805.059998  150300\n",
            "2020-01-03   790.099976   802.070007   788.200012   789.539978  149700\n",
            "2020-01-06   779.890015   793.859985   779.099976   793.729980  187900\n",
            "2020-01-07   790.559998   801.119995   787.179993   797.159973  105800\n",
            "2020-01-08   796.320007   805.489990   795.000000   797.070007  148200\n",
            "...                 ...          ...          ...          ...     ...\n",
            "2024-04-17  1235.280029  1235.280029  1196.819946  1198.030029  150800\n",
            "2024-04-18  1175.000000  1206.119995  1142.910034  1192.560059  167000\n",
            "2024-04-19  1201.650024  1202.300049  1185.869995  1188.540039  100800\n",
            "2024-04-22  1195.939941  1215.510010  1186.760010  1199.459961   83700\n",
            "2024-04-23  1223.719971  1247.530029  1217.030029  1241.319946  122600\n",
            "\n",
            "[1084 rows x 5 columns]\n"
          ]
        },
        {
          "output_type": "stream",
          "name": "stderr",
          "text": [
            "[*********************100%%**********************]  1 of 1 completed\n",
            "[*********************100%%**********************]  1 of 1 completed\n"
          ]
        },
        {
          "output_type": "stream",
          "name": "stdout",
          "text": [
            "\n",
            "Stock: NI\n",
            "\n",
            "                 Open       High        Low      Close   Volume\n",
            "Date                                                           \n",
            "2020-01-02  27.930000  28.000000  27.080000  27.180000  4254200\n",
            "2020-01-03  27.120001  27.430000  27.110001  27.400000  3440400\n",
            "2020-01-06  27.430000  27.549999  27.370001  27.389999  4365600\n",
            "2020-01-07  27.639999  27.639999  27.379999  27.629999  2937000\n",
            "2020-01-08  27.680000  27.900000  27.600000  27.660000  4566500\n",
            "...               ...        ...        ...        ...      ...\n",
            "2024-04-17  26.790001  27.230000  26.700001  27.150000  3319600\n",
            "2024-04-18  27.330000  27.459999  27.049999  27.400000  3492500\n",
            "2024-04-19  27.510000  27.809999  27.459999  27.580000  5768000\n",
            "2024-04-22  27.570000  28.020000  27.469999  27.910000  3159000\n",
            "2024-04-23  27.860001  28.090000  27.709999  27.930000  2637100\n",
            "\n",
            "[1084 rows x 5 columns]\n",
            "\n",
            "Stock: NTRS\n",
            "\n",
            "                  Open        High         Low       Close   Volume\n",
            "Date                                                               \n",
            "2020-01-02  106.529999  107.629997  106.290001  107.580002   675700\n",
            "2020-01-03  106.000000  106.480003  105.209999  105.370003   995900\n",
            "2020-01-06  104.599998  105.300003  104.290001  105.239998   878100\n",
            "2020-01-07  105.269997  106.400002  105.220001  105.820000   686200\n",
            "2020-01-08  106.120003  106.959999  105.809998  106.790001  1099900\n",
            "...                ...         ...         ...         ...      ...\n",
            "2024-04-17   81.290001   82.260002   80.500000   81.230003  1507500\n",
            "2024-04-18   81.790001   82.080002   80.820000   81.410004  1404500\n",
            "2024-04-19   81.739998   82.360001   81.269997   81.449997  1985300\n",
            "2024-04-22   82.059998   84.190002   81.650002   83.540001  1791300\n",
            "2024-04-23   83.290001   85.029999   83.290001   84.180000  1549400\n",
            "\n",
            "[1084 rows x 5 columns]\n"
          ]
        },
        {
          "output_type": "stream",
          "name": "stderr",
          "text": [
            "[*********************100%%**********************]  1 of 1 completed\n",
            "[*********************100%%**********************]  1 of 1 completed\n"
          ]
        },
        {
          "output_type": "stream",
          "name": "stdout",
          "text": [
            "\n",
            "Stock: O\n",
            "\n",
            "                 Open       High        Low      Close   Volume\n",
            "Date                                                           \n",
            "2020-01-02  71.560081  71.705429  69.699615  70.232559  2061523\n",
            "2020-01-03  69.951553  71.608528  69.874031  71.501938  1826227\n",
            "2020-01-06  71.366280  72.151161  71.046509  71.860466  1324056\n",
            "2020-01-07  72.383720  72.383720  71.065887  71.879845  1610436\n",
            "2020-01-08  71.976746  72.325584  71.627907  72.209305  1912812\n",
            "...               ...        ...        ...        ...      ...\n",
            "2024-04-17  50.810001  51.549999  50.650002  51.279999  5120700\n",
            "2024-04-18  51.430000  52.049999  51.130001  52.029999  4961100\n",
            "2024-04-19  52.189999  53.160000  52.180000  53.040001  6609000\n",
            "2024-04-22  53.000000  53.380001  52.549999  53.330002  4182400\n",
            "2024-04-23  53.230000  53.580002  53.110001  53.389999  6650900\n",
            "\n",
            "[1084 rows x 5 columns]\n",
            "\n",
            "Stock: ODFL\n",
            "\n",
            "                  Open        High         Low       Close   Volume\n",
            "Date                                                               \n",
            "2020-01-02   63.419998   64.013336   62.896667   64.010002  1959000\n",
            "2020-01-03   63.450001   63.596668   62.923332   63.246666  1860000\n",
            "2020-01-06   62.900002   63.026669   62.023335   62.746666  1934700\n",
            "2020-01-07   62.813332   63.123333   62.566666   62.926666  1421400\n",
            "2020-01-08   63.066666   63.619999   62.823334   63.223331  1310700\n",
            "...                ...         ...         ...         ...      ...\n",
            "2024-04-17  212.320007  217.940002  207.119995  210.809998  2480700\n",
            "2024-04-18  213.289993  213.630005  207.669998  207.820007  1071900\n",
            "2024-04-19  209.869995  212.860001  208.820007  211.820007  1540000\n",
            "2024-04-22  213.750000  215.050003  208.610001  211.589996  1052800\n",
            "2024-04-23  210.990005  220.320007  210.990005  219.279999  1437800\n",
            "\n",
            "[1084 rows x 5 columns]\n"
          ]
        },
        {
          "output_type": "stream",
          "name": "stderr",
          "text": [
            "\r[*********************100%%**********************]  1 of 1 completed\n"
          ]
        },
        {
          "output_type": "stream",
          "name": "stdout",
          "text": [
            "\n",
            "Stock: OKE\n",
            "\n",
            "                 Open       High        Low      Close   Volume\n",
            "Date                                                           \n",
            "2020-01-02  75.919998  76.110001  75.040001  75.709999  1943600\n",
            "2020-01-03  75.919998  76.750000  75.650002  76.580002  1727600\n",
            "2020-01-06  76.300003  77.139999  76.120003  76.910004  2109700\n",
            "2020-01-07  76.709999  76.949997  76.260002  76.849998  1364600\n",
            "2020-01-08  76.919998  77.029999  75.650002  75.650002  2153900\n",
            "...               ...        ...        ...        ...      ...\n",
            "2024-04-17  77.449997  78.199997  77.010002  77.680000  2647200\n",
            "2024-04-18  77.720001  78.220001  77.379997  77.879997  2314700\n",
            "2024-04-19  78.099998  79.949997  77.919998  79.629997  3044500\n",
            "2024-04-22  79.559998  80.839996  78.889999  79.910004  2566900\n",
            "2024-04-23  79.669998  80.470001  79.320000  80.349998  2184600\n",
            "\n",
            "[1084 rows x 5 columns]\n"
          ]
        },
        {
          "output_type": "stream",
          "name": "stderr",
          "text": [
            "[*********************100%%**********************]  1 of 1 completed\n",
            "[*********************100%%**********************]  1 of 1 completed\n"
          ]
        },
        {
          "output_type": "stream",
          "name": "stdout",
          "text": [
            "\n",
            "Stock: OMC\n",
            "\n",
            "                 Open       High        Low      Close   Volume\n",
            "Date                                                           \n",
            "2020-01-02  81.150002  81.169998  78.959999  79.870003  1951400\n",
            "2020-01-03  79.000000  80.010002  78.879997  79.930000  1018300\n",
            "2020-01-06  79.389999  79.669998  78.959999  79.529999  1436600\n",
            "2020-01-07  79.800003  80.040001  78.970001  79.110001  1598300\n",
            "2020-01-08  79.349998  79.949997  79.250000  79.320000  1737400\n",
            "...               ...        ...        ...        ...      ...\n",
            "2024-04-17  93.349998  94.099998  91.160004  92.449997  3503200\n",
            "2024-04-18  93.070000  93.510002  91.449997  91.500000  1601500\n",
            "2024-04-19  91.879997  92.830002  91.019997  92.620003  2378400\n",
            "2024-04-22  93.300003  94.610001  92.220001  93.769997  1893700\n",
            "2024-04-23  93.720001  95.110001  93.160004  94.220001  1436800\n",
            "\n",
            "[1084 rows x 5 columns]\n",
            "\n",
            "Stock: PAYX\n",
            "\n",
            "                  Open        High         Low       Close   Volume\n",
            "Date                                                               \n",
            "2020-01-02   85.500000   85.629997   84.709999   85.110001  1307000\n",
            "2020-01-03   84.709999   85.040001   84.400002   84.820000   964700\n",
            "2020-01-06   84.480003   84.849998   84.370003   84.809998  1196700\n",
            "2020-01-07   84.489998   84.620003   84.110001   84.339996  1361200\n",
            "2020-01-08   84.430000   85.489998   84.279999   85.169998  1500500\n",
            "...                ...         ...         ...         ...      ...\n",
            "2024-04-17  121.489998  121.489998  119.070000  119.139999  2281300\n",
            "2024-04-18  119.779999  119.779999  117.739998  117.790001  2297800\n",
            "2024-04-19  117.790001  119.849998  117.790001  119.519997  2643300\n",
            "2024-04-22  120.000000  122.019997  119.839996  121.230003  1912000\n",
            "2024-04-23  121.230003  122.089996  120.709999  121.620003  1223700\n",
            "\n",
            "[1084 rows x 5 columns]\n"
          ]
        },
        {
          "output_type": "stream",
          "name": "stderr",
          "text": [
            "[*********************100%%**********************]  1 of 1 completed\n",
            "[*********************100%%**********************]  1 of 1 completed\n"
          ]
        },
        {
          "output_type": "stream",
          "name": "stdout",
          "text": [
            "\n",
            "Stock: PFG\n",
            "\n",
            "                 Open       High        Low      Close   Volume\n",
            "Date                                                           \n",
            "2020-01-02  55.430000  55.889999  55.099998  55.730000  1164500\n",
            "2020-01-03  54.660000  55.060001  54.230000  54.910000   896100\n",
            "2020-01-06  54.360001  55.029999  54.189999  55.000000   849900\n",
            "2020-01-07  54.889999  55.650002  54.389999  55.349998   868300\n",
            "2020-01-08  55.290001  56.049999  55.209999  55.590000  1176900\n",
            "...               ...        ...        ...        ...      ...\n",
            "2024-04-17  78.739998  79.260002  78.269997  78.480003   935400\n",
            "2024-04-18  79.029999  79.800003  78.760002  78.959999   875800\n",
            "2024-04-19  79.379997  80.489998  79.379997  80.440002   978700\n",
            "2024-04-22  80.680000  81.739998  80.250000  81.349998   674400\n",
            "2024-04-23  81.150002  81.750000  81.089996  81.510002   737900\n",
            "\n",
            "[1084 rows x 5 columns]\n",
            "\n",
            "Stock: PH\n",
            "\n",
            "                  Open        High         Low       Close  Volume\n",
            "Date                                                              \n",
            "2020-01-02  207.009995  209.770004  206.149994  209.770004  845200\n",
            "2020-01-03  205.630005  207.839996  203.190002  206.820007  895400\n",
            "2020-01-06  204.750000  206.979996  203.720001  206.910004  734100\n",
            "2020-01-07  206.899994  207.440002  205.000000  206.490005  699500\n",
            "2020-01-08  207.130005  207.539993  205.699997  206.630005  711500\n",
            "...                ...         ...         ...         ...     ...\n",
            "2024-04-17  548.390015  548.390015  536.390015  540.570007  515400\n",
            "2024-04-18  545.000000  547.929993  537.380005  538.090027  393000\n",
            "2024-04-19  540.770020  543.289978  531.780029  534.650024  558000\n",
            "2024-04-22  537.789978  546.650024  534.359985  539.719971  533700\n",
            "2024-04-23  545.460022  552.859985  543.219971  550.400024  375700\n",
            "\n",
            "[1084 rows x 5 columns]\n"
          ]
        },
        {
          "output_type": "stream",
          "name": "stderr",
          "text": [
            "\r[*********************100%%**********************]  1 of 1 completed\n",
            "ERROR:yfinance:\n",
            "1 Failed download:\n",
            "ERROR:yfinance:['PKI']: Exception('%ticker%: No timezone found, symbol may be delisted')\n",
            "[*********************100%%**********************]  1 of 1 completed\n"
          ]
        },
        {
          "output_type": "stream",
          "name": "stdout",
          "text": [
            "No data found for PKI\n",
            "\n",
            "Stock: PPL\n",
            "\n",
            "                 Open       High        Low      Close   Volume\n",
            "Date                                                           \n",
            "2020-01-02  36.000000  36.040001  35.240002  35.419998  6116400\n",
            "2020-01-03  35.160000  35.500000  35.110001  35.380001  4105100\n",
            "2020-01-06  35.299999  35.540001  35.230000  35.419998  6201900\n",
            "2020-01-07  35.459999  35.540001  35.110001  35.180000  4288200\n",
            "2020-01-08  35.419998  35.599998  35.279999  35.380001  5247100\n",
            "...               ...        ...        ...        ...      ...\n",
            "2024-04-17  26.200001  26.540001  26.129999  26.420000  3555300\n",
            "2024-04-18  26.559999  26.690001  26.360001  26.620001  3252200\n",
            "2024-04-19  26.760000  27.100000  26.680000  27.020000  4891500\n",
            "2024-04-22  26.969999  27.490000  26.850000  27.370001  5098100\n",
            "2024-04-23  27.400000  27.559999  27.230000  27.240000  4282400\n",
            "\n",
            "[1084 rows x 5 columns]\n"
          ]
        },
        {
          "output_type": "stream",
          "name": "stderr",
          "text": [
            "\r[*********************100%%**********************]  1 of 1 completed\n"
          ]
        },
        {
          "output_type": "stream",
          "name": "stdout",
          "text": [
            "\n",
            "Stock: PSA\n",
            "\n",
            "                  Open        High         Low       Close   Volume\n",
            "Date                                                               \n",
            "2020-01-02  213.820007  214.160004  210.600006  211.419998   862200\n",
            "2020-01-03  211.139999  213.880005  210.759995  213.699997   773400\n",
            "2020-01-06  212.759995  214.929993  212.529999  214.460007  1134300\n",
            "2020-01-07  213.220001  214.649994  211.770004  213.610001  1164300\n",
            "2020-01-08  213.009995  214.179993  212.119995  214.000000  1262100\n",
            "...                ...         ...         ...         ...      ...\n",
            "2024-04-17  263.019989  265.470001  261.579987  261.809998   420800\n",
            "2024-04-18  262.429993  262.950012  258.899994  260.279999   749000\n",
            "2024-04-19  261.170013  261.459991  259.089996  260.380005   737600\n",
            "2024-04-22  261.130005  261.700012  258.380005  261.440002   769900\n",
            "2024-04-23  261.809998  263.980011  261.109985  262.220001   512900\n",
            "\n",
            "[1084 rows x 5 columns]\n"
          ]
        },
        {
          "output_type": "stream",
          "name": "stderr",
          "text": [
            "[*********************100%%**********************]  1 of 1 completed\n",
            "[*********************100%%**********************]  1 of 1 completed\n"
          ]
        },
        {
          "output_type": "stream",
          "name": "stdout",
          "text": [
            "\n",
            "Stock: PVH\n",
            "\n",
            "                  Open        High         Low       Close   Volume\n",
            "Date                                                               \n",
            "2020-01-02  105.940002  106.410004  104.550003  105.349998   835400\n",
            "2020-01-03  103.570000  104.839996  102.849998  103.290001   642000\n",
            "2020-01-06  102.379997  105.709999  101.970001  105.639999   684100\n",
            "2020-01-07  105.639999  106.800003  104.690002  105.650002   549700\n",
            "2020-01-08  106.720001  108.059998  105.610001  106.230003   631900\n",
            "...                ...         ...         ...         ...      ...\n",
            "2024-04-17  108.300003  108.330002  105.610001  105.750000   944200\n",
            "2024-04-18  106.309998  108.220001  105.980003  106.309998   895200\n",
            "2024-04-19  106.040001  107.459999  105.430000  106.779999   915700\n",
            "2024-04-22  107.760002  110.629997  107.029999  109.570000  1150900\n",
            "2024-04-23  110.309998  113.489998  110.040001  112.639999  1031500\n",
            "\n",
            "[1084 rows x 5 columns]\n",
            "\n",
            "Stock: RCL\n",
            "\n",
            "                  Open        High         Low       Close   Volume\n",
            "Date                                                               \n",
            "2020-01-02  134.550003  134.800003  133.470001  134.649994  1014400\n",
            "2020-01-03  132.789993  133.619995  131.809998  133.490005  1229400\n",
            "2020-01-06  131.589996  131.869995  130.389999  131.630005  1518000\n",
            "2020-01-07  131.080002  132.100006  130.440002  130.440002  1211400\n",
            "2020-01-08  130.350006  132.710007  130.020004  132.220001  1429600\n",
            "...                ...         ...         ...         ...      ...\n",
            "2024-04-17  129.500000  130.169998  126.650002  127.970001  2296200\n",
            "2024-04-18  128.429993  130.619995  127.099998  127.639999  1981200\n",
            "2024-04-19  128.000000  129.720001  127.199997  129.210007  2965000\n",
            "2024-04-22  129.979996  133.949997  129.539993  131.990005  3315200\n",
            "2024-04-23  132.559998  137.550003  132.419998  136.669998  2649900\n",
            "\n",
            "[1084 rows x 5 columns]\n"
          ]
        },
        {
          "output_type": "stream",
          "name": "stderr",
          "text": [
            "[*********************100%%**********************]  1 of 1 completed\n",
            "[*********************100%%**********************]  1 of 1 completed"
          ]
        },
        {
          "output_type": "stream",
          "name": "stdout",
          "text": [
            "\n",
            "Stock: REG\n",
            "\n",
            "                 Open       High        Low      Close   Volume\n",
            "Date                                                           \n",
            "2020-01-02  63.470001  63.470001  61.529999  61.680000   759300\n",
            "2020-01-03  61.610001  62.490002  61.389999  62.410000   833500\n",
            "2020-01-06  62.430000  63.009998  62.169998  62.570000   618300\n",
            "2020-01-07  62.400002  62.410000  61.270000  61.680000   557100\n",
            "2020-01-08  61.799999  62.509998  61.660000  62.180000   767700\n",
            "...               ...        ...        ...        ...      ...\n",
            "2024-04-17  57.049999  57.560001  56.919998  57.290001   929800\n",
            "2024-04-18  57.209999  57.930000  56.939999  57.759998   867400\n",
            "2024-04-19  58.060001  58.590000  57.790001  58.369999  1388900\n",
            "2024-04-22  58.549999  59.380001  58.189999  59.209999   958000\n",
            "2024-04-23  59.180000  60.209999  59.180000  60.080002   700100\n",
            "\n",
            "[1084 rows x 5 columns]\n"
          ]
        },
        {
          "output_type": "stream",
          "name": "stderr",
          "text": [
            "\n"
          ]
        },
        {
          "output_type": "stream",
          "name": "stdout",
          "text": [
            "\n",
            "Stock: RMD\n",
            "\n",
            "                  Open        High         Low       Close   Volume\n",
            "Date                                                               \n",
            "2020-01-02  155.399994  156.169998  154.039993  156.110001   444200\n",
            "2020-01-03  154.089996  155.940002  153.119995  155.289993   417200\n",
            "2020-01-06  154.960007  156.119995  153.850006  156.029999   449100\n",
            "2020-01-07  155.009995  156.089996  154.729996  155.149994   351400\n",
            "2020-01-08  155.729996  157.500000  154.179993  156.270004   474800\n",
            "...                ...         ...         ...         ...      ...\n",
            "2024-04-17  182.000000  183.399994  172.190002  173.830002  3005100\n",
            "2024-04-18  177.399994  179.800003  176.330002  177.610001  1583600\n",
            "2024-04-19  179.149994  179.429993  176.919998  178.850006  1303500\n",
            "2024-04-22  180.000000  180.809998  178.490005  180.350006  1218700\n",
            "2024-04-23  182.589996  184.830002  181.699997  184.220001  1203000\n",
            "\n",
            "[1084 rows x 5 columns]\n"
          ]
        },
        {
          "output_type": "stream",
          "name": "stderr",
          "text": [
            "[*********************100%%**********************]  1 of 1 completed\n",
            "[*********************100%%**********************]  1 of 1 completed\n"
          ]
        },
        {
          "output_type": "stream",
          "name": "stdout",
          "text": [
            "\n",
            "Stock: ROK\n",
            "\n",
            "                  Open        High         Low       Close   Volume\n",
            "Date                                                               \n",
            "2020-01-02  203.820007  205.639999  202.600006  205.639999   638200\n",
            "2020-01-03  201.910004  203.229996  200.509995  202.639999   542600\n",
            "2020-01-06  201.479996  204.320007  200.919998  204.250000  1006900\n",
            "2020-01-07  204.500000  205.270004  202.250000  203.830002   708700\n",
            "2020-01-08  202.779999  206.800003  200.520004  205.380005   671100\n",
            "...                ...         ...         ...         ...      ...\n",
            "2024-04-17  282.299988  283.149994  275.910004  278.649994   817900\n",
            "2024-04-18  280.929993  281.450012  273.140015  273.500000  1125000\n",
            "2024-04-19  274.399994  275.290009  269.470001  269.959991  1196600\n",
            "2024-04-22  270.910004  275.480011  270.279999  273.470001   888200\n",
            "2024-04-23  273.600006  278.829987  272.470001  276.329987   663700\n",
            "\n",
            "[1084 rows x 5 columns]\n",
            "\n",
            "Stock: ROP\n",
            "\n",
            "                  Open        High         Low       Close  Volume\n",
            "Date                                                              \n",
            "2020-01-02  353.929993  365.170013  353.929993  365.170013  754400\n",
            "2020-01-03  359.429993  363.359985  358.459991  363.029999  479300\n",
            "2020-01-06  359.420013  359.989990  356.109985  359.609985  587800\n",
            "2020-01-07  358.709991  361.730011  356.579987  361.440002  404600\n",
            "2020-01-08  361.779999  366.000000  359.390015  364.869995  453300\n",
            "...                ...         ...         ...         ...     ...\n",
            "2024-04-17  528.320007  529.700012  525.669983  526.469971  447800\n",
            "2024-04-18  530.510010  531.549988  526.169983  527.270020  477300\n",
            "2024-04-19  530.070007  535.700012  529.549988  534.380005  776900\n",
            "2024-04-22  538.919983  540.669983  534.400024  539.109985  584000\n",
            "2024-04-23  539.950012  543.650024  538.479980  539.619995  381500\n",
            "\n",
            "[1084 rows x 5 columns]\n"
          ]
        },
        {
          "output_type": "stream",
          "name": "stderr",
          "text": [
            "\r[*********************100%%**********************]  1 of 1 completed\n"
          ]
        },
        {
          "output_type": "stream",
          "name": "stdout",
          "text": [
            "\n",
            "Stock: RSG\n",
            "\n",
            "                  Open        High         Low       Close   Volume\n",
            "Date                                                               \n",
            "2020-01-02   89.720001   89.839996   88.769997   89.830002  1688500\n",
            "2020-01-03   89.190002   90.400002   89.059998   90.209999  1362400\n",
            "2020-01-06   90.000000   90.639999   89.730003   90.599998   988700\n",
            "2020-01-07   90.430000   90.449997   89.930000   90.129997   772900\n",
            "2020-01-08   90.220001   90.480003   89.839996   90.209999  1337400\n",
            "...                ...         ...         ...         ...      ...\n",
            "2024-04-17  188.619995  189.149994  187.100006  188.949997  1460500\n",
            "2024-04-18  189.080002  189.830002  188.179993  188.970001  1586300\n",
            "2024-04-19  190.250000  190.669998  188.850006  189.759995  1576400\n",
            "2024-04-22  190.589996  192.750000  190.220001  191.759995  1262700\n",
            "2024-04-23  192.309998  192.990005  190.029999  190.610001  1348400\n",
            "\n",
            "[1084 rows x 5 columns]\n"
          ]
        },
        {
          "output_type": "stream",
          "name": "stderr",
          "text": [
            "[*********************100%%**********************]  1 of 1 completed\n",
            "[*********************100%%**********************]  1 of 1 completed"
          ]
        },
        {
          "output_type": "stream",
          "name": "stdout",
          "text": [
            "\n",
            "Stock: SBAC\n",
            "\n",
            "                  Open        High         Low       Close   Volume\n",
            "Date                                                               \n",
            "2020-01-02  241.149994  242.270004  237.179993  238.869995   555800\n",
            "2020-01-03  237.710007  241.800003  237.710007  241.029999   787400\n",
            "2020-01-06  241.029999  242.000000  238.000000  241.250000   810600\n",
            "2020-01-07  241.080002  241.500000  235.500000  237.449997   539300\n",
            "2020-01-08  237.820007  241.059998  237.460007  240.029999   547800\n",
            "...                ...         ...         ...         ...      ...\n",
            "2024-04-17  197.139999  198.039993  195.190002  196.220001   761700\n",
            "2024-04-18  197.119995  197.889999  193.940002  195.949997   627300\n",
            "2024-04-19  196.380005  196.779999  194.899994  196.059998   698300\n",
            "2024-04-22  196.160004  197.600006  195.050003  196.800003  1068400\n",
            "2024-04-23  196.059998  200.169998  195.610001  198.300003   773100\n",
            "\n",
            "[1084 rows x 5 columns]\n"
          ]
        },
        {
          "output_type": "stream",
          "name": "stderr",
          "text": [
            "\n",
            "\r[*********************100%%**********************]  1 of 1 completed\n"
          ]
        },
        {
          "output_type": "stream",
          "name": "stdout",
          "text": [
            "\n",
            "Stock: SBUX\n",
            "\n",
            "                 Open       High        Low      Close    Volume\n",
            "Date                                                            \n",
            "2020-01-02  88.120003  89.349998  88.050003  89.349998   6473800\n",
            "2020-01-03  88.660004  89.099998  88.099998  88.830002   4874100\n",
            "2020-01-06  88.110001  88.410004  87.470001  88.129997   5409800\n",
            "2020-01-07  87.959999  88.029999  87.129997  87.860001   6514700\n",
            "2020-01-08  87.940002  89.349998  87.779999  88.879997   7296300\n",
            "...               ...        ...        ...        ...       ...\n",
            "2024-04-17  86.000000  86.419998  85.339996  86.209999   6870100\n",
            "2024-04-18  86.440002  87.629997  86.050003  87.150002  11403300\n",
            "2024-04-19  87.150002  88.080002  87.120003  87.610001  11898200\n",
            "2024-04-22  88.080002  88.610001  87.339996  88.180000   8669000\n",
            "2024-04-23  88.769997  88.809998  87.320000  87.870003   5670500\n",
            "\n",
            "[1084 rows x 5 columns]\n",
            "\n",
            "Stock: SNA\n",
            "\n",
            "                  Open        High         Low       Close  Volume\n",
            "Date                                                              \n",
            "2020-01-02  170.399994  170.850006  168.020004  169.000000  467900\n",
            "2020-01-03  166.089996  167.369995  165.240005  167.089996  362500\n",
            "2020-01-06  166.360001  166.449997  164.869995  165.860001  407600\n",
            "2020-01-07  165.149994  165.630005  163.639999  164.789993  438200\n",
            "2020-01-08  165.250000  167.350006  164.970001  166.610001  305000\n",
            "...                ...         ...         ...         ...     ...\n",
            "2024-04-17  284.529999  286.820007  281.739990  283.500000  437800\n",
            "2024-04-18  273.670013  273.670013  261.329987  261.760010  862100\n",
            "2024-04-19  262.100006  269.100006  261.950012  268.799988  522100\n",
            "2024-04-22  268.769989  271.049988  267.130005  268.559998  374400\n",
            "2024-04-23  268.690002  272.760010  267.660004  271.339996  289200\n",
            "\n",
            "[1084 rows x 5 columns]\n"
          ]
        },
        {
          "output_type": "stream",
          "name": "stderr",
          "text": [
            "[*********************100%%**********************]  1 of 1 completed\n",
            "[*********************100%%**********************]  1 of 1 completed\n"
          ]
        },
        {
          "output_type": "stream",
          "name": "stdout",
          "text": [
            "\n",
            "Stock: SNPS\n",
            "\n",
            "                  Open        High         Low       Close   Volume\n",
            "Date                                                               \n",
            "2020-01-02  140.309998  142.929993  139.839996  142.869995  1095100\n",
            "2020-01-03  141.100006  142.089996  140.050003  141.759995   834800\n",
            "2020-01-06  140.520004  142.160004  139.699997  141.979996   924800\n",
            "2020-01-07  141.179993  143.479996  140.320007  142.960007   701100\n",
            "2020-01-08  143.199997  146.600006  142.559998  145.860001  1241800\n",
            "...                ...         ...         ...         ...      ...\n",
            "2024-04-17  542.159973  546.669983  525.770020  527.580017  1120900\n",
            "2024-04-18  529.390015  530.000000  517.059998  519.710022  1177600\n",
            "2024-04-19  518.900024  522.619995  508.190002  510.709991  1192300\n",
            "2024-04-22  513.080017  518.770020  510.750000  515.489990   974800\n",
            "2024-04-23  510.769989  531.729980  510.769989  527.500000  1487500\n",
            "\n",
            "[1084 rows x 5 columns]\n",
            "\n",
            "Stock: STZ\n",
            "\n",
            "                  Open        High         Low       Close   Volume\n",
            "Date                                                               \n",
            "2020-01-02  189.970001  190.000000  186.660004  188.300003  1060500\n",
            "2020-01-03  187.360001  189.910004  186.279999  189.529999  1311500\n",
            "2020-01-06  188.979996  191.740005  187.520004  190.399994  1615100\n",
            "2020-01-07  189.179993  189.940002  183.309998  183.600006  2301500\n",
            "2020-01-08  188.750000  193.750000  182.169998  190.289993  4577800\n",
            "...                ...         ...         ...         ...      ...\n",
            "2024-04-17  259.230011  259.230011  257.079987  257.309998  1530500\n",
            "2024-04-18  257.820007  260.970001  257.519989  258.679993  1160800\n",
            "2024-04-19  259.470001  263.559998  259.290009  260.700012  1506600\n",
            "2024-04-22  261.500000  261.799988  259.390015  259.739990   872800\n",
            "2024-04-23  259.420013  262.269989  258.929993  261.660004  1049900\n",
            "\n",
            "[1084 rows x 5 columns]\n"
          ]
        },
        {
          "output_type": "stream",
          "name": "stderr",
          "text": [
            "\r[*********************100%%**********************]  1 of 1 completed\n"
          ]
        },
        {
          "output_type": "stream",
          "name": "stdout",
          "text": [
            "\n",
            "Stock: SYY\n",
            "\n",
            "                 Open       High        Low      Close   Volume\n",
            "Date                                                           \n",
            "2020-01-02  85.059998  85.129997  83.980003  84.660004  2121900\n",
            "2020-01-03  84.199997  84.720001  83.930000  84.349998  1759900\n",
            "2020-01-06  84.150002  84.250000  83.500000  84.239998  1916800\n",
            "2020-01-07  84.239998  84.349998  83.400002  83.559998  1701400\n",
            "2020-01-08  83.889999  84.959999  83.620003  84.529999  2945900\n",
            "...               ...        ...        ...        ...      ...\n",
            "2024-04-17  76.339996  76.489998  74.660004  75.440002  2142500\n",
            "2024-04-18  75.750000  76.040001  75.440002  75.639999  2184800\n",
            "2024-04-19  76.019997  76.769997  75.809998  76.730003  2530100\n",
            "2024-04-22  77.089996  77.699997  76.610001  77.320000  2600700\n",
            "2024-04-23  77.639999  77.709999  76.809998  76.959999  2129600\n",
            "\n",
            "[1084 rows x 5 columns]\n"
          ]
        },
        {
          "output_type": "stream",
          "name": "stderr",
          "text": [
            "\r[*********************100%%**********************]  1 of 1 completed\n"
          ]
        },
        {
          "output_type": "stream",
          "name": "stdout",
          "text": [
            "\n",
            "Stock: TDG\n",
            "\n",
            "                   Open         High          Low        Close  Volume\n",
            "Date                                                                  \n",
            "2020-01-02   560.799988   567.440002   559.099976   567.440002  311700\n",
            "2020-01-03   561.340027   578.409973   561.340027   577.840027  278000\n",
            "2020-01-06   576.989990   585.429993   574.710022   584.799988  377700\n",
            "2020-01-07   583.369995   589.340027   580.750000   587.000000  255100\n",
            "2020-01-08   590.919983   590.919983   583.719971   585.630005  409100\n",
            "...                 ...          ...          ...          ...     ...\n",
            "2024-04-17  1233.520020  1235.280029  1212.709961  1225.699951  148000\n",
            "2024-04-18  1218.920044  1237.390015  1211.569946  1213.500000  205500\n",
            "2024-04-19  1225.369995  1226.329956  1185.780029  1187.699951  228300\n",
            "2024-04-22  1195.939941  1213.660034  1186.119995  1200.930054  147900\n",
            "2024-04-23  1215.000000  1244.660034  1212.410034  1242.400024  241800\n",
            "\n",
            "[1084 rows x 5 columns]\n"
          ]
        },
        {
          "output_type": "stream",
          "name": "stderr",
          "text": [
            "[*********************100%%**********************]  1 of 1 completed\n",
            "[*********************100%%**********************]  1 of 1 completed\n"
          ]
        },
        {
          "output_type": "stream",
          "name": "stdout",
          "text": [
            "\n",
            "Stock: TFX\n",
            "\n",
            "                  Open        High         Low       Close  Volume\n",
            "Date                                                              \n",
            "2020-01-02  376.769989  379.670013  373.480011  378.489990  262900\n",
            "2020-01-03  372.820007  377.420013  371.640015  374.619995  167700\n",
            "2020-01-06  373.339996  380.359985  372.070007  378.989990  170000\n",
            "2020-01-07  377.010010  381.410004  375.929993  378.410004  127300\n",
            "2020-01-08  379.760010  381.959991  378.850006  379.459991  178100\n",
            "...                ...         ...         ...         ...     ...\n",
            "2024-04-17  210.669998  210.669998  207.089996  208.300003  170400\n",
            "2024-04-18  208.740005  209.940002  206.750000  207.380005  154300\n",
            "2024-04-19  208.669998  208.899994  205.259995  206.559998  416400\n",
            "2024-04-22  208.169998  209.279999  205.550003  207.270004  329700\n",
            "2024-04-23  208.309998  212.559998  207.509995  211.110001  284400\n",
            "\n",
            "[1084 rows x 5 columns]\n",
            "\n",
            "Stock: TMO\n",
            "\n",
            "                  Open        High         Low       Close   Volume\n",
            "Date                                                               \n",
            "2020-01-02  326.000000  326.940002  322.570007  326.369995  1173300\n",
            "2020-01-03  321.480011  325.290009  321.329987  322.820007   819600\n",
            "2020-01-06  319.839996  325.329987  318.649994  325.140015  1010000\n",
            "2020-01-07  325.429993  329.239990  324.980011  326.980011   917700\n",
            "2020-01-08  326.179993  330.589996  325.220001  327.500000   939100\n",
            "...                ...         ...         ...         ...      ...\n",
            "2024-04-17  555.859985  556.000000  546.450012  547.250000  1610100\n",
            "2024-04-18  534.799988  544.869995  529.640015  541.520020  2075800\n",
            "2024-04-19  542.950012  546.140015  539.169983  544.780029  1738400\n",
            "2024-04-22  549.150024  552.859985  543.150024  548.380005  1522800\n",
            "2024-04-23  567.510010  576.890015  560.000000  574.590027  2544000\n",
            "\n",
            "[1084 rows x 5 columns]\n"
          ]
        },
        {
          "output_type": "stream",
          "name": "stderr",
          "text": [
            "[*********************100%%**********************]  1 of 1 completed\n",
            "[*********************100%%**********************]  1 of 1 completed\n"
          ]
        },
        {
          "output_type": "stream",
          "name": "stdout",
          "text": [
            "\n",
            "Stock: TPR\n",
            "\n",
            "                 Open       High        Low      Close   Volume\n",
            "Date                                                           \n",
            "2020-01-02  27.160000  27.320000  26.580000  26.930000  3823600\n",
            "2020-01-03  26.510000  26.930000  26.430000  26.920000  3511200\n",
            "2020-01-06  26.670000  27.299999  26.600000  27.260000  4040500\n",
            "2020-01-07  27.299999  27.809999  27.080000  27.520000  2752900\n",
            "2020-01-08  27.680000  27.959999  27.260000  27.700001  3624100\n",
            "...               ...        ...        ...        ...      ...\n",
            "2024-04-17  41.349998  41.549999  40.220001  40.490002  4344200\n",
            "2024-04-18  40.840000  41.070000  40.090000  40.500000  3814500\n",
            "2024-04-19  40.480000  41.080002  40.400002  40.619999  3467500\n",
            "2024-04-22  40.860001  40.880001  40.060001  40.310001  3854600\n",
            "2024-04-23  39.869999  40.130001  38.730000  39.439999  6548300\n",
            "\n",
            "[1084 rows x 5 columns]\n",
            "\n",
            "Stock: TRV\n",
            "\n",
            "                  Open        High         Low       Close   Volume\n",
            "Date                                                               \n",
            "2020-01-02  137.520004  137.740005  136.139999  137.509995  1117300\n",
            "2020-01-03  136.550003  137.369995  136.350006  137.020004   927300\n",
            "2020-01-06  136.149994  137.210007  135.639999  137.169998   952800\n",
            "2020-01-07  135.889999  136.630005  135.100006  135.160004  1204600\n",
            "2020-01-08  135.940002  137.699997  135.490005  136.610001  1942800\n",
            "...                ...         ...         ...         ...      ...\n",
            "2024-04-17  206.080002  209.820007  202.600006  206.580002  5764800\n",
            "2024-04-18  208.479996  211.770004  207.240005  210.419998  2048300\n",
            "2024-04-19  211.720001  215.500000  210.729996  214.070007  1918300\n",
            "2024-04-22  214.460007  215.520004  212.559998  214.270004  1471700\n",
            "2024-04-23  214.639999  215.949997  213.119995  214.320007  1042900\n",
            "\n",
            "[1084 rows x 5 columns]\n"
          ]
        },
        {
          "output_type": "stream",
          "name": "stderr",
          "text": [
            "\r[*********************100%%**********************]  1 of 1 completed\n"
          ]
        },
        {
          "output_type": "stream",
          "name": "stdout",
          "text": [
            "\n",
            "Stock: TT\n",
            "\n",
            "                  Open        High         Low       Close   Volume\n",
            "Date                                                               \n",
            "2020-01-02  103.436775  104.228081  102.932503  104.228081  2158173\n",
            "2020-01-03  102.668732  103.754852  102.513573  103.297127  1142054\n",
            "2020-01-06  102.723038  103.010086  101.536072  102.397209  1766575\n",
            "2020-01-07  101.854149  102.660980  101.706749  101.978279  1771215\n",
            "2020-01-08  102.156708  102.668732  101.698990  101.815361  1303308\n",
            "...                ...         ...         ...         ...      ...\n",
            "2024-04-17  297.019989  298.690002  290.309998  293.089996   883500\n",
            "2024-04-18  295.540009  295.540009  289.339996  289.559998   649900\n",
            "2024-04-19  291.420013  293.250000  286.320007  288.269989   800800\n",
            "2024-04-22  291.119995  294.420013  288.950012  291.149994  1009400\n",
            "2024-04-23  293.450012  296.170013  292.279999  295.089996  1031900\n",
            "\n",
            "[1084 rows x 5 columns]\n"
          ]
        },
        {
          "output_type": "stream",
          "name": "stderr",
          "text": [
            "[*********************100%%**********************]  1 of 1 completed\n",
            "[*********************100%%**********************]  1 of 1 completed\n"
          ]
        },
        {
          "output_type": "stream",
          "name": "stdout",
          "text": [
            "\n",
            "Stock: TXN\n",
            "\n",
            "                  Open        High         Low       Close    Volume\n",
            "Date                                                                \n",
            "2020-01-02  129.130005  129.610001  127.769997  129.570007   4614000\n",
            "2020-01-03  127.459999  129.250000  127.230003  127.849998   4057200\n",
            "2020-01-06  127.059998  127.330002  125.900002  126.959999   4345400\n",
            "2020-01-07  129.149994  130.899994  128.419998  129.410004   7184100\n",
            "2020-01-08  129.339996  130.570007  129.059998  129.759995   3546900\n",
            "...                ...         ...         ...         ...       ...\n",
            "2024-04-17  168.380005  168.979996  165.500000  165.699997   4564900\n",
            "2024-04-18  163.679993  164.679993  161.550003  163.669998   5605500\n",
            "2024-04-19  163.080002  164.419998  159.110001  159.679993  10496700\n",
            "2024-04-22  160.259995  164.139999  160.050003  163.429993   5942400\n",
            "2024-04-23  163.039993  166.899994  162.460007  165.470001   6833600\n",
            "\n",
            "[1084 rows x 5 columns]\n",
            "\n",
            "Stock: UDR\n",
            "\n",
            "                 Open       High        Low      Close   Volume\n",
            "Date                                                           \n",
            "2020-01-02  46.720001  46.860001  45.759998  46.119999  1544300\n",
            "2020-01-03  45.950001  46.580002  45.810001  46.490002  1434500\n",
            "2020-01-06  46.450001  46.590000  46.240002  46.389999  1276800\n",
            "2020-01-07  46.150002  46.240002  45.599998  45.820000  1236200\n",
            "2020-01-08  45.980000  46.070000  45.750000  45.880001  1783700\n",
            "...               ...        ...        ...        ...      ...\n",
            "2024-04-17  35.509998  35.820000  35.169998  35.340000  2479700\n",
            "2024-04-18  35.410000  35.950001  35.139999  35.779999  3354600\n",
            "2024-04-19  36.029999  36.450001  35.950001  36.400002  3671100\n",
            "2024-04-22  36.560001  37.070000  36.279999  37.009998  2513000\n",
            "2024-04-23  36.980000  37.599998  36.980000  37.270000  2412000\n",
            "\n",
            "[1084 rows x 5 columns]\n"
          ]
        },
        {
          "output_type": "stream",
          "name": "stderr",
          "text": [
            "\r[*********************100%%**********************]  1 of 1 completed\n"
          ]
        },
        {
          "output_type": "stream",
          "name": "stdout",
          "text": [
            "\n",
            "Stock: ULTA\n",
            "\n",
            "                  Open        High         Low       Close   Volume\n",
            "Date                                                               \n",
            "2020-01-02  254.320007  254.830002  250.649994  254.550003  1182300\n",
            "2020-01-03  252.279999  252.479996  249.220001  250.169998   921300\n",
            "2020-01-06  248.710007  251.089996  246.740005  250.949997   880500\n",
            "2020-01-07  250.410004  254.839996  250.009995  253.089996  1157500\n",
            "2020-01-08  252.449997  259.179993  252.449997  258.000000  1123400\n",
            "...                ...         ...         ...         ...      ...\n",
            "2024-04-17  428.799988  429.920013  423.679993  424.549988   947400\n",
            "2024-04-18  428.820007  428.820007  416.579987  425.109985   862500\n",
            "2024-04-19  413.829987  418.790009  411.000000  413.500000  1063400\n",
            "2024-04-22  417.429993  419.290009  412.640015  417.980011   635300\n",
            "2024-04-23  420.859985  424.850006  417.269989  419.269989   692300\n",
            "\n",
            "[1084 rows x 5 columns]\n"
          ]
        },
        {
          "output_type": "stream",
          "name": "stderr",
          "text": [
            "\r[*********************100%%**********************]  1 of 1 completed\n"
          ]
        },
        {
          "output_type": "stream",
          "name": "stdout",
          "text": [
            "\n",
            "Stock: UNM\n",
            "\n",
            "                 Open       High        Low      Close   Volume\n",
            "Date                                                           \n",
            "2020-01-02  29.370001  29.670000  29.139999  29.639999  2168600\n",
            "2020-01-03  29.180000  29.280001  28.740000  29.059999  1862600\n",
            "2020-01-06  28.750000  28.879999  28.530001  28.690001  2358000\n",
            "2020-01-07  28.559999  28.889999  28.379999  28.660000  1767900\n",
            "2020-01-08  28.719999  29.120001  28.690001  28.910000  1689100\n",
            "...               ...        ...        ...        ...      ...\n",
            "2024-04-17  50.700001  50.700001  50.009998  50.160000   784600\n",
            "2024-04-18  50.549999  51.119999  50.459999  50.790001  1099400\n",
            "2024-04-19  50.869999  51.480000  50.660000  51.360001  1270300\n",
            "2024-04-22  51.689999  52.119999  51.490002  51.799999   898800\n",
            "2024-04-23  51.930000  52.209999  51.759998  51.790001   819200\n",
            "\n",
            "[1084 rows x 5 columns]\n"
          ]
        },
        {
          "output_type": "stream",
          "name": "stderr",
          "text": [
            "\r[*********************100%%**********************]  1 of 1 completed\n",
            "ERROR:yfinance:\n",
            "1 Failed download:\n",
            "ERROR:yfinance:['VAR']: Exception('%ticker%: No timezone found, symbol may be delisted')\n"
          ]
        },
        {
          "output_type": "stream",
          "name": "stdout",
          "text": [
            "No data found for VAR\n"
          ]
        },
        {
          "output_type": "stream",
          "name": "stderr",
          "text": [
            "[*********************100%%**********************]  1 of 1 completed\n",
            "[*********************100%%**********************]  1 of 1 completed\n"
          ]
        },
        {
          "output_type": "stream",
          "name": "stdout",
          "text": [
            "\n",
            "Stock: VFC\n",
            "\n",
            "                 Open        High        Low       Close   Volume\n",
            "Date                                                             \n",
            "2020-01-02  99.669998  100.250000  99.480003  100.230003  2555100\n",
            "2020-01-03  98.900002   99.940002  98.760002   99.599998  1966200\n",
            "2020-01-06  99.000000   99.430000  98.599998   99.209999  1967600\n",
            "2020-01-07  99.169998   99.970001  98.559998   98.720001  1766100\n",
            "2020-01-08  98.000000   98.180000  96.809998   97.040001  2980000\n",
            "...               ...         ...        ...         ...      ...\n",
            "2024-04-17  12.650000   12.690000  12.240000   12.250000  6857200\n",
            "2024-04-18  12.270000   12.750000  12.220000   12.670000  6884100\n",
            "2024-04-19  12.570000   12.970000  12.560000   12.830000  7550400\n",
            "2024-04-22  12.840000   12.980000  12.660000   12.790000  6568600\n",
            "2024-04-23  12.710000   13.000000  12.700000   12.950000  7013800\n",
            "\n",
            "[1084 rows x 5 columns]\n",
            "\n",
            "Stock: VLO\n",
            "\n",
            "                  Open        High         Low       Close   Volume\n",
            "Date                                                               \n",
            "2020-01-02   94.629997   95.239998   94.260002   95.129997  2130500\n",
            "2020-01-03   94.349998   94.650002   90.849998   91.519997  5057000\n",
            "2020-01-06   91.110001   91.989998   90.519997   91.529999  3393200\n",
            "2020-01-07   91.059998   92.760002   90.309998   92.730003  3795500\n",
            "2020-01-08   92.519997   93.529999   91.989998   93.089996  4101800\n",
            "...                ...         ...         ...         ...      ...\n",
            "2024-04-17  169.270004  170.289993  166.539993  167.279999  2469700\n",
            "2024-04-18  167.839996  168.000000  160.990005  162.490005  3115000\n",
            "2024-04-19  163.000000  165.550003  162.220001  163.889999  2437500\n",
            "2024-04-22  163.889999  167.300003  162.360001  165.899994  2130000\n",
            "2024-04-23  164.699997  167.619995  163.470001  167.539993  1969300\n",
            "\n",
            "[1084 rows x 5 columns]\n"
          ]
        },
        {
          "output_type": "stream",
          "name": "stderr",
          "text": [
            "[*********************100%%**********************]  1 of 1 completed\n",
            "[*********************100%%**********************]  1 of 1 completed\n"
          ]
        },
        {
          "output_type": "stream",
          "name": "stdout",
          "text": [
            "\n",
            "Stock: VNO\n",
            "\n",
            "                 Open       High        Low      Close   Volume\n",
            "Date                                                           \n",
            "2020-01-02  66.720001  66.900002  65.190002  65.500000  1757500\n",
            "2020-01-03  65.080002  66.089996  64.790001  66.010002  1110700\n",
            "2020-01-06  65.809998  66.989998  65.739998  66.870003   891200\n",
            "2020-01-07  66.660004  66.779999  65.900002  66.059998   804200\n",
            "2020-01-08  66.169998  66.349998  65.620003  65.919998   960100\n",
            "...               ...        ...        ...        ...      ...\n",
            "2024-04-17  25.570000  26.250000  25.320000  25.709999  2453700\n",
            "2024-04-18  25.969999  26.430000  25.570000  25.830000  1299400\n",
            "2024-04-19  25.780001  26.240000  25.690001  26.090000  1037100\n",
            "2024-04-22  26.190001  26.780001  25.870001  26.590000   976100\n",
            "2024-04-23  26.540001  27.790001  26.400000  27.209999  1290000\n",
            "\n",
            "[1084 rows x 5 columns]\n",
            "\n",
            "Stock: WAT\n",
            "\n"
          ]
        },
        {
          "output_type": "stream",
          "name": "stderr",
          "text": [
            "\r[*********************100%%**********************]  1 of 1 completed\n"
          ]
        },
        {
          "output_type": "stream",
          "name": "stdout",
          "text": [
            "                  Open        High         Low       Close  Volume\n",
            "Date                                                              \n",
            "2020-01-02  234.929993  236.289993  233.320007  235.059998  420100\n",
            "2020-01-03  231.539993  233.830002  229.929993  231.009995  389700\n",
            "2020-01-06  229.669998  230.449997  228.259995  228.880005  406500\n",
            "2020-01-07  226.289993  232.059998  226.289993  231.979996  420800\n",
            "2020-01-08  221.000000  230.179993  217.570007  226.350006  682500\n",
            "...                ...         ...         ...         ...     ...\n",
            "2024-04-17  312.429993  313.359985  302.500000  304.179993  614600\n",
            "2024-04-18  296.299988  300.399994  288.940002  294.230011  687000\n",
            "2024-04-19  296.179993  299.760010  293.910004  296.100006  466300\n",
            "2024-04-22  298.220001  300.809998  294.709991  299.230011  358300\n",
            "2024-04-23  309.989990  315.029999  306.089996  313.299988  561600\n",
            "\n",
            "[1084 rows x 5 columns]\n",
            "\n",
            "Stock: WDC\n",
            "\n",
            "                 Open       High        Low      Close    Volume\n",
            "Date                                                            \n",
            "2020-01-02  64.199997  65.980003  64.199997  65.620003   6669500\n",
            "2020-01-03  63.889999  65.309998  63.549999  64.610001   3958000\n",
            "2020-01-06  62.959999  64.550003  62.750000  63.369999   4085900\n",
            "2020-01-07  65.209999  67.980003  64.529999  67.660004  11090300\n",
            "2020-01-08  67.209999  69.000000  66.629997  68.639999   6600100\n",
            "...               ...        ...        ...        ...       ...\n",
            "2024-04-17  72.209999  73.199997  69.910004  70.169998   6524400\n",
            "2024-04-18  69.959999  70.720001  68.230003  68.320000   4347200\n",
            "2024-04-19  67.489998  68.410004  65.610001  66.050003   7029800\n",
            "2024-04-22  66.349998  68.199997  65.839996  67.050003   6832700\n",
            "2024-04-23  67.199997  70.239998  67.199997  69.919998   7710600\n",
            "\n",
            "[1084 rows x 5 columns]\n"
          ]
        },
        {
          "output_type": "stream",
          "name": "stderr",
          "text": [
            "\r[*********************100%%**********************]  1 of 1 completed\n"
          ]
        },
        {
          "output_type": "stream",
          "name": "stdout",
          "text": [
            "\n",
            "Stock: WELL\n",
            "\n",
            "                 Open       High        Low      Close   Volume\n",
            "Date                                                           \n",
            "2020-01-02  82.089996  82.139999  79.959999  80.139999  2049100\n",
            "2020-01-03  79.639999  81.660004  79.550003  81.550003  1687000\n",
            "2020-01-06  82.089996  83.220001  81.660004  82.790001  2201200\n",
            "2020-01-07  82.489998  82.540001  81.239998  82.250000  1239500\n",
            "2020-01-08  81.919998  82.360001  81.459999  82.269997  2016800\n",
            "...               ...        ...        ...        ...      ...\n",
            "2024-04-17  88.360001  91.040001  88.309998  89.699997  3175900\n",
            "2024-04-18  89.750000  90.910004  89.379997  90.809998  1879100\n",
            "2024-04-19  91.410004  91.989998  90.769997  91.320000  1901600\n",
            "2024-04-22  91.730003  91.879997  90.760002  91.610001  1940500\n",
            "2024-04-23  91.800003  93.040001  91.410004  92.930000  2379000\n",
            "\n",
            "[1084 rows x 5 columns]\n"
          ]
        },
        {
          "output_type": "stream",
          "name": "stderr",
          "text": [
            "\r[*********************100%%**********************]  1 of 1 completed\n"
          ]
        },
        {
          "output_type": "stream",
          "name": "stdout",
          "text": [
            "\n",
            "Stock: WST\n",
            "\n",
            "                  Open        High         Low       Close  Volume\n",
            "Date                                                              \n",
            "2020-01-02  150.250000  152.500000  149.389999  151.740005  527800\n",
            "2020-01-03  149.699997  152.369995  148.720001  152.139999  316100\n",
            "2020-01-06  151.350006  152.610001  150.990005  152.220001  331900\n",
            "2020-01-07  151.789993  152.429993  150.630005  151.830002  289800\n",
            "2020-01-08  151.979996  151.990005  149.740005  149.779999  533900\n",
            "...                ...         ...         ...         ...     ...\n",
            "2024-04-17  381.010010  381.160004  376.700012  377.359985  355400\n",
            "2024-04-18  377.489990  380.670013  372.410004  377.329987  315100\n",
            "2024-04-19  379.089996  379.089996  371.880005  372.040009  444700\n",
            "2024-04-22  375.269989  379.070007  370.920013  375.350006  510700\n",
            "2024-04-23  380.000000  392.070007  377.149994  390.200012  427100\n",
            "\n",
            "[1084 rows x 5 columns]\n"
          ]
        },
        {
          "output_type": "stream",
          "name": "stderr",
          "text": [
            "[*********************100%%**********************]  1 of 1 completed\n",
            "[*********************100%%**********************]  1 of 1 completed\n"
          ]
        },
        {
          "output_type": "stream",
          "name": "stdout",
          "text": [
            "\n",
            "Stock: WY\n",
            "\n",
            "                 Open       High        Low      Close   Volume\n",
            "Date                                                           \n",
            "2020-01-02  30.209999  30.240000  29.280001  29.389999  4973500\n",
            "2020-01-03  29.170000  29.580000  29.150000  29.440001  3111000\n",
            "2020-01-06  29.299999  29.520000  29.200001  29.379999  2178600\n",
            "2020-01-07  29.299999  29.490000  29.120001  29.190001  2426200\n",
            "2020-01-08  29.120001  29.420000  29.090000  29.299999  2299800\n",
            "...               ...        ...        ...        ...      ...\n",
            "2024-04-17  32.139999  32.270000  31.510000  31.520000  3395200\n",
            "2024-04-18  31.650000  31.879999  31.280001  31.350000  3362700\n",
            "2024-04-19  31.340000  31.580000  31.150000  31.469999  3955300\n",
            "2024-04-22  31.530001  31.650000  31.170000  31.469999  2670700\n",
            "2024-04-23  31.520000  32.099998  31.440001  31.709999  2619100\n",
            "\n",
            "[1084 rows x 5 columns]\n",
            "\n",
            "Stock: WYNN\n",
            "\n",
            "                  Open        High         Low       Close   Volume\n",
            "Date                                                               \n",
            "2020-01-02  142.059998  144.389999  141.750000  143.600006  3006500\n",
            "2020-01-03  140.850006  142.270004  139.940002  141.470001  1760500\n",
            "2020-01-06  139.199997  141.380005  139.050003  141.190002  1357900\n",
            "2020-01-07  140.820007  142.270004  140.149994  141.860001  1722100\n",
            "2020-01-08  140.839996  143.770004  140.289993  142.750000  1176200\n",
            "...                ...         ...         ...         ...      ...\n",
            "2024-04-17   99.589996   99.980003   96.980003   97.480003  1904000\n",
            "2024-04-18   97.989998   97.989998   95.680000   96.099998  1786200\n",
            "2024-04-19   96.089996   97.089996   94.800003   94.989998  1165300\n",
            "2024-04-22   95.889999   98.010002   95.800003   97.480003  1695800\n",
            "2024-04-23   97.919998   99.480003   97.480003   98.820000  1231800\n",
            "\n",
            "[1084 rows x 5 columns]\n"
          ]
        },
        {
          "output_type": "stream",
          "name": "stderr",
          "text": [
            "\r[*********************100%%**********************]  1 of 1 completed\n",
            "ERROR:yfinance:\n",
            "1 Failed download:\n",
            "ERROR:yfinance:['XLNX']: Exception('%ticker%: No timezone found, symbol may be delisted')\n"
          ]
        },
        {
          "output_type": "stream",
          "name": "stdout",
          "text": [
            "No data found for XLNX\n"
          ]
        },
        {
          "output_type": "stream",
          "name": "stderr",
          "text": [
            "\r[*********************100%%**********************]  1 of 1 completed\n"
          ]
        },
        {
          "output_type": "stream",
          "name": "stdout",
          "text": [
            "\n",
            "Stock: XYL\n",
            "\n",
            "                  Open        High         Low       Close   Volume\n",
            "Date                                                               \n",
            "2020-01-02   79.160004   79.949997   78.760002   79.849998   869500\n",
            "2020-01-03   79.029999   80.349998   78.699997   80.320000   795100\n",
            "2020-01-06   79.860001   79.940002   78.910004   79.800003   817300\n",
            "2020-01-07   79.910004   79.910004   79.019997   79.500000   662200\n",
            "2020-01-08   79.660004   80.360001   79.190002   79.769997  1083200\n",
            "...                ...         ...         ...         ...      ...\n",
            "2024-04-17  128.490005  128.490005  124.660004  126.220001  1441300\n",
            "2024-04-18  127.160004  128.460007  126.910004  127.160004  1139200\n",
            "2024-04-19  127.559998  128.660004  126.959999  127.839996  2243400\n",
            "2024-04-22  128.160004  129.789993  127.449997  128.979996  1061900\n",
            "2024-04-23  129.619995  130.860001  129.279999  130.720001   945600\n",
            "\n",
            "[1084 rows x 5 columns]\n"
          ]
        },
        {
          "output_type": "stream",
          "name": "stderr",
          "text": [
            "[*********************100%%**********************]  1 of 1 completed\n",
            "[*********************100%%**********************]  1 of 1 completed\n"
          ]
        },
        {
          "output_type": "stream",
          "name": "stdout",
          "text": [
            "\n",
            "Stock: YUM\n",
            "\n",
            "                  Open        High         Low       Close   Volume\n",
            "Date                                                               \n",
            "2020-01-02  100.900002  102.190002  100.809998  102.169998  1369900\n",
            "2020-01-03  101.419998  102.010002  100.360001  101.849998  1145500\n",
            "2020-01-06  101.430000  101.800003  101.059998  101.790001  1454100\n",
            "2020-01-07  101.750000  102.239998  101.540001  101.970001  1388600\n",
            "2020-01-08  100.470001  102.980003  100.339996  102.150002  1521500\n",
            "...                ...         ...         ...         ...      ...\n",
            "2024-04-17  138.559998  138.880005  137.360001  137.830002  1516600\n",
            "2024-04-18  137.850006  138.330002  137.169998  137.869995  2178700\n",
            "2024-04-19  138.729996  138.729996  137.830002  138.500000  1673700\n",
            "2024-04-22  138.449997  140.179993  137.789993  139.059998  1570500\n",
            "2024-04-23  139.580002  140.880005  139.350006  140.100006  2140500\n",
            "\n",
            "[1084 rows x 5 columns]\n",
            "\n",
            "Stock: ZBH\n",
            "\n",
            "                  Open        High         Low       Close   Volume\n",
            "Date                                                               \n",
            "2020-01-02  145.611649  145.679611  143.174759  144.854370  1083972\n",
            "2020-01-03  143.126221  145.320389  141.708740  144.475723   992405\n",
            "2020-01-06  144.242722  144.495148  142.941742  143.640778   972423\n",
            "2020-01-07  144.223297  144.796112  142.417480  143.514557   934519\n",
            "2020-01-08  144.029129  145.563110  143.145630  145.233017   936064\n",
            "...                ...         ...         ...         ...      ...\n",
            "2024-04-17  122.870003  122.870003  120.040001  121.300003  1521600\n",
            "2024-04-18  121.449997  121.449997  118.629997  119.330002  1442300\n",
            "2024-04-19  119.900002  120.150002  118.989998  119.430000  1301600\n",
            "2024-04-22  120.260002  121.410004  119.180000  120.779999   918300\n",
            "2024-04-23  120.629997  121.620003  120.269997  121.519997   742800\n",
            "\n",
            "[1084 rows x 5 columns]\n"
          ]
        },
        {
          "output_type": "stream",
          "name": "stderr",
          "text": [
            "[*********************100%%**********************]  1 of 1 completed\n",
            "[*********************100%%**********************]  1 of 1 completed\n"
          ]
        },
        {
          "output_type": "stream",
          "name": "stdout",
          "text": [
            "\n",
            "Stock: ZBRA\n",
            "\n",
            "                  Open        High         Low       Close  Volume\n",
            "Date                                                              \n",
            "2020-01-02  259.029999  260.399994  255.169998  259.140015  387800\n",
            "2020-01-03  256.100006  258.649994  254.880005  256.049988  305300\n",
            "2020-01-06  252.619995  258.010010  252.619995  258.010010  322600\n",
            "2020-01-07  257.500000  258.739990  256.079987  256.470001  236300\n",
            "2020-01-08  251.279999  253.479996  247.250000  247.639999  689600\n",
            "...                ...         ...         ...         ...     ...\n",
            "2024-04-17  283.519989  284.489990  275.750000  276.140015  175600\n",
            "2024-04-18  274.000000  277.029999  271.510010  273.029999  376100\n",
            "2024-04-19  273.029999  274.869995  266.750000  268.070007  351500\n",
            "2024-04-22  271.739990  274.869995  267.209991  271.630005  305100\n",
            "2024-04-23  271.549988  277.450012  271.549988  276.559998  245800\n",
            "\n",
            "[1084 rows x 5 columns]\n",
            "\n",
            "Stock: ALGN\n",
            "\n",
            "                  Open        High         Low       Close  Volume\n",
            "Date                                                              \n",
            "2020-01-02  281.200012  284.140015  278.609985  283.679993  789700\n",
            "2020-01-03  279.100006  282.019989  278.679993  280.440002  488800\n",
            "2020-01-06  276.679993  286.179993  276.399994  285.880005  775700\n",
            "2020-01-07  285.920013  286.450012  281.470001  283.059998  522900\n",
            "2020-01-08  284.140015  287.690002  281.000000  286.000000  602600\n",
            "...                ...         ...         ...         ...     ...\n",
            "2024-04-17  307.519989  307.519989  296.899994  300.140015  574900\n",
            "2024-04-18  304.299988  308.000000  298.230011  301.339996  417000\n",
            "2024-04-19  302.989990  304.750000  296.500000  298.980011  520300\n",
            "2024-04-22  300.869995  303.649994  297.170013  300.820007  446800\n",
            "2024-04-23  302.549988  312.429993  299.959991  311.880005  621300\n",
            "\n",
            "[1084 rows x 5 columns]\n"
          ]
        },
        {
          "output_type": "stream",
          "name": "stderr",
          "text": [
            "\r[*********************100%%**********************]  1 of 1 completed\n"
          ]
        },
        {
          "output_type": "stream",
          "name": "stdout",
          "text": [
            "\n",
            "Stock: ALLE\n",
            "\n",
            "                  Open        High         Low       Close  Volume\n",
            "Date                                                              \n",
            "2020-01-02  124.790001  125.389999  123.449997  125.389999  572400\n",
            "2020-01-03  123.830002  124.900002  122.830002  123.839996  480500\n",
            "2020-01-06  122.160004  123.629997  120.879997  123.610001  627400\n",
            "2020-01-07  123.300003  123.559998  122.059998  122.129997  588400\n",
            "2020-01-08  122.250000  123.540001  121.849998  122.650002  938700\n",
            "...                ...         ...         ...         ...     ...\n",
            "2024-04-17  127.610001  127.650002  125.599998  125.779999  576900\n",
            "2024-04-18  126.000000  126.830002  124.610001  124.839996  421300\n",
            "2024-04-19  125.040001  126.050003  124.610001  125.209999  328300\n",
            "2024-04-22  125.830002  126.809998  124.910004  125.419998  704900\n",
            "2024-04-23  125.699997  127.589996  125.699997  126.970001  612300\n",
            "\n",
            "[1084 rows x 5 columns]\n"
          ]
        },
        {
          "output_type": "stream",
          "name": "stderr",
          "text": [
            "\r[*********************100%%**********************]  1 of 1 completed\n",
            "ERROR:yfinance:\n",
            "1 Failed download:\n",
            "ERROR:yfinance:['ALXN']: Exception('%ticker%: No timezone found, symbol may be delisted')\n",
            "[*********************100%%**********************]  1 of 1 completed\n"
          ]
        },
        {
          "output_type": "stream",
          "name": "stdout",
          "text": [
            "No data found for ALXN\n",
            "\n",
            "Stock: ANSS\n",
            "\n",
            "                  Open        High         Low       Close  Volume\n",
            "Date                                                              \n",
            "2020-01-02  257.010010  259.660004  256.250000  259.589996  657900\n",
            "2020-01-03  254.960007  258.109985  253.750000  256.970001  468400\n",
            "2020-01-06  255.460007  255.869995  252.619995  254.589996  612600\n",
            "2020-01-07  255.110001  258.339996  253.500000  256.670013  357100\n",
            "2020-01-08  256.410004  258.890015  255.910004  257.730011  445900\n",
            "...                ...         ...         ...         ...     ...\n",
            "2024-04-17  328.920013  328.920013  325.500000  325.619995  214300\n",
            "2024-04-18  326.790009  326.790009  322.570007  324.500000  208600\n",
            "2024-04-19  325.869995  325.869995  320.320007  322.109985  423500\n",
            "2024-04-22  326.260010  326.630005  322.700012  324.809998  265800\n",
            "2024-04-23  324.440002  328.790009  323.359985  325.970001  176300\n",
            "\n",
            "[1084 rows x 5 columns]\n"
          ]
        },
        {
          "output_type": "stream",
          "name": "stderr",
          "text": [
            "[*********************100%%**********************]  1 of 1 completed\n",
            "[*********************100%%**********************]  1 of 1 completed\n"
          ]
        },
        {
          "output_type": "stream",
          "name": "stdout",
          "text": [
            "\n",
            "Stock: AWK\n",
            "\n",
            "                  Open        High         Low       Close   Volume\n",
            "Date                                                               \n",
            "2020-01-02  123.000000  123.160004  119.580002  120.199997  1618900\n",
            "2020-01-03  120.440002  122.120003  120.440002  120.980003   869300\n",
            "2020-01-06  120.989998  121.750000  120.489998  120.750000   765800\n",
            "2020-01-07  120.430000  120.970001  119.910004  120.000000   841000\n",
            "2020-01-08  119.550003  121.190002  119.230003  120.489998  1096700\n",
            "...                ...         ...         ...         ...      ...\n",
            "2024-04-17  113.839996  115.769997  113.529999  115.400002  1902800\n",
            "2024-04-18  116.120003  117.570000  115.089996  117.349998  1399800\n",
            "2024-04-19  117.940002  119.389999  117.650002  118.519997  1874300\n",
            "2024-04-22  118.599998  119.790001  117.669998  119.260002  1247600\n",
            "2024-04-23  119.309998  120.550003  119.019997  119.870003  1255500\n",
            "\n",
            "[1084 rows x 5 columns]\n",
            "\n",
            "Stock: BIO\n",
            "\n",
            "                  Open        High         Low       Close  Volume\n",
            "Date                                                              \n",
            "2020-01-02  372.079987  373.700012  367.160004  372.160004  150800\n",
            "2020-01-03  366.899994  370.790009  364.190002  366.779999  138100\n",
            "2020-01-06  363.450012  372.230011  363.190002  372.029999  140300\n",
            "2020-01-07  374.940002  384.220001  372.980011  380.540009  253700\n",
            "2020-01-08  384.250000  386.920013  380.720001  381.790009  269100\n",
            "...                ...         ...         ...         ...     ...\n",
            "2024-04-17  297.040009  299.220001  290.399994  290.859985  214100\n",
            "2024-04-18  275.829987  286.649994  268.920013  281.019989  373400\n",
            "2024-04-19  283.119995  285.269989  276.239990  279.730011  294100\n",
            "2024-04-22  281.730011  283.420013  277.709991  280.130005  217100\n",
            "2024-04-23  286.040009  294.329987  284.049988  285.279999  250500\n",
            "\n",
            "[1084 rows x 5 columns]\n"
          ]
        },
        {
          "output_type": "stream",
          "name": "stderr",
          "text": [
            "[*********************100%%**********************]  1 of 1 completed\n",
            "[*********************100%%**********************]  1 of 1 completed\n"
          ]
        },
        {
          "output_type": "stream",
          "name": "stdout",
          "text": [
            "\n",
            "Stock: CBOE\n",
            "\n",
            "                  Open        High         Low       Close   Volume\n",
            "Date                                                               \n",
            "2020-01-02  119.699997  120.180000  118.279999  119.519997   460700\n",
            "2020-01-03  119.029999  122.120003  119.029999  121.330002   599700\n",
            "2020-01-06  120.489998  120.980003  119.290001  120.190002   603900\n",
            "2020-01-07  119.989998  119.989998  118.070000  118.220001   514800\n",
            "2020-01-08  117.750000  118.550003  115.709999  117.010002  1039300\n",
            "...                ...         ...         ...         ...      ...\n",
            "2024-04-17  176.729996  177.820007  175.000000  176.960007   585200\n",
            "2024-04-18  176.710007  178.050003  175.399994  177.509995   692400\n",
            "2024-04-19  178.270004  181.029999  178.119995  180.850006   882400\n",
            "2024-04-22  180.820007  182.309998  179.100006  179.990005   585600\n",
            "2024-04-23  180.320007  180.740005  177.820007  178.820007   641200\n",
            "\n",
            "[1084 rows x 5 columns]\n",
            "\n",
            "Stock: CDNS\n",
            "\n",
            "                  Open        High         Low       Close   Volume\n",
            "Date                                                               \n",
            "2020-01-02   70.180000   71.440002   69.589996   71.440002  1410700\n",
            "2020-01-03   70.540001   70.989998   70.059998   70.419998  1317600\n",
            "2020-01-06   69.980003   70.970001   69.650002   70.849998  1544700\n",
            "2020-01-07   70.459999   71.279999   69.940002   71.070000  1664600\n",
            "2020-01-08   71.279999   72.760002   70.959999   72.279999  1763100\n",
            "...                ...         ...         ...         ...      ...\n",
            "2024-04-17  300.809998  303.630005  293.600006  293.709991  1127500\n",
            "2024-04-18  295.049988  296.160004  282.600006  285.899994  2700400\n",
            "2024-04-19  285.000000  286.670013  279.600006  280.250000  2021100\n",
            "2024-04-22  284.000000  287.140015  281.000000  285.019989  2781600\n",
            "2024-04-23  278.000000  285.980011  275.500000  281.760010  4681900\n",
            "\n",
            "[1084 rows x 5 columns]\n"
          ]
        },
        {
          "output_type": "stream",
          "name": "stderr",
          "text": [
            "\r[*********************100%%**********************]  1 of 1 completed\n",
            "ERROR:yfinance:\n",
            "1 Failed download:\n",
            "ERROR:yfinance:['CERN']: Exception('%ticker%: No timezone found, symbol may be delisted')\n"
          ]
        },
        {
          "output_type": "stream",
          "name": "stdout",
          "text": [
            "No data found for CERN\n"
          ]
        },
        {
          "output_type": "stream",
          "name": "stderr",
          "text": [
            "\r[*********************100%%**********************]  1 of 1 completed\n",
            "ERROR:yfinance:\n",
            "1 Failed download:\n",
            "ERROR:yfinance:['CTXS']: Exception('%ticker%: No timezone found, symbol may be delisted')\n"
          ]
        },
        {
          "output_type": "stream",
          "name": "stdout",
          "text": [
            "No data found for CTXS\n"
          ]
        },
        {
          "output_type": "stream",
          "name": "stderr",
          "text": [
            "\r[*********************100%%**********************]  1 of 1 completed\n"
          ]
        },
        {
          "output_type": "stream",
          "name": "stdout",
          "text": [
            "\n",
            "Stock: DXCM\n",
            "\n",
            "                  Open        High         Low       Close   Volume\n",
            "Date                                                               \n",
            "2020-01-02   54.639999   55.657501   53.422501   54.845001  3410400\n",
            "2020-01-03   54.197498   54.882500   53.802502   54.674999  2171200\n",
            "2020-01-06   54.480000   56.794998   54.187500   56.497501  2699600\n",
            "2020-01-07   56.252499   58.607498   56.252499   57.862499  5351200\n",
            "2020-01-08   57.695000   58.939999   57.202499   58.307499  2938400\n",
            "...                ...         ...         ...         ...      ...\n",
            "2024-04-17  136.070007  136.639999  132.880005  133.860001  3222500\n",
            "2024-04-18  134.360001  135.990005  133.580002  134.300003  2116500\n",
            "2024-04-19  134.639999  135.059998  129.169998  130.710007  2849400\n",
            "2024-04-22  131.259995  132.360001  129.740005  131.520004  2110200\n",
            "2024-04-23  131.470001  135.309998  131.000000  134.000000  2014900\n",
            "\n",
            "[1084 rows x 5 columns]\n"
          ]
        },
        {
          "output_type": "stream",
          "name": "stderr",
          "text": [
            "[*********************100%%**********************]  1 of 1 completed\n",
            "[*********************100%%**********************]  1 of 1 completed\n"
          ]
        },
        {
          "output_type": "stream",
          "name": "stdout",
          "text": [
            "\n",
            "Stock: EL\n",
            "\n",
            "                  Open        High         Low       Close   Volume\n",
            "Date                                                               \n",
            "2020-01-02  206.539993  207.860001  205.809998  206.259995  1138700\n",
            "2020-01-03  204.529999  206.550003  203.729996  204.699997  1076200\n",
            "2020-01-06  203.809998  207.500000  203.449997  207.360001  2428900\n",
            "2020-01-07  206.009995  207.210007  205.179993  206.050003  1180600\n",
            "2020-01-08  207.479996  209.389999  206.000000  207.720001  1614300\n",
            "...                ...         ...         ...         ...      ...\n",
            "2024-04-17  139.089996  139.649994  137.380005  138.039993  2200900\n",
            "2024-04-18  139.330002  146.630005  138.179993  144.809998  3921100\n",
            "2024-04-19  144.000000  145.169998  143.770004  144.410004  2324300\n",
            "2024-04-22  145.369995  147.800003  143.320007  147.419998  1777400\n",
            "2024-04-23  147.000000  149.910004  146.399994  148.979996  1884900\n",
            "\n",
            "[1084 rows x 5 columns]\n",
            "\n",
            "Stock: ENPH\n",
            "\n",
            "                  Open        High         Low       Close   Volume\n",
            "Date                                                               \n",
            "2020-01-02   26.370001   29.350000   26.040001   29.340000  7775400\n",
            "2020-01-03   28.790001   29.730000   28.379999   29.290001  4811000\n",
            "2020-01-06   29.049999   29.660000   27.830000   29.660000  4628800\n",
            "2020-01-07   29.820000   30.200001   28.660000   29.990000  5363100\n",
            "2020-01-08   29.680000   31.500000   29.440001   31.000000  5446100\n",
            "...                ...         ...         ...         ...      ...\n",
            "2024-04-17  111.800003  114.379997  108.559998  112.050003  3624400\n",
            "2024-04-18  111.000000  113.250000  106.820000  109.169998  3174800\n",
            "2024-04-19  109.360001  109.849998  105.959999  106.480003  3449500\n",
            "2024-04-22  107.220001  110.900002  105.610001  110.510002  3557800\n",
            "2024-04-23  109.930000  116.099998  109.650002  113.480003  6413600\n",
            "\n",
            "[1084 rows x 5 columns]\n"
          ]
        },
        {
          "output_type": "stream",
          "name": "stderr",
          "text": [
            "[*********************100%%**********************]  1 of 1 completed\n",
            "[*********************100%%**********************]  1 of 1 completed\n"
          ]
        },
        {
          "output_type": "stream",
          "name": "stdout",
          "text": [
            "\n",
            "Stock: ETSY\n",
            "\n",
            "                 Open       High        Low      Close   Volume\n",
            "Date                                                           \n",
            "2020-01-02  44.709999  45.610001  44.709999  45.189999  2152300\n",
            "2020-01-03  44.500000  45.320000  44.020000  44.900002  2109800\n",
            "2020-01-06  44.669998  45.189999  44.360001  44.834999  2077100\n",
            "2020-01-07  45.000000  46.119999  44.900002  45.779999  1945500\n",
            "2020-01-08  45.840000  46.619999  44.875000  45.005001  3222700\n",
            "...               ...        ...        ...        ...      ...\n",
            "2024-04-17  68.500000  69.349998  66.139999  67.489998  2530900\n",
            "2024-04-18  65.349998  67.459999  65.279999  67.339996  3370600\n",
            "2024-04-19  68.190002  68.190002  66.650002  66.760002  2218600\n",
            "2024-04-22  66.589996  67.129997  65.199997  66.449997  2716900\n",
            "2024-04-23  66.599998  69.039001  66.419998  68.349998  2488200\n",
            "\n",
            "[1084 rows x 5 columns]\n",
            "\n",
            "Stock: EW\n",
            "\n",
            "                 Open       High        Low      Close   Volume\n",
            "Date                                                           \n",
            "2020-01-02  76.666664  77.916664  76.629997  77.500000  4137000\n",
            "2020-01-03  76.166664  77.500000  76.106667  77.209999  2993700\n",
            "2020-01-06  76.983330  78.353333  76.669998  78.266670  3244200\n",
            "2020-01-07  78.083336  78.599998  77.383331  77.669998  2621400\n",
            "2020-01-08  78.000000  78.000000  76.613335  77.153336  4319400\n",
            "...               ...        ...        ...        ...      ...\n",
            "2024-04-17  89.889999  89.889999  86.449997  87.239998  2878100\n",
            "2024-04-18  87.349998  87.349998  85.980003  86.449997  3122000\n",
            "2024-04-19  87.199997  87.199997  85.379997  85.940002  3895700\n",
            "2024-04-22  86.540001  87.110001  85.730003  86.959999  2408100\n",
            "2024-04-23  87.400002  87.930000  86.760002  87.750000  2663600\n",
            "\n",
            "[1084 rows x 5 columns]\n"
          ]
        },
        {
          "output_type": "stream",
          "name": "stderr",
          "text": [
            "[*********************100%%**********************]  1 of 1 completed\n",
            "[*********************100%%**********************]  1 of 1 completed\n"
          ]
        },
        {
          "output_type": "stream",
          "name": "stdout",
          "text": [
            "\n",
            "Stock: EXPD\n",
            "\n",
            "                  Open        High         Low       Close   Volume\n",
            "Date                                                               \n",
            "2020-01-02   78.620003   78.730003   77.620003   78.349998  1062400\n",
            "2020-01-03   77.080002   77.910004   76.760002   77.870003   660200\n",
            "2020-01-06   77.089996   77.440002   75.820000   76.830002   872500\n",
            "2020-01-07   76.370003   76.940002   76.080002   76.629997   871800\n",
            "2020-01-08   76.699997   76.940002   76.050003   76.379997   989100\n",
            "...                ...         ...         ...         ...      ...\n",
            "2024-04-17  114.910004  116.120003  114.019997  114.339996  1010100\n",
            "2024-04-18  114.760002  115.360001  113.970001  114.760002   835800\n",
            "2024-04-19  115.320000  116.040001  114.360001  114.610001  3321000\n",
            "2024-04-22  115.300003  115.349998  114.000000  114.089996  1004400\n",
            "2024-04-23  114.150002  114.820000  112.989998  113.070000  1389100\n",
            "\n",
            "[1084 rows x 5 columns]\n",
            "\n",
            "Stock: EXR\n",
            "\n",
            "                  Open        High         Low       Close   Volume\n",
            "Date                                                               \n",
            "2020-01-02  105.879997  105.930000  104.230003  104.730003   950900\n",
            "2020-01-03  104.580002  106.589996  104.400002  106.519997   745000\n",
            "2020-01-06  106.510002  107.019997  105.709999  106.449997  1207800\n",
            "2020-01-07  105.889999  106.260002  105.260002  105.970001   893600\n",
            "2020-01-08  105.989998  106.410004  105.150002  106.180000   791200\n",
            "...                ...         ...         ...         ...      ...\n",
            "2024-04-17  136.089996  138.250000  135.940002  136.100006   891800\n",
            "2024-04-18  136.279999  136.860001  133.639999  134.199997  1013500\n",
            "2024-04-19  134.479996  134.800003  131.880005  132.460007  1481500\n",
            "2024-04-22  133.190002  134.050003  131.839996  132.740005  1221000\n",
            "2024-04-23  132.750000  135.080002  132.600006  133.279999  1162800\n",
            "\n",
            "[1084 rows x 5 columns]\n"
          ]
        },
        {
          "output_type": "stream",
          "name": "stderr",
          "text": [
            "\r[*********************100%%**********************]  1 of 1 completed\n"
          ]
        },
        {
          "output_type": "stream",
          "name": "stdout",
          "text": [
            "\n",
            "Stock: FTNT\n",
            "\n",
            "                 Open       High        Low      Close   Volume\n",
            "Date                                                           \n",
            "2020-01-02  21.520000  22.058001  21.476000  21.936001  5541000\n",
            "2020-01-03  21.684000  22.306000  21.620001  22.242001  6641000\n",
            "2020-01-06  22.122000  22.472000  21.906000  22.400000  7369000\n",
            "2020-01-07  22.466000  22.502001  22.214001  22.378000  3796500\n",
            "2020-01-08  22.389999  22.879999  22.360001  22.733999  6953000\n",
            "...               ...        ...        ...        ...      ...\n",
            "2024-04-17  64.889999  65.550003  64.500000  64.660004  3278400\n",
            "2024-04-18  64.769997  65.010002  63.529999  64.029999  3087300\n",
            "2024-04-19  63.790001  64.410004  62.919998  63.400002  4815300\n",
            "2024-04-22  63.970001  64.230003  62.610001  63.689999  3629200\n",
            "2024-04-23  64.080002  65.099998  63.980000  64.800003  3544100\n",
            "\n",
            "[1084 rows x 5 columns]\n"
          ]
        },
        {
          "output_type": "stream",
          "name": "stderr",
          "text": [
            "\r[*********************100%%**********************]  1 of 1 completed\n"
          ]
        },
        {
          "output_type": "stream",
          "name": "stdout",
          "text": [
            "\n",
            "Stock: HOLX\n",
            "\n",
            "                 Open       High        Low      Close   Volume\n",
            "Date                                                           \n",
            "2020-01-02  52.099998  52.310001  51.389999  52.070000  1644100\n",
            "2020-01-03  51.240002  51.939999  51.130001  51.889999  1626600\n",
            "2020-01-06  51.470001  52.470001  51.459999  52.380001  1859000\n",
            "2020-01-07  52.349998  52.799999  52.150002  52.490002  1550700\n",
            "2020-01-08  52.380001  52.810001  52.290001  52.290001  1928600\n",
            "...               ...        ...        ...        ...      ...\n",
            "2024-04-17  75.279999  75.550003  74.699997  74.919998  1697900\n",
            "2024-04-18  74.970001  75.349998  74.529999  75.099998  1576800\n",
            "2024-04-19  75.480003  75.620003  74.980003  75.379997  1288500\n",
            "2024-04-22  75.290001  76.680000  74.889999  76.220001  1516300\n",
            "2024-04-23  76.540001  77.809998  76.120003  77.190002  1603300\n",
            "\n",
            "[1084 rows x 5 columns]\n"
          ]
        },
        {
          "output_type": "stream",
          "name": "stderr",
          "text": [
            "[*********************100%%**********************]  1 of 1 completed\n",
            "[*********************100%%**********************]  1 of 1 completed\n"
          ]
        },
        {
          "output_type": "stream",
          "name": "stdout",
          "text": [
            "\n",
            "Stock: IDXX\n",
            "\n",
            "                  Open        High         Low       Close  Volume\n",
            "Date                                                              \n",
            "2020-01-02  261.529999  265.260010  260.489990  265.019989  445500\n",
            "2020-01-03  260.869995  266.390015  259.989990  264.769989  399100\n",
            "2020-01-06  263.899994  267.179993  261.320007  266.929993  579000\n",
            "2020-01-07  267.290009  269.459991  265.369995  266.119995  418400\n",
            "2020-01-08  267.890015  274.649994  266.109985  271.679993  717500\n",
            "...                ...         ...         ...         ...     ...\n",
            "2024-04-17  489.440002  490.489990  477.630005  478.239990  533300\n",
            "2024-04-18  478.290009  483.100006  475.559998  477.790009  399900\n",
            "2024-04-19  482.200012  482.209991  471.420013  476.350006  568600\n",
            "2024-04-22  479.480011  481.940002  473.859985  479.570007  419600\n",
            "2024-04-23  482.600006  494.450012  481.489990  493.799988  558400\n",
            "\n",
            "[1084 rows x 5 columns]\n",
            "\n",
            "Stock: ILMN\n",
            "\n",
            "                  Open        High         Low       Close   Volume\n",
            "Date                                                               \n",
            "2020-01-02  329.049988  332.850006  323.290009  327.000000   813900\n",
            "2020-01-03  322.489990  325.140015  321.010010  322.730011  1346100\n",
            "2020-01-06  320.970001  325.709991  318.769989  325.529999   760800\n",
            "2020-01-07  328.209991  331.170013  326.109985  329.690002   789100\n",
            "2020-01-08  328.320007  334.500000  326.739990  332.160004   679700\n",
            "...                ...         ...         ...         ...      ...\n",
            "2024-04-17  117.860001  120.059998  117.419998  118.290001  1866300\n",
            "2024-04-18  116.250000  119.180000  115.730003  116.690002  1810200\n",
            "2024-04-19  117.690002  119.220001  116.610001  117.430000  1417800\n",
            "2024-04-22  118.580002  120.989998  117.480003  120.250000  1151200\n",
            "2024-04-23  120.820000  125.699997  120.820000  124.459999  1303000\n",
            "\n",
            "[1084 rows x 5 columns]\n"
          ]
        },
        {
          "output_type": "stream",
          "name": "stderr",
          "text": [
            "\r[*********************100%%**********************]  1 of 1 completed\n"
          ]
        },
        {
          "output_type": "stream",
          "name": "stdout",
          "text": [
            "\n",
            "Stock: INCY\n",
            "\n",
            "                 Open       High        Low      Close   Volume\n",
            "Date                                                           \n",
            "2020-01-02  86.910004  87.970001  85.360001  85.970001  1679600\n",
            "2020-01-03  76.150002  78.099998  75.160004  77.900002  5529300\n",
            "2020-01-06  77.269997  77.430000  75.519997  77.339996  2817200\n",
            "2020-01-07  77.279999  77.620003  76.160004  77.139999  1536000\n",
            "2020-01-08  77.290001  77.449997  76.080002  76.529999  1698500\n",
            "...               ...        ...        ...        ...      ...\n",
            "2024-04-17  53.220001  53.799999  52.700001  52.720001  2525500\n",
            "2024-04-18  52.959999  53.150002  52.259998  52.820000  1830300\n",
            "2024-04-19  52.970001  53.000000  52.000000  52.349998  2181300\n",
            "2024-04-22  52.430000  52.619999  51.880001  51.919998  1751600\n",
            "2024-04-23  52.000000  52.220001  51.389999  51.650002  2493700\n",
            "\n",
            "[1084 rows x 5 columns]\n"
          ]
        },
        {
          "output_type": "stream",
          "name": "stderr",
          "text": [
            "\r[*********************100%%**********************]  1 of 1 completed\n"
          ]
        },
        {
          "output_type": "stream",
          "name": "stdout",
          "text": [
            "\n",
            "Stock: INTU\n",
            "\n",
            "                  Open        High         Low       Close   Volume\n",
            "Date                                                               \n",
            "2020-01-02  261.079987  266.600006  261.079987  266.160004  1124500\n",
            "2020-01-03  261.609985  265.369995  261.440002  264.380005   798500\n",
            "2020-01-06  261.890015  266.630005  261.769989  266.410004  1026100\n",
            "2020-01-07  266.809998  267.519989  265.350006  266.470001   915100\n",
            "2020-01-08  268.000000  274.769989  266.799988  272.880005  1373900\n",
            "...                ...         ...         ...         ...      ...\n",
            "2024-04-17  615.390015  617.799988  611.840027  613.210022  1117400\n",
            "2024-04-18  616.890015  616.890015  606.280029  608.380005   790900\n",
            "2024-04-19  609.130005  611.190002  598.010010  605.169983  1608900\n",
            "2024-04-22  608.460022  614.070007  600.900024  609.770020  1056800\n",
            "2024-04-23  615.119995  632.830017  612.070007  630.880005  1461900\n",
            "\n",
            "[1084 rows x 5 columns]\n"
          ]
        },
        {
          "output_type": "stream",
          "name": "stderr",
          "text": [
            "[*********************100%%**********************]  1 of 1 completed\n",
            "[*********************100%%**********************]  1 of 1 completed\n"
          ]
        },
        {
          "output_type": "stream",
          "name": "stdout",
          "text": [
            "\n",
            "Stock: ISRG\n",
            "\n",
            "                  Open        High         Low       Close   Volume\n",
            "Date                                                               \n",
            "2020-01-02  198.566666  199.276672  196.929993  199.086670  1623000\n",
            "2020-01-03  196.059998  198.193329  194.053329  197.779999  1256100\n",
            "2020-01-06  196.666672  199.206665  195.983337  198.586670  1574400\n",
            "2020-01-07  196.649994  196.649994  191.246674  194.266663  3515100\n",
            "2020-01-08  193.846664  195.123337  192.196671  193.926666  2679300\n",
            "...                ...         ...         ...         ...      ...\n",
            "2024-04-17  378.929993  379.709991  371.140015  374.170013  1625500\n",
            "2024-04-18  372.570007  375.329987  369.149994  372.630005  2320500\n",
            "2024-04-19  385.269989  388.649994  364.170013  366.339996  3974900\n",
            "2024-04-22  369.540009  371.829987  364.309998  368.929993  1603100\n",
            "2024-04-23  370.880005  379.769989  368.679993  377.079987  1858800\n",
            "\n",
            "[1084 rows x 5 columns]\n",
            "\n",
            "Stock: KDP\n",
            "\n",
            "                 Open       High        Low      Close    Volume\n",
            "Date                                                            \n",
            "2020-01-02  28.889999  28.900000  28.590000  28.740000   1924300\n",
            "2020-01-03  28.559999  28.870001  28.500000  28.809999   1129000\n",
            "2020-01-06  28.629999  29.030001  28.629999  29.000000   1783500\n",
            "2020-01-07  28.870001  29.020000  28.180000  28.200001   1272800\n",
            "2020-01-08  28.200001  28.340000  27.740000  27.760000   1931800\n",
            "...               ...        ...        ...        ...       ...\n",
            "2024-04-17  30.809999  30.910000  30.520000  30.879999  10022000\n",
            "2024-04-18  31.070000  31.170000  30.799999  31.129999   7467900\n",
            "2024-04-19  31.230000  31.600000  31.020000  31.500000   8631500\n",
            "2024-04-22  31.680000  31.770000  31.420000  31.760000   7411500\n",
            "2024-04-23  31.590000  31.820000  31.520000  31.760000   7904000\n",
            "\n",
            "[1084 rows x 5 columns]\n"
          ]
        },
        {
          "output_type": "stream",
          "name": "stderr",
          "text": [
            "\r[*********************100%%**********************]  1 of 1 completed\n"
          ]
        },
        {
          "output_type": "stream",
          "name": "stdout",
          "text": [
            "\n",
            "Stock: KLAC\n",
            "\n",
            "                  Open        High         Low       Close   Volume\n",
            "Date                                                               \n",
            "2020-01-02  180.779999  182.699997  180.020004  182.570007  1056900\n",
            "2020-01-03  179.330002  181.169998  177.860001  179.080002   833400\n",
            "2020-01-06  176.320007  177.559998  174.089996  175.050003  1266800\n",
            "2020-01-07  176.139999  177.770004  174.300003  176.440002  1139300\n",
            "2020-01-08  176.500000  178.660004  175.520004  176.669998   883500\n",
            "...                ...         ...         ...         ...      ...\n",
            "2024-04-17  681.770020  684.849976  657.830017  658.979980  1193100\n",
            "2024-04-18  655.789978  658.409973  642.000000  644.219971   903100\n",
            "2024-04-19  646.200012  647.710022  623.169983  628.159973  1072600\n",
            "2024-04-22  635.349976  638.729980  625.330017  633.640015   924300\n",
            "2024-04-23  636.039978  654.000000  635.830017  648.210022   710100\n",
            "\n",
            "[1084 rows x 5 columns]\n"
          ]
        },
        {
          "output_type": "stream",
          "name": "stderr",
          "text": [
            "\r[*********************100%%**********************]  1 of 1 completed\n"
          ]
        },
        {
          "output_type": "stream",
          "name": "stdout",
          "text": [
            "\n",
            "Stock: LRCX\n",
            "\n",
            "                  Open        High         Low       Close   Volume\n",
            "Date                                                               \n",
            "2020-01-02  295.779999  299.799988  294.489990  297.890015  1506400\n",
            "2020-01-03  292.049988  296.809998  291.720001  294.690002   962200\n",
            "2020-01-06  289.790009  292.029999  287.540009  289.190002  1340500\n",
            "2020-01-07  291.739990  298.540009  291.380005  296.239990  1559500\n",
            "2020-01-08  297.480011  301.670013  295.200012  299.970001  1553700\n",
            "...                ...         ...         ...         ...      ...\n",
            "2024-04-17  950.000000  952.489990  910.260010  912.260010  1668600\n",
            "2024-04-18  909.229980  909.330017  884.390015  888.919983  2307400\n",
            "2024-04-19  894.940002  899.679993  861.950012  870.250000  1353200\n",
            "2024-04-22  876.400024  878.739990  857.979980  868.070007  1856300\n",
            "2024-04-23  878.000000  894.299988  868.099976  887.419983   982300\n",
            "\n",
            "[1084 rows x 5 columns]\n"
          ]
        },
        {
          "output_type": "stream",
          "name": "stderr",
          "text": [
            "\r[*********************100%%**********************]  1 of 1 completed\n"
          ]
        },
        {
          "output_type": "stream",
          "name": "stdout",
          "text": [
            "\n",
            "Stock: LULU\n",
            "\n",
            "                  Open        High         Low       Close   Volume\n",
            "Date                                                               \n",
            "2020-01-02  232.899994  233.470001  231.770004  233.419998  1449300\n",
            "2020-01-03  231.240005  234.500000  230.229996  232.639999  1315400\n",
            "2020-01-06  231.490005  235.529999  230.800003  235.429993  1460700\n",
            "2020-01-07  235.500000  236.850006  233.339996  233.699997  1367900\n",
            "2020-01-08  234.880005  238.009995  234.009995  237.270004  1883900\n",
            "...                ...         ...         ...         ...      ...\n",
            "2024-04-17  342.000000  346.450012  341.239990  344.859985  2147800\n",
            "2024-04-18  346.500000  352.100006  344.309998  347.510010  2180200\n",
            "2024-04-19  346.959991  353.100006  346.390015  352.470001  2464600\n",
            "2024-04-22  354.679993  364.630005  354.679993  361.790009  2537800\n",
            "2024-04-23  362.170013  366.190002  359.329987  364.679993  1589900\n",
            "\n",
            "[1084 rows x 5 columns]\n"
          ]
        },
        {
          "output_type": "stream",
          "name": "stderr",
          "text": [
            "\r[*********************100%%**********************]  1 of 1 completed\n"
          ]
        },
        {
          "output_type": "stream",
          "name": "stdout",
          "text": [
            "\n",
            "Stock: MCHP\n",
            "\n",
            "                 Open       High        Low      Close    Volume\n",
            "Date                                                            \n",
            "2020-01-02  53.014999  54.044998  52.605000  53.799999   9717800\n",
            "2020-01-03  52.700001  53.424999  52.430000  52.619999  20029800\n",
            "2020-01-06  51.830002  52.115002  51.505001  51.865002   4031600\n",
            "2020-01-07  53.950001  55.400002  53.435001  55.345001  13402800\n",
            "2020-01-08  55.299999  55.380001  54.415001  54.645000   4806200\n",
            "...               ...        ...        ...        ...       ...\n",
            "2024-04-17  86.389999  87.029999  84.699997  85.070000   4820400\n",
            "2024-04-18  84.660004  85.919998  83.779999  84.209999   5261200\n",
            "2024-04-19  83.889999  84.209999  80.900002  81.680000   6910400\n",
            "2024-04-22  82.320000  84.400002  81.680000  83.529999   4368100\n",
            "2024-04-23  83.870003  86.959999  83.739998  86.190002   5325400\n",
            "\n",
            "[1084 rows x 5 columns]\n"
          ]
        },
        {
          "output_type": "stream",
          "name": "stderr",
          "text": [
            "[*********************100%%**********************]  1 of 1 completed\n",
            "[*********************100%%**********************]  1 of 1 completed\n"
          ]
        },
        {
          "output_type": "stream",
          "name": "stdout",
          "text": [
            "\n",
            "Stock: MKTX\n",
            "\n",
            "                  Open        High         Low       Close  Volume\n",
            "Date                                                              \n",
            "2020-01-02  380.260010  381.040009  376.959991  380.250000  226200\n",
            "2020-01-03  377.940002  381.260010  377.459991  380.049988  192900\n",
            "2020-01-06  379.700012  379.700012  366.859985  374.079987  329000\n",
            "2020-01-07  372.540009  378.820007  370.489990  375.250000  178600\n",
            "2020-01-08  375.059998  376.380005  363.679993  364.299988  383100\n",
            "...                ...         ...         ...         ...     ...\n",
            "2024-04-17  205.039993  205.179993  201.350006  201.929993  467800\n",
            "2024-04-18  202.190002  204.660004  199.339996  203.149994  281600\n",
            "2024-04-19  202.960007  207.119995  200.940002  204.009995  359600\n",
            "2024-04-22  204.600006  206.600006  202.710007  204.429993  278200\n",
            "2024-04-23  203.839996  206.220001  202.649994  204.770004  267000\n",
            "\n",
            "[1084 rows x 5 columns]\n",
            "\n",
            "Stock: MNST\n",
            "\n",
            "                 Open       High        Low      Close    Volume\n",
            "Date                                                            \n",
            "2020-01-02  31.980000  32.009998  31.655001  31.850000   3566000\n",
            "2020-01-03  31.559999  31.805000  31.434999  31.639999   3482200\n",
            "2020-01-06  31.495001  31.764999  31.495001  31.690001   4469200\n",
            "2020-01-07  31.934999  32.070000  31.770000  31.844999   6735600\n",
            "2020-01-08  31.850000  32.029999  31.684999  31.910000   6053600\n",
            "...               ...        ...        ...        ...       ...\n",
            "2024-04-17  55.080002  55.110001  53.939999  54.250000   5931300\n",
            "2024-04-18  54.250000  54.439999  53.209999  53.459999   4757100\n",
            "2024-04-19  53.450001  53.660000  52.740002  53.139999  10405100\n",
            "2024-04-22  53.540001  53.799999  53.250000  53.599998   4430400\n",
            "2024-04-23  53.439999  53.849998  53.189999  53.730000   5641800\n",
            "\n",
            "[1084 rows x 5 columns]\n"
          ]
        },
        {
          "output_type": "stream",
          "name": "stderr",
          "text": [
            "[*********************100%%**********************]  1 of 1 completed\n",
            "[*********************100%%**********************]  1 of 1 completed\n"
          ]
        },
        {
          "output_type": "stream",
          "name": "stdout",
          "text": [
            "\n",
            "Stock: MTCH\n",
            "\n",
            "                 Open       High        Low      Close   Volume\n",
            "Date                                                           \n",
            "2020-01-02  82.769997  84.790001  82.709999  84.190002  1711400\n",
            "2020-01-03  83.000000  84.300003  83.000000  84.099998   850900\n",
            "2020-01-06  83.379997  84.330002  82.769997  84.320000  1568900\n",
            "2020-01-07  84.160004  84.620003  83.250000  83.820000  1135500\n",
            "2020-01-08  83.699997  85.940002  83.654999  85.050003  1853000\n",
            "...               ...        ...        ...        ...      ...\n",
            "2024-04-17  31.980000  32.490002  31.690001  32.279999  3651900\n",
            "2024-04-18  31.500000  32.869999  31.410000  32.220001  3830800\n",
            "2024-04-19  32.320000  32.480000  31.980000  32.180000  4041400\n",
            "2024-04-22  32.529999  32.650002  31.885000  31.959999  3590500\n",
            "2024-04-23  32.049999  32.320000  31.629999  31.690001  3361800\n",
            "\n",
            "[1084 rows x 5 columns]\n",
            "\n",
            "Stock: NOW\n",
            "\n",
            "                  Open        High         Low       Close   Volume\n",
            "Date                                                               \n",
            "2020-01-02  284.959991  291.679993  284.220001  291.239990  1831100\n",
            "2020-01-03  286.899994  293.059998  286.500000  291.100006  1135800\n",
            "2020-01-06  285.190002  293.410004  284.600006  292.869995  1474000\n",
            "2020-01-07  293.220001  294.579987  288.029999  292.910004  1438400\n",
            "2020-01-08  294.559998  297.690002  293.239990  295.649994  1740800\n",
            "...                ...         ...         ...         ...      ...\n",
            "2024-04-17  746.780029  748.989990  734.950012  736.450012   721500\n",
            "2024-04-18  736.900024  739.890015  727.349976  731.359985   788700\n",
            "2024-04-19  725.000000  726.030029  708.530029  713.909973  1536800\n",
            "2024-04-22  723.250000  724.989990  710.619995  721.950012  1464200\n",
            "2024-04-23  727.200012  743.669983  727.200012  740.950012  1164900\n",
            "\n",
            "[1084 rows x 5 columns]\n"
          ]
        },
        {
          "output_type": "stream",
          "name": "stderr",
          "text": [
            "[*********************100%%**********************]  1 of 1 completed\n",
            "[*********************100%%**********************]  1 of 1 completed\n"
          ]
        },
        {
          "output_type": "stream",
          "name": "stdout",
          "text": [
            "\n",
            "Stock: NXPI\n",
            "\n",
            "                  Open        High         Low       Close   Volume\n",
            "Date                                                               \n",
            "2020-01-02  128.610001  129.500000  127.190002  128.539993  2247900\n",
            "2020-01-03  126.230003  128.279999  126.120003  127.300003  1546100\n",
            "2020-01-06  125.400002  126.989998  124.680000  126.400002  2157900\n",
            "2020-01-07  127.500000  129.779999  127.000000  128.039993  2595500\n",
            "2020-01-08  128.210007  129.110001  127.129997  128.360001  1589100\n",
            "...                ...         ...         ...         ...      ...\n",
            "2024-04-17  231.070007  231.460007  225.839996  226.919998  1970900\n",
            "2024-04-18  222.000000  223.380005  217.350006  219.350006  3494900\n",
            "2024-04-19  219.350006  220.339996  213.020004  215.119995  2692600\n",
            "2024-04-22  218.669998  220.199997  214.330002  218.660004  2230200\n",
            "2024-04-23  219.020004  226.889999  218.850006  225.610001  3024100\n",
            "\n",
            "[1084 rows x 5 columns]\n",
            "\n",
            "Stock: OKTA\n",
            "\n",
            "                  Open        High         Low       Close   Volume\n",
            "Date                                                               \n",
            "2020-01-02  116.750000  118.254997  115.820000  117.309998  1003400\n",
            "2020-01-03  114.694000  118.550003  114.269997  118.290001   928600\n",
            "2020-01-06  116.940002  123.629997  116.519997  123.430000  1863200\n",
            "2020-01-07  123.900002  125.389999  122.209999  122.889999  1270600\n",
            "2020-01-08  123.309998  126.709999  122.889999  125.550003  1153500\n",
            "...                ...         ...         ...         ...      ...\n",
            "2024-04-17   95.300003   95.919998   93.760002   93.800003   990200\n",
            "2024-04-18   93.800003   95.839996   93.099998   93.709999   801000\n",
            "2024-04-19   93.269997   94.254997   91.260002   92.029999  1103100\n",
            "2024-04-22   92.309998   93.919998   91.690002   93.239998  1025600\n",
            "2024-04-23   93.620003   95.489998   93.330002   94.370003   806300\n",
            "\n",
            "[1084 rows x 5 columns]\n"
          ]
        },
        {
          "output_type": "stream",
          "name": "stderr",
          "text": [
            "\r[*********************100%%**********************]  1 of 1 completed\n"
          ]
        },
        {
          "output_type": "stream",
          "name": "stdout",
          "text": [
            "\n",
            "Stock: PAYC\n",
            "\n",
            "                  Open        High         Low       Close  Volume\n",
            "Date                                                              \n",
            "2020-01-02  266.920013  271.980011  265.649994  271.799988  388700\n",
            "2020-01-03  269.489990  273.679993  268.109985  272.709991  343200\n",
            "2020-01-06  267.899994  278.200012  267.000000  278.089996  446600\n",
            "2020-01-07  278.399994  282.600006  276.789001  279.489990  450800\n",
            "2020-01-08  280.540009  286.640015  279.609985  283.119995  532200\n",
            "...                ...         ...         ...         ...     ...\n",
            "2024-04-17  190.470001  191.235001  186.690002  186.860001  821800\n",
            "2024-04-18  187.710007  188.580002  184.434998  184.869995  614000\n",
            "2024-04-19  184.649994  187.184998  183.240005  183.250000  572600\n",
            "2024-04-22  184.460007  188.399994  182.389999  186.710007  522100\n",
            "2024-04-23  186.809998  191.520004  186.809998  188.089996  607200\n",
            "\n",
            "[1084 rows x 5 columns]\n"
          ]
        },
        {
          "output_type": "stream",
          "name": "stderr",
          "text": [
            "[*********************100%%**********************]  1 of 1 completed\n",
            "[*********************100%%**********************]  1 of 1 completed\n"
          ]
        },
        {
          "output_type": "stream",
          "name": "stdout",
          "text": [
            "\n",
            "Stock: PDD\n",
            "\n",
            "                  Open        High         Low       Close    Volume\n",
            "Date                                                                \n",
            "2020-01-02   38.500000   41.279999   38.500000   41.230000   9283000\n",
            "2020-01-03   40.000000   41.650002   39.689999   40.889999   4870000\n",
            "2020-01-06   40.549999   40.740002   39.610001   40.090000   4245400\n",
            "2020-01-07   40.709999   41.610001   39.810001   41.209999   4806300\n",
            "2020-01-08   40.630001   41.130001   40.060001   40.500000   5281500\n",
            "...                ...         ...         ...         ...       ...\n",
            "2024-04-17  114.070000  114.889999  112.599998  113.430000   4628700\n",
            "2024-04-18  114.000000  116.150002  113.660004  113.699997   5136400\n",
            "2024-04-19  112.989998  113.570000  110.650002  113.489998   9388400\n",
            "2024-04-22  114.050003  124.419998  113.360001  124.139999  15018200\n",
            "2024-04-23  125.379997  129.619995  125.029999  128.020004  15521500\n",
            "\n",
            "[1084 rows x 5 columns]\n",
            "\n",
            "Stock: POOL\n",
            "\n",
            "                  Open        High         Low       Close  Volume\n",
            "Date                                                              \n",
            "2020-01-02  212.240005  213.880005  210.339996  213.809998  157000\n",
            "2020-01-03  212.649994  215.679993  211.929993  215.039993  193300\n",
            "2020-01-06  214.809998  215.339996  211.869995  215.080002  137200\n",
            "2020-01-07  213.429993  214.679993  212.960007  213.020004  267000\n",
            "2020-01-08  213.529999  215.270004  213.270004  214.100006  220100\n",
            "...                ...         ...         ...         ...     ...\n",
            "2024-04-17  374.410004  375.989990  363.910004  364.149994  322700\n",
            "2024-04-18  365.160004  369.359985  362.670013  362.910004  235500\n",
            "2024-04-19  362.910004  365.640015  360.940002  361.130005  329100\n",
            "2024-04-22  363.820007  368.890015  361.570007  365.880005  299900\n",
            "2024-04-23  368.130005  379.160004  366.380005  374.989990  503400\n",
            "\n",
            "[1084 rows x 5 columns]\n"
          ]
        },
        {
          "output_type": "stream",
          "name": "stderr",
          "text": [
            "[*********************100%%**********************]  1 of 1 completed\n",
            "[*********************100%%**********************]  1 of 1 completed\n"
          ]
        },
        {
          "output_type": "stream",
          "name": "stdout",
          "text": [
            "\n",
            "Stock: PTC\n",
            "\n",
            "                  Open        High         Low       Close  Volume\n",
            "Date                                                              \n",
            "2020-01-02   75.430000   76.900002   74.980003   76.370003  539500\n",
            "2020-01-03   75.339996   75.769997   74.879997   75.430000  311200\n",
            "2020-01-06   74.760002   76.309998   74.610001   76.269997  380400\n",
            "2020-01-07   76.129997   76.980003   75.620003   75.919998  400200\n",
            "2020-01-08   75.989998   77.489998   75.559998   76.980003  743000\n",
            "...                ...         ...         ...         ...     ...\n",
            "2024-04-17  179.279999  180.110001  177.050003  177.479996  764000\n",
            "2024-04-18  178.309998  178.309998  173.820007  175.699997  825600\n",
            "2024-04-19  176.529999  177.470001  175.020004  176.369995  703400\n",
            "2024-04-22  178.020004  178.839996  175.929993  178.550003  557000\n",
            "2024-04-23  179.389999  180.500000  178.029999  180.440002  647300\n",
            "\n",
            "[1084 rows x 5 columns]\n",
            "\n",
            "Stock: PYPL\n",
            "\n",
            "                  Open        High         Low       Close    Volume\n",
            "Date                                                                \n",
            "2020-01-02  109.470001  111.209999  109.275002  110.750000   7418800\n",
            "2020-01-03  109.489998  110.419998  108.760002  108.760002   7098300\n",
            "2020-01-06  107.570000  110.220001  107.440002  110.169998   6764500\n",
            "2020-01-07  111.500000  111.559998  109.529999  109.669998   6898700\n",
            "2020-01-08  110.400002  112.639999  109.820000  111.820000   8293600\n",
            "...                ...         ...         ...         ...       ...\n",
            "2024-04-17   63.779999   63.970001   62.580002   63.259998   8000900\n",
            "2024-04-18   63.849998   64.029999   61.950001   62.099998   9240000\n",
            "2024-04-19   62.000000   62.459999   61.724998   62.310001  13118800\n",
            "2024-04-22   63.040001   63.634998   62.480000   63.189999   9958200\n",
            "2024-04-23   63.380001   64.699997   63.200001   64.430000   9913000\n",
            "\n",
            "[1084 rows x 5 columns]\n"
          ]
        },
        {
          "output_type": "stream",
          "name": "stderr",
          "text": [
            "[*********************100%%**********************]  1 of 1 completed\n",
            "[*********************100%%**********************]  1 of 1 completed\n"
          ]
        },
        {
          "output_type": "stream",
          "name": "stdout",
          "text": [
            "\n",
            "Stock: REGN\n",
            "\n",
            "                  Open        High         Low       Close  Volume\n",
            "Date                                                              \n",
            "2020-01-02  378.000000  379.000000  369.239990  373.350006  512400\n",
            "2020-01-03  368.209991  372.350006  367.049988  369.160004  500800\n",
            "2020-01-06  368.230011  372.140015  364.500000  371.739990  690800\n",
            "2020-01-07  371.559998  373.829987  368.019989  373.130005  736400\n",
            "2020-01-08  373.179993  384.850006  370.709991  382.420013  743100\n",
            "...                ...         ...         ...         ...     ...\n",
            "2024-04-17  903.880005  911.640015  899.900024  901.190002  468700\n",
            "2024-04-18  901.260010  908.809998  891.669983  893.989990  450600\n",
            "2024-04-19  913.969971  920.729980  891.460022  896.820007  507500\n",
            "2024-04-22  904.539978  908.669983  897.450012  900.159973  351400\n",
            "2024-04-23  905.659973  912.739990  903.830017  907.320007  341200\n",
            "\n",
            "[1084 rows x 5 columns]\n",
            "\n",
            "Stock: ROST\n",
            "\n",
            "                  Open        High         Low       Close   Volume\n",
            "Date                                                               \n",
            "2020-01-02  116.480003  116.839996  115.470001  116.830002  1722500\n",
            "2020-01-03  115.430000  117.000000  115.199997  116.860001  1486500\n",
            "2020-01-06  116.250000  117.480003  115.639999  117.430000  1573600\n",
            "2020-01-07  117.010002  118.879997  116.540001  118.800003  1961900\n",
            "2020-01-08  119.110001  120.089996  118.949997  119.150002  1565200\n",
            "...                ...         ...         ...         ...      ...\n",
            "2024-04-17  134.919998  134.919998  132.059998  132.789993  2151600\n",
            "2024-04-18  134.020004  134.179993  131.600006  131.800003  1505700\n",
            "2024-04-19  131.800003  133.919998  131.279999  133.339996  3122000\n",
            "2024-04-22  134.449997  134.690002  133.059998  133.770004  2187600\n",
            "2024-04-23  133.919998  134.169998  132.979996  133.089996  2590100\n",
            "\n",
            "[1084 rows x 5 columns]\n"
          ]
        },
        {
          "output_type": "stream",
          "name": "stderr",
          "text": [
            "[*********************100%%**********************]  1 of 1 completed\n",
            "[*********************100%%**********************]  1 of 1 completed\n"
          ]
        },
        {
          "output_type": "stream",
          "name": "stdout",
          "text": [
            "\n",
            "Stock: SPLK\n",
            "\n",
            "                  Open        High         Low       Close    Volume\n",
            "Date                                                                \n",
            "2020-01-02  150.970001  153.440002  150.474792  151.979996   1109359\n",
            "2020-01-03  148.610001  152.500000  148.399994  152.059998    895099\n",
            "2020-01-06  149.800003  154.619995  148.130005  154.460007   1569044\n",
            "2020-01-07  154.759995  155.720001  153.139999  153.410004   1876101\n",
            "2020-01-08  153.639999  156.750000  152.750000  155.759995   1871610\n",
            "...                ...         ...         ...         ...       ...\n",
            "2024-03-12  156.429993  156.639999  156.389999  156.600006   1996983\n",
            "2024-03-13  156.600006  156.699997  156.539993  156.649994   1808054\n",
            "2024-03-14  156.860001  156.869995  156.142593  156.509995   4423778\n",
            "2024-03-15  156.949997  156.970001  156.899994  156.899994  18211874\n",
            "2024-03-18  156.899994  156.899994  156.899994  156.899994         0\n",
            "\n",
            "[1059 rows x 5 columns]\n",
            "\n",
            "Stock: SWKS\n",
            "\n",
            "                  Open        High         Low       Close   Volume\n",
            "Date                                                               \n",
            "2020-01-02  122.010002  122.400002  119.709999  121.669998  2351900\n",
            "2020-01-03  119.910004  120.889999  117.650002  118.650002  2339000\n",
            "2020-01-06  117.040001  117.459999  115.080002  116.559998  3177000\n",
            "2020-01-07  117.169998  118.480003  116.300003  117.669998  2055800\n",
            "2020-01-08  118.080002  120.870003  117.589996  119.540001  2139000\n",
            "...                ...         ...         ...         ...      ...\n",
            "2024-04-17   99.489998   99.599998   98.129997   98.470001  2167200\n",
            "2024-04-18   97.830002   98.980003   97.040001   97.620003  2202300\n",
            "2024-04-19   97.029999   97.809998   95.650002   96.110001  2648900\n",
            "2024-04-22   96.699997   98.739998   95.820000   98.110001  1834300\n",
            "2024-04-23   97.910004   99.959999   97.620003   99.300003  2017000\n",
            "\n",
            "[1084 rows x 5 columns]\n"
          ]
        },
        {
          "output_type": "stream",
          "name": "stderr",
          "text": [
            "[*********************100%%**********************]  1 of 1 completed\n",
            "[*********************100%%**********************]  1 of 1 completed\n"
          ]
        },
        {
          "output_type": "stream",
          "name": "stdout",
          "text": [
            "\n",
            "Stock: TTWO\n",
            "\n",
            "                  Open        High         Low       Close   Volume\n",
            "Date                                                               \n",
            "2020-01-02  123.529999  123.980003  121.400002  122.080002  1114200\n",
            "2020-01-03  120.440002  122.500000  120.279999  122.209999   729100\n",
            "2020-01-06  122.019997  125.129997  121.550003  124.690002  1678700\n",
            "2020-01-07  124.589996  126.470001  123.669998  125.510002  1179300\n",
            "2020-01-08  125.959999  129.000000  124.820000  127.820000  1665900\n",
            "...                ...         ...         ...         ...      ...\n",
            "2024-04-17  146.520004  147.270004  143.039993  143.160004  1531700\n",
            "2024-04-18  143.740005  143.850006  140.380005  140.639999  1494000\n",
            "2024-04-19  140.020004  140.940002  139.250000  140.600006  2543000\n",
            "2024-04-22  140.600006  141.130005  138.929993  139.960007  1170500\n",
            "2024-04-23  140.850006  143.250000  140.550003  141.720001  1259900\n",
            "\n",
            "[1084 rows x 5 columns]\n",
            "\n",
            "Stock: TYL\n",
            "\n",
            "                  Open        High         Low       Close  Volume\n",
            "Date                                                              \n",
            "2020-01-02  301.890015  306.399994  301.299988  306.239990  343900\n",
            "2020-01-03  302.320007  308.420013  302.320007  306.670013  165000\n",
            "2020-01-06  304.000000  310.429993  302.630005  310.209991  228600\n",
            "2020-01-07  320.459991  320.459991  306.160004  311.269989  220000\n",
            "2020-01-08  311.709991  314.820007  310.989990  310.989990  214100\n",
            "...                ...         ...         ...         ...     ...\n",
            "2024-04-17  399.679993  404.260010  397.799988  402.839996  262000\n",
            "2024-04-18  403.850006  405.470001  399.769989  402.950012  221700\n",
            "2024-04-19  404.600006  404.600006  400.540009  403.350006  285400\n",
            "2024-04-22  407.359985  413.290009  403.649994  411.410004  238200\n",
            "2024-04-23  412.700012  419.850006  412.700012  418.440002  200200\n",
            "\n",
            "[1084 rows x 5 columns]\n"
          ]
        },
        {
          "output_type": "stream",
          "name": "stderr",
          "text": [
            "[*********************100%%**********************]  1 of 1 completed\n",
            "[*********************100%%**********************]  1 of 1 completed\n"
          ]
        },
        {
          "output_type": "stream",
          "name": "stdout",
          "text": [
            "\n",
            "Stock: VRSK\n",
            "\n",
            "                  Open        High         Low       Close   Volume\n",
            "Date                                                               \n",
            "2020-01-02  149.279999  151.130005  148.899994  151.119995   845100\n",
            "2020-01-03  150.000000  152.729996  150.000000  152.589996   876900\n",
            "2020-01-06  151.839996  153.029999  150.690002  152.940002   656200\n",
            "2020-01-07  153.240005  154.929993  153.080002  154.220001  1514700\n",
            "2020-01-08  154.479996  156.229996  153.960007  155.639999   773100\n",
            "...                ...         ...         ...         ...      ...\n",
            "2024-04-17  223.240005  223.300003  220.910004  222.250000   841400\n",
            "2024-04-18  223.179993  225.070007  222.550003  223.330002   676800\n",
            "2024-04-19  224.380005  224.630005  222.110001  222.520004   714300\n",
            "2024-04-22  224.529999  224.970001  222.679993  223.169998   733100\n",
            "2024-04-23  224.339996  224.619995  222.059998  222.250000  1068500\n",
            "\n",
            "[1084 rows x 5 columns]\n",
            "\n",
            "Stock: VRSN\n",
            "\n",
            "                  Open        High         Low       Close  Volume\n",
            "Date                                                              \n",
            "2020-01-02  194.910004  197.199997  194.199997  196.729996  369400\n",
            "2020-01-03  193.199997  201.460007  193.199997  200.880005  912100\n",
            "2020-01-06  199.990005  202.889999  198.589996  202.740005  615700\n",
            "2020-01-07  203.339996  204.100006  202.190002  203.210007  418600\n",
            "2020-01-08  203.229996  206.630005  201.220001  204.149994  705200\n",
            "...                ...         ...         ...         ...     ...\n",
            "2024-04-17  182.770004  183.720001  181.570007  181.570007  520800\n",
            "2024-04-18  182.139999  184.330002  181.639999  182.960007  594400\n",
            "2024-04-19  184.210007  186.619995  183.160004  184.119995  609300\n",
            "2024-04-22  185.050003  186.270004  183.889999  184.740005  564600\n",
            "2024-04-23  186.580002  186.580002  183.929993  185.119995  726700\n",
            "\n",
            "[1084 rows x 5 columns]\n"
          ]
        },
        {
          "output_type": "stream",
          "name": "stderr",
          "text": [
            "[*********************100%%**********************]  1 of 1 completed\n",
            "[*********************100%%**********************]  1 of 1 completed\n",
            "[*********************100%%**********************]  1 of 1 completed"
          ]
        },
        {
          "output_type": "stream",
          "name": "stdout",
          "text": [
            "\n",
            "Stock: WDAY\n",
            "\n",
            "                  Open        High         Low       Close   Volume\n",
            "Date                                                               \n",
            "2020-01-02  166.100006  168.720001  165.710007  167.460007  1503000\n",
            "2020-01-03  165.000000  168.860001  164.960007  168.440002  1276300\n",
            "2020-01-06  166.990005  170.440002  166.350006  169.490005  1623300\n",
            "2020-01-07  169.509995  173.220001  168.820007  172.949997  2404100\n",
            "2020-01-08  172.960007  179.610001  172.050003  178.710007  2819900\n",
            "...                ...         ...         ...         ...      ...\n",
            "2024-04-17  258.890015  260.279999  256.920013  257.019989  1258400\n",
            "2024-04-18  257.380005  258.250000  254.279999  255.639999  1259500\n",
            "2024-04-19  255.429993  256.359985  250.520004  252.220001  1535300\n",
            "2024-04-22  254.350006  254.820007  251.000000  253.529999  1099100\n",
            "2024-04-23  256.140015  259.339996  255.240005  256.820007  1286400\n",
            "\n",
            "[1084 rows x 5 columns]\n",
            "\n",
            "Stock: WIX\n",
            "\n",
            "                  Open        High         Low       Close  Volume\n",
            "Date                                                              \n",
            "2020-01-02  123.209999  127.809998  123.209999  127.550003  697900\n",
            "2020-01-03  126.139999  130.570007  125.052002  128.919998  819100\n",
            "2020-01-06  128.600006  131.804993  128.000000  131.630005  469900\n",
            "2020-01-07  131.690002  132.000000  126.510002  130.009995  786200\n",
            "2020-01-08  129.520004  134.860001  129.520004  133.779999  622100\n",
            "...                ...         ...         ...         ...     ...\n",
            "2024-04-17  123.870003  125.099998  122.260002  122.620003  292800\n",
            "2024-04-18  123.000000  124.870003  121.599998  121.769997  234600\n",
            "2024-04-19  121.760002  122.510002  119.750000  121.410004  470300\n",
            "2024-04-22  121.959999  122.820000  120.309998  121.540001  389100\n",
            "2024-04-23  122.580002  126.330002  122.193001  124.180000  323300\n",
            "\n",
            "[1084 rows x 5 columns]\n",
            "\n",
            "Stock: ZBRA\n",
            "\n",
            "                  Open        High         Low       Close  Volume\n",
            "Date                                                              \n",
            "2020-01-02  259.029999  260.399994  255.169998  259.140015  387800\n",
            "2020-01-03  256.100006  258.649994  254.880005  256.049988  305300\n",
            "2020-01-06  252.619995  258.010010  252.619995  258.010010  322600\n",
            "2020-01-07  257.500000  258.739990  256.079987  256.470001  236300\n",
            "2020-01-08  251.279999  253.479996  247.250000  247.639999  689600\n",
            "...                ...         ...         ...         ...     ...\n",
            "2024-04-17  283.519989  284.489990  275.750000  276.140015  175600\n",
            "2024-04-18  274.000000  277.029999  271.510010  273.029999  376100\n",
            "2024-04-19  273.029999  274.869995  266.750000  268.070007  351500\n",
            "2024-04-22  271.739990  274.869995  267.209991  271.630005  305100\n",
            "2024-04-23  271.549988  277.450012  271.549988  276.559998  245800\n",
            "\n",
            "[1084 rows x 5 columns]\n"
          ]
        },
        {
          "output_type": "stream",
          "name": "stderr",
          "text": [
            "\n"
          ]
        }
      ]
    },
    {
      "cell_type": "code",
      "source": [
        "import sqlite3\n",
        "import pandas as pd\n",
        "\n",
        "# Function to export data from SQLite3 database to Excel\n",
        "def export_to_excel(db_file, excel_file):\n",
        "    # Connect to the SQLite3 database\n",
        "    conn = sqlite3.connect(db_file)\n",
        "\n",
        "    # Read data from the database into a DataFrame\n",
        "    df = pd.read_sql_query(\"SELECT * FROM daily_stock_data\", conn)\n",
        "\n",
        "    # Close the database connection\n",
        "    conn.close()\n",
        "\n",
        "    # Drop duplicates to keep only one entry per company\n",
        "    df_unique = df.drop_duplicates(subset='symbol', keep='first')\n",
        "\n",
        "    # Save DataFrame to Excel file\n",
        "    df_unique.to_excel(excel_file, index=False)\n",
        "    print(f\"Data exported to Excel file: {excel_file}\")\n",
        "\n",
        "# Call the function to export data from the database to Excel\n",
        "export_to_excel('stock_data.db', 'stock_data_unique.xlsx')\n"
      ],
      "metadata": {
        "colab": {
          "base_uri": "https://localhost:8080/"
        },
        "id": "MbqDpoDg_YPf",
        "outputId": "c9bc0011-a219-458e-e4df-915a88b310cc"
      },
      "execution_count": 18,
      "outputs": [
        {
          "output_type": "stream",
          "name": "stdout",
          "text": [
            "Data exported to Excel file: stock_data_unique.xlsx\n"
          ]
        }
      ]
    }
  ]
}